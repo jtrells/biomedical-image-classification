{
 "cells": [
  {
   "cell_type": "markdown",
   "metadata": {},
   "source": [
    "# Experimental Classifier\n",
    "\n",
    "Source:\n",
    "+ CLEF 2016,2013 \n",
    "+ GEL,PLATES IMAGES FROM PUBMED-\n",
    "\n"
   ]
  },
  {
   "cell_type": "markdown",
   "metadata": {},
   "source": [
    "### 1. Importing Libraries"
   ]
  },
  {
   "cell_type": "code",
   "execution_count": 1,
   "metadata": {},
   "outputs": [],
   "source": [
    "import os\n",
    "import sys\n",
    "module_path = \"../src\"\n",
    "#os.environ[\"WANDB_SILENT\"] = \"true\" # Environment Variable to make wandb silent\n",
    "if module_path not in sys.path:\n",
    "    sys.path.append(module_path)"
   ]
  },
  {
   "cell_type": "code",
   "execution_count": 2,
   "metadata": {},
   "outputs": [],
   "source": [
    "# 1. General Libraries\n",
    "import pandas as pd\n",
    "import numpy as np\n",
    "from pathlib import Path\n",
    "import yaml\n",
    "import seaborn as sns\n",
    "import matplotlib.pyplot as plt\n",
    "# 2. DataModule & Class Libraries\n",
    "from utils.label_encoder import label_encoder_target\n",
    "from utils.calc_stat import calc_dataset_mean_std\n",
    "from dataset.ImageDataModule import ImageDataModule\n",
    "from dataset.ImageDataset import ImageDataset\n",
    "from models.EfficientNetClass import EfficientNetClass\n",
    "from models.ResNetClass import ResNetClass\n",
    "\n",
    "# 3. Pytorch & Pytorch Lightning Libraries\n",
    "from pytorch_lightning import Trainer,seed_everything\n",
    "from torchvision import transforms\n",
    "from pytorch_lightning.callbacks import LearningRateMonitor\n",
    "from pytorch_lightning.callbacks.early_stopping import EarlyStopping\n",
    "from pytorch_lightning.loggers import WandbLogger\n",
    "import torch\n",
    "# 4. Wandb Tracker Experiements\n",
    "import wandb"
   ]
  },
  {
   "cell_type": "code",
   "execution_count": 3,
   "metadata": {},
   "outputs": [
    {
     "name": "stdout",
     "output_type": "stream",
     "text": [
      "My base path is /mnt\n",
      "The given dataset is located here: ../data/experimental_dataset.csv\n",
      "Let's use this folder: /mnt/artifacts/experiments to save our artifacts.\n"
     ]
    }
   ],
   "source": [
    "BASE_PATH = Path('/mnt')\n",
    "print(f\"My base path is {BASE_PATH}\")\n",
    "DATA_PATH = '../data/experimental_dataset.csv'\n",
    "print(f\"The given dataset is located here: {DATA_PATH}\")\n",
    "OUTPUT_DIR = Path('/mnt/artifacts/experiments/')\n",
    "print(f\"Let's use this folder: {OUTPUT_DIR} to save our artifacts.\")\n",
    "BASE_IMG_DIR = BASE_PATH "
   ]
  },
  {
   "cell_type": "code",
   "execution_count": 4,
   "metadata": {},
   "outputs": [
    {
     "name": "stdout",
     "output_type": "stream",
     "text": [
      "Let's use this folder /mnt/artifacts/experiments/Biomedical-Image-Classification-Experimental to save our sweep iterations\n"
     ]
    }
   ],
   "source": [
    "SEED = 42 \n",
    "seed_everything(42)\n",
    "PROJECT = 'Biomedical-Image-Classification-Experimental'\n",
    "NUM_WORKERS = 72 # workers on the cluster, normally 2 or 4 on a laptop\n",
    "METRIC_MONITOR = \"val_avg_loss\"\n",
    "OUTPUT_PROJECT = OUTPUT_DIR/PROJECT\n",
    "print(f\"Let's use this folder {OUTPUT_PROJECT} to save our sweep iterations\")\n",
    "os.makedirs(OUTPUT_PROJECT, exist_ok=True) # Check if it is false"
   ]
  },
  {
   "cell_type": "code",
   "execution_count": 5,
   "metadata": {},
   "outputs": [],
   "source": [
    "os.makedirs(OUTPUT_PROJECT, exist_ok=True) # Check if it is false"
   ]
  },
  {
   "cell_type": "markdown",
   "metadata": {},
   "source": [
    "### 3. Reading the Data & Label Encoding Classes\n",
    "In this step, we read the csv file and apply a label encoder to the classes in order to run the classifier only with the class \"Experimental\""
   ]
  },
  {
   "cell_type": "code",
   "execution_count": 6,
   "metadata": {},
   "outputs": [
    {
     "data": {
      "text/html": [
       "<div>\n",
       "<style scoped>\n",
       "    .dataframe tbody tr th:only-of-type {\n",
       "        vertical-align: middle;\n",
       "    }\n",
       "\n",
       "    .dataframe tbody tr th {\n",
       "        vertical-align: top;\n",
       "    }\n",
       "\n",
       "    .dataframe thead th {\n",
       "        text-align: right;\n",
       "    }\n",
       "</style>\n",
       "<table border=\"1\" class=\"dataframe\">\n",
       "  <thead>\n",
       "    <tr style=\"text-align: right;\">\n",
       "      <th></th>\n",
       "      <th>img</th>\n",
       "      <th>modality</th>\n",
       "      <th>source</th>\n",
       "      <th>img_path</th>\n",
       "      <th>higher_modality</th>\n",
       "      <th>split_set</th>\n",
       "    </tr>\n",
       "  </thead>\n",
       "  <tbody>\n",
       "    <tr>\n",
       "      <th>0</th>\n",
       "      <td>1423-0127-16-6-3-1.jpg</td>\n",
       "      <td>GEL</td>\n",
       "      <td>clef16</td>\n",
       "      <td>subfigure-classification/2016/train/GGEL/1423-...</td>\n",
       "      <td>EXPERIMENTAL</td>\n",
       "      <td>VAL</td>\n",
       "    </tr>\n",
       "    <tr>\n",
       "      <th>1</th>\n",
       "      <td>1423-0127-16-6-5-2.jpg</td>\n",
       "      <td>GEL</td>\n",
       "      <td>clef16</td>\n",
       "      <td>subfigure-classification/2016/train/GGEL/1423-...</td>\n",
       "      <td>EXPERIMENTAL</td>\n",
       "      <td>TRAIN</td>\n",
       "    </tr>\n",
       "    <tr>\n",
       "      <th>2</th>\n",
       "      <td>1423-0127-16-6-5-3.jpg</td>\n",
       "      <td>GEL</td>\n",
       "      <td>clef16</td>\n",
       "      <td>subfigure-classification/2016/train/GGEL/1423-...</td>\n",
       "      <td>EXPERIMENTAL</td>\n",
       "      <td>TRAIN</td>\n",
       "    </tr>\n",
       "    <tr>\n",
       "      <th>3</th>\n",
       "      <td>1423-0127-17-22-2-1.jpg</td>\n",
       "      <td>GEL</td>\n",
       "      <td>clef16</td>\n",
       "      <td>subfigure-classification/2016/train/GGEL/1423-...</td>\n",
       "      <td>EXPERIMENTAL</td>\n",
       "      <td>VAL</td>\n",
       "    </tr>\n",
       "    <tr>\n",
       "      <th>4</th>\n",
       "      <td>1423-0127-17-22-2-2.jpg</td>\n",
       "      <td>GEL</td>\n",
       "      <td>clef16</td>\n",
       "      <td>subfigure-classification/2016/train/GGEL/1423-...</td>\n",
       "      <td>EXPERIMENTAL</td>\n",
       "      <td>TRAIN</td>\n",
       "    </tr>\n",
       "  </tbody>\n",
       "</table>\n",
       "</div>"
      ],
      "text/plain": [
       "                       img modality  source  \\\n",
       "0   1423-0127-16-6-3-1.jpg      GEL  clef16   \n",
       "1   1423-0127-16-6-5-2.jpg      GEL  clef16   \n",
       "2   1423-0127-16-6-5-3.jpg      GEL  clef16   \n",
       "3  1423-0127-17-22-2-1.jpg      GEL  clef16   \n",
       "4  1423-0127-17-22-2-2.jpg      GEL  clef16   \n",
       "\n",
       "                                            img_path higher_modality split_set  \n",
       "0  subfigure-classification/2016/train/GGEL/1423-...    EXPERIMENTAL       VAL  \n",
       "1  subfigure-classification/2016/train/GGEL/1423-...    EXPERIMENTAL     TRAIN  \n",
       "2  subfigure-classification/2016/train/GGEL/1423-...    EXPERIMENTAL     TRAIN  \n",
       "3  subfigure-classification/2016/train/GGEL/1423-...    EXPERIMENTAL       VAL  \n",
       "4  subfigure-classification/2016/train/GGEL/1423-...    EXPERIMENTAL     TRAIN  "
      ]
     },
     "execution_count": 6,
     "metadata": {},
     "output_type": "execute_result"
    }
   ],
   "source": [
    "df = pd.read_csv(DATA_PATH, sep='\\t')\n",
    "le_encoder_experimental,dict_label = label_encoder_target(df,target_col='modality')\n",
    "df.head()"
   ]
  },
  {
   "cell_type": "code",
   "execution_count": 7,
   "metadata": {},
   "outputs": [
    {
     "name": "stderr",
     "output_type": "stream",
     "text": [
      "/usr/local/lib/python3.6/dist-packages/seaborn/_decorators.py:43: FutureWarning: Pass the following variable as a keyword arg: x. From version 0.12, the only valid positional argument will be `data`, and passing other arguments without an explicit keyword will result in an error or misinterpretation.\n",
      "  FutureWarning\n"
     ]
    },
    {
     "data": {
      "image/png": "[encoded data removed]",
      "text/plain": [
       "<Figure size 432x288 with 1 Axes>"
      ]
     },
     "metadata": {
      "needs_background": "light"
     },
     "output_type": "display_data"
    }
   ],
   "source": [
    "sns.countplot(df['modality'])\n",
    "plt.show()"
   ]
  },
  {
   "cell_type": "code",
   "execution_count": 8,
   "metadata": {},
   "outputs": [
    {
     "data": {
      "application/vnd.jupyter.widget-view+json": {
       "model_id": "ed422f3668794efcb5d293c65ac862dd",
       "version_major": 2,
       "version_minor": 0
      },
      "text/plain": [
       "HBox(children=(FloatProgress(value=0.0, max=350.0), HTML(value='')))"
      ]
     },
     "metadata": {},
     "output_type": "display_data"
    },
    {
     "name": "stdout",
     "output_type": "stream",
     "text": [
      "\n"
     ]
    },
    {
     "data": {
      "application/vnd.jupyter.widget-view+json": {
       "model_id": "efa5011e5cb44afba5cee75194f20f47",
       "version_major": 2,
       "version_minor": 0
      },
      "text/plain": [
       "HBox(children=(FloatProgress(value=0.0, max=350.0), HTML(value='')))"
      ]
     },
     "metadata": {},
     "output_type": "display_data"
    },
    {
     "name": "stdout",
     "output_type": "stream",
     "text": [
      "\n",
      "Mean:  tensor([0.8631, 0.8631, 0.8634])\n",
      "Std :  tensor([0.2319, 0.2320, 0.2318])\n"
     ]
    }
   ],
   "source": [
    "transform_list = [\n",
    "            transforms.ToPILImage(),\n",
    "            transforms.Resize((224, 224)),\n",
    "            transforms.ToTensor(),\n",
    "]\n",
    "transform  = transforms.Compose(transform_list)\n",
    "train_dataset   = ImageDataset   (DATA_PATH,\n",
    "                                  le_encoder_experimental,\n",
    "                                  str(BASE_IMG_DIR),\n",
    "                                  'TRAIN',\n",
    "                                  image_transform=transform,\n",
    "                                  label_name='modality',\n",
    "                                  target_class_col='split_set',\n",
    "                                  path_col='img_path')\n",
    "\n",
    "mean, std =calc_dataset_mean_std(train_dataset, batch_size=32, num_workers=72)\n",
    "print(f\"Mean:  {mean}\")\n",
    "print(f\"Std :  {std}\")"
   ]
  },
  {
   "cell_type": "markdown",
   "metadata": {},
   "source": [
    "### 4. Sweep Running\n",
    "+ First We will define the image transformations that we are goint to use for the training , evaluation and test"
   ]
  },
  {
   "cell_type": "code",
   "execution_count": 9,
   "metadata": {},
   "outputs": [],
   "source": [
    "# Image Transformations\n",
    "# 1.1 Train Transformations\n",
    "train_transform = [\n",
    "                    transforms.ToPILImage(),\n",
    "                    transforms.Resize((256, 256)),\n",
    "                    transforms.RandomHorizontalFlip(p=0.5),\n",
    "                    transforms.RandomRotation(15),\n",
    "                    transforms.CenterCrop((224,224)),\n",
    "                    transforms.ToTensor(),\n",
    "                    transforms.Normalize(mean.numpy(), std.numpy())\n",
    "                ]\n",
    "train_transform  = transforms.Compose(train_transform )\n",
    "\n",
    "# 1.2 Valid Transformations\n",
    "val_transform = [\n",
    "                transforms.ToPILImage(),\n",
    "                transforms.Resize((224, 224)),\n",
    "                transforms.ToTensor(),\n",
    "                transforms.Normalize(mean,std)\n",
    "                ]\n",
    "val_transform = transforms.Compose(val_transform)\n",
    "\n",
    "# 1.3 Test Transformations\n",
    "test_transform = [\n",
    "                  transforms.ToPILImage(),\n",
    "                  transforms.Resize((224, 224)),\n",
    "                  transforms.ToTensor(),\n",
    "                  transforms.Normalize(mean.numpy(),std.numpy())\n",
    "                  ]\n",
    "test_transform = transforms.Compose(test_transform)"
   ]
  },
  {
   "cell_type": "code",
   "execution_count": 10,
   "metadata": {},
   "outputs": [
    {
     "name": "stdout",
     "output_type": "stream",
     "text": [
      "PROJECT NAME: Biomedical-Image-Classification-Experimental\n",
      "Metric Monitor: val_avg_loss\n"
     ]
    }
   ],
   "source": [
    "print(f\"PROJECT NAME: {PROJECT}\")\n",
    "print(f\"Metric Monitor: {METRIC_MONITOR}\")"
   ]
  },
  {
   "cell_type": "markdown",
   "metadata": {},
   "source": [
    "### 4.1 ResnetClassifier"
   ]
  },
  {
   "cell_type": "code",
   "execution_count": 19,
   "metadata": {},
   "outputs": [],
   "source": [
    "sweep_config = {\n",
    "  \"method\": \"grid\",   # Random search\n",
    "  \"metric\": {           # We want to maximize val_acc\n",
    "      \"name\": METRIC_MONITOR, # Used accuracy\n",
    "      \"goal\": \"minimize\"\n",
    "  },\n",
    "  \"parameters\": {\n",
    "        \"lr\": {\n",
    "            # log uniform distribution between exp(min) and exp(max)\n",
    "            \"distribution\": \"categorical\",\n",
    "            \"values\" : [1e-6,1e-5,1e-4]\n",
    "        },\n",
    "        \"fine_tuned_from\":{\n",
    "            \"distribution\": \"categorical\",\n",
    "            \"values\" : [\"whole\"]\n",
    "        },\n",
    "        \"name\":{\n",
    "            \"distribution\": \"categorical\",\n",
    "            \"values\" : [\"resnet18\",\"resnet34\",\"resnet50\",\"resnet101\",\"resnet152\"]\n",
    "        },\n",
    "        \"batch_size\":{\n",
    "            \"distribution\": \"categorical\",\n",
    "            \"values\" : [16,32]\n",
    "            \n",
    "        }\n",
    "      \n",
    "    }\n",
    "}"
   ]
  },
  {
   "cell_type": "code",
   "execution_count": 20,
   "metadata": {},
   "outputs": [
    {
     "name": "stdout",
     "output_type": "stream",
     "text": [
      "Create sweep with ID: 6rcr5igw\n",
      "Sweep URL: https://wandb.ai/williamberrios/Biomedical-Image-Classification-Experimental/sweeps/6rcr5igw\n"
     ]
    }
   ],
   "source": [
    "sweep_id = wandb.sweep(sweep_config, project=PROJECT)"
   ]
  },
  {
   "cell_type": "code",
   "execution_count": 21,
   "metadata": {},
   "outputs": [],
   "source": [
    "OUTPUT_SWEEP = OUTPUT_PROJECT / sweep_id\n",
    "os.makedirs(OUTPUT_SWEEP, exist_ok=False) # Check if it is false\n",
    "with open(OUTPUT_SWEEP / 'sweep_config.yml', 'w') as outfile:\n",
    "    yaml.dump(sweep_config, outfile, default_flow_style=False)"
   ]
  },
  {
   "cell_type": "code",
   "execution_count": 22,
   "metadata": {},
   "outputs": [],
   "source": [
    "def sweep_iteration():\n",
    "    # set up W&B logger\n",
    "    wandb.init()    # required to have access to `wandb.config`\n",
    "    wandb_logger =  WandbLogger(project=PROJECT, tags=['nb', 'higher-modality'],reinit = True)\n",
    "    wandb_logger.experiment.save()\n",
    "    print(f\"Name of the Experiment: {wandb_logger.experiment.name}\")\n",
    "    output_run_path = OUTPUT_SWEEP / wandb_logger.experiment.name \n",
    "    os.makedirs(output_run_path, exist_ok=False) # Check if it is false\n",
    "\n",
    "    # setup data\n",
    "    dm = ImageDataModule( batch_size       = wandb.config.batch_size,\n",
    "                          label_encoder    = le_encoder_experimental,\n",
    "                          data_path        = str(DATA_PATH), \n",
    "                          base_img_dir     = str(BASE_IMG_DIR),\n",
    "                          seed             = SEED,   \n",
    "                          image_transforms = [train_transform,val_transform,test_transform],\n",
    "                          num_workers      = 72,\n",
    "                          target_class_col ='split_set',\n",
    "                          modality_col     ='modality',\n",
    "                          path_col         ='img_path')\n",
    "    dm.prepare_data()\n",
    "    dm.setup()\n",
    "    dm.set_seed()\n",
    "    # Callbacks\n",
    "    lr_monitor = LearningRateMonitor(logging_interval='epoch')\n",
    "\n",
    "    early_stop_callback = EarlyStopping(\n",
    "        monitor=METRIC_MONITOR,\n",
    "        min_delta=0.0,\n",
    "        patience=5,\n",
    "        verbose=True,\n",
    "        mode='min'\n",
    "    )\n",
    "    # setup model - note how we refer to sweep parameters with wandb.config\n",
    "    num_classes = len(df.modality.unique())\n",
    "    print(f\"Num_Classes {num_classes}\")\n",
    "    model = ResNetClass(      name            = wandb.config.name,\n",
    "                              num_classes     = num_classes,\n",
    "                              pretrained      = True,\n",
    "                              fine_tuned_from = wandb.config.fine_tuned_from,\n",
    "                              lr              = wandb.config.lr,\n",
    "                              metric_monitor  = METRIC_MONITOR,\n",
    "                              mode_scheduler  = \"min\",\n",
    "                              class_weights   = dm.class_weights,\n",
    "                              mean_dataset    = mean.numpy(),\n",
    "                              std_dataset     = std.numpy())\n",
    "    \n",
    "    # setup Trainer\n",
    "    trainer = Trainer(gpus=1,\n",
    "                  max_epochs=100,                  \n",
    "                  callbacks=[early_stop_callback,lr_monitor],\n",
    "                  deterministic= True,\n",
    "                  logger=wandb_logger,\n",
    "                  num_sanity_val_steps=0)\n",
    "\n",
    "    # train\n",
    "    trainer.fit(model, dm)\n",
    "    # Save the model\n",
    "    trainer.save_checkpoint(str(output_run_path / 'final.pt'))\n",
    "    # Get testS metric\n",
    "    trainer.test(model, test_dataloaders=dm.val_dataloader())\n",
    "    del model,trainer,dm\n",
    "    torch.cuda.empty_cache() \n",
    "    wandb.finish()"
   ]
  },
  {
   "cell_type": "code",
   "execution_count": null,
   "metadata": {},
   "outputs": [
    {
     "name": "stderr",
     "output_type": "stream",
     "text": [
      "\u001b[34m\u001b[1mwandb\u001b[0m: Sweep Agent: Waiting for job.\n",
      "\u001b[34m\u001b[1mwandb\u001b[0m: Job received.\n",
      "\u001b[34m\u001b[1mwandb\u001b[0m: Agent Starting Run: ad36oj70 with config:\n",
      "\u001b[34m\u001b[1mwandb\u001b[0m: \tbatch_size: 16\n",
      "\u001b[34m\u001b[1mwandb\u001b[0m: \tfine_tuned_from: whole\n",
      "\u001b[34m\u001b[1mwandb\u001b[0m: \tlr: 1e-06\n",
      "\u001b[34m\u001b[1mwandb\u001b[0m: \tname: resnet18\n",
      "\u001b[34m\u001b[1mwandb\u001b[0m: wandb version 0.10.19 is available!  To upgrade, please run:\n",
      "\u001b[34m\u001b[1mwandb\u001b[0m:  $ pip install wandb --upgrade\n"
     ]
    },
    {
     "data": {
      "text/html": [
       "\n",
       "                Tracking run with wandb version 0.10.13<br/>\n",
       "                Syncing run <strong style=\"color:#cdcd00\">giddy-sweep-1</strong> to <a href=\"https://wandb.ai\" target=\"_blank\">Weights & Biases</a> <a href=\"https://docs.wandb.com/integrations/jupyter.html\" target=\"_blank\">(Documentation)</a>.<br/>\n",
       "                Project page: <a href=\"https://wandb.ai/williamberrios/Biomedical-Image-Classification-Experimental\" target=\"_blank\">https://wandb.ai/williamberrios/Biomedical-Image-Classification-Experimental</a><br/>\n",
       "                Sweep page: <a href=\"https://wandb.ai/williamberrios/Biomedical-Image-Classification-Experimental/sweeps/6rcr5igw\" target=\"_blank\">https://wandb.ai/williamberrios/Biomedical-Image-Classification-Experimental/sweeps/6rcr5igw</a><br/>\n",
       "Run page: <a href=\"https://wandb.ai/williamberrios/Biomedical-Image-Classification-Experimental/runs/ad36oj70\" target=\"_blank\">https://wandb.ai/williamberrios/Biomedical-Image-Classification-Experimental/runs/ad36oj70</a><br/>\n",
       "                Run data is saved locally in <code>/workspace/biomedical-image-classification/nb/wandb/run-20210217_033626-ad36oj70</code><br/><br/>\n",
       "            "
      ],
      "text/plain": [
       "<IPython.core.display.HTML object>"
      ]
     },
     "metadata": {},
     "output_type": "display_data"
    },
    {
     "name": "stderr",
     "output_type": "stream",
     "text": [
      "\u001b[34m\u001b[1mwandb\u001b[0m: \u001b[33mWARNING\u001b[0m Calling run.save without any arguments is deprecated.Changes to attributes are automatically persisted.\n"
     ]
    },
    {
     "name": "stdout",
     "output_type": "stream",
     "text": [
      "Name of the Experiment: giddy-sweep-1\n",
      "Num_Classes 2\n"
     ]
    },
    {
     "name": "stderr",
     "output_type": "stream",
     "text": [
      "GPU available: True, used: True\n",
      "TPU available: None, using: 0 TPU cores\n",
      "LOCAL_RANK: 0 - CUDA_VISIBLE_DEVICES: [0]\n",
      "\u001b[34m\u001b[1mwandb\u001b[0m: \u001b[33mWARNING\u001b[0m Config item 'name' was locked by 'sweep' (ignored update).\n",
      "\u001b[34m\u001b[1mwandb\u001b[0m: \u001b[33mWARNING\u001b[0m Config item 'fine_tuned_from' was locked by 'sweep' (ignored update).\n",
      "\u001b[34m\u001b[1mwandb\u001b[0m: \u001b[33mWARNING\u001b[0m Config item 'lr' was locked by 'sweep' (ignored update).\n",
      "\n",
      "  | Name      | Type             | Params\n",
      "-----------------------------------------------\n",
      "0 | criterion | CrossEntropyLoss | 0     \n",
      "1 | model     | ResNet           | 11.2 M\n",
      "-----------------------------------------------\n",
      "11.2 M    Trainable params\n",
      "0         Non-trainable params\n",
      "11.2 M    Total params\n"
     ]
    },
    {
     "data": {
      "application/vnd.jupyter.widget-view+json": {
       "model_id": "5c16913605944a1db27e39c65d7b318f",
       "version_major": 2,
       "version_minor": 0
      },
      "text/plain": [
       "HBox(children=(FloatProgress(value=1.0, bar_style='info', description='Training', layout=Layout(flex='2'), max…"
      ]
     },
     "metadata": {},
     "output_type": "display_data"
    },
    {
     "data": {
      "application/vnd.jupyter.widget-view+json": {
       "model_id": "",
       "version_major": 2,
       "version_minor": 0
      },
      "text/plain": [
       "HBox(children=(FloatProgress(value=1.0, bar_style='info', description='Validating', layout=Layout(flex='2'), m…"
      ]
     },
     "metadata": {},
     "output_type": "display_data"
    },
    {
     "data": {
      "application/vnd.jupyter.widget-view+json": {
       "model_id": "",
       "version_major": 2,
       "version_minor": 0
      },
      "text/plain": [
       "HBox(children=(FloatProgress(value=1.0, bar_style='info', description='Validating', layout=Layout(flex='2'), m…"
      ]
     },
     "metadata": {},
     "output_type": "display_data"
    },
    {
     "data": {
      "application/vnd.jupyter.widget-view+json": {
       "model_id": "",
       "version_major": 2,
       "version_minor": 0
      },
      "text/plain": [
       "HBox(children=(FloatProgress(value=1.0, bar_style='info', description='Validating', layout=Layout(flex='2'), m…"
      ]
     },
     "metadata": {},
     "output_type": "display_data"
    },
    {
     "data": {
      "application/vnd.jupyter.widget-view+json": {
       "model_id": "",
       "version_major": 2,
       "version_minor": 0
      },
      "text/plain": [
       "HBox(children=(FloatProgress(value=1.0, bar_style='info', description='Validating', layout=Layout(flex='2'), m…"
      ]
     },
     "metadata": {},
     "output_type": "display_data"
    },
    {
     "data": {
      "application/vnd.jupyter.widget-view+json": {
       "model_id": "",
       "version_major": 2,
       "version_minor": 0
      },
      "text/plain": [
       "HBox(children=(FloatProgress(value=1.0, bar_style='info', description='Validating', layout=Layout(flex='2'), m…"
      ]
     },
     "metadata": {},
     "output_type": "display_data"
    },
    {
     "data": {
      "application/vnd.jupyter.widget-view+json": {
       "model_id": "",
       "version_major": 2,
       "version_minor": 0
      },
      "text/plain": [
       "HBox(children=(FloatProgress(value=1.0, bar_style='info', description='Validating', layout=Layout(flex='2'), m…"
      ]
     },
     "metadata": {},
     "output_type": "display_data"
    },
    {
     "data": {
      "application/vnd.jupyter.widget-view+json": {
       "model_id": "",
       "version_major": 2,
       "version_minor": 0
      },
      "text/plain": [
       "HBox(children=(FloatProgress(value=1.0, bar_style='info', description='Validating', layout=Layout(flex='2'), m…"
      ]
     },
     "metadata": {},
     "output_type": "display_data"
    },
    {
     "data": {
      "application/vnd.jupyter.widget-view+json": {
       "model_id": "",
       "version_major": 2,
       "version_minor": 0
      },
      "text/plain": [
       "HBox(children=(FloatProgress(value=1.0, bar_style='info', description='Validating', layout=Layout(flex='2'), m…"
      ]
     },
     "metadata": {},
     "output_type": "display_data"
    },
    {
     "data": {
      "application/vnd.jupyter.widget-view+json": {
       "model_id": "",
       "version_major": 2,
       "version_minor": 0
      },
      "text/plain": [
       "HBox(children=(FloatProgress(value=1.0, bar_style='info', description='Validating', layout=Layout(flex='2'), m…"
      ]
     },
     "metadata": {},
     "output_type": "display_data"
    },
    {
     "data": {
      "application/vnd.jupyter.widget-view+json": {
       "model_id": "",
       "version_major": 2,
       "version_minor": 0
      },
      "text/plain": [
       "HBox(children=(FloatProgress(value=1.0, bar_style='info', description='Validating', layout=Layout(flex='2'), m…"
      ]
     },
     "metadata": {},
     "output_type": "display_data"
    },
    {
     "data": {
      "application/vnd.jupyter.widget-view+json": {
       "model_id": "",
       "version_major": 2,
       "version_minor": 0
      },
      "text/plain": [
       "HBox(children=(FloatProgress(value=1.0, bar_style='info', description='Validating', layout=Layout(flex='2'), m…"
      ]
     },
     "metadata": {},
     "output_type": "display_data"
    },
    {
     "data": {
      "application/vnd.jupyter.widget-view+json": {
       "model_id": "",
       "version_major": 2,
       "version_minor": 0
      },
      "text/plain": [
       "HBox(children=(FloatProgress(value=1.0, bar_style='info', description='Validating', layout=Layout(flex='2'), m…"
      ]
     },
     "metadata": {},
     "output_type": "display_data"
    },
    {
     "data": {
      "application/vnd.jupyter.widget-view+json": {
       "model_id": "",
       "version_major": 2,
       "version_minor": 0
      },
      "text/plain": [
       "HBox(children=(FloatProgress(value=1.0, bar_style='info', description='Validating', layout=Layout(flex='2'), m…"
      ]
     },
     "metadata": {},
     "output_type": "display_data"
    },
    {
     "data": {
      "application/vnd.jupyter.widget-view+json": {
       "model_id": "",
       "version_major": 2,
       "version_minor": 0
      },
      "text/plain": [
       "HBox(children=(FloatProgress(value=1.0, bar_style='info', description='Validating', layout=Layout(flex='2'), m…"
      ]
     },
     "metadata": {},
     "output_type": "display_data"
    },
    {
     "data": {
      "application/vnd.jupyter.widget-view+json": {
       "model_id": "",
       "version_major": 2,
       "version_minor": 0
      },
      "text/plain": [
       "HBox(children=(FloatProgress(value=1.0, bar_style='info', description='Validating', layout=Layout(flex='2'), m…"
      ]
     },
     "metadata": {},
     "output_type": "display_data"
    },
    {
     "data": {
      "application/vnd.jupyter.widget-view+json": {
       "model_id": "",
       "version_major": 2,
       "version_minor": 0
      },
      "text/plain": [
       "HBox(children=(FloatProgress(value=1.0, bar_style='info', description='Validating', layout=Layout(flex='2'), m…"
      ]
     },
     "metadata": {},
     "output_type": "display_data"
    },
    {
     "data": {
      "application/vnd.jupyter.widget-view+json": {
       "model_id": "",
       "version_major": 2,
       "version_minor": 0
      },
      "text/plain": [
       "HBox(children=(FloatProgress(value=1.0, bar_style='info', description='Validating', layout=Layout(flex='2'), m…"
      ]
     },
     "metadata": {},
     "output_type": "display_data"
    },
    {
     "data": {
      "application/vnd.jupyter.widget-view+json": {
       "model_id": "",
       "version_major": 2,
       "version_minor": 0
      },
      "text/plain": [
       "HBox(children=(FloatProgress(value=1.0, bar_style='info', description='Validating', layout=Layout(flex='2'), m…"
      ]
     },
     "metadata": {},
     "output_type": "display_data"
    },
    {
     "data": {
      "application/vnd.jupyter.widget-view+json": {
       "model_id": "",
       "version_major": 2,
       "version_minor": 0
      },
      "text/plain": [
       "HBox(children=(FloatProgress(value=1.0, bar_style='info', description='Validating', layout=Layout(flex='2'), m…"
      ]
     },
     "metadata": {},
     "output_type": "display_data"
    },
    {
     "data": {
      "application/vnd.jupyter.widget-view+json": {
       "model_id": "",
       "version_major": 2,
       "version_minor": 0
      },
      "text/plain": [
       "HBox(children=(FloatProgress(value=1.0, bar_style='info', description='Validating', layout=Layout(flex='2'), m…"
      ]
     },
     "metadata": {},
     "output_type": "display_data"
    },
    {
     "data": {
      "application/vnd.jupyter.widget-view+json": {
       "model_id": "dd03ae4363404f0486d15158df5bbcf7",
       "version_major": 2,
       "version_minor": 0
      },
      "text/plain": [
       "HBox(children=(FloatProgress(value=1.0, bar_style='info', description='Validating', layout=Layout(flex='2'), m…"
      ]
     },
     "metadata": {},
     "output_type": "display_data"
    }
   ],
   "source": [
    "wandb.agent(sweep_id, function=sweep_iteration);"
   ]
  },
  {
   "cell_type": "markdown",
   "metadata": {},
   "source": [
    "## 5. Testing"
   ]
  },
  {
   "cell_type": "code",
   "execution_count": 23,
   "metadata": {},
   "outputs": [],
   "source": [
    "cp /mnt/artifacts/experiments/Biomedical-Image-Classification-Experimental/6rcr5igw/helpful-sweep-16/final.pt /mnt/artifacts/models/Experimental"
   ]
  },
  {
   "cell_type": "code",
   "execution_count": 25,
   "metadata": {},
   "outputs": [],
   "source": [
    "model_path =  '/mnt/artifacts/experiments/Biomedical-Image-Classification-Experimental/6rcr5igw/helpful-sweep-16/final.pt'\n",
    "# setup data\n",
    "dm = ImageDataModule(     batch_size       = 32,\n",
    "                          label_encoder    = le_encoder_experimental,\n",
    "                          data_path        = str(DATA_PATH), \n",
    "                          base_img_dir     = str(BASE_IMG_DIR),\n",
    "                          seed             = SEED,   \n",
    "                          image_transforms = [train_transform,val_transform,test_transform],\n",
    "                          num_workers      = 72,\n",
    "                          target_class_col ='split_set',\n",
    "                          modality_col     ='modality',\n",
    "                          path_col         ='img_path')\n",
    "dm.prepare_data()\n",
    "dm.setup()\n",
    "dm.set_seed()"
   ]
  },
  {
   "cell_type": "code",
   "execution_count": 26,
   "metadata": {},
   "outputs": [
    {
     "name": "stderr",
     "output_type": "stream",
     "text": [
      "GPU available: True, used: True\n",
      "TPU available: None, using: 0 TPU cores\n",
      "LOCAL_RANK: 0 - CUDA_VISIBLE_DEVICES: [0]\n"
     ]
    },
    {
     "data": {
      "application/vnd.jupyter.widget-view+json": {
       "model_id": "ff4d82c1307c4c858f7ac69ed390b369",
       "version_major": 2,
       "version_minor": 0
      },
      "text/plain": [
       "HBox(children=(FloatProgress(value=1.0, bar_style='info', description='Testing', layout=Layout(flex='2'), max=…"
      ]
     },
     "metadata": {},
     "output_type": "display_data"
    },
    {
     "name": "stdout",
     "output_type": "stream",
     "text": [
      "Accuracy: 99.56689453125\n",
      "              precision    recall  f1-score   support\n",
      "\n",
      "         0.0       1.00      1.00      1.00      2009\n",
      "         1.0       0.95      0.91      0.93        69\n",
      "\n",
      "    accuracy                           1.00      2078\n",
      "   macro avg       0.98      0.96      0.97      2078\n",
      "weighted avg       1.00      1.00      1.00      2078\n",
      "\n",
      "\n",
      "--------------------------------------------------------------------------------\n",
      "DATALOADER:0 TEST RESULTS\n",
      "{'Balanced Accuracy': 0.9557750990109724,\n",
      " 'Macro F1-Score': 0.965547542070795,\n",
      " 'test_acc': tensor(99.5669, device='cuda:0'),\n",
      " 'test_loss': tensor(0.0284, device='cuda:0')}\n",
      "--------------------------------------------------------------------------------\n"
     ]
    },
    {
     "data": {
      "text/plain": [
       "[{'test_acc': 99.56689453125,\n",
       "  'test_loss': 0.028388090431690216,\n",
       "  'Macro F1-Score': 0.965547542070795,\n",
       "  'Balanced Accuracy': 0.9557750990109724}]"
      ]
     },
     "execution_count": 26,
     "metadata": {},
     "output_type": "execute_result"
    },
    {
     "data": {
      "image/png": "[encoded data removed]",
      "text/plain": [
       "<Figure size 288x288 with 2 Axes>"
      ]
     },
     "metadata": {
      "needs_background": "light"
     },
     "output_type": "display_data"
    }
   ],
   "source": [
    "model = ResNetClass.load_from_checkpoint(model_path)\n",
    "trainer = Trainer(gpus=1, logger=None)\n",
    "trainer.test(model, test_dataloaders=dm.test_dataloader())"
   ]
  }
 ],
 "metadata": {
  "kernelspec": {
   "display_name": "Python 3",
   "language": "python",
   "name": "python3"
  },
  "language_info": {
   "codemirror_mode": {
    "name": "ipython",
    "version": 3
   },
   "file_extension": ".py",
   "mimetype": "text/x-python",
   "name": "python",
   "nbconvert_exporter": "python",
   "pygments_lexer": "ipython3",
   "version": "3.6.9"
  }
 },
 "nbformat": 4,
 "nbformat_minor": 4
}
