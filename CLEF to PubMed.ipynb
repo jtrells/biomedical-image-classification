{
 "cells": [
  {
   "cell_type": "markdown",
   "metadata": {},
   "source": [
    "# Mapping CLEF codes to PubMed Ids"
   ]
  },
  {
   "cell_type": "markdown",
   "metadata": {},
   "source": [
    "Images from the sub-image classification task from the MedicalCLEF task use a format *ImageId-FigureNumber-SubfigureNumber*. For instance, the sub-figure *1472-6807-6-9-6-1.jpg* is the subfigure 1 from figure 6 from the Image: 1472-6807-6-9. This ImageId is the DOI of the article (doi: 10.1186/1472-6807-6-9, pubmedid: 1508147). We only realized this relationship from a mapping file provided by Dina Demner (*ids.txt*).\n",
    "\n",
    "![sample subfigure](./samples/1472-6807-6-9-6-1.jpg)\n",
    "\n",
    "To access a pubmed article, use the url https://www.ncbi.nlm.nih.gov/pmc/articles/REPLACE_ID/ and replace the *REPLACE_ID* placeholder with a string of format *PMC + pubmedid* (e.g. PMC1508147). Pubmed also provides a faster way to access to the image by appending /figure/FX to the url, where X is the figure number (e.g. https://www.ncbi.nlm.nih.gov/pmc/articles/PMC1508147/figure/F6/). Notice that there is no way to access directly to the sub-figure because it is a compounded figure.\n"
   ]
  },
  {
   "cell_type": "code",
   "execution_count": 7,
   "metadata": {},
   "outputs": [
    {
     "data": {
      "text/plain": [
       "200"
      ]
     },
     "execution_count": 7,
     "metadata": {},
     "output_type": "execute_result"
    }
   ],
   "source": [
    "# https://www.ncbi.nlm.nih.gov/pmc/tools/id-converter-api/\n",
    "import requests\n",
    "\n",
    "request_url = 'https://www.ncbi.nlm.nih.gov/pmc/utils/idconv/v1.0/?tool=my_tool&email=my_email@example.com&ids=25640076;versions=no&format=json'\n",
    "r = requests.get(request_url)\n",
    "r.status_code"
   ]
  },
  {
   "cell_type": "code",
   "execution_count": 8,
   "metadata": {},
   "outputs": [
    {
     "data": {
      "text/plain": [
       "'{\\n \"status\": \"ok\",\\n \"responseDate\": \"2020-06-10 22:35:54\",\\n \"request\": \"tool=my_tool;email=my_email%40example.com;ids=25640076;versions=no;format=json\",\\n \"records\": [\\n   {\\n    \"pmcid\": \"PMC4408612\",\\n    \"pmid\": \"25640076\",\\n    \"doi\": \"10.1016/j.neuron.2014.12.061\"\\n   }\\n ]\\n}\\n'"
      ]
     },
     "execution_count": 8,
     "metadata": {},
     "output_type": "execute_result"
    }
   ],
   "source": [
    "r.text"
   ]
  },
  {
   "cell_type": "code",
   "execution_count": 10,
   "metadata": {},
   "outputs": [],
   "source": [
    "j = r.json()"
   ]
  },
  {
   "cell_type": "code",
   "execution_count": 18,
   "metadata": {},
   "outputs": [
    {
     "data": {
      "text/plain": [
       "'PMC4408612'"
      ]
     },
     "execution_count": 18,
     "metadata": {},
     "output_type": "execute_result"
    }
   ],
   "source": [
    "j['records'][0]['pmcid']"
   ]
  },
  {
   "cell_type": "code",
   "execution_count": 3,
   "metadata": {},
   "outputs": [],
   "source": [
    "from bs4 import BeautifulSoup\n",
    "import urllib.request\n",
    "from urllib.request import Request\n",
    "\n",
    "url = 'https://www.ncbi.nlm.nih.gov/pmc/articles/PMC4408612/figure/F1'\n",
    "hdr = {'User-Agent': 'Mozilla/5.0'}\n",
    "req = Request(url,headers=hdr)\n",
    "page = urllib.request.urlopen(req).read()\n",
    "\n",
    "soup = BeautifulSoup(page, 'lxml')"
   ]
  },
  {
   "cell_type": "code",
   "execution_count": 6,
   "metadata": {},
   "outputs": [],
   "source": [
    "imgs = soup.find_all('img')"
   ]
  },
  {
   "cell_type": "code",
   "execution_count": 8,
   "metadata": {},
   "outputs": [
    {
     "data": {
      "text/plain": [
       "<img alt=\"Logo of nihpa\" src=\"/corehtml/pmc/pmcgifs/logo-hhspa.png\" usemap=\"#logo-imagemap\"/>"
      ]
     },
     "execution_count": 8,
     "metadata": {},
     "output_type": "execute_result"
    }
   ],
   "source": [
    "imgs[0]"
   ]
  },
  {
   "cell_type": "code",
   "execution_count": null,
   "metadata": {},
   "outputs": [],
   "source": []
  }
 ],
 "metadata": {
  "kernelspec": {
   "display_name": "Python 3",
   "language": "python",
   "name": "python3"
  },
  "language_info": {
   "codemirror_mode": {
    "name": "ipython",
    "version": 3
   },
   "file_extension": ".py",
   "mimetype": "text/x-python",
   "name": "python",
   "nbconvert_exporter": "python",
   "pygments_lexer": "ipython3",
   "version": "3.6.7"
  }
 },
 "nbformat": 4,
 "nbformat_minor": 2
}
