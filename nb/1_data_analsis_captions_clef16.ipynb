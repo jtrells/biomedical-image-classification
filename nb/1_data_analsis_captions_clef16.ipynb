{
 "cells": [
  {
   "cell_type": "markdown",
   "metadata": {},
   "source": [
    "# Analysis - Captions from the Compound Image Detection Task at CLEF16\n",
    "* Captions Source: Compound image detection task\n",
    "* Images Source: Subfigure modality classification task\n",
    "* `tldr;`\n",
    "    * Check the association between the provided captions and the subfigure images\n",
    "    * After some pattern matching and data cleaning, all subfigures have a corresponding caption. However, the caption correspond to the whole subfigure and not the individual pane.\n",
    "    * Save resulting captions to a CSV file for later processing"
   ]
  },
  {
   "cell_type": "markdown",
   "metadata": {},
   "source": [
    "## 1. Data Validation"
   ]
  },
  {
   "cell_type": "markdown",
   "metadata": {},
   "source": [
    "Verify that each image on the CLEF16 subfigure-classification training dataset has a corresponding caption."
   ]
  },
  {
   "cell_type": "code",
   "execution_count": 2,
   "metadata": {},
   "outputs": [],
   "source": [
    "import pandas as pd\n",
    "import json\n",
    "import os\n",
    "import re\n",
    "import csv\n",
    "\n",
    "IMAGES_CLEF_16_TRAINING = '../../clef/imageclef_2016/train'\n",
    "CAPTIONS_CLEF_16_TRAINING = '../data/CompoundFigureDetectionTraining2016-Captions.csv'\n",
    "CAPTIONS_CLEF_16_TEST = '../data/CompoundFigureDetectionTest2016-Captions.csv'"
   ]
  },
  {
   "cell_type": "markdown",
   "metadata": {},
   "source": [
    "Obtain the list of image names (**training_ids**) from the CLEF16 image folder"
   ]
  },
  {
   "cell_type": "code",
   "execution_count": 3,
   "metadata": {},
   "outputs": [
    {
     "name": "stdout",
     "output_type": "stream",
     "text": [
      "classes: ['D3DR', 'DMEL', 'DMFL', 'DMLI', 'DMTR', 'DRAN', 'DRCO', 'DRCT', 'DRMR', 'DRPE', 'DRUS', 'DRXR', 'DSEC', 'DSEE', 'DSEM', 'DVDM', 'DVEN', 'DVOR', 'GCHE', 'GFIG', 'GFLO', 'GGEL', 'GGEN', 'GHDR', 'GMAT', 'GNCP', 'GPLI', 'GSCR', 'GSYS', 'GTAB']\n",
      "There are 6776 images in the train folder\n"
     ]
    }
   ],
   "source": [
    "classes = os.listdir(IMAGES_CLEF_16_TRAINING)\n",
    "print(\"classes:\", classes)\n",
    "training_ids_16 = [imgid for folder in classes for imgid in os.listdir(os.path.join(IMAGES_CLEF_16_TRAINING, folder))]\n",
    "print(\"There are {0} images in the train folder\".format(len(training_ids_16)))"
   ]
  },
  {
   "cell_type": "code",
   "execution_count": 4,
   "metadata": {},
   "outputs": [
    {
     "name": "stdout",
     "output_type": "stream",
     "text": [
      "True\n",
      "True\n",
      "False\n"
     ]
    }
   ],
   "source": [
    "def match_compound(img_id):\n",
    "    p = re.compile('(-|[.])[0-9]*-[0-9]*.(jpg)$')\n",
    "    match = p.search(img_id)\n",
    "    return True if match != None else False\n",
    "\n",
    "def get_compound_root(img_id):\n",
    "    # Obtain the part of the image name without subfigure labeling\n",
    "    p = re.compile('(-|[.])[0-9]*.(jpg)$')\n",
    "    match = p.search(img_id)\n",
    "    m_start, m_end = match.span()\n",
    "    return img_id[:m_start]\n",
    "\n",
    "def create_caption_dictionary(csv_file):\n",
    "    captions = {}\n",
    "    with open(CAPTIONS_CLEF_16_TRAINING, encoding='ISO-8859-1') as csvfile:\n",
    "        reader = csv.reader(csvfile, delimiter='\\t')\n",
    "        for row in reader:\n",
    "            # the original file has some empty lines\n",
    "            if len(row) != 0:\n",
    "                # lines using tab separators\n",
    "                if len(row) == 1:\n",
    "                    sp = row[0].split('\\t')\n",
    "                    if len(sp) == 2:\n",
    "                        # remove the ,,,,,,,, sequences\n",
    "                        captions[sp[0]] = sp[1].replace(',,', '').replace(\"\\xa0\", \"\")\n",
    "                    else:\n",
    "                        # there is at least one case there the id is not present\n",
    "                        # so the line has only one value\n",
    "                        captions[sp[0]] = ''\n",
    "                elif len(row) == 2:\n",
    "                    captions[row[0]] = row[1]\n",
    "    return captions\n",
    "\n",
    "# Tests match_compound\n",
    "test = '1471-2202-9-58-19-6.jpg'\n",
    "test2= 'IJBI2010-105610.007-1.jpg'\n",
    "test3= '11373_2007_9226_Fig1_HTML-16.jpg'\n",
    "print(match_compound(test))\n",
    "print(match_compound(test2))\n",
    "print(match_compound(test3))"
   ]
  },
  {
   "cell_type": "code",
   "execution_count": 5,
   "metadata": {},
   "outputs": [
    {
     "name": "stdout",
     "output_type": "stream",
     "text": [
      "There are 6776 training subfigures.\n",
      "The captions dictionary has 20987 captions\n"
     ]
    }
   ],
   "source": [
    "captions_training = create_caption_dictionary(CAPTIONS_CLEF_16_TRAINING)\n",
    "captions_test = create_caption_dictionary(CAPTIONS_CLEF_16_TEST)\n",
    "\n",
    "print(\"There are {num} training subfigures.\".format(num=len(training_ids_16)))\n",
    "print(\"The captions dictionary has {num} captions\".format(num=len(captions_training.keys())))"
   ]
  },
  {
   "cell_type": "code",
   "execution_count": 6,
   "metadata": {},
   "outputs": [
    {
     "name": "stdout",
     "output_type": "stream",
     "text": [
      "6775 subfigures have a corresponding caption\n",
      "Only DRP2011-927852-001-2.jpg has no captions\n"
     ]
    }
   ],
   "source": [
    "num_has_caption = 0\n",
    "imgs_no_caption = []\n",
    "\n",
    "for img_id in training_ids_16:    \n",
    "    try:\n",
    "        caption = captions_training[get_compound_root(img_id)]\n",
    "        num_has_caption += 1\n",
    "    except KeyError:\n",
    "        imgs_no_caption.append(img_id)\n",
    "        \n",
    "print(\"{num} subfigures have a corresponding caption\".format(num=num_has_caption))\n",
    "print(\"Only {images} has no captions\".format(images=('').join(imgs_no_caption)))"
   ]
  },
  {
   "cell_type": "markdown",
   "metadata": {},
   "source": [
    "After searching for the key in the dictionary, we can see that the problem is the use of **.001** instead of **-001**. We proceed to create a corresponding key."
   ]
  },
  {
   "cell_type": "code",
   "execution_count": 7,
   "metadata": {},
   "outputs": [
    {
     "name": "stdout",
     "output_type": "stream",
     "text": [
      "['DRP2011-927852.001']\n"
     ]
    }
   ],
   "source": [
    "found = []\n",
    "for k in captions_training.keys():\n",
    "    if 'DRP2011-927852' in k:\n",
    "        found.append(k)\n",
    "print(found)\n",
    "\n",
    "captions_training['DRP2011-927852-001'] = captions_training['DRP2011-927852.001']"
   ]
  },
  {
   "cell_type": "code",
   "execution_count": 8,
   "metadata": {},
   "outputs": [
    {
     "name": "stdout",
     "output_type": "stream",
     "text": [
      "6776 subfigures have a corresponding caption\n"
     ]
    }
   ],
   "source": [
    "num_has_caption = 0\n",
    "imgs_no_caption = []\n",
    "\n",
    "for img_id in training_ids_16:    \n",
    "    try:\n",
    "        caption = captions_training[get_compound_root(img_id)]\n",
    "        num_has_caption += 1\n",
    "    except KeyError:\n",
    "        imgs_no_caption.append(img_id)\n",
    "        \n",
    "print(\"{num} subfigures have a corresponding caption\".format(num=num_has_caption))"
   ]
  },
  {
   "cell_type": "markdown",
   "metadata": {},
   "source": [
    "Checking if any subfigure has an empty caption."
   ]
  },
  {
   "cell_type": "code",
   "execution_count": 9,
   "metadata": {},
   "outputs": [
    {
     "name": "stdout",
     "output_type": "stream",
     "text": [
      "There are no subfigures with empty labels\n"
     ]
    }
   ],
   "source": [
    "count_empty = 0\n",
    "for img_id in training_ids_16:\n",
    "    if captions_training[get_compound_root(img_id)] == '':\n",
    "        count_empty += 1\n",
    "        print(img_id)\n",
    "\n",
    "if count_empty == 0:\n",
    "    print(\"There are no subfigures with empty labels\")\n",
    "else:\n",
    "    print(\"There are {num} subfigures with empty labels\".format(num=count_empty))"
   ]
  },
  {
   "cell_type": "markdown",
   "metadata": {},
   "source": [
    "## Captions with spatial indicators"
   ]
  },
  {
   "cell_type": "markdown",
   "metadata": {},
   "source": [
    "Captions in compound figures can use the spatial position of the pane as a reference for the related text in the caption. In the example below (left), the top left image is referenced with the text **(A, top left)** but the image itself does not have an **A** label. As the given subfigure (image below, right) does not have any reference to the **A** label and we cannot guess the position in the original compound image, there is no way to relate just a part of the caption to it.\n",
    "\n",
    "It's worth noticing that for this particular image, the whole caption may indeed be relevant for any pane just because this is an homogeneous case. For instance, **3-D** is mentioned before any specific pane caption and within pane captions. \n",
    "\n",
    "*Image on the left taken from https://www.ncbi.nlm.nih.gov/pmc/articles/PMC1508147/*"
   ]
  },
  {
   "cell_type": "markdown",
   "metadata": {},
   "source": [
    "![10.1186/1472-6807-6-9 Figure 6](../samples/PMC1508147.png)"
   ]
  },
  {
   "cell_type": "markdown",
   "metadata": {},
   "source": [
    "## Save the captions to a CSV file"
   ]
  },
  {
   "cell_type": "code",
   "execution_count": 10,
   "metadata": {},
   "outputs": [],
   "source": [
    "import pandas as pd"
   ]
  },
  {
   "cell_type": "code",
   "execution_count": 15,
   "metadata": {},
   "outputs": [],
   "source": [
    "clef16_training_captions = {}\n",
    "\n",
    "for img_id in training_ids_16:\n",
    "    clef16_training_captions[img_id[:-4]] = captions_training[get_compound_root(img_id)]"
   ]
  },
  {
   "cell_type": "code",
   "execution_count": 17,
   "metadata": {},
   "outputs": [
    {
     "data": {
      "text/html": [
       "<div>\n",
       "<style scoped>\n",
       "    .dataframe tbody tr th:only-of-type {\n",
       "        vertical-align: middle;\n",
       "    }\n",
       "\n",
       "    .dataframe tbody tr th {\n",
       "        vertical-align: top;\n",
       "    }\n",
       "\n",
       "    .dataframe thead th {\n",
       "        text-align: right;\n",
       "    }\n",
       "</style>\n",
       "<table border=\"1\" class=\"dataframe\">\n",
       "  <thead>\n",
       "    <tr style=\"text-align: right;\">\n",
       "      <th></th>\n",
       "      <th>FIG_NAME</th>\n",
       "      <th>CAPTIONS</th>\n",
       "    </tr>\n",
       "  </thead>\n",
       "  <tbody>\n",
       "    <tr>\n",
       "      <th>0</th>\n",
       "      <td>1471-2105-12-247-9-3</td>\n",
       "      <td>Illustration of the functional role of three w...</td>\n",
       "    </tr>\n",
       "    <tr>\n",
       "      <th>1</th>\n",
       "      <td>1423-0127-16-109-3-1</td>\n",
       "      <td>A. Three dimensional model of class C protein ...</td>\n",
       "    </tr>\n",
       "    <tr>\n",
       "      <th>2</th>\n",
       "      <td>1471-2105-12-247-9-2</td>\n",
       "      <td>Illustration of the functional role of three w...</td>\n",
       "    </tr>\n",
       "    <tr>\n",
       "      <th>3</th>\n",
       "      <td>1423-0127-16-109-3-2</td>\n",
       "      <td>A. Three dimensional model of class C protein ...</td>\n",
       "    </tr>\n",
       "    <tr>\n",
       "      <th>4</th>\n",
       "      <td>1471-2105-6-6-1-3</td>\n",
       "      <td>Analysis of plant CNB domains . (A) Arabidopsi...</td>\n",
       "    </tr>\n",
       "  </tbody>\n",
       "</table>\n",
       "</div>"
      ],
      "text/plain": [
       "               FIG_NAME                                           CAPTIONS\n",
       "0  1471-2105-12-247-9-3  Illustration of the functional role of three w...\n",
       "1  1423-0127-16-109-3-1  A. Three dimensional model of class C protein ...\n",
       "2  1471-2105-12-247-9-2  Illustration of the functional role of three w...\n",
       "3  1423-0127-16-109-3-2  A. Three dimensional model of class C protein ...\n",
       "4     1471-2105-6-6-1-3  Analysis of plant CNB domains . (A) Arabidopsi..."
      ]
     },
     "execution_count": 17,
     "metadata": {},
     "output_type": "execute_result"
    }
   ],
   "source": [
    "df_captions = pd.Series(clef16_training_captions).to_frame().reset_index()\n",
    "df_captions.columns = ['FIG_NAME', 'CAPTIONS']\n",
    "df_captions.head()"
   ]
  },
  {
   "cell_type": "code",
   "execution_count": 18,
   "metadata": {},
   "outputs": [],
   "source": [
    "output_file = '../data/out/clef16_subfig_captions.csv'\n",
    "df_captions.to_csv(output_file, index=False)"
   ]
  },
  {
   "cell_type": "code",
   "execution_count": 19,
   "metadata": {},
   "outputs": [
    {
     "data": {
      "text/plain": [
       "6776"
      ]
     },
     "execution_count": 19,
     "metadata": {},
     "output_type": "execute_result"
    }
   ],
   "source": [
    "len(training_ids_16)"
   ]
  }
 ],
 "metadata": {
  "kernelspec": {
   "display_name": "Python 3",
   "language": "python",
   "name": "python3"
  },
  "language_info": {
   "codemirror_mode": {
    "name": "ipython",
    "version": 3
   },
   "file_extension": ".py",
   "mimetype": "text/x-python",
   "name": "python",
   "nbconvert_exporter": "python",
   "pygments_lexer": "ipython3",
   "version": "3.6.9"
  }
 },
 "nbformat": 4,
 "nbformat_minor": 2
}
