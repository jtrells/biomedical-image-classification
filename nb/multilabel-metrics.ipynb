{
 "cells": [
  {
   "cell_type": "code",
   "execution_count": 23,
   "metadata": {},
   "outputs": [],
   "source": [
    "import numpy as np\n",
    "from sklearn.metrics import hamming_loss\n",
    "from sklearn.metrics import average_precision_score as aps\n",
    "from sklearn.metrics import fbeta_score"
   ]
  },
  {
   "cell_type": "code",
   "execution_count": 26,
   "metadata": {},
   "outputs": [
    {
     "data": {
      "text/plain": [
       "(0.2222222222222222,\n",
       " 0.7222222222222222,\n",
       " 0.8888888888888888,\n",
       " 0.5185185185185185)"
      ]
     },
     "execution_count": 26,
     "metadata": {},
     "output_type": "execute_result"
    }
   ],
   "source": [
    "# fraction of labels incorrectly predicted\n",
    "y_true = [[0, 1, 1], [1, 1, 1], [1, 0, 0]]\n",
    "y_pred = [[0, 1, 0], [1, 1, 1], [0, 0, 0]]\n",
    "hamming_loss(y_true, y_pred), aps(y_true, y_pred, average='samples'), aps(y_true, y_pred, average='micro'), fbeta_score(y_true, y_pred, beta=2.0, average='samples')"
   ]
  },
  {
   "cell_type": "code",
   "execution_count": 27,
   "metadata": {},
   "outputs": [
    {
     "data": {
      "text/plain": [
       "(0.0, 1.0, 1.0, 1.0)"
      ]
     },
     "execution_count": 27,
     "metadata": {},
     "output_type": "execute_result"
    }
   ],
   "source": [
    "y_true = [[0, 1, 1], [1, 1, 1], [1, 0, 0]]\n",
    "y_pred = [[0, 1, 1], [1, 1, 1], [1, 0, 0]]\n",
    "hamming_loss(y_true, y_pred), aps(y_true, y_pred, average='samples'), aps(y_true, y_pred, average='micro'), fbeta_score(y_true, y_pred, beta=2.0, average='samples')"
   ]
  },
  {
   "cell_type": "code",
   "execution_count": 28,
   "metadata": {},
   "outputs": [
    {
     "data": {
      "text/plain": [
       "(0.2222222222222222,\n",
       " 0.7222222222222222,\n",
       " 0.8888888888888888,\n",
       " 0.5185185185185185)"
      ]
     },
     "execution_count": 28,
     "metadata": {},
     "output_type": "execute_result"
    }
   ],
   "source": [
    "y_true = [[0, 1, 1], [1, 1, 1], [1, 0, 0]]\n",
    "y_pred = np.array([[0.3, 0.6, 0.2], [0.9, 0.6, 0.6], [0.2, 0.23, 0.43]])\n",
    "y_pred = y_pred > 0.5\n",
    "hamming_loss(y_true, y_pred), aps(y_true, y_pred, average='samples'), aps(y_true, y_pred, average='micro'), fbeta_score(y_true, y_pred, beta=2.0, average='samples')"
   ]
  },
  {
   "cell_type": "code",
   "execution_count": 29,
   "metadata": {},
   "outputs": [
    {
     "data": {
      "text/plain": [
       "array([0.55555556, 1.        , 0.55555556])"
      ]
     },
     "execution_count": 29,
     "metadata": {},
     "output_type": "execute_result"
    }
   ],
   "source": [
    "fbeta_score(y_true, y_pred, beta=2.0, average=None)"
   ]
  },
  {
   "cell_type": "code",
   "execution_count": null,
   "metadata": {},
   "outputs": [],
   "source": []
  }
 ],
 "metadata": {
  "kernelspec": {
   "display_name": "Python 3",
   "language": "python",
   "name": "python3"
  },
  "language_info": {
   "codemirror_mode": {
    "name": "ipython",
    "version": 3
   },
   "file_extension": ".py",
   "mimetype": "text/x-python",
   "name": "python",
   "nbconvert_exporter": "python",
   "pygments_lexer": "ipython3",
   "version": "3.6.9"
  }
 },
 "nbformat": 4,
 "nbformat_minor": 4
}
