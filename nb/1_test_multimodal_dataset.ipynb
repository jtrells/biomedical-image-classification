{
 "cells": [
  {
   "cell_type": "markdown",
   "metadata": {},
   "source": [
    "# Multimodal Modality Dataset Test\n",
    "Dataset combines the image and text data. Text data is represented as padded sequences."
   ]
  },
  {
   "cell_type": "code",
   "execution_count": 1,
   "metadata": {},
   "outputs": [],
   "source": [
    "# Reference to ../src\n",
    "import os\n",
    "import sys\n",
    "module_path = os.path.abspath(os.path.join('../src'))\n",
    "if module_path not in sys.path:\n",
    "    sys.path.append(module_path)\n",
    "\n",
    "import pandas as pd\n",
    "import numpy as np    \n",
    "from dataset.MultimodalModalityDataset import MultimodalModalityDataset\n",
    "from tensorflow.keras.preprocessing.text import Tokenizer\n",
    "from tensorflow.keras.preprocessing.sequence import pad_sequences\n",
    "import torchvision.transforms"
   ]
  },
  {
   "cell_type": "code",
   "execution_count": 2,
   "metadata": {},
   "outputs": [
    {
     "data": {
      "text/html": [
       "<div>\n",
       "<style scoped>\n",
       "    .dataframe tbody tr th:only-of-type {\n",
       "        vertical-align: middle;\n",
       "    }\n",
       "\n",
       "    .dataframe tbody tr th {\n",
       "        vertical-align: top;\n",
       "    }\n",
       "\n",
       "    .dataframe thead th {\n",
       "        text-align: right;\n",
       "    }\n",
       "</style>\n",
       "<table border=\"1\" class=\"dataframe\">\n",
       "  <thead>\n",
       "    <tr style=\"text-align: right;\">\n",
       "      <th></th>\n",
       "      <th>FIG_NAME</th>\n",
       "      <th>CLASS</th>\n",
       "      <th>CAPTION</th>\n",
       "      <th>ID</th>\n",
       "    </tr>\n",
       "  </thead>\n",
       "  <tbody>\n",
       "    <tr>\n",
       "      <th>0</th>\n",
       "      <td>11373_2007_9226_Fig1_HTML-10</td>\n",
       "      <td>DMFL</td>\n",
       "      <td>Colocalization of hNopp140, pol I and rDNA rep...</td>\n",
       "      <td>0</td>\n",
       "    </tr>\n",
       "    <tr>\n",
       "      <th>1</th>\n",
       "      <td>11373_2007_9226_Fig1_HTML-11</td>\n",
       "      <td>DMFL</td>\n",
       "      <td>Colocalization of hNopp140, pol I and rDNA rep...</td>\n",
       "      <td>1</td>\n",
       "    </tr>\n",
       "    <tr>\n",
       "      <th>2</th>\n",
       "      <td>11373_2007_9226_Fig1_HTML-12</td>\n",
       "      <td>DMFL</td>\n",
       "      <td>Colocalization of hNopp140, pol I and rDNA rep...</td>\n",
       "      <td>2</td>\n",
       "    </tr>\n",
       "    <tr>\n",
       "      <th>3</th>\n",
       "      <td>11373_2007_9226_Fig1_HTML-13</td>\n",
       "      <td>DMFL</td>\n",
       "      <td>Colocalization of hNopp140, pol I and rDNA rep...</td>\n",
       "      <td>3</td>\n",
       "    </tr>\n",
       "    <tr>\n",
       "      <th>4</th>\n",
       "      <td>11373_2007_9226_Fig1_HTML-14</td>\n",
       "      <td>DMFL</td>\n",
       "      <td>Colocalization of hNopp140, pol I and rDNA rep...</td>\n",
       "      <td>4</td>\n",
       "    </tr>\n",
       "  </tbody>\n",
       "</table>\n",
       "</div>"
      ],
      "text/plain": [
       "                       FIG_NAME CLASS  \\\n",
       "0  11373_2007_9226_Fig1_HTML-10  DMFL   \n",
       "1  11373_2007_9226_Fig1_HTML-11  DMFL   \n",
       "2  11373_2007_9226_Fig1_HTML-12  DMFL   \n",
       "3  11373_2007_9226_Fig1_HTML-13  DMFL   \n",
       "4  11373_2007_9226_Fig1_HTML-14  DMFL   \n",
       "\n",
       "                                             CAPTION  ID  \n",
       "0  Colocalization of hNopp140, pol I and rDNA rep...   0  \n",
       "1  Colocalization of hNopp140, pol I and rDNA rep...   1  \n",
       "2  Colocalization of hNopp140, pol I and rDNA rep...   2  \n",
       "3  Colocalization of hNopp140, pol I and rDNA rep...   3  \n",
       "4  Colocalization of hNopp140, pol I and rDNA rep...   4  "
      ]
     },
     "execution_count": 2,
     "metadata": {},
     "output_type": "execute_result"
    }
   ],
   "source": [
    "csv = '../data/out/clef16_caption_classes.csv'\n",
    "base_dir_images = '/mnt/clef/imageclef_2016/train'\n",
    "\n",
    "df = pd.read_csv(csv)\n",
    "\n",
    "# add repeated sample just to be able to divide in stratified manner\n",
    "glpi_unique_sample = df.append(df[df['CLASS']=='GPLI'])\n",
    "df = df.append(glpi_unique_sample)\n",
    "\n",
    "df.head()"
   ]
  },
  {
   "cell_type": "code",
   "execution_count": 3,
   "metadata": {},
   "outputs": [
    {
     "data": {
      "text/plain": [
       "array(['DMFL', 'GHDR', 'DMTR', 'DRXR', 'DRUS', 'GFIG', 'D3DR', 'GGEL',\n",
       "       'DMEL', 'DRMR', 'DMLI', 'GTAB', 'DRCT', 'GSCR', 'GGEN', 'GCHE',\n",
       "       'GMAT', 'GFLO', 'GSYS', 'GNCP', 'DVDM', 'GPLI', 'DSEM', 'DRCO',\n",
       "       'DVOR', 'DSEE', 'DRAN', 'DVEN', 'DSEC', 'DRPE'], dtype=object)"
      ]
     },
     "execution_count": 3,
     "metadata": {},
     "output_type": "execute_result"
    }
   ],
   "source": [
    "classes = df['CLASS'].unique()\n",
    "classes"
   ]
  },
  {
   "cell_type": "code",
   "execution_count": 4,
   "metadata": {},
   "outputs": [],
   "source": [
    "max_words = 20000\n",
    "# keys to define the training/validation set\n",
    "set_keys = np.arange(300)"
   ]
  },
  {
   "cell_type": "code",
   "execution_count": 5,
   "metadata": {},
   "outputs": [
    {
     "name": "stderr",
     "output_type": "stream",
     "text": [
      "/mnt/biomedical-image-classification/src/dataset/MultimodalModalityDataset.py:66: SettingWithCopyWarning: \n",
      "A value is trying to be set on a copy of a slice from a DataFrame.\n",
      "Try using .loc[row_indexer,col_indexer] = value instead\n",
      "\n",
      "See the caveats in the documentation: https://pandas.pydata.org/pandas-docs/stable/user_guide/indexing.html#returning-a-view-versus-a-copy\n",
      "  self.dataframe['CLEAN'] = self.dataframe['CAPTION'].apply(clean_str)\n"
     ]
    }
   ],
   "source": [
    "transform = torchvision.transforms.ToTensor()\n",
    "dataset = MultimodalModalityDataset(base_dir_images, csv, set_keys, classes,\n",
    "                                    max_seq_len=200, max_words=max_words, transform=transform)"
   ]
  },
  {
   "cell_type": "code",
   "execution_count": 6,
   "metadata": {},
   "outputs": [
    {
     "data": {
      "text/plain": [
       "(tensor([[[1.0000, 1.0000, 1.0000,  ..., 1.0000, 1.0000, 1.0000],\n",
       "          [1.0000, 1.0000, 1.0000,  ..., 1.0000, 1.0000, 1.0000],\n",
       "          [1.0000, 1.0000, 1.0000,  ..., 1.0000, 1.0000, 1.0000],\n",
       "          ...,\n",
       "          [0.9686, 0.9765, 0.9843,  ..., 1.0000, 1.0000, 1.0000],\n",
       "          [1.0000, 1.0000, 1.0000,  ..., 1.0000, 1.0000, 1.0000],\n",
       "          [1.0000, 1.0000, 1.0000,  ..., 1.0000, 1.0000, 1.0000]],\n",
       " \n",
       "         [[1.0000, 1.0000, 1.0000,  ..., 1.0000, 1.0000, 1.0000],\n",
       "          [1.0000, 1.0000, 1.0000,  ..., 1.0000, 1.0000, 1.0000],\n",
       "          [1.0000, 1.0000, 1.0000,  ..., 1.0000, 1.0000, 1.0000],\n",
       "          ...,\n",
       "          [0.9922, 1.0000, 1.0000,  ..., 1.0000, 1.0000, 1.0000],\n",
       "          [1.0000, 1.0000, 1.0000,  ..., 1.0000, 1.0000, 1.0000],\n",
       "          [1.0000, 1.0000, 1.0000,  ..., 1.0000, 1.0000, 1.0000]],\n",
       " \n",
       "         [[1.0000, 1.0000, 1.0000,  ..., 1.0000, 1.0000, 1.0000],\n",
       "          [1.0000, 1.0000, 1.0000,  ..., 1.0000, 1.0000, 1.0000],\n",
       "          [1.0000, 1.0000, 1.0000,  ..., 1.0000, 1.0000, 1.0000],\n",
       "          ...,\n",
       "          [0.9843, 0.9922, 1.0000,  ..., 1.0000, 1.0000, 1.0000],\n",
       "          [1.0000, 1.0000, 1.0000,  ..., 1.0000, 1.0000, 1.0000],\n",
       "          [1.0000, 1.0000, 1.0000,  ..., 1.0000, 1.0000, 1.0000]]]),\n",
       " 2,\n",
       " tensor([  0,   0,   0,   0,   0,   0,   0,   0,   0,   0,   0,   0,   0,   0,\n",
       "           0,   0,   0,   0,   0,   0,   0,   0,   0,   0,   0,   0,   0,   0,\n",
       "           0,   0,   0,   0,   0,   0,   0,   0,   0,   0,   0,   0,   0,   0,\n",
       "           0,   0,   0,   0,   0,   0,   0,   0,   0,   0,   0,   0,   0,   0,\n",
       "           0,   0,   0,   0,   0,   0,   0,   0, 363,   1,  40,  99,  42,   2,\n",
       "          56, 320,   5,  84,   1,  40,   2,  99,  42,   3, 364, 176, 365,   8,\n",
       "           7, 221,  15, 100, 247,   9, 366, 367, 368, 369,  47, 167,  11, 370,\n",
       "         227,  11, 371,   3, 267,   8,   7,  25, 151, 228,  47,   8,   7, 154,\n",
       "          16, 294, 260, 372,   1,  99,  42,   2,  40,   3, 197,  12, 373,   6,\n",
       "         374, 375,  13,  84,   1,  40,   2,  56, 100,   8,  25, 151,   7, 306,\n",
       "           4, 376,  73,   6,   5, 377, 295,  56, 378,   2,   5, 379, 380, 381,\n",
       "         177,   3,  95,   8,   7, 168, 248,  36,   6,  26,  40, 382,  76, 383,\n",
       "         384,  17,  56, 385,   6,   3, 386, 142,  40, 100,   8, 183,   6, 117,\n",
       "         146, 387, 388,  40,   7, 205,  11, 389,   3,  56,   2,   3, 117, 146,\n",
       "         104, 101,  35,  32]),\n",
       " '/mnt/clef/imageclef_2016/train/DMFL/11373_2007_9226_Fig1_HTML-11.jpg')"
      ]
     },
     "execution_count": 6,
     "metadata": {},
     "output_type": "execute_result"
    }
   ],
   "source": [
    "dataset[1]"
   ]
  },
  {
   "cell_type": "markdown",
   "metadata": {},
   "source": [
    "## In practice, we use a DataLoader..."
   ]
  },
  {
   "cell_type": "code",
   "execution_count": 7,
   "metadata": {},
   "outputs": [],
   "source": [
    "from dataset.TrainDataLoader import TrainDataLoader"
   ]
  },
  {
   "cell_type": "code",
   "execution_count": 8,
   "metadata": {},
   "outputs": [
    {
     "name": "stdout",
     "output_type": "stream",
     "text": [
      "There are 5422 training images and 1356 validation images\n"
     ]
    }
   ],
   "source": [
    "train_data_loader = TrainDataLoader(base_dir_images, csv, classes, variant=\"multimodal\")"
   ]
  },
  {
   "cell_type": "code",
   "execution_count": 9,
   "metadata": {},
   "outputs": [
    {
     "name": "stderr",
     "output_type": "stream",
     "text": [
      "/mnt/biomedical-image-classification/src/dataset/MultimodalModalityDataset.py:66: SettingWithCopyWarning: \n",
      "A value is trying to be set on a copy of a slice from a DataFrame.\n",
      "Try using .loc[row_indexer,col_indexer] = value instead\n",
      "\n",
      "See the caveats in the documentation: https://pandas.pydata.org/pandas-docs/stable/user_guide/indexing.html#returning-a-view-versus-a-copy\n",
      "  self.dataframe['CLEAN'] = self.dataframe['CAPTION'].apply(clean_str)\n"
     ]
    }
   ],
   "source": [
    "train_dataset = train_data_loader.get_train_dataset()"
   ]
  },
  {
   "cell_type": "code",
   "execution_count": 12,
   "metadata": {},
   "outputs": [
    {
     "data": {
      "text/plain": [
       "5422"
      ]
     },
     "execution_count": 12,
     "metadata": {},
     "output_type": "execute_result"
    }
   ],
   "source": [
    "len(train_dataset)"
   ]
  },
  {
   "cell_type": "code",
   "execution_count": null,
   "metadata": {},
   "outputs": [],
   "source": []
  }
 ],
 "metadata": {
  "kernelspec": {
   "display_name": "Python 3",
   "language": "python",
   "name": "python3"
  },
  "language_info": {
   "codemirror_mode": {
    "name": "ipython",
    "version": 3
   },
   "file_extension": ".py",
   "mimetype": "text/x-python",
   "name": "python",
   "nbconvert_exporter": "python",
   "pygments_lexer": "ipython3",
   "version": "3.6.9"
  }
 },
 "nbformat": 4,
 "nbformat_minor": 4
}
