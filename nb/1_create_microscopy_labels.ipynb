{
 "cells": [
  {
   "cell_type": "markdown",
   "metadata": {},
   "source": [
    "## Create microscopy labels for dataset"
   ]
  },
  {
   "cell_type": "code",
   "execution_count": 11,
   "metadata": {},
   "outputs": [],
   "source": [
    "import pandas as pd\n",
    "import csv\n",
    "import os"
   ]
  },
  {
   "cell_type": "markdown",
   "metadata": {},
   "source": [
    "## 1. Create labels file\n",
    "Create a csv file with an id, figure name, modality (e.g. DMEL), set (train/validation) and image path to feed a Dataset class."
   ]
  },
  {
   "cell_type": "code",
   "execution_count": 10,
   "metadata": {},
   "outputs": [],
   "source": [
    "BASE_URL = '/mnt'\n",
    "OUTPUT_PATH = '../labels/microscopy.csv'"
   ]
  },
  {
   "cell_type": "code",
   "execution_count": 22,
   "metadata": {},
   "outputs": [],
   "source": [
    "with open(OUTPUT_PATH, 'w', newline='') as csvfile:\n",
    "    writer = csv.writer(csvfile)\n",
    "    writer.writerow(['ID', 'NAME', 'MODALITY', 'SET', 'PATH'])\n",
    "    i = 1\n",
    "    \n",
    "    for images_group in ('train', 'validation'):\n",
    "        images_group_dir = '{0}/{1}'.format(BASE_URL, images_group)\n",
    "        for microscopy_label in os.listdir(images_group_dir):\n",
    "            microscopy_class_dir = '{0}/{1}'.format(images_group_dir, microscopy_label)\n",
    "            for image_name in os.listdir(microscopy_class_dir):\n",
    "                img_path = '{0}/{1}'.format(microscopy_class_dir, image_name)\n",
    "                row = [i, image_name, microscopy_label, images_group, img_path]\n",
    "                writer.writerow(row)\n",
    "                i += 1"
   ]
  },
  {
   "cell_type": "code",
   "execution_count": 23,
   "metadata": {},
   "outputs": [
    {
     "data": {
      "text/html": [
       "<div>\n",
       "<style scoped>\n",
       "    .dataframe tbody tr th:only-of-type {\n",
       "        vertical-align: middle;\n",
       "    }\n",
       "\n",
       "    .dataframe tbody tr th {\n",
       "        vertical-align: top;\n",
       "    }\n",
       "\n",
       "    .dataframe thead th {\n",
       "        text-align: right;\n",
       "    }\n",
       "</style>\n",
       "<table border=\"1\" class=\"dataframe\">\n",
       "  <thead>\n",
       "    <tr style=\"text-align: right;\">\n",
       "      <th></th>\n",
       "      <th>ID</th>\n",
       "      <th>NAME</th>\n",
       "      <th>MODALITY</th>\n",
       "      <th>SET</th>\n",
       "      <th>PATH</th>\n",
       "    </tr>\n",
       "  </thead>\n",
       "  <tbody>\n",
       "    <tr>\n",
       "      <th>0</th>\n",
       "      <td>1</td>\n",
       "      <td>1423-0127-16-7-1-2.jpg</td>\n",
       "      <td>DMEL</td>\n",
       "      <td>train</td>\n",
       "      <td>/mnt/train/DMEL/1423-0127-16-7-1-2.jpg</td>\n",
       "    </tr>\n",
       "    <tr>\n",
       "      <th>1</th>\n",
       "      <td>2</td>\n",
       "      <td>1423-0127-16-7-1-4.jpg</td>\n",
       "      <td>DMEL</td>\n",
       "      <td>train</td>\n",
       "      <td>/mnt/train/DMEL/1423-0127-16-7-1-4.jpg</td>\n",
       "    </tr>\n",
       "    <tr>\n",
       "      <th>2</th>\n",
       "      <td>3</td>\n",
       "      <td>1423-0127-16-7-1-5.jpg</td>\n",
       "      <td>DMEL</td>\n",
       "      <td>train</td>\n",
       "      <td>/mnt/train/DMEL/1423-0127-16-7-1-5.jpg</td>\n",
       "    </tr>\n",
       "    <tr>\n",
       "      <th>3</th>\n",
       "      <td>4</td>\n",
       "      <td>1423-0127-16-7-1-6.jpg</td>\n",
       "      <td>DMEL</td>\n",
       "      <td>train</td>\n",
       "      <td>/mnt/train/DMEL/1423-0127-16-7-1-6.jpg</td>\n",
       "    </tr>\n",
       "    <tr>\n",
       "      <th>4</th>\n",
       "      <td>5</td>\n",
       "      <td>1423-0127-16-88-1-1.jpg</td>\n",
       "      <td>DMEL</td>\n",
       "      <td>train</td>\n",
       "      <td>/mnt/train/DMEL/1423-0127-16-88-1-1.jpg</td>\n",
       "    </tr>\n",
       "  </tbody>\n",
       "</table>\n",
       "</div>"
      ],
      "text/plain": [
       "   ID                     NAME MODALITY    SET  \\\n",
       "0   1   1423-0127-16-7-1-2.jpg     DMEL  train   \n",
       "1   2   1423-0127-16-7-1-4.jpg     DMEL  train   \n",
       "2   3   1423-0127-16-7-1-5.jpg     DMEL  train   \n",
       "3   4   1423-0127-16-7-1-6.jpg     DMEL  train   \n",
       "4   5  1423-0127-16-88-1-1.jpg     DMEL  train   \n",
       "\n",
       "                                      PATH  \n",
       "0   /mnt/train/DMEL/1423-0127-16-7-1-2.jpg  \n",
       "1   /mnt/train/DMEL/1423-0127-16-7-1-4.jpg  \n",
       "2   /mnt/train/DMEL/1423-0127-16-7-1-5.jpg  \n",
       "3   /mnt/train/DMEL/1423-0127-16-7-1-6.jpg  \n",
       "4  /mnt/train/DMEL/1423-0127-16-88-1-1.jpg  "
      ]
     },
     "execution_count": 23,
     "metadata": {},
     "output_type": "execute_result"
    }
   ],
   "source": [
    "df = pd.read_csv(OUTPUT_PATH)\n",
    "df.head()"
   ]
  },
  {
   "cell_type": "code",
   "execution_count": 26,
   "metadata": {},
   "outputs": [
    {
     "data": {
      "text/plain": [
       "<AxesSubplot:xlabel='MODALITY'>"
      ]
     },
     "execution_count": 26,
     "metadata": {},
     "output_type": "execute_result"
    },
    {
     "data": {
      "image/png": "[encoded data removed]",
      "text/plain": [
       "<Figure size 432x288 with 1 Axes>"
      ]
     },
     "metadata": {
      "needs_background": "light"
     },
     "output_type": "display_data"
    }
   ],
   "source": [
    "df.groupby(['MODALITY'])['ID'].count().plot.bar()"
   ]
  },
  {
   "cell_type": "markdown",
   "metadata": {},
   "source": [
    "## 2. Get normalization values"
   ]
  },
  {
   "cell_type": "code",
   "execution_count": 28,
   "metadata": {},
   "outputs": [
    {
     "data": {
      "text/html": [
       "<div>\n",
       "<style scoped>\n",
       "    .dataframe tbody tr th:only-of-type {\n",
       "        vertical-align: middle;\n",
       "    }\n",
       "\n",
       "    .dataframe tbody tr th {\n",
       "        vertical-align: top;\n",
       "    }\n",
       "\n",
       "    .dataframe thead th {\n",
       "        text-align: right;\n",
       "    }\n",
       "</style>\n",
       "<table border=\"1\" class=\"dataframe\">\n",
       "  <thead>\n",
       "    <tr style=\"text-align: right;\">\n",
       "      <th></th>\n",
       "      <th>ID</th>\n",
       "      <th>NAME</th>\n",
       "      <th>MODALITY</th>\n",
       "      <th>SET</th>\n",
       "      <th>PATH</th>\n",
       "    </tr>\n",
       "  </thead>\n",
       "  <tbody>\n",
       "    <tr>\n",
       "      <th>0</th>\n",
       "      <td>1</td>\n",
       "      <td>1423-0127-16-7-1-2.jpg</td>\n",
       "      <td>DMEL</td>\n",
       "      <td>train</td>\n",
       "      <td>/mnt/train/DMEL/1423-0127-16-7-1-2.jpg</td>\n",
       "    </tr>\n",
       "    <tr>\n",
       "      <th>1</th>\n",
       "      <td>2</td>\n",
       "      <td>1423-0127-16-7-1-4.jpg</td>\n",
       "      <td>DMEL</td>\n",
       "      <td>train</td>\n",
       "      <td>/mnt/train/DMEL/1423-0127-16-7-1-4.jpg</td>\n",
       "    </tr>\n",
       "    <tr>\n",
       "      <th>2</th>\n",
       "      <td>3</td>\n",
       "      <td>1423-0127-16-7-1-5.jpg</td>\n",
       "      <td>DMEL</td>\n",
       "      <td>train</td>\n",
       "      <td>/mnt/train/DMEL/1423-0127-16-7-1-5.jpg</td>\n",
       "    </tr>\n",
       "    <tr>\n",
       "      <th>3</th>\n",
       "      <td>4</td>\n",
       "      <td>1423-0127-16-7-1-6.jpg</td>\n",
       "      <td>DMEL</td>\n",
       "      <td>train</td>\n",
       "      <td>/mnt/train/DMEL/1423-0127-16-7-1-6.jpg</td>\n",
       "    </tr>\n",
       "    <tr>\n",
       "      <th>4</th>\n",
       "      <td>5</td>\n",
       "      <td>1423-0127-16-88-1-1.jpg</td>\n",
       "      <td>DMEL</td>\n",
       "      <td>train</td>\n",
       "      <td>/mnt/train/DMEL/1423-0127-16-88-1-1.jpg</td>\n",
       "    </tr>\n",
       "    <tr>\n",
       "      <th>...</th>\n",
       "      <td>...</td>\n",
       "      <td>...</td>\n",
       "      <td>...</td>\n",
       "      <td>...</td>\n",
       "      <td>...</td>\n",
       "    </tr>\n",
       "    <tr>\n",
       "      <th>1857</th>\n",
       "      <td>1858</td>\n",
       "      <td>gb-2007-8-7-r144-4-10.jpg</td>\n",
       "      <td>DMTR</td>\n",
       "      <td>train</td>\n",
       "      <td>/mnt/train/DMTR/gb-2007-8-7-r144-4-10.jpg</td>\n",
       "    </tr>\n",
       "    <tr>\n",
       "      <th>1858</th>\n",
       "      <td>1859</td>\n",
       "      <td>gb-2007-8-7-r144-4-7.jpg</td>\n",
       "      <td>DMTR</td>\n",
       "      <td>train</td>\n",
       "      <td>/mnt/train/DMTR/gb-2007-8-7-r144-4-7.jpg</td>\n",
       "    </tr>\n",
       "    <tr>\n",
       "      <th>1859</th>\n",
       "      <td>1860</td>\n",
       "      <td>IJBI2010-674582.003-1.jpg</td>\n",
       "      <td>DMTR</td>\n",
       "      <td>train</td>\n",
       "      <td>/mnt/train/DMTR/IJBI2010-674582.003-1.jpg</td>\n",
       "    </tr>\n",
       "    <tr>\n",
       "      <th>1860</th>\n",
       "      <td>1861</td>\n",
       "      <td>IJBI2010-674582.003-2.jpg</td>\n",
       "      <td>DMTR</td>\n",
       "      <td>train</td>\n",
       "      <td>/mnt/train/DMTR/IJBI2010-674582.003-2.jpg</td>\n",
       "    </tr>\n",
       "    <tr>\n",
       "      <th>1861</th>\n",
       "      <td>1862</td>\n",
       "      <td>IJBI2010-674582.003-4.jpg</td>\n",
       "      <td>DMTR</td>\n",
       "      <td>train</td>\n",
       "      <td>/mnt/train/DMTR/IJBI2010-674582.003-4.jpg</td>\n",
       "    </tr>\n",
       "  </tbody>\n",
       "</table>\n",
       "<p>1862 rows × 5 columns</p>\n",
       "</div>"
      ],
      "text/plain": [
       "        ID                       NAME MODALITY    SET  \\\n",
       "0        1     1423-0127-16-7-1-2.jpg     DMEL  train   \n",
       "1        2     1423-0127-16-7-1-4.jpg     DMEL  train   \n",
       "2        3     1423-0127-16-7-1-5.jpg     DMEL  train   \n",
       "3        4     1423-0127-16-7-1-6.jpg     DMEL  train   \n",
       "4        5    1423-0127-16-88-1-1.jpg     DMEL  train   \n",
       "...    ...                        ...      ...    ...   \n",
       "1857  1858  gb-2007-8-7-r144-4-10.jpg     DMTR  train   \n",
       "1858  1859   gb-2007-8-7-r144-4-7.jpg     DMTR  train   \n",
       "1859  1860  IJBI2010-674582.003-1.jpg     DMTR  train   \n",
       "1860  1861  IJBI2010-674582.003-2.jpg     DMTR  train   \n",
       "1861  1862  IJBI2010-674582.003-4.jpg     DMTR  train   \n",
       "\n",
       "                                           PATH  \n",
       "0        /mnt/train/DMEL/1423-0127-16-7-1-2.jpg  \n",
       "1        /mnt/train/DMEL/1423-0127-16-7-1-4.jpg  \n",
       "2        /mnt/train/DMEL/1423-0127-16-7-1-5.jpg  \n",
       "3        /mnt/train/DMEL/1423-0127-16-7-1-6.jpg  \n",
       "4       /mnt/train/DMEL/1423-0127-16-88-1-1.jpg  \n",
       "...                                         ...  \n",
       "1857  /mnt/train/DMTR/gb-2007-8-7-r144-4-10.jpg  \n",
       "1858   /mnt/train/DMTR/gb-2007-8-7-r144-4-7.jpg  \n",
       "1859  /mnt/train/DMTR/IJBI2010-674582.003-1.jpg  \n",
       "1860  /mnt/train/DMTR/IJBI2010-674582.003-2.jpg  \n",
       "1861  /mnt/train/DMTR/IJBI2010-674582.003-4.jpg  \n",
       "\n",
       "[1862 rows x 5 columns]"
      ]
     },
     "execution_count": 28,
     "metadata": {},
     "output_type": "execute_result"
    }
   ],
   "source": [
    "df[df['SET'] == 'train']"
   ]
  },
  {
   "cell_type": "code",
   "execution_count": 30,
   "metadata": {},
   "outputs": [
    {
     "data": {
      "text/plain": [
       "['DMEL', 'DMFL', 'DMLI', 'DMTR']"
      ]
     },
     "execution_count": 30,
     "metadata": {},
     "output_type": "execute_result"
    }
   ],
   "source": [
    "df['MODALITY'].unique().tolist()"
   ]
  },
  {
   "cell_type": "code",
   "execution_count": 32,
   "metadata": {},
   "outputs": [
    {
     "data": {
      "text/plain": [
       "'/mnt/train/DMEL/1423-0127-17-77-3-1.jpg'"
      ]
     },
     "execution_count": 32,
     "metadata": {},
     "output_type": "execute_result"
    }
   ],
   "source": [
    "df.iloc[5, 4]"
   ]
  },
  {
   "cell_type": "code",
   "execution_count": 39,
   "metadata": {},
   "outputs": [
    {
     "data": {
      "text/plain": [
       "3"
      ]
     },
     "execution_count": 39,
     "metadata": {},
     "output_type": "execute_result"
    }
   ],
   "source": [
    "df.index[df['ID']==4][0]"
   ]
  },
  {
   "cell_type": "code",
   "execution_count": null,
   "metadata": {},
   "outputs": [],
   "source": []
  }
 ],
 "metadata": {
  "kernelspec": {
   "display_name": "Python 3",
   "language": "python",
   "name": "python3"
  },
  "language_info": {
   "codemirror_mode": {
    "name": "ipython",
    "version": 3
   },
   "file_extension": ".py",
   "mimetype": "text/x-python",
   "name": "python",
   "nbconvert_exporter": "python",
   "pygments_lexer": "ipython3",
   "version": "3.6.9"
  }
 },
 "nbformat": 4,
 "nbformat_minor": 4
}
