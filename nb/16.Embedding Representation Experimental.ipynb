{
 "cells": [
  {
   "cell_type": "code",
   "execution_count": 1,
   "metadata": {},
   "outputs": [],
   "source": [
    "import os\n",
    "import sys\n",
    "module_path = \"../src\"\n",
    "#os.environ[\"WANDB_SILENT\"] = \"true\" # Environment Variable to make wandb silent\n",
    "if module_path not in sys.path:\n",
    "    sys.path.append(module_path)\n",
    "# 1. General Libraries\n",
    "import pandas as pd\n",
    "import numpy as np\n",
    "from pathlib import Path\n",
    "import yaml\n",
    "import seaborn as sns\n",
    "import matplotlib.pyplot as plt\n",
    "plt.style.use('ggplot')\n",
    "# 2. DataModule & Class Libraries\n",
    "from utils.label_encoder import label_encoder_target\n",
    "from utils.calc_stat import calc_dataset_mean_std\n",
    "from utils.FeatureExtractor import get_vector_representation,prepare_projection\n",
    "from dataset.ImageDataModule import ImageDataModule\n",
    "from dataset.ImageDataset import ImageDataset\n",
    "from models.EfficientNetClass import EfficientNetClass\n",
    "from models.ResNetClass import ResNetClass\n",
    "# 3. Pytorch & Pytorch Lightning Libraries\n",
    "from pytorch_lightning import Trainer,seed_everything\n",
    "from pytorch_lightning.callbacks import LearningRateMonitor\n",
    "from pytorch_lightning.callbacks.early_stopping import EarlyStopping\n",
    "from pytorch_lightning.loggers import WandbLogger\n",
    "import torch\n",
    "# 4. Wandb Tracker Experiements\n",
    "import wandb"
   ]
  },
  {
   "cell_type": "code",
   "execution_count": 13,
   "metadata": {},
   "outputs": [],
   "source": [
    "DATA_PATH = '../data/experimental_dataset.csv'\n",
    "BASE_PATH = Path('/mnt')\n",
    "BASE_IMG_DIR = BASE_PATH\n",
    "SEED = 42\n",
    "model_path = '/mnt/artifacts/models/Experimental/experimental_v1.pt'"
   ]
  },
  {
   "cell_type": "code",
   "execution_count": 14,
   "metadata": {},
   "outputs": [
    {
     "data": {
      "text/html": [
       "<div>\n",
       "<style scoped>\n",
       "    .dataframe tbody tr th:only-of-type {\n",
       "        vertical-align: middle;\n",
       "    }\n",
       "\n",
       "    .dataframe tbody tr th {\n",
       "        vertical-align: top;\n",
       "    }\n",
       "\n",
       "    .dataframe thead th {\n",
       "        text-align: right;\n",
       "    }\n",
       "</style>\n",
       "<table border=\"1\" class=\"dataframe\">\n",
       "  <thead>\n",
       "    <tr style=\"text-align: right;\">\n",
       "      <th></th>\n",
       "      <th>img</th>\n",
       "      <th>modality</th>\n",
       "      <th>source</th>\n",
       "      <th>img_path</th>\n",
       "      <th>higher_modality</th>\n",
       "      <th>split_set</th>\n",
       "    </tr>\n",
       "  </thead>\n",
       "  <tbody>\n",
       "    <tr>\n",
       "      <th>0</th>\n",
       "      <td>1423-0127-16-6-3-1.jpg</td>\n",
       "      <td>GEL</td>\n",
       "      <td>clef16</td>\n",
       "      <td>subfigure-classification/2016/train/GGEL/1423-...</td>\n",
       "      <td>EXPERIMENTAL</td>\n",
       "      <td>VAL</td>\n",
       "    </tr>\n",
       "    <tr>\n",
       "      <th>1</th>\n",
       "      <td>1423-0127-16-6-5-2.jpg</td>\n",
       "      <td>GEL</td>\n",
       "      <td>clef16</td>\n",
       "      <td>subfigure-classification/2016/train/GGEL/1423-...</td>\n",
       "      <td>EXPERIMENTAL</td>\n",
       "      <td>TRAIN</td>\n",
       "    </tr>\n",
       "    <tr>\n",
       "      <th>2</th>\n",
       "      <td>1423-0127-16-6-5-3.jpg</td>\n",
       "      <td>GEL</td>\n",
       "      <td>clef16</td>\n",
       "      <td>subfigure-classification/2016/train/GGEL/1423-...</td>\n",
       "      <td>EXPERIMENTAL</td>\n",
       "      <td>TRAIN</td>\n",
       "    </tr>\n",
       "    <tr>\n",
       "      <th>3</th>\n",
       "      <td>1423-0127-17-22-2-1.jpg</td>\n",
       "      <td>GEL</td>\n",
       "      <td>clef16</td>\n",
       "      <td>subfigure-classification/2016/train/GGEL/1423-...</td>\n",
       "      <td>EXPERIMENTAL</td>\n",
       "      <td>VAL</td>\n",
       "    </tr>\n",
       "    <tr>\n",
       "      <th>4</th>\n",
       "      <td>1423-0127-17-22-2-2.jpg</td>\n",
       "      <td>GEL</td>\n",
       "      <td>clef16</td>\n",
       "      <td>subfigure-classification/2016/train/GGEL/1423-...</td>\n",
       "      <td>EXPERIMENTAL</td>\n",
       "      <td>TRAIN</td>\n",
       "    </tr>\n",
       "  </tbody>\n",
       "</table>\n",
       "</div>"
      ],
      "text/plain": [
       "                       img modality  source  \\\n",
       "0   1423-0127-16-6-3-1.jpg      GEL  clef16   \n",
       "1   1423-0127-16-6-5-2.jpg      GEL  clef16   \n",
       "2   1423-0127-16-6-5-3.jpg      GEL  clef16   \n",
       "3  1423-0127-17-22-2-1.jpg      GEL  clef16   \n",
       "4  1423-0127-17-22-2-2.jpg      GEL  clef16   \n",
       "\n",
       "                                            img_path higher_modality split_set  \n",
       "0  subfigure-classification/2016/train/GGEL/1423-...    EXPERIMENTAL       VAL  \n",
       "1  subfigure-classification/2016/train/GGEL/1423-...    EXPERIMENTAL     TRAIN  \n",
       "2  subfigure-classification/2016/train/GGEL/1423-...    EXPERIMENTAL     TRAIN  \n",
       "3  subfigure-classification/2016/train/GGEL/1423-...    EXPERIMENTAL       VAL  \n",
       "4  subfigure-classification/2016/train/GGEL/1423-...    EXPERIMENTAL     TRAIN  "
      ]
     },
     "execution_count": 14,
     "metadata": {},
     "output_type": "execute_result"
    }
   ],
   "source": [
    "df = pd.read_csv(DATA_PATH, sep='\\t')\n",
    "le_encoder,dict_label = label_encoder_target(df,target_col='higher_modality')\n",
    "df.head()"
   ]
  },
  {
   "cell_type": "code",
   "execution_count": 15,
   "metadata": {},
   "outputs": [
    {
     "name": "stdout",
     "output_type": "stream",
     "text": [
      "*****  Resnet Model Parameters  *****\n",
      "\"class_weights\":   [ 0.51873145 13.84653465]\n",
      "\"fine_tuned_from\": whole\n",
      "\"lr\":              1e-06\n",
      "\"mean_dataset\":    [0.8631029 0.8630955 0.8634109]\n",
      "\"metric_monitor\":  val_avg_loss\n",
      "\"mode_scheduler\":  min\n",
      "\"name\":            resnet18\n",
      "\"num_classes\":     2\n",
      "\"pretrained\":      True\n",
      "\"std_dataset\":     [0.23193271 0.23197891 0.23184325]\n",
      "*****  Resnet Model Children  *****\n",
      "Children Counter:  0  Layer Name:  model\n"
     ]
    }
   ],
   "source": [
    "# 3.1 Load the Resnet Model\n",
    "model = ResNetClass.load_from_checkpoint(model_path)\n",
    "print('*'*5,' Resnet Model Parameters ','*'*5)\n",
    "print(model.hparams)\n",
    "print('*'*5,' Resnet Model Children ','*'*5)\n",
    "children_counter = 0\n",
    "for n,c in model.named_children():\n",
    "    print(\"Children Counter: \",children_counter,\" Layer Name: \",n,)\n",
    "    children_counter+=1"
   ]
  },
  {
   "cell_type": "code",
   "execution_count": 16,
   "metadata": {},
   "outputs": [
    {
     "name": "stdout",
     "output_type": "stream",
     "text": [
      "Feature Vector for training: \n"
     ]
    },
    {
     "data": {
      "application/vnd.jupyter.widget-view+json": {
       "model_id": "7d2bfa908ed049bfa1bc285315aba914",
       "version_major": 2,
       "version_minor": 0
      },
      "text/plain": [
       "HBox(children=(FloatProgress(value=0.0, max=350.0), HTML(value='')))"
      ]
     },
     "metadata": {},
     "output_type": "display_data"
    },
    {
     "name": "stdout",
     "output_type": "stream",
     "text": [
      "\n",
      "Feature Vector for Validation: \n"
     ]
    },
    {
     "data": {
      "application/vnd.jupyter.widget-view+json": {
       "model_id": "9c3904916a8643169520f10b42f7dbcb",
       "version_major": 2,
       "version_minor": 0
      },
      "text/plain": [
       "HBox(children=(FloatProgress(value=0.0, max=88.0), HTML(value='')))"
      ]
     },
     "metadata": {},
     "output_type": "display_data"
    },
    {
     "name": "stdout",
     "output_type": "stream",
     "text": [
      "\n",
      "Feature Vector for Test: \n"
     ]
    },
    {
     "data": {
      "application/vnd.jupyter.widget-view+json": {
       "model_id": "408fb81754794bae8f7556c2735e7ddd",
       "version_major": 2,
       "version_minor": 0
      },
      "text/plain": [
       "HBox(children=(FloatProgress(value=0.0, max=65.0), HTML(value='')))"
      ]
     },
     "metadata": {},
     "output_type": "display_data"
    },
    {
     "name": "stdout",
     "output_type": "stream",
     "text": [
      "\n",
      "***** PCA *****\n",
      "***** UMAP *****\n"
     ]
    }
   ],
   "source": [
    "prepare_projection(model ,le_encoder,DATA_PATH,BASE_IMG_DIR,SEED,CLASSF ='experimental' ,VERSION = 1)"
   ]
  }
 ],
 "metadata": {
  "kernelspec": {
   "display_name": "Python 3",
   "language": "python",
   "name": "python3"
  },
  "language_info": {
   "codemirror_mode": {
    "name": "ipython",
    "version": 3
   },
   "file_extension": ".py",
   "mimetype": "text/x-python",
   "name": "python",
   "nbconvert_exporter": "python",
   "pygments_lexer": "ipython3",
   "version": "3.6.9"
  }
 },
 "nbformat": 4,
 "nbformat_minor": 4
}
