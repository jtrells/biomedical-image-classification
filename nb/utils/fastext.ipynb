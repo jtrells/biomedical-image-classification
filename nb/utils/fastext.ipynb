{
 "cells": [
  {
   "cell_type": "markdown",
   "metadata": {},
   "source": [
    "# Get vectors from fasttext"
   ]
  },
  {
   "cell_type": "code",
   "execution_count": 29,
   "metadata": {},
   "outputs": [],
   "source": [
    "# common recipe to get access to the source inside src\n",
    "import os\n",
    "import sys\n",
    "module_path = os.path.abspath(os.path.join('../../src'))\n",
    "if module_path not in sys.path:\n",
    "    sys.path.append(module_path)\n",
    "##########################################################\n",
    "\n",
    "import numpy as np\n",
    "from pathlib import Path\n",
    "\n",
    "from dataset.MultilabelDataModule import MultilabelDataModule       # pytorch lightning data module for captions and images\n",
    "\n",
    "from dataset.utils import clean_str"
   ]
  },
  {
   "cell_type": "code",
   "execution_count": 30,
   "metadata": {},
   "outputs": [],
   "source": [
    "batch_size = 32\n",
    "csv_path = '/workspace/data/microscopy_captions_multilabel_kfolds.csv'\n",
    "max_length_size = 200\n",
    "num_workers = 72\n",
    "random_state = 443\n",
    "\n",
    "dm = MultilabelDataModule(batch_size,\n",
    "                            csv_path,\n",
    "                            20000,\n",
    "                            max_length_size,\n",
    "                            num_workers=num_workers,\n",
    "                            random_state=random_state,\n",
    "                            kfold_col='KFOLD_MULTI',\n",
    "                            preprocess_fn=clean_str)\n",
    "dm.prepare_data()\n",
    "dm.setup(k_fold_idx=0)"
   ]
  },
  {
   "cell_type": "code",
   "execution_count": 31,
   "metadata": {},
   "outputs": [],
   "source": [
    "import fasttext\n",
    "from gensim.models import KeyedVectors"
   ]
  },
  {
   "cell_type": "code",
   "execution_count": 32,
   "metadata": {},
   "outputs": [],
   "source": [
    "filename = '/workspace/data/biosentvec/BioWordVec_PubMed_MIMICIII_d200.vec.bin'\n",
    "model = KeyedVectors.load_word2vec_format(filename, binary=True)"
   ]
  },
  {
   "cell_type": "code",
   "execution_count": 33,
   "metadata": {},
   "outputs": [
    {
     "data": {
      "text/plain": [
       "16545452"
      ]
     },
     "execution_count": 33,
     "metadata": {},
     "output_type": "execute_result"
    }
   ],
   "source": [
    "len(model.vocab.keys())"
   ]
  },
  {
   "cell_type": "code",
   "execution_count": 35,
   "metadata": {},
   "outputs": [
    {
     "data": {
      "text/plain": [
       "array([ 3.1645e-01,  5.1833e-01,  1.8313e-01, -2.1142e-01, -4.2523e-01,\n",
       "       -2.2111e-01, -5.6964e-01, -1.1693e-01,  1.7035e-01, -7.9470e-02,\n",
       "        1.0547e-01,  5.9332e-02,  1.8595e-01, -1.6181e-01, -5.8722e-02,\n",
       "        4.1653e-01,  5.5877e-02, -2.6572e-01,  3.7170e-01,  1.6127e-01,\n",
       "        3.9789e-01, -4.4439e-02, -5.3040e-01, -4.4360e-01,  3.2300e-02,\n",
       "        2.5166e-01,  1.6691e-01,  1.6848e-01,  3.2593e-01, -1.4861e-01,\n",
       "        4.3974e-01, -6.0691e-02, -4.9867e-01, -4.1572e-01,  4.4453e-02,\n",
       "       -1.3696e-01,  9.0605e-01, -7.0538e-02,  2.0980e-01,  1.9117e-01,\n",
       "       -1.2237e-01,  1.7283e-02,  3.2669e-01, -2.1159e-01, -2.8491e-01,\n",
       "       -1.2638e-01,  5.4470e-01,  2.4571e-01,  5.5708e-02,  2.2276e-01,\n",
       "       -4.2089e-01,  4.1498e-01, -7.3469e-01, -5.2261e-01, -8.1986e-01,\n",
       "       -4.2651e-01, -4.4437e-02, -1.6447e-01, -5.0739e-01, -1.7647e-01,\n",
       "       -3.4589e-01,  3.1612e-01,  1.9247e-01,  6.7935e-03,  7.1029e-01,\n",
       "        1.5427e-01,  3.8743e-01,  3.3396e-01,  2.5345e-01,  4.8358e-01,\n",
       "       -4.7625e-01,  8.5391e-02,  1.7297e-01, -5.2335e-01, -3.6818e-01,\n",
       "       -2.5809e-01, -7.6717e-01,  2.6877e-01, -7.0356e-01, -1.6964e-02,\n",
       "        1.0614e-01, -5.2249e-01,  3.9930e-01, -3.8659e-01, -2.3538e-01,\n",
       "        8.5119e-02, -4.4102e-01, -2.0947e-01,  9.3362e-03, -6.6412e-01,\n",
       "        6.1980e-01,  9.8804e-02,  8.6554e-02, -3.0618e-01, -4.1851e-01,\n",
       "       -6.8513e-01, -8.8187e-02, -1.6273e-01, -9.9556e-02, -4.9301e-01,\n",
       "        3.9551e-01,  1.6705e-01, -4.9077e-01, -2.8550e-01,  6.0664e-01,\n",
       "        1.5254e-01,  3.8003e-02,  5.6892e-01, -1.5841e-01, -2.4122e-01,\n",
       "        1.9365e-01,  5.2901e-01,  1.4535e-01, -3.7391e-01,  7.8096e-02,\n",
       "        1.8839e-04, -2.5451e-01,  7.5147e-02, -4.2920e-01, -3.4102e-01,\n",
       "        9.3387e-02, -2.3561e-02, -2.3829e-01,  5.7050e-01,  1.3583e-01,\n",
       "       -5.3989e-02, -6.7703e-02,  6.7867e-01, -2.0106e-01,  1.7032e-01,\n",
       "        3.1839e-01, -4.5338e-01, -4.1141e-01, -4.5774e-01, -3.4406e-01,\n",
       "       -5.1890e-01,  2.6798e-01,  6.8886e-01,  6.9846e-03,  2.3206e-01,\n",
       "        2.2405e-01,  4.1142e-01,  1.4523e-01,  7.9429e-01,  3.5653e-01,\n",
       "       -1.7236e-01,  8.0838e-01, -5.8654e-01,  6.6901e-03, -1.6616e-01,\n",
       "        4.1042e-01, -3.1636e-02, -9.9526e-02,  1.4521e-01,  3.1390e-02,\n",
       "       -3.8776e-01, -1.6917e-01,  5.1396e-01,  2.2868e-01,  2.9897e-02,\n",
       "       -2.4174e-01, -3.7179e-01,  2.6241e-01,  6.1385e-01,  4.3858e-01,\n",
       "       -2.8670e-01,  1.3773e-01, -5.7620e-02,  7.8625e-02, -4.6950e-01,\n",
       "       -6.1092e-02,  2.4302e-01, -5.9616e-01,  8.3195e-01,  4.6356e-01,\n",
       "        2.6799e-02, -7.1068e-01,  2.0026e-01, -7.1015e-03, -1.7457e-01,\n",
       "       -1.4182e-01,  3.8951e-01,  2.4791e-03,  4.5511e-02,  7.8510e-01,\n",
       "       -9.6966e-01,  3.1392e-01,  4.2292e-01, -4.7890e-01,  1.6112e-01,\n",
       "        5.3024e-02, -6.5288e-01,  3.1255e-01, -5.8512e-02, -4.7468e-01,\n",
       "       -1.0325e-01, -1.4874e-01, -1.7742e-01,  4.2219e-01, -7.5170e-01],\n",
       "      dtype=float32)"
      ]
     },
     "execution_count": 35,
     "metadata": {},
     "output_type": "execute_result"
    }
   ],
   "source": [
    "model['cell']"
   ]
  },
  {
   "cell_type": "code",
   "execution_count": 36,
   "metadata": {},
   "outputs": [],
   "source": [
    "d = model.vocab"
   ]
  },
  {
   "cell_type": "code",
   "execution_count": 37,
   "metadata": {},
   "outputs": [
    {
     "name": "stdout",
     "output_type": "stream",
     "text": [
      "</s>\n",
      ".\n",
      "the\n",
      "of\n",
      ",\n",
      "and\n",
      "in\n",
      ")\n",
      "(\n",
      "to\n",
      "a\n",
      "with\n",
      ":\n",
      "for\n",
      "was\n",
      "is\n",
      "were\n",
      "by\n",
      "that\n",
      "on\n",
      "%\n",
      "as\n",
      "from\n",
      "this\n",
      "patients\n",
      "at\n",
      "or\n",
      "are\n",
      "an\n",
      "be\n",
      "we\n",
      "not\n",
      "study\n",
      "results\n",
      "these\n",
      ";\n",
      "cells\n",
      "no\n",
      "after\n",
      "have\n",
      "which\n",
      "between\n",
      "[\n",
      "]\n",
      "than\n",
      "treatment\n",
      "2\n",
      "p\n",
      "has\n",
      "using\n",
      "but\n",
      "=\n",
      "been\n",
      "cell\n",
      "1\n",
      "during\n",
      "group\n",
      "may\n",
      "it\n",
      "two\n",
      "both\n",
      "also\n",
      "had\n",
      "their\n",
      "can\n",
      "all\n",
      "more\n",
      "disease\n",
      "there\n",
      "clinical\n",
      "used\n",
      "data\n",
      "activity\n",
      "analysis\n",
      "increased\n",
      "other\n",
      "methods\n",
      "effect\n",
      "expression\n",
      "compared\n",
      "protein\n",
      "associated\n",
      "3\n",
      "one\n",
      "effects\n",
      "levels\n",
      "<\n",
      "significant\n",
      "studies\n",
      "significantly\n",
      "patient\n",
      "cancer\n",
      "found\n",
      "human\n",
      "blood\n",
      "its\n",
      "high\n",
      "different\n",
      "showed\n",
      "use\n"
     ]
    }
   ],
   "source": [
    "i = 0\n",
    "for k in d.keys():\n",
    "    print(k)\n",
    "    i += 1\n",
    "    if i == 100:\n",
    "        break"
   ]
  },
  {
   "cell_type": "code",
   "execution_count": 38,
   "metadata": {},
   "outputs": [
    {
     "name": "stdout",
     "output_type": "stream",
     "text": [
      "7018\n"
     ]
    }
   ],
   "source": [
    "word_index = dm.word_index\n",
    "print(len(word_index))"
   ]
  },
  {
   "cell_type": "code",
   "execution_count": 39,
   "metadata": {},
   "outputs": [
    {
     "name": "stdout",
     "output_type": "stream",
     "text": [
      "î¼\n",
      "î²\n",
      "î±\n",
      "ï¿½ï¿½\n",
      "ã\n",
      "â±\n",
      "â\n",
      "amnos\n",
      "î³\n",
      "â°\n",
      "ferrt\n",
      "ã¯\n",
      "palillary\n",
      "î´\n",
      "411575\n",
      "crb87\n",
      "amsoxb2\n",
      "â®\n",
      "hts1103\n",
      "ky535\n",
      "ã¼\n",
      "rm11430\n",
      "pavp22\n",
      "micdys\n",
      "zgak\n",
      "zaux\n",
      "pf7a\n",
      "ä¸\n",
      "î¦\n",
      "54h11\n",
      "dmm3\n",
      "pancrb\n",
      "cg13377\n",
      "5900lv\n",
      "radiographicimage\n",
      "rhabomeres\n",
      "af272341\n",
      "m95526\n",
      "af510728\n",
      "s72864\n",
      "m32754\n",
      "cb997542\n",
      "by303064\n",
      "bi082792\n",
      "bp457576\n",
      "mb162\n",
      "aapearance\n",
      "wtc4\n",
      "evs4\n",
      "bb127\n",
      "em10ca\n",
      "pexii\n",
      "mircrographs\n",
      "meriste\n",
      "35c4\n",
      "95i21\n",
      "476d17\n",
      "f06715\n",
      "rp298\n",
      "siglipr\n",
      "bxd63\n",
      "ps1de9xyfp\n",
      "62.5x\n",
      "mtdag8\n",
      "phenyliondole\n",
      "2000e\n",
      "rhis23\n",
      "âµ\n",
      "384132\n",
      "133475\n",
      "229123\n",
      "151012\n",
      "398791\n",
      "222921\n",
      "314997\n",
      "mucinuous\n",
      "lobul\n",
      "pgch1\n",
      "hapothalamic\n",
      "immnopositive\n",
      "differentiatio\n",
      "coexpressedin\n",
      "250742\n",
      "ã¶\n",
      "cmt931\n",
      "mvtv\n",
      "e997a\n",
      "fosmid1\n",
      "fosmid2\n",
      "fluorosense\n",
      "41002b\n",
      "dylight633\n",
      "41008\n",
      "sat701b001ea\n",
      "dabx400\n",
      "rb1wild\n",
      "rb1arg621cys\n",
      "rb1leu607ile\n",
      "rb1arg698trp\n",
      "hn2b\n",
      "majetich\n",
      "subseros\n",
      "glutaraladehyde\n",
      "ï¿½\n",
      "amsox21\n",
      "calcyx\n",
      "pkkgdk\n",
      "40.2d6\n",
      "coatin\n",
      "megagametophyt\n",
      "porosit\n",
      "xylema\n",
      "polycloonal\n",
      "ë\n",
      "î¸\n",
      "ï\n",
      "ï\n",
      "stepek\n",
      "capscle\n",
      "philophodia\n",
      "mrnatagging\n",
      "ureteras\n",
      "dermi\n",
      "î\n",
      "»\n",
      "mscsg\n",
      "magnificatio\n",
      "dx385\n",
      "trabecul\n",
      "otocyte\n",
      "permissio\n",
      "2842.6\n",
      "3024.5\n",
      "cg32572\n",
      "wtmm4\n",
      "seyd1\n",
      "seyd2\n",
      "î\n",
      "a.f.u\n"
     ]
    },
    {
     "data": {
      "text/plain": [
       "139"
      ]
     },
     "execution_count": 39,
     "metadata": {},
     "output_type": "execute_result"
    }
   ],
   "source": [
    "count = 0\n",
    "for word, idx in word_index.items():\n",
    "    if word not in model:    \n",
    "        print(word)\n",
    "        count += 1\n",
    "count"
   ]
  },
  {
   "cell_type": "code",
   "execution_count": 40,
   "metadata": {},
   "outputs": [
    {
     "data": {
      "text/plain": [
       "(200,)"
      ]
     },
     "execution_count": 40,
     "metadata": {},
     "output_type": "execute_result"
    }
   ],
   "source": [
    "model['cell'].shape"
   ]
  }
 ],
 "metadata": {
  "kernelspec": {
   "display_name": "Python 3",
   "language": "python",
   "name": "python3"
  },
  "language_info": {
   "codemirror_mode": {
    "name": "ipython",
    "version": 3
   },
   "file_extension": ".py",
   "mimetype": "text/x-python",
   "name": "python",
   "nbconvert_exporter": "python",
   "pygments_lexer": "ipython3",
   "version": "3.6.9"
  }
 },
 "nbformat": 4,
 "nbformat_minor": 4
}
