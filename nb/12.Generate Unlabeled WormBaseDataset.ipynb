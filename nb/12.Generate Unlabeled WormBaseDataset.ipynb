{
 "cells": [
  {
   "cell_type": "code",
   "execution_count": 1,
   "metadata": {},
   "outputs": [],
   "source": [
    "import os\n",
    "import sys\n",
    "module_path = \"../src\"\n",
    "import cv2\n",
    "#os.environ[\"WANDB_SILENT\"] = \"true\" # Environment Variable to make wandb silent\n",
    "if module_path not in sys.path:\n",
    "    sys.path.append(module_path)"
   ]
  },
  {
   "cell_type": "code",
   "execution_count": 2,
   "metadata": {},
   "outputs": [],
   "source": [
    "# 1. General Libraries\n",
    "import pandas as pd\n",
    "import numpy as np\n",
    "from pathlib import Path\n",
    "import yaml\n",
    "import csv\n",
    "from tqdm.notebook import tqdm\n",
    "# 2. DataModule & Class Libraries\n",
    "from utils.label_encoder import label_encoder_target\n",
    "from utils.calc_stat import calc_dataset_mean_std\n",
    "from dataset.ImageDataModule import ImageDataModule\n",
    "from dataset.ImageDataset import ImageDataset\n",
    "from models.EfficientNetClass import EfficientNetClass\n",
    "from models.ResNetClass import ResNetClass\n",
    "\n",
    "# 3. Pytorch & Pytorch Lightning Libraries\n",
    "from pytorch_lightning import Trainer,seed_everything\n",
    "from torchvision import transforms\n",
    "from pytorch_lightning.callbacks import LearningRateMonitor\n",
    "from pytorch_lightning.callbacks.early_stopping import EarlyStopping\n",
    "from pytorch_lightning.loggers import WandbLogger\n",
    "from skimage import io\n",
    "from skimage.color import gray2rgb\n",
    "# 4. Wandb Tracker Experiements\n",
    "import wandb\n",
    "import matplotlib.pyplot as plt"
   ]
  },
  {
   "cell_type": "code",
   "execution_count": 3,
   "metadata": {},
   "outputs": [],
   "source": [
    "def generate_csv_newdata(route,extensions =['.jpg','jpge','.png']):\n",
    "    file_list = []\n",
    "    figsplit_paths = [os.path.join(route,i) for i in os.listdir(route) if i.startswith('figsplit_')]\n",
    "    for filepath in tqdm(figsplit_paths):\n",
    "        for root, dirnames, filenames in os.walk(filepath):\n",
    "            for file in filenames:\n",
    "                for ext in extensions:\n",
    "                    if file.endswith(ext):\n",
    "                        file_list.append(os.path.join(root,i))\n",
    "                        print(os.path.join(root,i))\n",
    "    return file_list"
   ]
  },
  {
   "cell_type": "code",
   "execution_count": 4,
   "metadata": {},
   "outputs": [],
   "source": [
    "def write_csv_newdata(route,output_path,extensions =['.jpg','jpge','.png']):\n",
    "    with open(output_path, 'w', newline='') as csvfile:\n",
    "        writer = csv.writer(csvfile)\n",
    "        writer.writerow(['ID', 'img','source', 'img_path'])\n",
    "        count = 1\n",
    "        file_list = []\n",
    "        figsplit_paths = [os.path.join(route,i) for i in os.listdir(route) if i.startswith('figsplit_')]\n",
    "        for filepath in tqdm(figsplit_paths):\n",
    "            for root, dirnames, filenames in os.walk(filepath):\n",
    "                if len(filenames)>0:\n",
    "                    for file in filenames:\n",
    "                        for ext in extensions:\n",
    "                            if file.endswith(ext):\n",
    "                                if len(file)>0:\n",
    "                                    img_path = os.path.join(root,file).replace('/mnt/','')\n",
    "                                    img_name = os.path.join(root,file).replace(route,'').replace('/','_')  \n",
    "                                    img = cv2.imread('/mnt/'+img_path)\n",
    "                                    if img is None:\n",
    "                                        print(img_path)\n",
    "                                    else:\n",
    "                                        row = [count, img_name,'wormbase', img_path]\n",
    "                                        writer.writerow(row)  \n",
    "                                        count += 1"
   ]
  },
  {
   "cell_type": "code",
   "execution_count": 5,
   "metadata": {},
   "outputs": [
    {
     "data": {
      "application/vnd.jupyter.widget-view+json": {
       "model_id": "5959ab10e29446c7965ebb1fc7a8e925",
       "version_major": 2,
       "version_minor": 0
      },
      "text/plain": [
       "HBox(children=(FloatProgress(value=0.0, max=2764.0), HTML(value='')))"
      ]
     },
     "metadata": {},
     "output_type": "display_data"
    },
    {
     "name": "stdout",
     "output_type": "stream",
     "text": [
      "wormbase_output/figsplit_pmid21901112/9_1/002.jpg\n",
      "wormbase_output/figsplit_pmid28056346/10_1/002.jpg\n",
      "wormbase_output/figsplit_pmid22037694/10_1/002.jpg\n",
      "wormbase_output/figsplit_pmid28675140/7_1/006.jpg\n",
      "wormbase_output/figsplit_pmid21558371/7_1/006.jpg\n",
      "\n"
     ]
    }
   ],
   "source": [
    "write_csv_newdata('/mnt/wormbase_output/','../data/wormbase_unlabeled.csv',extensions =['.jpg'])"
   ]
  },
  {
   "cell_type": "code",
   "execution_count": 3,
   "metadata": {},
   "outputs": [
    {
     "data": {
      "application/vnd.jupyter.widget-view+json": {
       "model_id": "5f5fe7bd53b749b29e73f0ccb42e6af3",
       "version_major": 2,
       "version_minor": 0
      },
      "text/plain": [
       "HBox(children=(FloatProgress(value=0.0, max=16616.0), HTML(value='')))"
      ]
     },
     "metadata": {},
     "output_type": "display_data"
    },
    {
     "name": "stdout",
     "output_type": "stream",
     "text": [
      "\n"
     ]
    }
   ],
   "source": [
    "route = '/mnt/allen/cord/output/'\n",
    "extensions  = ['.jpg']\n",
    "output_path = '../data/CORD_19_unlabeled.csv'\n",
    "with open(output_path, 'w', newline='') as csvfile:\n",
    "    writer = csv.writer(csvfile)\n",
    "    writer.writerow(['ID', 'img','source','img_path'])\n",
    "    count = 1\n",
    "    for file_route in tqdm([os.path.join(route,i) for i in os.listdir(route) if i !='.gitignore']):\n",
    "        for folder in os.listdir(file_route):\n",
    "            try :\n",
    "                if (folder.startswith('figsplit')) & (folder.split('_')[1]!='figsplit') & ('pdf' not in folder) :\n",
    "                    for root, dirnames, filenames in os.walk(os.path.join(file_route,folder)):\n",
    "                        if len(filenames)>0:\n",
    "                            for file in filenames:\n",
    "                                for ext in extensions:\n",
    "                                    if file.endswith(ext):\n",
    "                                        if len(file)>0:\n",
    "                                            img_path = os.path.join(root,file).replace('/mnt/','')\n",
    "                                            img_name = os.path.join(root,file).replace(route,'').replace('/','_')  \n",
    "                                            img = cv2.imread('/mnt/'+img_path)\n",
    "                                            if img is None:\n",
    "                                                print('Vacio: ',img_path)\n",
    "                                            else:\n",
    "                                                row = [count,img_name, 'CORD19',img_path]\n",
    "                                                writer.writerow(row)  \n",
    "                                                count += 1\n",
    "            except:\n",
    "                continue"
   ]
  }
 ],
 "metadata": {
  "kernelspec": {
   "display_name": "Python 3",
   "language": "python",
   "name": "python3"
  },
  "language_info": {
   "codemirror_mode": {
    "name": "ipython",
    "version": 3
   },
   "file_extension": ".py",
   "mimetype": "text/x-python",
   "name": "python",
   "nbconvert_exporter": "python",
   "pygments_lexer": "ipython3",
   "version": "3.6.9"
  }
 },
 "nbformat": 4,
 "nbformat_minor": 4
}
