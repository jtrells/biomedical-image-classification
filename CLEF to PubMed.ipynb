{
 "cells": [
  {
   "cell_type": "markdown",
   "metadata": {},
   "source": [
    "# Mapping CLEF codes to PubMed Ids"
   ]
  },
  {
   "cell_type": "markdown",
   "metadata": {},
   "source": [
    "Images from the sub-image classification task from the MedicalCLEF task use a format *ImageId-FigureNumber-SubfigureNumber*. For instance, the sub-figure *1472-6807-6-9-6-1.jpg* is the subfigure 1 from figure 6 from the Image: 1472-6807-6-9. This ImageId is the DOI of the article (doi: 10.1186/1472-6807-6-9, pubmedid: 1508147). We only realized this relationship from a mapping file provided by Dina Demner (*ids.txt*).\n",
    "\n",
    "![sample subfigure](./samples/1472-6807-6-9-6-1.jpg)\n",
    "\n",
    "To access a pubmed article, use the url https://www.ncbi.nlm.nih.gov/pmc/articles/REPLACE_ID/ and replace the *REPLACE_ID* placeholder with a string of format *PMC + pubmedid* (e.g. PMC1508147). Pubmed also provides a faster way to access to the image by appending /figure/FX to the url, where X is the figure number (e.g. https://www.ncbi.nlm.nih.gov/pmc/articles/PMC1508147/figure/F6/). Notice that there is no way to access directly to the sub-figure because it is a compounded figure.\n"
   ]
  },
  {
   "cell_type": "code",
   "execution_count": null,
   "metadata": {},
   "outputs": [],
   "source": []
  }
 ],
 "metadata": {
  "kernelspec": {
   "display_name": "Python 3",
   "language": "python",
   "name": "python3"
  },
  "language_info": {
   "codemirror_mode": {
    "name": "ipython",
    "version": 3
   },
   "file_extension": ".py",
   "mimetype": "text/x-python",
   "name": "python",
   "nbconvert_exporter": "python",
   "pygments_lexer": "ipython3",
   "version": "3.6.7"
  }
 },
 "nbformat": 4,
 "nbformat_minor": 2
}
