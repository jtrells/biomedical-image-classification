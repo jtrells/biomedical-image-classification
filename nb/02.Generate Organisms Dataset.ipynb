{
 "cells": [
  {
   "cell_type": "code",
   "execution_count": 1,
   "metadata": {},
   "outputs": [],
   "source": [
    "import pandas as pd\n",
    "import seaborn as sns\n",
    "import matplotlib.pyplot as plt\n",
    "plt.style.use('ggplot')\n",
    "DATA_PATH = '../data/higher_modality_vol1.csv'"
   ]
  },
  {
   "cell_type": "code",
   "execution_count": 2,
   "metadata": {},
   "outputs": [
    {
     "name": "stdout",
     "output_type": "stream",
     "text": [
      "Number of Images in 'ORGANISMS' class: 3547\n",
      "Number of Images-Train in 'ORGANISMS' class: 2444\n",
      "Number of Images-Val in 'ORGANISMS' class: 612\n",
      "Number of Images-Test in 'ORGANISMS' class: 491\n"
     ]
    }
   ],
   "source": [
    "dict_organisms = {'DRXR':'x-rays',\n",
    "                  'DXMR':'mri/ct',\n",
    "                  'DRCT':'mri/ct',\n",
    "                  'DVDM':'photos',\n",
    "                  'DVEN':'photos',\n",
    "                  'DVOR':'photos',\n",
    "                  'DRUS':'other',\n",
    "                  'DRMR':'other',\n",
    "                  'DRAN':'other',\n",
    "                  'DRPE':'other'\n",
    "                 }\n",
    "\n",
    "df = pd.read_csv(DATA_PATH, sep='\\t')\n",
    "df = df[df['higher_modality']=='ORGANISMS'].reset_index(drop = True)\n",
    "df['modality'] = df['modality'].replace(dict_organisms)\n",
    "df.to_csv('../data/organism_modality.csv',sep = '\\t',index = False)\n",
    "print(f\"Number of Images in 'ORGANISMS' class: {df.shape[0]}\")\n",
    "print(f\"Number of Images-Train in 'ORGANISMS' class: {df[df['split_set'].isin(['TRAIN'])].shape[0]}\")\n",
    "print(f\"Number of Images-Val in 'ORGANISMS' class: {df[df['split_set'].isin(['VAL'])].shape[0]}\")\n",
    "print(f\"Number of Images-Test in 'ORGANISMS' class: {df[df['split_set'].isin(['TEST'])].shape[0]}\")"
   ]
  },
  {
   "cell_type": "code",
   "execution_count": 3,
   "metadata": {},
   "outputs": [
    {
     "name": "stderr",
     "output_type": "stream",
     "text": [
      "/usr/local/lib/python3.6/dist-packages/seaborn/_decorators.py:43: FutureWarning: Pass the following variable as a keyword arg: x. From version 0.12, the only valid positional argument will be `data`, and passing other arguments without an explicit keyword will result in an error or misinterpretation.\n",
      "  FutureWarning\n"
     ]
    },
    {
     "data": {
      "image/png": "[encoded data removed]",
      "text/plain": [
       "<Figure size 432x288 with 1 Axes>"
      ]
     },
     "metadata": {},
     "output_type": "display_data"
    }
   ],
   "source": [
    "sns.countplot(df['modality'])\n",
    "plt.show()"
   ]
  },
  {
   "cell_type": "code",
   "execution_count": 4,
   "metadata": {},
   "outputs": [],
   "source": [
    "df           = pd.read_csv('../data/organism_modality.csv',sep = '\\t')\n",
    "df['target'] = df['modality'].copy()\n",
    "df.to_csv('../data/organism_modality.csv',sep = '\\t')"
   ]
  }
 ],
 "metadata": {
  "kernelspec": {
   "display_name": "Python 3",
   "language": "python",
   "name": "python3"
  },
  "language_info": {
   "codemirror_mode": {
    "name": "ipython",
    "version": 3
   },
   "file_extension": ".py",
   "mimetype": "text/x-python",
   "name": "python",
   "nbconvert_exporter": "python",
   "pygments_lexer": "ipython3",
   "version": "3.6.9"
  }
 },
 "nbformat": 4,
 "nbformat_minor": 4
}
