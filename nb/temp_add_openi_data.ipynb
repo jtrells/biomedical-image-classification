{
 "cells": [
  {
   "cell_type": "code",
   "execution_count": 10,
   "metadata": {},
   "outputs": [],
   "source": [
    "import pandas as pd\n",
    "from pathlib import Path\n",
    "\n",
    "base_folder = Path('/workspace/data/subfigure-classification')\n",
    "folders = {\n",
    "    'OPENI_GRAPHICS': ['GRAPHICS', 'GFIG'],\n",
    "    'OPENI_CT': ['ORGANISMS', 'DRCT'],\n",
    "    'OPENI_MICROSCOPY': ['MICROSCOPY', ''],\n",
    "    'OPENI_MRI': ['ORGANISMS', 'DRMR'],\n",
    "    'OPENI_OTHER': ['OTHER', ''],\n",
    "    'OPENI_ULTRASOUND': ['ORGANISMS', 'DRUS'],\n",
    "    'OPENI_XRAY': ['ORGANISMS', 'DRXR']\n",
    "}"
   ]
  },
  {
   "cell_type": "code",
   "execution_count": 2,
   "metadata": {},
   "outputs": [
    {
     "data": {
      "text/html": [
       "<div>\n",
       "<style scoped>\n",
       "    .dataframe tbody tr th:only-of-type {\n",
       "        vertical-align: middle;\n",
       "    }\n",
       "\n",
       "    .dataframe tbody tr th {\n",
       "        vertical-align: top;\n",
       "    }\n",
       "\n",
       "    .dataframe thead th {\n",
       "        text-align: right;\n",
       "    }\n",
       "</style>\n",
       "<table border=\"1\" class=\"dataframe\">\n",
       "  <thead>\n",
       "    <tr style=\"text-align: right;\">\n",
       "      <th></th>\n",
       "      <th>img</th>\n",
       "      <th>modality</th>\n",
       "      <th>set</th>\n",
       "      <th>source</th>\n",
       "      <th>img_path</th>\n",
       "      <th>higher_modality</th>\n",
       "      <th>caption</th>\n",
       "      <th>split_set</th>\n",
       "    </tr>\n",
       "  </thead>\n",
       "  <tbody>\n",
       "    <tr>\n",
       "      <th>0</th>\n",
       "      <td>11373_2007_9226_Fig1_HTML-10.jpg</td>\n",
       "      <td>DMFL</td>\n",
       "      <td>TRAIN</td>\n",
       "      <td>clef16</td>\n",
       "      <td>2016/train/DMFL/11373_2007_9226_Fig1_HTML-10.jpg</td>\n",
       "      <td>MICROSCOPY</td>\n",
       "      <td>Colocalization of hNopp140, pol I and rDNA rep...</td>\n",
       "      <td>TRAIN</td>\n",
       "    </tr>\n",
       "    <tr>\n",
       "      <th>1</th>\n",
       "      <td>11373_2007_9226_Fig1_HTML-11.jpg</td>\n",
       "      <td>DMFL</td>\n",
       "      <td>TRAIN</td>\n",
       "      <td>clef16</td>\n",
       "      <td>2016/train/DMFL/11373_2007_9226_Fig1_HTML-11.jpg</td>\n",
       "      <td>MICROSCOPY</td>\n",
       "      <td>Colocalization of hNopp140, pol I and rDNA rep...</td>\n",
       "      <td>TRAIN</td>\n",
       "    </tr>\n",
       "    <tr>\n",
       "      <th>2</th>\n",
       "      <td>11373_2007_9226_Fig1_HTML-12.jpg</td>\n",
       "      <td>DMFL</td>\n",
       "      <td>TRAIN</td>\n",
       "      <td>clef16</td>\n",
       "      <td>2016/train/DMFL/11373_2007_9226_Fig1_HTML-12.jpg</td>\n",
       "      <td>MICROSCOPY</td>\n",
       "      <td>Colocalization of hNopp140, pol I and rDNA rep...</td>\n",
       "      <td>TRAIN</td>\n",
       "    </tr>\n",
       "    <tr>\n",
       "      <th>3</th>\n",
       "      <td>11373_2007_9226_Fig1_HTML-13.jpg</td>\n",
       "      <td>DMFL</td>\n",
       "      <td>TRAIN</td>\n",
       "      <td>clef16</td>\n",
       "      <td>2016/train/DMFL/11373_2007_9226_Fig1_HTML-13.jpg</td>\n",
       "      <td>MICROSCOPY</td>\n",
       "      <td>Colocalization of hNopp140, pol I and rDNA rep...</td>\n",
       "      <td>TRAIN</td>\n",
       "    </tr>\n",
       "    <tr>\n",
       "      <th>4</th>\n",
       "      <td>11373_2007_9226_Fig1_HTML-14.jpg</td>\n",
       "      <td>DMFL</td>\n",
       "      <td>TRAIN</td>\n",
       "      <td>clef16</td>\n",
       "      <td>2016/train/DMFL/11373_2007_9226_Fig1_HTML-14.jpg</td>\n",
       "      <td>MICROSCOPY</td>\n",
       "      <td>Colocalization of hNopp140, pol I and rDNA rep...</td>\n",
       "      <td>TRAIN</td>\n",
       "    </tr>\n",
       "  </tbody>\n",
       "</table>\n",
       "</div>"
      ],
      "text/plain": [
       "                                img modality    set  source  \\\n",
       "0  11373_2007_9226_Fig1_HTML-10.jpg     DMFL  TRAIN  clef16   \n",
       "1  11373_2007_9226_Fig1_HTML-11.jpg     DMFL  TRAIN  clef16   \n",
       "2  11373_2007_9226_Fig1_HTML-12.jpg     DMFL  TRAIN  clef16   \n",
       "3  11373_2007_9226_Fig1_HTML-13.jpg     DMFL  TRAIN  clef16   \n",
       "4  11373_2007_9226_Fig1_HTML-14.jpg     DMFL  TRAIN  clef16   \n",
       "\n",
       "                                           img_path higher_modality  \\\n",
       "0  2016/train/DMFL/11373_2007_9226_Fig1_HTML-10.jpg      MICROSCOPY   \n",
       "1  2016/train/DMFL/11373_2007_9226_Fig1_HTML-11.jpg      MICROSCOPY   \n",
       "2  2016/train/DMFL/11373_2007_9226_Fig1_HTML-12.jpg      MICROSCOPY   \n",
       "3  2016/train/DMFL/11373_2007_9226_Fig1_HTML-13.jpg      MICROSCOPY   \n",
       "4  2016/train/DMFL/11373_2007_9226_Fig1_HTML-14.jpg      MICROSCOPY   \n",
       "\n",
       "                                             caption split_set  \n",
       "0  Colocalization of hNopp140, pol I and rDNA rep...     TRAIN  \n",
       "1  Colocalization of hNopp140, pol I and rDNA rep...     TRAIN  \n",
       "2  Colocalization of hNopp140, pol I and rDNA rep...     TRAIN  \n",
       "3  Colocalization of hNopp140, pol I and rDNA rep...     TRAIN  \n",
       "4  Colocalization of hNopp140, pol I and rDNA rep...     TRAIN  "
      ]
     },
     "execution_count": 2,
     "metadata": {},
     "output_type": "execute_result"
    }
   ],
   "source": [
    "original_doc = '/workspace/data/higher_modality.csv'\n",
    "df_original = pd.read_csv(original_doc, sep='\\t')\n",
    "df_original.head()"
   ]
  },
  {
   "cell_type": "code",
   "execution_count": 31,
   "metadata": {},
   "outputs": [],
   "source": [
    "import os\n",
    "rows = []\n",
    "\n",
    "for folder_name in folders.keys():\n",
    "    folder_path = base_folder / folder_name\n",
    "    documents = [x for x in os.listdir(folder_path) if x[-4:] == '.png']\n",
    "    for doc in documents:\n",
    "        rows.append([doc,\n",
    "                     folders[folder_name][1],\n",
    "                     'TRAIN',\n",
    "                     'openi',\n",
    "                     f\"{folder_name}/{doc}\",\n",
    "                     folders[folder_name][0],\n",
    "                     'skipped',\n",
    "                     'TRAIN'])"
   ]
  },
  {
   "cell_type": "code",
   "execution_count": 32,
   "metadata": {},
   "outputs": [],
   "source": [
    "header = ['img', 'modality', 'set', 'source', 'img_path', 'higher_modality', 'caption', 'split_set']\n",
    "rows.insert(0, header)"
   ]
  },
  {
   "cell_type": "code",
   "execution_count": 33,
   "metadata": {},
   "outputs": [],
   "source": [
    "import csv\n",
    "output_csv = '/workspace/data/openi_vol1.csv'\n",
    "with open(output_csv, 'w', newline='') as csvfile:\n",
    "    writer = csv.writer(csvfile, delimiter='\\t')\n",
    "    for row in rows:\n",
    "        writer.writerow(row)"
   ]
  },
  {
   "cell_type": "code",
   "execution_count": 36,
   "metadata": {},
   "outputs": [
    {
     "data": {
      "text/plain": [
       "(14368, 8)"
      ]
     },
     "execution_count": 36,
     "metadata": {},
     "output_type": "execute_result"
    }
   ],
   "source": [
    "df_openi = pd.read_csv(output_csv, sep='\\t')\n",
    "df = pd.concat([df_original, df_openi])\n",
    "df.shape"
   ]
  },
  {
   "cell_type": "code",
   "execution_count": 37,
   "metadata": {
    "scrolled": true
   },
   "outputs": [
    {
     "data": {
      "text/html": [
       "<div>\n",
       "<style scoped>\n",
       "    .dataframe tbody tr th:only-of-type {\n",
       "        vertical-align: middle;\n",
       "    }\n",
       "\n",
       "    .dataframe tbody tr th {\n",
       "        vertical-align: top;\n",
       "    }\n",
       "\n",
       "    .dataframe thead th {\n",
       "        text-align: right;\n",
       "    }\n",
       "</style>\n",
       "<table border=\"1\" class=\"dataframe\">\n",
       "  <thead>\n",
       "    <tr style=\"text-align: right;\">\n",
       "      <th></th>\n",
       "      <th>img</th>\n",
       "      <th>modality</th>\n",
       "      <th>set</th>\n",
       "      <th>source</th>\n",
       "      <th>img_path</th>\n",
       "      <th>higher_modality</th>\n",
       "      <th>caption</th>\n",
       "      <th>split_set</th>\n",
       "    </tr>\n",
       "  </thead>\n",
       "  <tbody>\n",
       "    <tr>\n",
       "      <th>0</th>\n",
       "      <td>PMC4387739_12883_2015_303_Fig2_HTML-19.png</td>\n",
       "      <td>GFIG</td>\n",
       "      <td>TRAIN</td>\n",
       "      <td>openi</td>\n",
       "      <td>OPENI_GRAPHICS/PMC4387739_12883_2015_303_Fig2_...</td>\n",
       "      <td>GRAPHICS</td>\n",
       "      <td>skipped</td>\n",
       "      <td>TRAIN</td>\n",
       "    </tr>\n",
       "    <tr>\n",
       "      <th>1</th>\n",
       "      <td>PMC4387739_12883_2015_303_Fig2_HTML-20.png</td>\n",
       "      <td>GFIG</td>\n",
       "      <td>TRAIN</td>\n",
       "      <td>openi</td>\n",
       "      <td>OPENI_GRAPHICS/PMC4387739_12883_2015_303_Fig2_...</td>\n",
       "      <td>GRAPHICS</td>\n",
       "      <td>skipped</td>\n",
       "      <td>TRAIN</td>\n",
       "    </tr>\n",
       "    <tr>\n",
       "      <th>2</th>\n",
       "      <td>PMC4581556_NP2015-585783.003-2.png</td>\n",
       "      <td>GFIG</td>\n",
       "      <td>TRAIN</td>\n",
       "      <td>openi</td>\n",
       "      <td>OPENI_GRAPHICS/PMC4581556_NP2015-585783.003-2.png</td>\n",
       "      <td>GRAPHICS</td>\n",
       "      <td>skipped</td>\n",
       "      <td>TRAIN</td>\n",
       "    </tr>\n",
       "    <tr>\n",
       "      <th>3</th>\n",
       "      <td>PMC4727788_gr2-2.png</td>\n",
       "      <td>GFIG</td>\n",
       "      <td>TRAIN</td>\n",
       "      <td>openi</td>\n",
       "      <td>OPENI_GRAPHICS/PMC4727788_gr2-2.png</td>\n",
       "      <td>GRAPHICS</td>\n",
       "      <td>skipped</td>\n",
       "      <td>TRAIN</td>\n",
       "    </tr>\n",
       "    <tr>\n",
       "      <th>4</th>\n",
       "      <td>PMC4729030_13000_2016_455_Fig1_HTML-4.png</td>\n",
       "      <td>GFIG</td>\n",
       "      <td>TRAIN</td>\n",
       "      <td>openi</td>\n",
       "      <td>OPENI_GRAPHICS/PMC4729030_13000_2016_455_Fig1_...</td>\n",
       "      <td>GRAPHICS</td>\n",
       "      <td>skipped</td>\n",
       "      <td>TRAIN</td>\n",
       "    </tr>\n",
       "  </tbody>\n",
       "</table>\n",
       "</div>"
      ],
      "text/plain": [
       "                                          img modality    set source  \\\n",
       "0  PMC4387739_12883_2015_303_Fig2_HTML-19.png     GFIG  TRAIN  openi   \n",
       "1  PMC4387739_12883_2015_303_Fig2_HTML-20.png     GFIG  TRAIN  openi   \n",
       "2          PMC4581556_NP2015-585783.003-2.png     GFIG  TRAIN  openi   \n",
       "3                        PMC4727788_gr2-2.png     GFIG  TRAIN  openi   \n",
       "4   PMC4729030_13000_2016_455_Fig1_HTML-4.png     GFIG  TRAIN  openi   \n",
       "\n",
       "                                            img_path higher_modality  caption  \\\n",
       "0  OPENI_GRAPHICS/PMC4387739_12883_2015_303_Fig2_...        GRAPHICS  skipped   \n",
       "1  OPENI_GRAPHICS/PMC4387739_12883_2015_303_Fig2_...        GRAPHICS  skipped   \n",
       "2  OPENI_GRAPHICS/PMC4581556_NP2015-585783.003-2.png        GRAPHICS  skipped   \n",
       "3                OPENI_GRAPHICS/PMC4727788_gr2-2.png        GRAPHICS  skipped   \n",
       "4  OPENI_GRAPHICS/PMC4729030_13000_2016_455_Fig1_...        GRAPHICS  skipped   \n",
       "\n",
       "  split_set  \n",
       "0     TRAIN  \n",
       "1     TRAIN  \n",
       "2     TRAIN  \n",
       "3     TRAIN  \n",
       "4     TRAIN  "
      ]
     },
     "execution_count": 37,
     "metadata": {},
     "output_type": "execute_result"
    }
   ],
   "source": [
    "df_openi.head()"
   ]
  },
  {
   "cell_type": "code",
   "execution_count": 38,
   "metadata": {},
   "outputs": [
    {
     "data": {
      "text/plain": [
       "array(['GRAPHICS', 'ORGANISMS', 'MICROSCOPY', 'OTHER'], dtype=object)"
      ]
     },
     "execution_count": 38,
     "metadata": {},
     "output_type": "execute_result"
    }
   ],
   "source": [
    "df_openi.higher_modality.unique()"
   ]
  },
  {
   "cell_type": "code",
   "execution_count": 40,
   "metadata": {},
   "outputs": [],
   "source": [
    "from sklearn.preprocessing import LabelEncoder\n",
    "from sklearn.model_selection import train_test_split\n",
    "\n",
    "random_state = 443\n",
    "\n",
    "df_train = df[df.set == 'TRAIN']\n",
    "X = df_train.img.values\n",
    "\n",
    "y = df_train.higher_modality.values\n",
    "le = LabelEncoder()\n",
    "le.fit(y)\n",
    "y_ = le.transform(y)\n",
    "\n",
    "X_train, X_test, y_train, y_test = train_test_split(X, y_, test_size=0.2, random_state=random_state, stratify=y_)\n",
    "\n",
    "def get_split_set(x, set_name):\n",
    "    if set_name == 'TEST': return 'TEST'\n",
    "    if x in X_train:\n",
    "        return 'TRAIN'\n",
    "    else: return 'VAL'\n",
    "    \n",
    "df.loc[:, 'split_set'] = df.apply(lambda x: get_split_set(x.img, x.set), axis=1)\n"
   ]
  },
  {
   "cell_type": "code",
   "execution_count": 42,
   "metadata": {},
   "outputs": [],
   "source": [
    "output_path = '/workspace/data/higher_modality_vol1.csv'\n",
    "df.to_csv(output_path, sep='\\t', index=False)"
   ]
  },
  {
   "cell_type": "code",
   "execution_count": null,
   "metadata": {},
   "outputs": [],
   "source": []
  }
 ],
 "metadata": {
  "kernelspec": {
   "display_name": "Python 3",
   "language": "python",
   "name": "python3"
  },
  "language_info": {
   "codemirror_mode": {
    "name": "ipython",
    "version": 3
   },
   "file_extension": ".py",
   "mimetype": "text/x-python",
   "name": "python",
   "nbconvert_exporter": "python",
   "pygments_lexer": "ipython3",
   "version": "3.6.9"
  }
 },
 "nbformat": 4,
 "nbformat_minor": 4
}
