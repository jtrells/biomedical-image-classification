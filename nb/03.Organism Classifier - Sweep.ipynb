{
 "cells": [
  {
   "cell_type": "markdown",
   "metadata": {},
   "source": [
    "# Organisms Classifier\n",
    "\n",
    "+ In this notebook we could observe the use of the EfficientNet,ResNet Class, Data Augmentation and Weight & Bias tracker. Also the sweep function is available in order to tune the hyperparameters od the model (using Grid, Random or Bayes)"
   ]
  },
  {
   "cell_type": "code",
   "execution_count": 1,
   "metadata": {},
   "outputs": [],
   "source": [
    "import os\n",
    "import sys\n",
    "module_path = \"../src\"\n",
    "#os.environ[\"WANDB_SILENT\"] = \"true\" # Environment Variable to make wandb silent\n",
    "if module_path not in sys.path:\n",
    "    sys.path.append(module_path)"
   ]
  },
  {
   "cell_type": "code",
   "execution_count": 2,
   "metadata": {},
   "outputs": [],
   "source": [
    "# 1. General Libraries\n",
    "import pandas as pd\n",
    "import numpy as np\n",
    "from pathlib import Path\n",
    "import yaml\n",
    "# 2. DataModule & Class Libraries\n",
    "from utils.label_encoder import label_encoder_target\n",
    "from utils.calc_stat import calc_dataset_mean_std\n",
    "from dataset.ImageDataModule import ImageDataModule\n",
    "from dataset.ImageDataset import ImageDataset\n",
    "from models.EfficientNetClass import EfficientNetClass\n",
    "from models.ResNetClass import ResNetClass\n",
    "\n",
    "# 3. Pytorch & Pytorch Lightning Libraries\n",
    "from pytorch_lightning import Trainer,seed_everything\n",
    "from torchvision import transforms\n",
    "from pytorch_lightning.callbacks import LearningRateMonitor,ModelCheckpoint\n",
    "from pytorch_lightning.callbacks.early_stopping import EarlyStopping\n",
    "from pytorch_lightning.loggers import WandbLogger\n",
    "import torch\n",
    "# 4. Wandb Tracker Experiements\n",
    "import wandb"
   ]
  },
  {
   "cell_type": "markdown",
   "metadata": {},
   "source": [
    "### 2. General Variables\n",
    " Here we stablish some general variables that will be used in all the experiements.In this case we will have less general variables because we will tune some of them using the sweep api.For example:\n",
    " + SEED           : Seed in order to ensure reproducibility\n",
    " + PROJECT        : Name of the project\n",
    " + NUM_WORKERS    : Number of workers in the cluster\n",
    " + METRIC_MONITOR : Metric that will be monitor in the sweep api"
   ]
  },
  {
   "cell_type": "code",
   "execution_count": 3,
   "metadata": {},
   "outputs": [
    {
     "name": "stdout",
     "output_type": "stream",
     "text": [
      "My base path is /mnt\n",
      "The given dataset is located here: ../data/organism_modality.csv\n",
      "Let's use this folder: /mnt/artifacts/experiments to save our artifacts.\n"
     ]
    }
   ],
   "source": [
    "BASE_PATH = Path('/mnt')\n",
    "print(f\"My base path is {BASE_PATH}\")\n",
    "DATA_PATH = '../data/organism_modality.csv'\n",
    "print(f\"The given dataset is located here: {DATA_PATH}\")\n",
    "OUTPUT_DIR = Path('/mnt/artifacts/experiments/')\n",
    "print(f\"Let's use this folder: {OUTPUT_DIR} to save our artifacts.\")\n",
    "BASE_IMG_DIR = BASE_PATH / 'subfigure-classification'       # the image path in the CSV file are relative to this directory\n",
    "NAME_OUTPUT  = 'organisms_v1'\n",
    "EXTENSION      = '.pt'\n",
    "MODE = 'min'"
   ]
  },
  {
   "cell_type": "code",
   "execution_count": 4,
   "metadata": {},
   "outputs": [
    {
     "name": "stdout",
     "output_type": "stream",
     "text": [
      "Let's use this folder /mnt/artifacts/experiments/Biomedical-Image-Classification-Organisms to save our sweep iterations\n"
     ]
    }
   ],
   "source": [
    "SEED = 42 \n",
    "seed_everything(42)\n",
    "PROJECT = 'Biomedical-Image-Classification-Organisms'\n",
    "NUM_WORKERS = 72 # workers on the cluster, normally 2 or 4 on a laptop\n",
    "METRIC_MONITOR = \"val_avg_loss\"\n",
    "OUTPUT_PROJECT = OUTPUT_DIR/PROJECT\n",
    "print(f\"Let's use this folder {OUTPUT_PROJECT} to save our sweep iterations\")\n",
    "os.makedirs(OUTPUT_PROJECT, exist_ok=True) # Check if it is false"
   ]
  },
  {
   "cell_type": "markdown",
   "metadata": {},
   "source": [
    "### 3. Reading the Data & Label Encoding Classes\n",
    "In this step, we read the csv file and apply a label encoder to the classes in order to run the classifier"
   ]
  },
  {
   "cell_type": "code",
   "execution_count": 5,
   "metadata": {},
   "outputs": [
    {
     "data": {
      "text/html": [
       "<div>\n",
       "<style scoped>\n",
       "    .dataframe tbody tr th:only-of-type {\n",
       "        vertical-align: middle;\n",
       "    }\n",
       "\n",
       "    .dataframe tbody tr th {\n",
       "        vertical-align: top;\n",
       "    }\n",
       "\n",
       "    .dataframe thead th {\n",
       "        text-align: right;\n",
       "    }\n",
       "</style>\n",
       "<table border=\"1\" class=\"dataframe\">\n",
       "  <thead>\n",
       "    <tr style=\"text-align: right;\">\n",
       "      <th></th>\n",
       "      <th>img</th>\n",
       "      <th>modality</th>\n",
       "      <th>set</th>\n",
       "      <th>source</th>\n",
       "      <th>img_path</th>\n",
       "      <th>higher_modality</th>\n",
       "      <th>caption</th>\n",
       "      <th>split_set</th>\n",
       "    </tr>\n",
       "  </thead>\n",
       "  <tbody>\n",
       "    <tr>\n",
       "      <th>0</th>\n",
       "      <td>12178_2008_9027_Fig4_HTML-1.jpg</td>\n",
       "      <td>x-rays</td>\n",
       "      <td>TRAIN</td>\n",
       "      <td>clef16</td>\n",
       "      <td>2016/train/DRXR/12178_2008_9027_Fig4_HTML-1.jpg</td>\n",
       "      <td>ORGANISMS</td>\n",
       "      <td>( a ) This anteroposterior radiograph demonstr...</td>\n",
       "      <td>TRAIN</td>\n",
       "    </tr>\n",
       "    <tr>\n",
       "      <th>1</th>\n",
       "      <td>12178_2008_9027_Fig4_HTML-2.jpg</td>\n",
       "      <td>x-rays</td>\n",
       "      <td>TRAIN</td>\n",
       "      <td>clef16</td>\n",
       "      <td>2016/train/DRXR/12178_2008_9027_Fig4_HTML-2.jpg</td>\n",
       "      <td>ORGANISMS</td>\n",
       "      <td>( a ) This anteroposterior radiograph demonstr...</td>\n",
       "      <td>VAL</td>\n",
       "    </tr>\n",
       "    <tr>\n",
       "      <th>2</th>\n",
       "      <td>12178_2008_9027_Fig4_HTML-3.jpg</td>\n",
       "      <td>x-rays</td>\n",
       "      <td>TRAIN</td>\n",
       "      <td>clef16</td>\n",
       "      <td>2016/train/DRXR/12178_2008_9027_Fig4_HTML-3.jpg</td>\n",
       "      <td>ORGANISMS</td>\n",
       "      <td>( a ) This anteroposterior radiograph demonstr...</td>\n",
       "      <td>TRAIN</td>\n",
       "    </tr>\n",
       "    <tr>\n",
       "      <th>3</th>\n",
       "      <td>12178_2009_9056_Fig9_HTML-1.jpg</td>\n",
       "      <td>other</td>\n",
       "      <td>TRAIN</td>\n",
       "      <td>clef16</td>\n",
       "      <td>2016/train/DRUS/12178_2009_9056_Fig9_HTML-1.jpg</td>\n",
       "      <td>ORGANISMS</td>\n",
       "      <td>CTS patient #4. Longitudinal view of the media...</td>\n",
       "      <td>VAL</td>\n",
       "    </tr>\n",
       "    <tr>\n",
       "      <th>4</th>\n",
       "      <td>12178_2009_9056_Fig9_HTML-2.jpg</td>\n",
       "      <td>other</td>\n",
       "      <td>TRAIN</td>\n",
       "      <td>clef16</td>\n",
       "      <td>2016/train/DRUS/12178_2009_9056_Fig9_HTML-2.jpg</td>\n",
       "      <td>ORGANISMS</td>\n",
       "      <td>CTS patient #4. Longitudinal view of the media...</td>\n",
       "      <td>TRAIN</td>\n",
       "    </tr>\n",
       "  </tbody>\n",
       "</table>\n",
       "</div>"
      ],
      "text/plain": [
       "                               img modality    set  source  \\\n",
       "0  12178_2008_9027_Fig4_HTML-1.jpg   x-rays  TRAIN  clef16   \n",
       "1  12178_2008_9027_Fig4_HTML-2.jpg   x-rays  TRAIN  clef16   \n",
       "2  12178_2008_9027_Fig4_HTML-3.jpg   x-rays  TRAIN  clef16   \n",
       "3  12178_2009_9056_Fig9_HTML-1.jpg    other  TRAIN  clef16   \n",
       "4  12178_2009_9056_Fig9_HTML-2.jpg    other  TRAIN  clef16   \n",
       "\n",
       "                                          img_path higher_modality  \\\n",
       "0  2016/train/DRXR/12178_2008_9027_Fig4_HTML-1.jpg       ORGANISMS   \n",
       "1  2016/train/DRXR/12178_2008_9027_Fig4_HTML-2.jpg       ORGANISMS   \n",
       "2  2016/train/DRXR/12178_2008_9027_Fig4_HTML-3.jpg       ORGANISMS   \n",
       "3  2016/train/DRUS/12178_2009_9056_Fig9_HTML-1.jpg       ORGANISMS   \n",
       "4  2016/train/DRUS/12178_2009_9056_Fig9_HTML-2.jpg       ORGANISMS   \n",
       "\n",
       "                                             caption split_set  \n",
       "0  ( a ) This anteroposterior radiograph demonstr...     TRAIN  \n",
       "1  ( a ) This anteroposterior radiograph demonstr...       VAL  \n",
       "2  ( a ) This anteroposterior radiograph demonstr...     TRAIN  \n",
       "3  CTS patient #4. Longitudinal view of the media...       VAL  \n",
       "4  CTS patient #4. Longitudinal view of the media...     TRAIN  "
      ]
     },
     "execution_count": 5,
     "metadata": {},
     "output_type": "execute_result"
    }
   ],
   "source": [
    "df = pd.read_csv(DATA_PATH, sep='\\t')\n",
    "le_encoder_organisms,dict_label = label_encoder_target(df,target_col = 'modality')\n",
    "df.head()"
   ]
  },
  {
   "cell_type": "code",
   "execution_count": 6,
   "metadata": {},
   "outputs": [
    {
     "data": {
      "text/plain": [
       "{'mri/ct': 0, 'other': 1, 'photos': 2, 'x-rays': 3}"
      ]
     },
     "execution_count": 6,
     "metadata": {},
     "output_type": "execute_result"
    }
   ],
   "source": [
    "dict_label"
   ]
  },
  {
   "cell_type": "code",
   "execution_count": 7,
   "metadata": {},
   "outputs": [
    {
     "data": {
      "application/vnd.jupyter.widget-view+json": {
       "model_id": "10318b093b8e4273952d3766a4ae514e",
       "version_major": 2,
       "version_minor": 0
      },
      "text/plain": [
       "HBox(children=(FloatProgress(value=0.0, max=77.0), HTML(value='')))"
      ]
     },
     "metadata": {},
     "output_type": "display_data"
    },
    {
     "name": "stdout",
     "output_type": "stream",
     "text": [
      "\n"
     ]
    },
    {
     "data": {
      "application/vnd.jupyter.widget-view+json": {
       "model_id": "86a780b5c4e14c5fb638c694a3e28efb",
       "version_major": 2,
       "version_minor": 0
      },
      "text/plain": [
       "HBox(children=(FloatProgress(value=0.0, max=77.0), HTML(value='')))"
      ]
     },
     "metadata": {},
     "output_type": "display_data"
    },
    {
     "name": "stdout",
     "output_type": "stream",
     "text": [
      "\n",
      "Mean:  tensor([0.3699, 0.3653, 0.3616])\n",
      "Std :  tensor([0.2935, 0.2881, 0.2884])\n"
     ]
    }
   ],
   "source": [
    "transform_list = [\n",
    "            transforms.ToPILImage(),\n",
    "            transforms.Resize((224, 224)),\n",
    "            transforms.ToTensor(),\n",
    "]\n",
    "transform  = transforms.Compose(transform_list)\n",
    "train_dataset   = ImageDataset   (DATA_PATH,\n",
    "                                  le_encoder_organisms,\n",
    "                                  str(BASE_IMG_DIR),\n",
    "                                  'TRAIN',\n",
    "                                  image_transform=transform,\n",
    "                                  label_name='modality',\n",
    "                                  target_class_col='split_set',\n",
    "                                  path_col='img_path')\n",
    "mean, std =calc_dataset_mean_std(train_dataset, batch_size=32, num_workers=NUM_WORKERS)\n",
    "print(f\"Mean:  {mean}\")\n",
    "print(f\"Std :  {std}\")"
   ]
  },
  {
   "cell_type": "markdown",
   "metadata": {},
   "source": [
    "## 4. Sweep Runing"
   ]
  },
  {
   "cell_type": "code",
   "execution_count": 8,
   "metadata": {},
   "outputs": [],
   "source": [
    "# Image Transformations\n",
    "# 1.1 Train Transformations\n",
    "train_transform = [\n",
    "                    transforms.ToPILImage(),\n",
    "                    transforms.Resize((256, 256)),\n",
    "                    transforms.RandomHorizontalFlip(p=0.5),\n",
    "                    transforms.RandomRotation(15),\n",
    "                    transforms.CenterCrop((224,224)),\n",
    "                    transforms.ToTensor(),\n",
    "                    transforms.Normalize(mean.numpy(), std.numpy())\n",
    "                ]\n",
    "train_transform  = transforms.Compose(train_transform )\n",
    "\n",
    "# 1.2 Valid Transformations\n",
    "val_transform = [\n",
    "                transforms.ToPILImage(),\n",
    "                transforms.Resize((224, 224)),\n",
    "                transforms.ToTensor(),\n",
    "                transforms.Normalize(mean.numpy(),std.numpy())\n",
    "                ]\n",
    "val_transform = transforms.Compose(val_transform)\n",
    "\n",
    "# 1.3 Test Transformations\n",
    "test_transform = [\n",
    "                  transforms.ToPILImage(),\n",
    "                  transforms.Resize((224, 224)),\n",
    "                  transforms.ToTensor(),\n",
    "                  transforms.Normalize(mean.numpy(),std.numpy())\n",
    "                  ]\n",
    "test_transform = transforms.Compose(test_transform)"
   ]
  },
  {
   "cell_type": "code",
   "execution_count": 9,
   "metadata": {},
   "outputs": [
    {
     "name": "stdout",
     "output_type": "stream",
     "text": [
      "PROJECT NAME: Biomedical-Image-Classification-Organisms\n",
      "Metric Monitor: val_avg_loss\n"
     ]
    }
   ],
   "source": [
    "print(f\"PROJECT NAME: {PROJECT}\")\n",
    "print(f\"Metric Monitor: {METRIC_MONITOR}\")"
   ]
  },
  {
   "cell_type": "markdown",
   "metadata": {},
   "source": [
    "### 4.1 ResnetClassfifier"
   ]
  },
  {
   "cell_type": "code",
   "execution_count": 10,
   "metadata": {},
   "outputs": [],
   "source": [
    "sweep_config = {\n",
    "  \"method\": \"grid\",   # Random search\n",
    "  \"metric\": {           # We want to maximize val_acc\n",
    "      \"name\": METRIC_MONITOR, # Used accuracy\n",
    "      \"goal\": \"minimize\"\n",
    "  },\n",
    "  \"parameters\": {\n",
    "        \"lr\": {\n",
    "            # log uniform distribution between exp(min) and exp(max)\n",
    "            \"distribution\": \"categorical\",\n",
    "            \"values\" : [0.00001]\n",
    "        },\n",
    "        \"fine_tuned_from\":{\n",
    "            \"distribution\": \"categorical\",\n",
    "            \"values\" : [\"whole\"]\n",
    "        },\n",
    "        \"name\":{\n",
    "            \"distribution\": \"categorical\",\n",
    "            \"values\" : [\"resnet152\"]\n",
    "        },\n",
    "        \"batch_size\":{\n",
    "            \"distribution\": \"categorical\",\n",
    "            \"values\" : [32]\n",
    "            \n",
    "        }\n",
    "      \n",
    "    }\n",
    "}"
   ]
  },
  {
   "cell_type": "code",
   "execution_count": 11,
   "metadata": {},
   "outputs": [
    {
     "name": "stdout",
     "output_type": "stream",
     "text": [
      "Create sweep with ID: xop0cci9\n",
      "Sweep URL: https://wandb.ai/williamberrios/Biomedical-Image-Classification-Organisms/sweeps/xop0cci9\n"
     ]
    }
   ],
   "source": [
    "sweep_id = wandb.sweep(sweep_config, project=PROJECT)"
   ]
  },
  {
   "cell_type": "code",
   "execution_count": 12,
   "metadata": {},
   "outputs": [],
   "source": [
    "OUTPUT_SWEEP = OUTPUT_PROJECT / sweep_id\n",
    "os.makedirs(OUTPUT_SWEEP, exist_ok=False) # Check if it is false\n",
    "with open(OUTPUT_SWEEP / 'sweep_config.yml', 'w') as outfile:\n",
    "    yaml.dump(sweep_config, outfile, default_flow_style=False)"
   ]
  },
  {
   "cell_type": "code",
   "execution_count": 13,
   "metadata": {},
   "outputs": [],
   "source": [
    "def sweep_iteration():\n",
    "    # set up W&B logger\n",
    "    wandb.init()    # required to have access to `wandb.config`\n",
    "    wandb_logger =  WandbLogger(project=PROJECT, tags=['nb', 'higher-modality'],reinit = True)\n",
    "    wandb_logger.experiment.save()\n",
    "    print(f\"Name of the Experiment: {wandb_logger.experiment.name}\")\n",
    "    output_run_path = OUTPUT_SWEEP / wandb_logger.experiment.name \n",
    "    os.makedirs(output_run_path, exist_ok=False) # Check if it is false\n",
    "    print(output_run_path/(NAME_OUTPUT + EXTENSION))\n",
    "    # setup data\n",
    "    dm = ImageDataModule( batch_size       = wandb.config.batch_size,\n",
    "                          label_encoder    = le_encoder_organisms,\n",
    "                          data_path        = str(DATA_PATH), \n",
    "                          base_img_dir     = str(BASE_IMG_DIR),\n",
    "                          seed             = SEED,   \n",
    "                          image_transforms = [train_transform,val_transform,test_transform],\n",
    "                          num_workers      = NUM_WORKERS,\n",
    "                          target_class_col ='split_set',\n",
    "                          modality_col     ='modality',\n",
    "                          path_col         ='img_path')\n",
    "    dm.prepare_data()\n",
    "    dm.setup()\n",
    "    dm.set_seed()\n",
    "    # Callbacks\n",
    "    lr_monitor = LearningRateMonitor(logging_interval='epoch')\n",
    "    \n",
    "    early_stop_callback = EarlyStopping(\n",
    "        monitor=METRIC_MONITOR,\n",
    "        min_delta=0.0,\n",
    "        patience=5,\n",
    "        verbose=True,\n",
    "        mode=MODE\n",
    "    )\n",
    "    \n",
    "    checkpoint_callback = ModelCheckpoint(dirpath    = output_run_path,\n",
    "                                          filename   = NAME_OUTPUT,\n",
    "                                          monitor    = METRIC_MONITOR,\n",
    "                                          mode       = MODE,\n",
    "                                          save_top_k = 1)\n",
    "\n",
    "    checkpoint_callback.FILE_EXTENSION = EXTENSION\n",
    "    # setup model - note how we refer to sweep parameters with wandb.config\n",
    "    num_classes = len(df.modality.unique())\n",
    "    print(f\"Num_Classes {num_classes}\")\n",
    "    model = ResNetClass(      name            = wandb.config.name,\n",
    "                              num_classes     = num_classes,\n",
    "                              pretrained      = True,\n",
    "                              fine_tuned_from = wandb.config.fine_tuned_from,\n",
    "                              lr              = wandb.config.lr,\n",
    "                              metric_monitor  = METRIC_MONITOR,\n",
    "                              mode_scheduler  = MODE,\n",
    "                              class_weights   = dm.class_weights,\n",
    "                              mean_dataset    = mean.numpy(),\n",
    "                              std_dataset     = std.numpy())\n",
    "    \n",
    "    # setup Trainer\n",
    "    trainer = Trainer(gpus=1,\n",
    "                  max_epochs=100,                  \n",
    "                  callbacks=[early_stop_callback,lr_monitor,checkpoint_callback],\n",
    "                  deterministic= True,\n",
    "                  logger=wandb_logger,\n",
    "                  num_sanity_val_steps=0)\n",
    "\n",
    "    # train\n",
    "    trainer.fit(model, dm)\n",
    "    # Get testS metric\n",
    "    del model\n",
    "    model = ResNetClass.load_from_checkpoint(output_run_path/(NAME_OUTPUT + EXTENSION))\n",
    "    trainer.test(model, test_dataloaders=dm.val_dataloader())\n",
    "    del model,trainer\n",
    "    torch.cuda.empty_cache() \n",
    "    wandb.finish()"
   ]
  },
  {
   "cell_type": "code",
   "execution_count": 14,
   "metadata": {},
   "outputs": [
    {
     "name": "stderr",
     "output_type": "stream",
     "text": [
      "\u001b[34m\u001b[1mwandb\u001b[0m: Agent Starting Run: c343hmcw with config:\n",
      "\u001b[34m\u001b[1mwandb\u001b[0m: \tbatch_size: 32\n",
      "\u001b[34m\u001b[1mwandb\u001b[0m: \tfine_tuned_from: whole\n",
      "\u001b[34m\u001b[1mwandb\u001b[0m: \tlr: 1e-05\n",
      "\u001b[34m\u001b[1mwandb\u001b[0m: \tname: resnet152\n",
      "\u001b[34m\u001b[1mwandb\u001b[0m: Currently logged in as: \u001b[33mwilliamberrios\u001b[0m (use `wandb login --relogin` to force relogin)\n",
      "\u001b[34m\u001b[1mwandb\u001b[0m: wandb version 0.10.22 is available!  To upgrade, please run:\n",
      "\u001b[34m\u001b[1mwandb\u001b[0m:  $ pip install wandb --upgrade\n"
     ]
    },
    {
     "data": {
      "text/html": [
       "\n",
       "                Tracking run with wandb version 0.10.13<br/>\n",
       "                Syncing run <strong style=\"color:#cdcd00\">scarlet-sweep-1</strong> to <a href=\"https://wandb.ai\" target=\"_blank\">Weights & Biases</a> <a href=\"https://docs.wandb.com/integrations/jupyter.html\" target=\"_blank\">(Documentation)</a>.<br/>\n",
       "                Project page: <a href=\"https://wandb.ai/williamberrios/Biomedical-Image-Classification-Organisms\" target=\"_blank\">https://wandb.ai/williamberrios/Biomedical-Image-Classification-Organisms</a><br/>\n",
       "                Sweep page: <a href=\"https://wandb.ai/williamberrios/Biomedical-Image-Classification-Organisms/sweeps/xop0cci9\" target=\"_blank\">https://wandb.ai/williamberrios/Biomedical-Image-Classification-Organisms/sweeps/xop0cci9</a><br/>\n",
       "Run page: <a href=\"https://wandb.ai/williamberrios/Biomedical-Image-Classification-Organisms/runs/c343hmcw\" target=\"_blank\">https://wandb.ai/williamberrios/Biomedical-Image-Classification-Organisms/runs/c343hmcw</a><br/>\n",
       "                Run data is saved locally in <code>/workspace/biomedical-image-classification/nb/wandb/run-20210315_235328-c343hmcw</code><br/><br/>\n",
       "            "
      ],
      "text/plain": [
       "<IPython.core.display.HTML object>"
      ]
     },
     "metadata": {},
     "output_type": "display_data"
    },
    {
     "name": "stderr",
     "output_type": "stream",
     "text": [
      "\u001b[34m\u001b[1mwandb\u001b[0m: \u001b[33mWARNING\u001b[0m Calling run.save without any arguments is deprecated.Changes to attributes are automatically persisted.\n"
     ]
    },
    {
     "name": "stdout",
     "output_type": "stream",
     "text": [
      "Name of the Experiment: scarlet-sweep-1\n",
      "/mnt/artifacts/experiments/Biomedical-Image-Classification-Organisms/xop0cci9/scarlet-sweep-1/organisms_v1.pt\n",
      "Num_Classes 4\n"
     ]
    },
    {
     "name": "stderr",
     "output_type": "stream",
     "text": [
      "GPU available: True, used: True\n",
      "TPU available: None, using: 0 TPU cores\n",
      "LOCAL_RANK: 0 - CUDA_VISIBLE_DEVICES: [0]\n",
      "\u001b[34m\u001b[1mwandb\u001b[0m: \u001b[33mWARNING\u001b[0m Config item 'name' was locked by 'sweep' (ignored update).\n",
      "\u001b[34m\u001b[1mwandb\u001b[0m: \u001b[33mWARNING\u001b[0m Config item 'fine_tuned_from' was locked by 'sweep' (ignored update).\n",
      "\u001b[34m\u001b[1mwandb\u001b[0m: \u001b[33mWARNING\u001b[0m Config item 'lr' was locked by 'sweep' (ignored update).\n",
      "\n",
      "  | Name  | Type   | Params\n",
      "---------------------------------\n",
      "0 | model | ResNet | 58.2 M\n",
      "---------------------------------\n",
      "58.2 M    Trainable params\n",
      "0         Non-trainable params\n",
      "58.2 M    Total params\n"
     ]
    },
    {
     "data": {
      "application/vnd.jupyter.widget-view+json": {
       "model_id": "d49c693a70104ff6949ae7d33b8dc9d0",
       "version_major": 2,
       "version_minor": 0
      },
      "text/plain": [
       "HBox(children=(FloatProgress(value=1.0, bar_style='info', description='Training', layout=Layout(flex='2'), max…"
      ]
     },
     "metadata": {},
     "output_type": "display_data"
    },
    {
     "data": {
      "application/vnd.jupyter.widget-view+json": {
       "model_id": "",
       "version_major": 2,
       "version_minor": 0
      },
      "text/plain": [
       "HBox(children=(FloatProgress(value=1.0, bar_style='info', description='Validating', layout=Layout(flex='2'), m…"
      ]
     },
     "metadata": {},
     "output_type": "display_data"
    },
    {
     "data": {
      "application/vnd.jupyter.widget-view+json": {
       "model_id": "",
       "version_major": 2,
       "version_minor": 0
      },
      "text/plain": [
       "HBox(children=(FloatProgress(value=1.0, bar_style='info', description='Validating', layout=Layout(flex='2'), m…"
      ]
     },
     "metadata": {},
     "output_type": "display_data"
    },
    {
     "data": {
      "application/vnd.jupyter.widget-view+json": {
       "model_id": "",
       "version_major": 2,
       "version_minor": 0
      },
      "text/plain": [
       "HBox(children=(FloatProgress(value=1.0, bar_style='info', description='Validating', layout=Layout(flex='2'), m…"
      ]
     },
     "metadata": {},
     "output_type": "display_data"
    },
    {
     "data": {
      "application/vnd.jupyter.widget-view+json": {
       "model_id": "",
       "version_major": 2,
       "version_minor": 0
      },
      "text/plain": [
       "HBox(children=(FloatProgress(value=1.0, bar_style='info', description='Validating', layout=Layout(flex='2'), m…"
      ]
     },
     "metadata": {},
     "output_type": "display_data"
    },
    {
     "data": {
      "application/vnd.jupyter.widget-view+json": {
       "model_id": "",
       "version_major": 2,
       "version_minor": 0
      },
      "text/plain": [
       "HBox(children=(FloatProgress(value=1.0, bar_style='info', description='Validating', layout=Layout(flex='2'), m…"
      ]
     },
     "metadata": {},
     "output_type": "display_data"
    },
    {
     "data": {
      "application/vnd.jupyter.widget-view+json": {
       "model_id": "",
       "version_major": 2,
       "version_minor": 0
      },
      "text/plain": [
       "HBox(children=(FloatProgress(value=1.0, bar_style='info', description='Validating', layout=Layout(flex='2'), m…"
      ]
     },
     "metadata": {},
     "output_type": "display_data"
    },
    {
     "data": {
      "application/vnd.jupyter.widget-view+json": {
       "model_id": "",
       "version_major": 2,
       "version_minor": 0
      },
      "text/plain": [
       "HBox(children=(FloatProgress(value=1.0, bar_style='info', description='Validating', layout=Layout(flex='2'), m…"
      ]
     },
     "metadata": {},
     "output_type": "display_data"
    },
    {
     "data": {
      "application/vnd.jupyter.widget-view+json": {
       "model_id": "",
       "version_major": 2,
       "version_minor": 0
      },
      "text/plain": [
       "HBox(children=(FloatProgress(value=1.0, bar_style='info', description='Validating', layout=Layout(flex='2'), m…"
      ]
     },
     "metadata": {},
     "output_type": "display_data"
    },
    {
     "data": {
      "application/vnd.jupyter.widget-view+json": {
       "model_id": "",
       "version_major": 2,
       "version_minor": 0
      },
      "text/plain": [
       "HBox(children=(FloatProgress(value=1.0, bar_style='info', description='Validating', layout=Layout(flex='2'), m…"
      ]
     },
     "metadata": {},
     "output_type": "display_data"
    },
    {
     "name": "stdout",
     "output_type": "stream",
     "text": [
      "Epoch     9: reducing learning rate of group 0 to 1.0000e-06.\n"
     ]
    },
    {
     "data": {
      "application/vnd.jupyter.widget-view+json": {
       "model_id": "",
       "version_major": 2,
       "version_minor": 0
      },
      "text/plain": [
       "HBox(children=(FloatProgress(value=1.0, bar_style='info', description='Validating', layout=Layout(flex='2'), m…"
      ]
     },
     "metadata": {},
     "output_type": "display_data"
    },
    {
     "name": "stdout",
     "output_type": "stream",
     "text": [
      "\n"
     ]
    },
    {
     "name": "stderr",
     "output_type": "stream",
     "text": [
      "\u001b[34m\u001b[1mwandb\u001b[0m: \u001b[33mWARNING\u001b[0m Config item 'name' was locked by 'sweep' (ignored update).\n",
      "\u001b[34m\u001b[1mwandb\u001b[0m: \u001b[33mWARNING\u001b[0m Config item 'fine_tuned_from' was locked by 'sweep' (ignored update).\n",
      "\u001b[34m\u001b[1mwandb\u001b[0m: \u001b[33mWARNING\u001b[0m Config item 'lr' was locked by 'sweep' (ignored update).\n"
     ]
    },
    {
     "data": {
      "application/vnd.jupyter.widget-view+json": {
       "model_id": "1a9326e9b5914158b839138b6b380b88",
       "version_major": 2,
       "version_minor": 0
      },
      "text/plain": [
       "HBox(children=(FloatProgress(value=1.0, bar_style='info', description='Testing', layout=Layout(flex='2'), max=…"
      ]
     },
     "metadata": {},
     "output_type": "display_data"
    },
    {
     "name": "stdout",
     "output_type": "stream",
     "text": [
      "Accuracy: 95.09803771972656\n",
      "              precision    recall  f1-score   support\n",
      "\n",
      "         0.0       0.94      0.96      0.95       155\n",
      "         1.0       0.93      0.95      0.94       216\n",
      "         2.0       1.00      1.00      1.00        50\n",
      "         3.0       0.97      0.93      0.95       191\n",
      "\n",
      "    accuracy                           0.95       612\n",
      "   macro avg       0.96      0.96      0.96       612\n",
      "weighted avg       0.95      0.95      0.95       612\n",
      "\n",
      "\n",
      "--------------------------------------------------------------------------------\n",
      "DATALOADER:0 TEST RESULTS\n",
      "{'Balanced Accuracy': 0.9605753923573971,\n",
      " 'Macro F1-Score': 0.9604442457816728,\n",
      " 'Macro Precision': 0.9605618652123881,\n",
      " 'Macro Recall': 0.9605753923573971,\n",
      " 'test_acc': tensor(95.0980, device='cuda:0'),\n",
      " 'test_loss': tensor(0.1785, device='cuda:0')}\n",
      "--------------------------------------------------------------------------------\n"
     ]
    },
    {
     "data": {
      "text/html": [
       "<br/>Waiting for W&B process to finish, PID 69207<br/>Program ended successfully."
      ],
      "text/plain": [
       "<IPython.core.display.HTML object>"
      ]
     },
     "metadata": {},
     "output_type": "display_data"
    },
    {
     "data": {
      "application/vnd.jupyter.widget-view+json": {
       "model_id": "",
       "version_major": 2,
       "version_minor": 0
      },
      "text/plain": [
       "VBox(children=(Label(value=' 0.01MB of 0.01MB uploaded (0.00MB deduped)\\r'), FloatProgress(value=1.0, max=1.0)…"
      ]
     },
     "metadata": {},
     "output_type": "display_data"
    },
    {
     "data": {
      "text/html": [
       "Find user logs for this run at: <code>/workspace/biomedical-image-classification/nb/wandb/run-20210315_235328-c343hmcw/logs/debug.log</code>"
      ],
      "text/plain": [
       "<IPython.core.display.HTML object>"
      ]
     },
     "metadata": {},
     "output_type": "display_data"
    },
    {
     "data": {
      "text/html": [
       "Find internal logs for this run at: <code>/workspace/biomedical-image-classification/nb/wandb/run-20210315_235328-c343hmcw/logs/debug-internal.log</code>"
      ],
      "text/plain": [
       "<IPython.core.display.HTML object>"
      ]
     },
     "metadata": {},
     "output_type": "display_data"
    },
    {
     "data": {
      "text/html": [
       "<h3>Run summary:</h3><br/><style>\n",
       "    table.wandb td:nth-child(1) { padding: 0 10px; text-align: right }\n",
       "    </style><table class=\"wandb\">\n",
       "<tr><td>lr-Adam</td><td>0.0</td></tr><tr><td>_step</td><td>1539</td></tr><tr><td>_runtime</td><td>450</td></tr><tr><td>_timestamp</td><td>1615852859</td></tr><tr><td>val_acc</td><td>94.60784</td></tr><tr><td>val_avg_loss</td><td>0.19164</td></tr><tr><td>epoch</td><td>9</td></tr><tr><td>train_acc</td><td>98.81342</td></tr><tr><td>train_avg_loss</td><td>0.03885</td></tr><tr><td>test_acc</td><td>95.09804</td></tr><tr><td>test_loss</td><td>0.17846</td></tr><tr><td>Macro F1-Score</td><td>0.96044</td></tr><tr><td>Balanced Accuracy</td><td>0.96058</td></tr><tr><td>Macro Recall</td><td>0.96058</td></tr><tr><td>Macro Precision</td><td>0.96056</td></tr></table>"
      ],
      "text/plain": [
       "<IPython.core.display.HTML object>"
      ]
     },
     "metadata": {},
     "output_type": "display_data"
    },
    {
     "data": {
      "text/html": [
       "<h3>Run history:</h3><br/><style>\n",
       "    table.wandb td:nth-child(1) { padding: 0 10px; text-align: right }\n",
       "    </style><table class=\"wandb\">\n",
       "<tr><td>lr-Adam</td><td>█████████▁</td></tr><tr><td>_step</td><td>▁▁▁▂▂▂▂▂▂▃▃▃▃▃▃▄▄▄▄▄█</td></tr><tr><td>_runtime</td><td>▁▁▂▂▃▃▃▃▄▄▅▅▆▆▆▆▇▇███</td></tr><tr><td>_timestamp</td><td>▁▁▂▂▃▃▃▃▄▄▅▅▆▆▆▆▇▇███</td></tr><tr><td>val_acc</td><td>▁▅▆▇██▆▇▇▇</td></tr><tr><td>val_avg_loss</td><td>█▃▂▁▁▁▁▁▁▁</td></tr><tr><td>epoch</td><td>▁▂▃▃▄▅▆▆▇██</td></tr><tr><td>train_acc</td><td>▁▆▇▇▇█████</td></tr><tr><td>train_avg_loss</td><td>█▄▃▂▂▁▁▁▁▁</td></tr><tr><td>test_acc</td><td>▁</td></tr><tr><td>test_loss</td><td>▁</td></tr><tr><td>Macro F1-Score</td><td>▁</td></tr><tr><td>Balanced Accuracy</td><td>▁</td></tr><tr><td>Macro Recall</td><td>▁</td></tr><tr><td>Macro Precision</td><td>▁</td></tr></table><br/>"
      ],
      "text/plain": [
       "<IPython.core.display.HTML object>"
      ]
     },
     "metadata": {},
     "output_type": "display_data"
    },
    {
     "data": {
      "text/html": [
       "Synced 5 W&B file(s), 1 media file(s), 0 artifact file(s) and 0 other file(s)"
      ],
      "text/plain": [
       "<IPython.core.display.HTML object>"
      ]
     },
     "metadata": {},
     "output_type": "display_data"
    },
    {
     "data": {
      "text/html": [
       "\n",
       "                    <br/>Synced <strong style=\"color:#cdcd00\">scarlet-sweep-1</strong>: <a href=\"https://wandb.ai/williamberrios/Biomedical-Image-Classification-Organisms/runs/c343hmcw\" target=\"_blank\">https://wandb.ai/williamberrios/Biomedical-Image-Classification-Organisms/runs/c343hmcw</a><br/>\n",
       "                "
      ],
      "text/plain": [
       "<IPython.core.display.HTML object>"
      ]
     },
     "metadata": {},
     "output_type": "display_data"
    },
    {
     "name": "stderr",
     "output_type": "stream",
     "text": [
      "\u001b[34m\u001b[1mwandb\u001b[0m: Sweep Agent: Waiting for job.\n",
      "\u001b[34m\u001b[1mwandb\u001b[0m: Sweep Agent: Exiting.\n"
     ]
    },
    {
     "data": {
      "image/png": "[encoded data removed]",
      "text/plain": [
       "<Figure size 288x288 with 2 Axes>"
      ]
     },
     "metadata": {
      "needs_background": "light"
     },
     "output_type": "display_data"
    }
   ],
   "source": [
    "wandb.agent(sweep_id, function=sweep_iteration);"
   ]
  },
  {
   "cell_type": "code",
   "execution_count": 15,
   "metadata": {},
   "outputs": [],
   "source": [
    "cp /mnt/artifacts/experiments/Biomedical-Image-Classification-Organisms/xop0cci9/scarlet-sweep-1/organisms_v1.pt /mnt/artifacts/models/Organisms/"
   ]
  },
  {
   "cell_type": "markdown",
   "metadata": {},
   "source": [
    "## 5. Testing"
   ]
  },
  {
   "cell_type": "code",
   "execution_count": 16,
   "metadata": {},
   "outputs": [],
   "source": [
    "model_path = '/mnt/artifacts/models/Organisms/organisms_v1.pt'\n",
    "# setup data\n",
    "dm = ImageDataModule( batch_size           = 32,\n",
    "                          label_encoder    = le_encoder_organisms,\n",
    "                          data_path        = str(DATA_PATH), \n",
    "                          base_img_dir     = str(BASE_IMG_DIR),\n",
    "                          seed             = SEED,   \n",
    "                          image_transforms = [train_transform,val_transform,test_transform],\n",
    "                          num_workers      = NUM_WORKERS,\n",
    "                          target_class_col ='split_set',\n",
    "                          modality_col     ='modality',\n",
    "                          path_col         ='img_path')\n",
    "dm.prepare_data()\n",
    "dm.setup()\n",
    "dm.set_seed()"
   ]
  },
  {
   "cell_type": "code",
   "execution_count": 17,
   "metadata": {},
   "outputs": [
    {
     "name": "stderr",
     "output_type": "stream",
     "text": [
      "GPU available: True, used: True\n",
      "TPU available: None, using: 0 TPU cores\n",
      "LOCAL_RANK: 0 - CUDA_VISIBLE_DEVICES: [0]\n"
     ]
    },
    {
     "data": {
      "application/vnd.jupyter.widget-view+json": {
       "model_id": "0d081384a9724d6eaa9c8b9a0bcafc7b",
       "version_major": 2,
       "version_minor": 0
      },
      "text/plain": [
       "HBox(children=(FloatProgress(value=1.0, bar_style='info', description='Testing', layout=Layout(flex='2'), max=…"
      ]
     },
     "metadata": {},
     "output_type": "display_data"
    },
    {
     "name": "stdout",
     "output_type": "stream",
     "text": [
      "Accuracy: 91.03870391845703\n",
      "              precision    recall  f1-score   support\n",
      "\n",
      "         0.0       0.83      0.96      0.89        71\n",
      "         1.0       0.99      0.91      0.95       364\n",
      "         2.0       0.80      0.95      0.87        38\n",
      "         3.0       0.39      0.67      0.49        18\n",
      "\n",
      "    accuracy                           0.91       491\n",
      "   macro avg       0.75      0.87      0.80       491\n",
      "weighted avg       0.93      0.91      0.92       491\n",
      "\n",
      "\n",
      "--------------------------------------------------------------------------------\n",
      "DATALOADER:0 TEST RESULTS\n",
      "{'Balanced Accuracy': 0.8702805564832992,\n",
      " 'Macro F1-Score': 0.7989848696849687,\n",
      " 'Macro Precision': 0.7525897652176173,\n",
      " 'Macro Recall': 0.8702805564832992,\n",
      " 'test_acc': tensor(91.0387, device='cuda:0'),\n",
      " 'test_loss': tensor(0.2414, device='cuda:0')}\n",
      "--------------------------------------------------------------------------------\n"
     ]
    },
    {
     "data": {
      "text/plain": [
       "[{'test_acc': 91.03870391845703,\n",
       "  'test_loss': 0.24139726161956787,\n",
       "  'Macro F1-Score': 0.7989848696849687,\n",
       "  'Balanced Accuracy': 0.8702805564832992,\n",
       "  'Macro Recall': 0.8702805564832992,\n",
       "  'Macro Precision': 0.7525897652176173}]"
      ]
     },
     "execution_count": 17,
     "metadata": {},
     "output_type": "execute_result"
    },
    {
     "data": {
      "image/png": "[encoded data removed]",
      "text/plain": [
       "<Figure size 288x288 with 2 Axes>"
      ]
     },
     "metadata": {
      "needs_background": "light"
     },
     "output_type": "display_data"
    }
   ],
   "source": [
    "model = ResNetClass.load_from_checkpoint(model_path)\n",
    "trainer = Trainer(gpus=1, logger=None)\n",
    "trainer.test(model, test_dataloaders=dm.test_dataloader())"
   ]
  }
 ],
 "metadata": {
  "kernelspec": {
   "display_name": "Python 3",
   "language": "python",
   "name": "python3"
  },
  "language_info": {
   "codemirror_mode": {
    "name": "ipython",
    "version": 3
   },
   "file_extension": ".py",
   "mimetype": "text/x-python",
   "name": "python",
   "nbconvert_exporter": "python",
   "pygments_lexer": "ipython3",
   "version": "3.6.9"
  }
 },
 "nbformat": 4,
 "nbformat_minor": 4
}
