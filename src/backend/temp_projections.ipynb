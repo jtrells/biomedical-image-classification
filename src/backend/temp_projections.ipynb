{
 "cells": [
  {
   "cell_type": "code",
   "execution_count": 1,
   "metadata": {},
   "outputs": [],
   "source": [
    "import os\n",
    "import sys\n",
    "module_path = \"../../src\"\n",
    "if module_path not in sys.path:\n",
    "    sys.path.append(module_path)"
   ]
  },
  {
   "cell_type": "code",
   "execution_count": 21,
   "metadata": {},
   "outputs": [],
   "source": [
    "import pandas as pd\n",
    "import numpy as np\n",
    "from pathlib import Path\n",
    "from models.ResNetClass import ResNetClass\n",
    "from utils.label_encoder import label_encoder_target\n",
    "\n",
    "from torchvision import transforms\n",
    "from dataset.ImageDataModule import ImageDataModule\n",
    "from utils.FeatureExtractor import ResNetFeatureExtractor,get_vector_representation"
   ]
  },
  {
   "cell_type": "code",
   "execution_count": 3,
   "metadata": {},
   "outputs": [],
   "source": [
    "SEED = 42"
   ]
  },
  {
   "cell_type": "code",
   "execution_count": 15,
   "metadata": {},
   "outputs": [
    {
     "data": {
      "text/html": [
       "<div>\n",
       "<style scoped>\n",
       "    .dataframe tbody tr th:only-of-type {\n",
       "        vertical-align: middle;\n",
       "    }\n",
       "\n",
       "    .dataframe tbody tr th {\n",
       "        vertical-align: top;\n",
       "    }\n",
       "\n",
       "    .dataframe thead th {\n",
       "        text-align: right;\n",
       "    }\n",
       "</style>\n",
       "<table border=\"1\" class=\"dataframe\">\n",
       "  <thead>\n",
       "    <tr style=\"text-align: right;\">\n",
       "      <th></th>\n",
       "      <th>img</th>\n",
       "      <th>modality</th>\n",
       "      <th>set</th>\n",
       "      <th>source</th>\n",
       "      <th>img_path</th>\n",
       "      <th>higher_modality</th>\n",
       "      <th>caption</th>\n",
       "      <th>split_set</th>\n",
       "    </tr>\n",
       "  </thead>\n",
       "  <tbody>\n",
       "    <tr>\n",
       "      <th>0</th>\n",
       "      <td>11373_2007_9226_Fig1_HTML-10.jpg</td>\n",
       "      <td>DMFL</td>\n",
       "      <td>TRAIN</td>\n",
       "      <td>clef16</td>\n",
       "      <td>2016/train/DMFL/11373_2007_9226_Fig1_HTML-10.jpg</td>\n",
       "      <td>MICROSCOPY</td>\n",
       "      <td>Colocalization of hNopp140, pol I and rDNA rep...</td>\n",
       "      <td>TRAIN</td>\n",
       "    </tr>\n",
       "    <tr>\n",
       "      <th>1</th>\n",
       "      <td>11373_2007_9226_Fig1_HTML-11.jpg</td>\n",
       "      <td>DMFL</td>\n",
       "      <td>TRAIN</td>\n",
       "      <td>clef16</td>\n",
       "      <td>2016/train/DMFL/11373_2007_9226_Fig1_HTML-11.jpg</td>\n",
       "      <td>MICROSCOPY</td>\n",
       "      <td>Colocalization of hNopp140, pol I and rDNA rep...</td>\n",
       "      <td>TRAIN</td>\n",
       "    </tr>\n",
       "    <tr>\n",
       "      <th>2</th>\n",
       "      <td>11373_2007_9226_Fig1_HTML-12.jpg</td>\n",
       "      <td>DMFL</td>\n",
       "      <td>TRAIN</td>\n",
       "      <td>clef16</td>\n",
       "      <td>2016/train/DMFL/11373_2007_9226_Fig1_HTML-12.jpg</td>\n",
       "      <td>MICROSCOPY</td>\n",
       "      <td>Colocalization of hNopp140, pol I and rDNA rep...</td>\n",
       "      <td>TRAIN</td>\n",
       "    </tr>\n",
       "    <tr>\n",
       "      <th>3</th>\n",
       "      <td>11373_2007_9226_Fig1_HTML-13.jpg</td>\n",
       "      <td>DMFL</td>\n",
       "      <td>TRAIN</td>\n",
       "      <td>clef16</td>\n",
       "      <td>2016/train/DMFL/11373_2007_9226_Fig1_HTML-13.jpg</td>\n",
       "      <td>MICROSCOPY</td>\n",
       "      <td>Colocalization of hNopp140, pol I and rDNA rep...</td>\n",
       "      <td>TRAIN</td>\n",
       "    </tr>\n",
       "    <tr>\n",
       "      <th>4</th>\n",
       "      <td>11373_2007_9226_Fig1_HTML-14.jpg</td>\n",
       "      <td>DMFL</td>\n",
       "      <td>TRAIN</td>\n",
       "      <td>clef16</td>\n",
       "      <td>2016/train/DMFL/11373_2007_9226_Fig1_HTML-14.jpg</td>\n",
       "      <td>MICROSCOPY</td>\n",
       "      <td>Colocalization of hNopp140, pol I and rDNA rep...</td>\n",
       "      <td>TRAIN</td>\n",
       "    </tr>\n",
       "  </tbody>\n",
       "</table>\n",
       "</div>"
      ],
      "text/plain": [
       "                                img modality    set  source  \\\n",
       "0  11373_2007_9226_Fig1_HTML-10.jpg     DMFL  TRAIN  clef16   \n",
       "1  11373_2007_9226_Fig1_HTML-11.jpg     DMFL  TRAIN  clef16   \n",
       "2  11373_2007_9226_Fig1_HTML-12.jpg     DMFL  TRAIN  clef16   \n",
       "3  11373_2007_9226_Fig1_HTML-13.jpg     DMFL  TRAIN  clef16   \n",
       "4  11373_2007_9226_Fig1_HTML-14.jpg     DMFL  TRAIN  clef16   \n",
       "\n",
       "                                           img_path higher_modality  \\\n",
       "0  2016/train/DMFL/11373_2007_9226_Fig1_HTML-10.jpg      MICROSCOPY   \n",
       "1  2016/train/DMFL/11373_2007_9226_Fig1_HTML-11.jpg      MICROSCOPY   \n",
       "2  2016/train/DMFL/11373_2007_9226_Fig1_HTML-12.jpg      MICROSCOPY   \n",
       "3  2016/train/DMFL/11373_2007_9226_Fig1_HTML-13.jpg      MICROSCOPY   \n",
       "4  2016/train/DMFL/11373_2007_9226_Fig1_HTML-14.jpg      MICROSCOPY   \n",
       "\n",
       "                                             caption split_set  \n",
       "0  Colocalization of hNopp140, pol I and rDNA rep...     TRAIN  \n",
       "1  Colocalization of hNopp140, pol I and rDNA rep...     TRAIN  \n",
       "2  Colocalization of hNopp140, pol I and rDNA rep...     TRAIN  \n",
       "3  Colocalization of hNopp140, pol I and rDNA rep...     TRAIN  \n",
       "4  Colocalization of hNopp140, pol I and rDNA rep...     TRAIN  "
      ]
     },
     "execution_count": 15,
     "metadata": {},
     "output_type": "execute_result"
    }
   ],
   "source": [
    "DATA_PATH = '../../data/higher_modality_vol1.csv'\n",
    "df = pd.read_csv(DATA_PATH, sep='\\t')\n",
    "le_encoder,dict_label = label_encoder_target(df,target_col='higher_modality')\n",
    "df.head()"
   ]
  },
  {
   "cell_type": "code",
   "execution_count": 46,
   "metadata": {},
   "outputs": [],
   "source": [
    "from os import path\n",
    "import pandas as pd\n",
    "\n",
    "PROJECTIONS = '/mnt/artifacts/projections'\n",
    "CLASSIFIERS = '/mnt/artifacts/classifiers'"
   ]
  },
  {
   "cell_type": "code",
   "execution_count": 44,
   "metadata": {},
   "outputs": [],
   "source": [
    "def fetch_projection(classifier, version, projection):\n",
    "    file_name = f\"{classifier}_{version}.csv\"\n",
    "    file_path = path.join(PROJECTIONS, file_name)\n",
    "    print(file_path)"
   ]
  },
  {
   "cell_type": "code",
   "execution_count": 45,
   "metadata": {},
   "outputs": [
    {
     "name": "stdout",
     "output_type": "stream",
     "text": [
      "/mnt/artifacts/projections/test_v1.csv\n"
     ]
    }
   ],
   "source": [
    "fetch_projection(\"test\", \"v1\", \"umap\")"
   ]
  },
  {
   "cell_type": "code",
   "execution_count": 53,
   "metadata": {},
   "outputs": [],
   "source": [
    "def file2json(file_path, projection):\n",
    "    df = pd.read_csv(file_path)\n",
    "    x = f\"{projection}_0\"\n",
    "    y = f\"{projection}_1\"\n",
    "    df = df[df[\"img\", x, y]]\n",
    "    return df.to_json(orient=\"records\")"
   ]
  },
  {
   "cell_type": "code",
   "execution_count": 87,
   "metadata": {},
   "outputs": [
    {
     "data": {
      "text/html": [
       "<div>\n",
       "<style scoped>\n",
       "    .dataframe tbody tr th:only-of-type {\n",
       "        vertical-align: middle;\n",
       "    }\n",
       "\n",
       "    .dataframe tbody tr th {\n",
       "        vertical-align: top;\n",
       "    }\n",
       "\n",
       "    .dataframe thead th {\n",
       "        text-align: right;\n",
       "    }\n",
       "</style>\n",
       "<table border=\"1\" class=\"dataframe\">\n",
       "  <thead>\n",
       "    <tr style=\"text-align: right;\">\n",
       "      <th></th>\n",
       "      <th>img</th>\n",
       "      <th>modality</th>\n",
       "      <th>set</th>\n",
       "      <th>source</th>\n",
       "      <th>img_path</th>\n",
       "      <th>higher_modality</th>\n",
       "      <th>caption</th>\n",
       "      <th>split_set</th>\n",
       "      <th>feature_vector</th>\n",
       "      <th>pca_x</th>\n",
       "      <th>pca_y</th>\n",
       "      <th>umap_x</th>\n",
       "      <th>umap_y</th>\n",
       "    </tr>\n",
       "  </thead>\n",
       "  <tbody>\n",
       "    <tr>\n",
       "      <th>0</th>\n",
       "      <td>11373_2007_9226_Fig1_HTML-10.jpg</td>\n",
       "      <td>DMFL</td>\n",
       "      <td>TRAIN</td>\n",
       "      <td>clef16</td>\n",
       "      <td>2016/train/DMFL/11373_2007_9226_Fig1_HTML-10.jpg</td>\n",
       "      <td>MICROSCOPY</td>\n",
       "      <td>Colocalization of hNopp140, pol I and rDNA rep...</td>\n",
       "      <td>TRAIN</td>\n",
       "      <td>[0.03698349 0.02797039 0.06378924 ... 0.605288...</td>\n",
       "      <td>2.800454</td>\n",
       "      <td>15.985010</td>\n",
       "      <td>7.017618</td>\n",
       "      <td>4.759446</td>\n",
       "    </tr>\n",
       "    <tr>\n",
       "      <th>1</th>\n",
       "      <td>11373_2007_9226_Fig1_HTML-11.jpg</td>\n",
       "      <td>DMFL</td>\n",
       "      <td>TRAIN</td>\n",
       "      <td>clef16</td>\n",
       "      <td>2016/train/DMFL/11373_2007_9226_Fig1_HTML-11.jpg</td>\n",
       "      <td>MICROSCOPY</td>\n",
       "      <td>Colocalization of hNopp140, pol I and rDNA rep...</td>\n",
       "      <td>TRAIN</td>\n",
       "      <td>[0.11966821 0.03156081 0.14387487 ... 0.531013...</td>\n",
       "      <td>2.920290</td>\n",
       "      <td>17.780977</td>\n",
       "      <td>7.123211</td>\n",
       "      <td>4.764099</td>\n",
       "    </tr>\n",
       "    <tr>\n",
       "      <th>2</th>\n",
       "      <td>11373_2007_9226_Fig1_HTML-12.jpg</td>\n",
       "      <td>DMFL</td>\n",
       "      <td>TRAIN</td>\n",
       "      <td>clef16</td>\n",
       "      <td>2016/train/DMFL/11373_2007_9226_Fig1_HTML-12.jpg</td>\n",
       "      <td>MICROSCOPY</td>\n",
       "      <td>Colocalization of hNopp140, pol I and rDNA rep...</td>\n",
       "      <td>TRAIN</td>\n",
       "      <td>[0.02774515 0.19340134 0.14208017 ... 0.124674...</td>\n",
       "      <td>2.667454</td>\n",
       "      <td>17.838985</td>\n",
       "      <td>7.782630</td>\n",
       "      <td>6.780328</td>\n",
       "    </tr>\n",
       "    <tr>\n",
       "      <th>3</th>\n",
       "      <td>11373_2007_9226_Fig1_HTML-13.jpg</td>\n",
       "      <td>DMFL</td>\n",
       "      <td>TRAIN</td>\n",
       "      <td>clef16</td>\n",
       "      <td>2016/train/DMFL/11373_2007_9226_Fig1_HTML-13.jpg</td>\n",
       "      <td>MICROSCOPY</td>\n",
       "      <td>Colocalization of hNopp140, pol I and rDNA rep...</td>\n",
       "      <td>TRAIN</td>\n",
       "      <td>[0.08631085 0.25344065 0.58346796 ... 0.763252...</td>\n",
       "      <td>-3.080419</td>\n",
       "      <td>14.389732</td>\n",
       "      <td>7.719876</td>\n",
       "      <td>4.297488</td>\n",
       "    </tr>\n",
       "    <tr>\n",
       "      <th>4</th>\n",
       "      <td>11373_2007_9226_Fig1_HTML-14.jpg</td>\n",
       "      <td>DMFL</td>\n",
       "      <td>TRAIN</td>\n",
       "      <td>clef16</td>\n",
       "      <td>2016/train/DMFL/11373_2007_9226_Fig1_HTML-14.jpg</td>\n",
       "      <td>MICROSCOPY</td>\n",
       "      <td>Colocalization of hNopp140, pol I and rDNA rep...</td>\n",
       "      <td>TRAIN</td>\n",
       "      <td>[0.28187314 0.04344651 0.8873729  ... 0.408760...</td>\n",
       "      <td>0.902185</td>\n",
       "      <td>15.456240</td>\n",
       "      <td>6.919820</td>\n",
       "      <td>4.794608</td>\n",
       "    </tr>\n",
       "  </tbody>\n",
       "</table>\n",
       "</div>"
      ],
      "text/plain": [
       "                                img modality    set  source  \\\n",
       "0  11373_2007_9226_Fig1_HTML-10.jpg     DMFL  TRAIN  clef16   \n",
       "1  11373_2007_9226_Fig1_HTML-11.jpg     DMFL  TRAIN  clef16   \n",
       "2  11373_2007_9226_Fig1_HTML-12.jpg     DMFL  TRAIN  clef16   \n",
       "3  11373_2007_9226_Fig1_HTML-13.jpg     DMFL  TRAIN  clef16   \n",
       "4  11373_2007_9226_Fig1_HTML-14.jpg     DMFL  TRAIN  clef16   \n",
       "\n",
       "                                           img_path higher_modality  \\\n",
       "0  2016/train/DMFL/11373_2007_9226_Fig1_HTML-10.jpg      MICROSCOPY   \n",
       "1  2016/train/DMFL/11373_2007_9226_Fig1_HTML-11.jpg      MICROSCOPY   \n",
       "2  2016/train/DMFL/11373_2007_9226_Fig1_HTML-12.jpg      MICROSCOPY   \n",
       "3  2016/train/DMFL/11373_2007_9226_Fig1_HTML-13.jpg      MICROSCOPY   \n",
       "4  2016/train/DMFL/11373_2007_9226_Fig1_HTML-14.jpg      MICROSCOPY   \n",
       "\n",
       "                                             caption split_set  \\\n",
       "0  Colocalization of hNopp140, pol I and rDNA rep...     TRAIN   \n",
       "1  Colocalization of hNopp140, pol I and rDNA rep...     TRAIN   \n",
       "2  Colocalization of hNopp140, pol I and rDNA rep...     TRAIN   \n",
       "3  Colocalization of hNopp140, pol I and rDNA rep...     TRAIN   \n",
       "4  Colocalization of hNopp140, pol I and rDNA rep...     TRAIN   \n",
       "\n",
       "                                      feature_vector     pca_x      pca_y  \\\n",
       "0  [0.03698349 0.02797039 0.06378924 ... 0.605288...  2.800454  15.985010   \n",
       "1  [0.11966821 0.03156081 0.14387487 ... 0.531013...  2.920290  17.780977   \n",
       "2  [0.02774515 0.19340134 0.14208017 ... 0.124674...  2.667454  17.838985   \n",
       "3  [0.08631085 0.25344065 0.58346796 ... 0.763252... -3.080419  14.389732   \n",
       "4  [0.28187314 0.04344651 0.8873729  ... 0.408760...  0.902185  15.456240   \n",
       "\n",
       "     umap_x    umap_y  \n",
       "0  7.017618  4.759446  \n",
       "1  7.123211  4.764099  \n",
       "2  7.782630  6.780328  \n",
       "3  7.719876  4.297488  \n",
       "4  6.919820  4.794608  "
      ]
     },
     "execution_count": 87,
     "metadata": {},
     "output_type": "execute_result"
    }
   ],
   "source": [
    "df = pd.read_csv('/mnt/artifacts/projections/higher_modality_v1.csv', sep='\\t')\n",
    "df.head()"
   ]
  },
  {
   "cell_type": "code",
   "execution_count": 83,
   "metadata": {},
   "outputs": [],
   "source": [
    "X = df.feature_vector.values"
   ]
  },
  {
   "cell_type": "code",
   "execution_count": 88,
   "metadata": {},
   "outputs": [
    {
     "ename": "SyntaxError",
     "evalue": "invalid syntax (<unknown>, line 1)",
     "output_type": "error",
     "traceback": [
      "Traceback \u001b[0;36m(most recent call last)\u001b[0m:\n",
      "  File \u001b[1;32m\"/usr/local/lib/python3.6/dist-packages/IPython/core/interactiveshell.py\"\u001b[0m, line \u001b[1;32m3331\u001b[0m, in \u001b[1;35mrun_code\u001b[0m\n    exec(code_obj, self.user_global_ns, self.user_ns)\n",
      "  File \u001b[1;32m\"<ipython-input-88-853180f64b71>\"\u001b[0m, line \u001b[1;32m2\u001b[0m, in \u001b[1;35m<module>\u001b[0m\n    X = df.feature_vector.apply(ast.literal_eval)\n",
      "  File \u001b[1;32m\"/usr/local/lib/python3.6/dist-packages/pandas/core/series.py\"\u001b[0m, line \u001b[1;32m4213\u001b[0m, in \u001b[1;35mapply\u001b[0m\n    mapped = lib.map_infer(values, f, convert=convert_dtype)\n",
      "  File \u001b[1;32m\"pandas/_libs/lib.pyx\"\u001b[0m, line \u001b[1;32m2403\u001b[0m, in \u001b[1;35mpandas._libs.lib.map_infer\u001b[0m\n",
      "  File \u001b[1;32m\"/usr/lib/python3.6/ast.py\"\u001b[0m, line \u001b[1;32m48\u001b[0m, in \u001b[1;35mliteral_eval\u001b[0m\n    node_or_string = parse(node_or_string, mode='eval')\n",
      "\u001b[0;36m  File \u001b[0;32m\"/usr/lib/python3.6/ast.py\"\u001b[0;36m, line \u001b[0;32m35\u001b[0;36m, in \u001b[0;35mparse\u001b[0;36m\u001b[0m\n\u001b[0;31m    return compile(source, filename, mode, PyCF_ONLY_AST)\u001b[0m\n",
      "\u001b[0;36m  File \u001b[0;32m\"<unknown>\"\u001b[0;36m, line \u001b[0;32m1\u001b[0m\n\u001b[0;31m    [0.03698349 0.02797039 0.06378924 ... 0.60528857 0.3804254  0.11140335]\u001b[0m\n\u001b[0m                         ^\u001b[0m\n\u001b[0;31mSyntaxError\u001b[0m\u001b[0;31m:\u001b[0m invalid syntax\n"
     ]
    }
   ],
   "source": [
    "import ast\n",
    "X = df.feature_vector.apply(ast.literal_eval)"
   ]
  },
  {
   "cell_type": "code",
   "execution_count": 96,
   "metadata": {},
   "outputs": [
    {
     "data": {
      "text/plain": [
       "KNeighborsClassifier(n_neighbors=3)"
      ]
     },
     "execution_count": 96,
     "metadata": {},
     "output_type": "execute_result"
    }
   ],
   "source": [
    "X = [[0], [1], [2], [3]]\n",
    "y = [0, 0, 1, 1]\n",
    "from sklearn.neighbors import KNeighborsClassifier\n",
    "neigh = KNeighborsClassifier(n_neighbors=3)\n",
    "neigh.fit(X, y)"
   ]
  },
  {
   "cell_type": "code",
   "execution_count": 99,
   "metadata": {},
   "outputs": [
    {
     "data": {
      "text/plain": [
       "array([[1., 1., 1., 0.]])"
      ]
     },
     "execution_count": 99,
     "metadata": {},
     "output_type": "execute_result"
    }
   ],
   "source": [
    "A = neigh.kneighbors_graph([[0]])\n",
    "A.toarray()"
   ]
  },
  {
   "cell_type": "code",
   "execution_count": 112,
   "metadata": {},
   "outputs": [],
   "source": [
    "from sklearn.neighbors import NearestNeighbors\n",
    "samples = [[0, 1], [0, 5], [10, 0]]\n",
    "\n",
    "neigh = NearestNeighbors(n_neighbors=2, algorithm='ball_tree').fit(samples)"
   ]
  },
  {
   "cell_type": "code",
   "execution_count": 115,
   "metadata": {},
   "outputs": [
    {
     "data": {
      "text/plain": [
       "array([[0, 1, 2],\n",
       "       [1, 0, 2],\n",
       "       [2, 0, 1]])"
      ]
     },
     "execution_count": 115,
     "metadata": {},
     "output_type": "execute_result"
    }
   ],
   "source": [
    "neigh.kneighbors(samples, 3, return_distance=False)"
   ]
  },
  {
   "cell_type": "code",
   "execution_count": 123,
   "metadata": {},
   "outputs": [
    {
     "data": {
      "text/plain": [
       "array(['GRAPHICS', 'MICROSCOPY', 'MICROSCOPY'], dtype=object)"
      ]
     },
     "execution_count": 123,
     "metadata": {},
     "output_type": "execute_result"
    }
   ],
   "source": [
    "df.iloc[[100, 1, 10]].higher_modality.values"
   ]
  },
  {
   "cell_type": "code",
   "execution_count": 47,
   "metadata": {},
   "outputs": [],
   "source": [
    "from sklearn.neighbors import NearestNeighbors\n",
    "from sklearn import preprocessing\n",
    "\n",
    "def calc_neighborhood_hit(df, projection, label_col, n_neighbors=6):\n",
    "    x = f\"{projection}_x\"\n",
    "    y = f\"{projection}_y\"\n",
    "    \n",
    "    projections = [[i, j] for (i, j) in zip(df[x].values, df[y].values)]\n",
    "    neigh = NearestNeighbors(n_neighbors=n_neighbors, algorithm='ball_tree').fit(projections)\n",
    "    le = preprocessing.LabelEncoder().fit(df[label_col].unique())\n",
    "    \n",
    "    n_hits = []\n",
    "    for neighborhood in neigh.kneighbors(projections, n_neighbors + 1, return_distance=False):\n",
    "        labels  = le.transform(df.iloc[neighborhood][label_col].values)\n",
    "        targets = [labels[0]] * (len(labels) - 1) \n",
    "        n_hit = np.mean(targets == labels[1:])\n",
    "        n_hits.append(n_hit)\n",
    "    return n_hits"
   ]
  },
  {
   "cell_type": "code",
   "execution_count": 17,
   "metadata": {},
   "outputs": [
    {
     "data": {
      "text/html": [
       "<div>\n",
       "<style scoped>\n",
       "    .dataframe tbody tr th:only-of-type {\n",
       "        vertical-align: middle;\n",
       "    }\n",
       "\n",
       "    .dataframe tbody tr th {\n",
       "        vertical-align: top;\n",
       "    }\n",
       "\n",
       "    .dataframe thead th {\n",
       "        text-align: right;\n",
       "    }\n",
       "</style>\n",
       "<table border=\"1\" class=\"dataframe\">\n",
       "  <thead>\n",
       "    <tr style=\"text-align: right;\">\n",
       "      <th></th>\n",
       "      <th>img</th>\n",
       "      <th>modality</th>\n",
       "      <th>set</th>\n",
       "      <th>source</th>\n",
       "      <th>img_path</th>\n",
       "      <th>higher_modality</th>\n",
       "      <th>caption</th>\n",
       "      <th>split_set</th>\n",
       "      <th>feature_vector</th>\n",
       "      <th>pca_x</th>\n",
       "      <th>pca_y</th>\n",
       "      <th>umap_x</th>\n",
       "      <th>umap_y</th>\n",
       "    </tr>\n",
       "  </thead>\n",
       "  <tbody>\n",
       "    <tr>\n",
       "      <th>0</th>\n",
       "      <td>11373_2007_9226_Fig1_HTML-10.jpg</td>\n",
       "      <td>DMFL</td>\n",
       "      <td>TRAIN</td>\n",
       "      <td>clef16</td>\n",
       "      <td>2016/train/DMFL/11373_2007_9226_Fig1_HTML-10.jpg</td>\n",
       "      <td>MICROSCOPY</td>\n",
       "      <td>Colocalization of hNopp140, pol I and rDNA rep...</td>\n",
       "      <td>TRAIN</td>\n",
       "      <td>[0.03698349, 0.02797039, 0.06378924, 0.0206936...</td>\n",
       "      <td>2.800454</td>\n",
       "      <td>15.985010</td>\n",
       "      <td>7.017618</td>\n",
       "      <td>4.759446</td>\n",
       "    </tr>\n",
       "    <tr>\n",
       "      <th>1</th>\n",
       "      <td>11373_2007_9226_Fig1_HTML-11.jpg</td>\n",
       "      <td>DMFL</td>\n",
       "      <td>TRAIN</td>\n",
       "      <td>clef16</td>\n",
       "      <td>2016/train/DMFL/11373_2007_9226_Fig1_HTML-11.jpg</td>\n",
       "      <td>MICROSCOPY</td>\n",
       "      <td>Colocalization of hNopp140, pol I and rDNA rep...</td>\n",
       "      <td>TRAIN</td>\n",
       "      <td>[0.11966821, 0.03156081, 0.14387487, 0.0154373...</td>\n",
       "      <td>2.920290</td>\n",
       "      <td>17.780977</td>\n",
       "      <td>7.123211</td>\n",
       "      <td>4.764099</td>\n",
       "    </tr>\n",
       "    <tr>\n",
       "      <th>2</th>\n",
       "      <td>11373_2007_9226_Fig1_HTML-12.jpg</td>\n",
       "      <td>DMFL</td>\n",
       "      <td>TRAIN</td>\n",
       "      <td>clef16</td>\n",
       "      <td>2016/train/DMFL/11373_2007_9226_Fig1_HTML-12.jpg</td>\n",
       "      <td>MICROSCOPY</td>\n",
       "      <td>Colocalization of hNopp140, pol I and rDNA rep...</td>\n",
       "      <td>TRAIN</td>\n",
       "      <td>[0.027745148, 0.19340134, 0.14208017, 0.083299...</td>\n",
       "      <td>2.667454</td>\n",
       "      <td>17.838985</td>\n",
       "      <td>7.782630</td>\n",
       "      <td>6.780328</td>\n",
       "    </tr>\n",
       "    <tr>\n",
       "      <th>3</th>\n",
       "      <td>11373_2007_9226_Fig1_HTML-13.jpg</td>\n",
       "      <td>DMFL</td>\n",
       "      <td>TRAIN</td>\n",
       "      <td>clef16</td>\n",
       "      <td>2016/train/DMFL/11373_2007_9226_Fig1_HTML-13.jpg</td>\n",
       "      <td>MICROSCOPY</td>\n",
       "      <td>Colocalization of hNopp140, pol I and rDNA rep...</td>\n",
       "      <td>TRAIN</td>\n",
       "      <td>[0.08631085, 0.25344065, 0.58346796, 0.1590379...</td>\n",
       "      <td>-3.080419</td>\n",
       "      <td>14.389732</td>\n",
       "      <td>7.719876</td>\n",
       "      <td>4.297488</td>\n",
       "    </tr>\n",
       "    <tr>\n",
       "      <th>4</th>\n",
       "      <td>11373_2007_9226_Fig1_HTML-14.jpg</td>\n",
       "      <td>DMFL</td>\n",
       "      <td>TRAIN</td>\n",
       "      <td>clef16</td>\n",
       "      <td>2016/train/DMFL/11373_2007_9226_Fig1_HTML-14.jpg</td>\n",
       "      <td>MICROSCOPY</td>\n",
       "      <td>Colocalization of hNopp140, pol I and rDNA rep...</td>\n",
       "      <td>TRAIN</td>\n",
       "      <td>[0.28187314, 0.04344651, 0.8873729, 0.21146952...</td>\n",
       "      <td>0.902185</td>\n",
       "      <td>15.456240</td>\n",
       "      <td>6.919820</td>\n",
       "      <td>4.794608</td>\n",
       "    </tr>\n",
       "  </tbody>\n",
       "</table>\n",
       "</div>"
      ],
      "text/plain": [
       "                                img modality    set  source  \\\n",
       "0  11373_2007_9226_Fig1_HTML-10.jpg     DMFL  TRAIN  clef16   \n",
       "1  11373_2007_9226_Fig1_HTML-11.jpg     DMFL  TRAIN  clef16   \n",
       "2  11373_2007_9226_Fig1_HTML-12.jpg     DMFL  TRAIN  clef16   \n",
       "3  11373_2007_9226_Fig1_HTML-13.jpg     DMFL  TRAIN  clef16   \n",
       "4  11373_2007_9226_Fig1_HTML-14.jpg     DMFL  TRAIN  clef16   \n",
       "\n",
       "                                           img_path higher_modality  \\\n",
       "0  2016/train/DMFL/11373_2007_9226_Fig1_HTML-10.jpg      MICROSCOPY   \n",
       "1  2016/train/DMFL/11373_2007_9226_Fig1_HTML-11.jpg      MICROSCOPY   \n",
       "2  2016/train/DMFL/11373_2007_9226_Fig1_HTML-12.jpg      MICROSCOPY   \n",
       "3  2016/train/DMFL/11373_2007_9226_Fig1_HTML-13.jpg      MICROSCOPY   \n",
       "4  2016/train/DMFL/11373_2007_9226_Fig1_HTML-14.jpg      MICROSCOPY   \n",
       "\n",
       "                                             caption split_set  \\\n",
       "0  Colocalization of hNopp140, pol I and rDNA rep...     TRAIN   \n",
       "1  Colocalization of hNopp140, pol I and rDNA rep...     TRAIN   \n",
       "2  Colocalization of hNopp140, pol I and rDNA rep...     TRAIN   \n",
       "3  Colocalization of hNopp140, pol I and rDNA rep...     TRAIN   \n",
       "4  Colocalization of hNopp140, pol I and rDNA rep...     TRAIN   \n",
       "\n",
       "                                      feature_vector     pca_x      pca_y  \\\n",
       "0  [0.03698349, 0.02797039, 0.06378924, 0.0206936...  2.800454  15.985010   \n",
       "1  [0.11966821, 0.03156081, 0.14387487, 0.0154373...  2.920290  17.780977   \n",
       "2  [0.027745148, 0.19340134, 0.14208017, 0.083299...  2.667454  17.838985   \n",
       "3  [0.08631085, 0.25344065, 0.58346796, 0.1590379... -3.080419  14.389732   \n",
       "4  [0.28187314, 0.04344651, 0.8873729, 0.21146952...  0.902185  15.456240   \n",
       "\n",
       "     umap_x    umap_y  \n",
       "0  7.017618  4.759446  \n",
       "1  7.123211  4.764099  \n",
       "2  7.782630  6.780328  \n",
       "3  7.719876  4.297488  \n",
       "4  6.919820  4.794608  "
      ]
     },
     "execution_count": 17,
     "metadata": {},
     "output_type": "execute_result"
    }
   ],
   "source": [
    "import pandas as pd\n",
    "df_parquet = pd.read_parquet('/mnt/artifacts/projections/higher_modality_v1.parquet')\n",
    "df_parquet.head()"
   ]
  },
  {
   "cell_type": "code",
   "execution_count": 18,
   "metadata": {},
   "outputs": [],
   "source": [
    "A = df_parquet[[\"img\", \"img_path\", \"higher_modality\", \"umap_x\", \"umap_y\"]].rename(columns={\"higher_modality\": \"label\"})"
   ]
  },
  {
   "cell_type": "code",
   "execution_count": 55,
   "metadata": {},
   "outputs": [
    {
     "data": {
      "text/plain": [
       "array(['TRAIN', 'VAL', 'TEST'], dtype=object)"
      ]
     },
     "execution_count": 55,
     "metadata": {},
     "output_type": "execute_result"
    }
   ],
   "source": [
    "df_parquet.split_set.unique()"
   ]
  },
  {
   "cell_type": "code",
   "execution_count": 19,
   "metadata": {},
   "outputs": [
    {
     "data": {
      "text/html": [
       "<div>\n",
       "<style scoped>\n",
       "    .dataframe tbody tr th:only-of-type {\n",
       "        vertical-align: middle;\n",
       "    }\n",
       "\n",
       "    .dataframe tbody tr th {\n",
       "        vertical-align: top;\n",
       "    }\n",
       "\n",
       "    .dataframe thead th {\n",
       "        text-align: right;\n",
       "    }\n",
       "</style>\n",
       "<table border=\"1\" class=\"dataframe\">\n",
       "  <thead>\n",
       "    <tr style=\"text-align: right;\">\n",
       "      <th></th>\n",
       "      <th>img</th>\n",
       "      <th>img_path</th>\n",
       "      <th>label</th>\n",
       "      <th>umap_x</th>\n",
       "      <th>umap_y</th>\n",
       "    </tr>\n",
       "  </thead>\n",
       "  <tbody>\n",
       "    <tr>\n",
       "      <th>0</th>\n",
       "      <td>11373_2007_9226_Fig1_HTML-10.jpg</td>\n",
       "      <td>2016/train/DMFL/11373_2007_9226_Fig1_HTML-10.jpg</td>\n",
       "      <td>MICROSCOPY</td>\n",
       "      <td>7.017618</td>\n",
       "      <td>4.759446</td>\n",
       "    </tr>\n",
       "    <tr>\n",
       "      <th>1</th>\n",
       "      <td>11373_2007_9226_Fig1_HTML-11.jpg</td>\n",
       "      <td>2016/train/DMFL/11373_2007_9226_Fig1_HTML-11.jpg</td>\n",
       "      <td>MICROSCOPY</td>\n",
       "      <td>7.123211</td>\n",
       "      <td>4.764099</td>\n",
       "    </tr>\n",
       "    <tr>\n",
       "      <th>2</th>\n",
       "      <td>11373_2007_9226_Fig1_HTML-12.jpg</td>\n",
       "      <td>2016/train/DMFL/11373_2007_9226_Fig1_HTML-12.jpg</td>\n",
       "      <td>MICROSCOPY</td>\n",
       "      <td>7.782630</td>\n",
       "      <td>6.780328</td>\n",
       "    </tr>\n",
       "    <tr>\n",
       "      <th>3</th>\n",
       "      <td>11373_2007_9226_Fig1_HTML-13.jpg</td>\n",
       "      <td>2016/train/DMFL/11373_2007_9226_Fig1_HTML-13.jpg</td>\n",
       "      <td>MICROSCOPY</td>\n",
       "      <td>7.719876</td>\n",
       "      <td>4.297488</td>\n",
       "    </tr>\n",
       "    <tr>\n",
       "      <th>4</th>\n",
       "      <td>11373_2007_9226_Fig1_HTML-14.jpg</td>\n",
       "      <td>2016/train/DMFL/11373_2007_9226_Fig1_HTML-14.jpg</td>\n",
       "      <td>MICROSCOPY</td>\n",
       "      <td>6.919820</td>\n",
       "      <td>4.794608</td>\n",
       "    </tr>\n",
       "  </tbody>\n",
       "</table>\n",
       "</div>"
      ],
      "text/plain": [
       "                                img  \\\n",
       "0  11373_2007_9226_Fig1_HTML-10.jpg   \n",
       "1  11373_2007_9226_Fig1_HTML-11.jpg   \n",
       "2  11373_2007_9226_Fig1_HTML-12.jpg   \n",
       "3  11373_2007_9226_Fig1_HTML-13.jpg   \n",
       "4  11373_2007_9226_Fig1_HTML-14.jpg   \n",
       "\n",
       "                                           img_path       label    umap_x  \\\n",
       "0  2016/train/DMFL/11373_2007_9226_Fig1_HTML-10.jpg  MICROSCOPY  7.017618   \n",
       "1  2016/train/DMFL/11373_2007_9226_Fig1_HTML-11.jpg  MICROSCOPY  7.123211   \n",
       "2  2016/train/DMFL/11373_2007_9226_Fig1_HTML-12.jpg  MICROSCOPY  7.782630   \n",
       "3  2016/train/DMFL/11373_2007_9226_Fig1_HTML-13.jpg  MICROSCOPY  7.719876   \n",
       "4  2016/train/DMFL/11373_2007_9226_Fig1_HTML-14.jpg  MICROSCOPY  6.919820   \n",
       "\n",
       "     umap_y  \n",
       "0  4.759446  \n",
       "1  4.764099  \n",
       "2  6.780328  \n",
       "3  4.297488  \n",
       "4  4.794608  "
      ]
     },
     "execution_count": 19,
     "metadata": {},
     "output_type": "execute_result"
    }
   ],
   "source": [
    "A.head()"
   ]
  },
  {
   "cell_type": "code",
   "execution_count": 48,
   "metadata": {},
   "outputs": [],
   "source": [
    "hits = calc_neighborhood_hit(A, \"umap\", \"label\")"
   ]
  },
  {
   "cell_type": "code",
   "execution_count": 51,
   "metadata": {},
   "outputs": [],
   "source": [
    "A['hits'] = hits"
   ]
  },
  {
   "cell_type": "code",
   "execution_count": 52,
   "metadata": {},
   "outputs": [
    {
     "data": {
      "text/html": [
       "<div>\n",
       "<style scoped>\n",
       "    .dataframe tbody tr th:only-of-type {\n",
       "        vertical-align: middle;\n",
       "    }\n",
       "\n",
       "    .dataframe tbody tr th {\n",
       "        vertical-align: top;\n",
       "    }\n",
       "\n",
       "    .dataframe thead th {\n",
       "        text-align: right;\n",
       "    }\n",
       "</style>\n",
       "<table border=\"1\" class=\"dataframe\">\n",
       "  <thead>\n",
       "    <tr style=\"text-align: right;\">\n",
       "      <th></th>\n",
       "      <th>img</th>\n",
       "      <th>img_path</th>\n",
       "      <th>label</th>\n",
       "      <th>umap_x</th>\n",
       "      <th>umap_y</th>\n",
       "      <th>hits</th>\n",
       "    </tr>\n",
       "  </thead>\n",
       "  <tbody>\n",
       "    <tr>\n",
       "      <th>0</th>\n",
       "      <td>11373_2007_9226_Fig1_HTML-10.jpg</td>\n",
       "      <td>2016/train/DMFL/11373_2007_9226_Fig1_HTML-10.jpg</td>\n",
       "      <td>MICROSCOPY</td>\n",
       "      <td>7.017618</td>\n",
       "      <td>4.759446</td>\n",
       "      <td>1.0</td>\n",
       "    </tr>\n",
       "    <tr>\n",
       "      <th>1</th>\n",
       "      <td>11373_2007_9226_Fig1_HTML-11.jpg</td>\n",
       "      <td>2016/train/DMFL/11373_2007_9226_Fig1_HTML-11.jpg</td>\n",
       "      <td>MICROSCOPY</td>\n",
       "      <td>7.123211</td>\n",
       "      <td>4.764099</td>\n",
       "      <td>1.0</td>\n",
       "    </tr>\n",
       "    <tr>\n",
       "      <th>2</th>\n",
       "      <td>11373_2007_9226_Fig1_HTML-12.jpg</td>\n",
       "      <td>2016/train/DMFL/11373_2007_9226_Fig1_HTML-12.jpg</td>\n",
       "      <td>MICROSCOPY</td>\n",
       "      <td>7.782630</td>\n",
       "      <td>6.780328</td>\n",
       "      <td>1.0</td>\n",
       "    </tr>\n",
       "    <tr>\n",
       "      <th>3</th>\n",
       "      <td>11373_2007_9226_Fig1_HTML-13.jpg</td>\n",
       "      <td>2016/train/DMFL/11373_2007_9226_Fig1_HTML-13.jpg</td>\n",
       "      <td>MICROSCOPY</td>\n",
       "      <td>7.719876</td>\n",
       "      <td>4.297488</td>\n",
       "      <td>1.0</td>\n",
       "    </tr>\n",
       "    <tr>\n",
       "      <th>4</th>\n",
       "      <td>11373_2007_9226_Fig1_HTML-14.jpg</td>\n",
       "      <td>2016/train/DMFL/11373_2007_9226_Fig1_HTML-14.jpg</td>\n",
       "      <td>MICROSCOPY</td>\n",
       "      <td>6.919820</td>\n",
       "      <td>4.794608</td>\n",
       "      <td>1.0</td>\n",
       "    </tr>\n",
       "  </tbody>\n",
       "</table>\n",
       "</div>"
      ],
      "text/plain": [
       "                                img  \\\n",
       "0  11373_2007_9226_Fig1_HTML-10.jpg   \n",
       "1  11373_2007_9226_Fig1_HTML-11.jpg   \n",
       "2  11373_2007_9226_Fig1_HTML-12.jpg   \n",
       "3  11373_2007_9226_Fig1_HTML-13.jpg   \n",
       "4  11373_2007_9226_Fig1_HTML-14.jpg   \n",
       "\n",
       "                                           img_path       label    umap_x  \\\n",
       "0  2016/train/DMFL/11373_2007_9226_Fig1_HTML-10.jpg  MICROSCOPY  7.017618   \n",
       "1  2016/train/DMFL/11373_2007_9226_Fig1_HTML-11.jpg  MICROSCOPY  7.123211   \n",
       "2  2016/train/DMFL/11373_2007_9226_Fig1_HTML-12.jpg  MICROSCOPY  7.782630   \n",
       "3  2016/train/DMFL/11373_2007_9226_Fig1_HTML-13.jpg  MICROSCOPY  7.719876   \n",
       "4  2016/train/DMFL/11373_2007_9226_Fig1_HTML-14.jpg  MICROSCOPY  6.919820   \n",
       "\n",
       "     umap_y  hits  \n",
       "0  4.759446   1.0  \n",
       "1  4.764099   1.0  \n",
       "2  6.780328   1.0  \n",
       "3  4.297488   1.0  \n",
       "4  4.794608   1.0  "
      ]
     },
     "execution_count": 52,
     "metadata": {},
     "output_type": "execute_result"
    }
   ],
   "source": [
    "A.head()"
   ]
  },
  {
   "cell_type": "code",
   "execution_count": null,
   "metadata": {},
   "outputs": [],
   "source": []
  }
 ],
 "metadata": {
  "kernelspec": {
   "display_name": "Python 3",
   "language": "python",
   "name": "python3"
  },
  "language_info": {
   "codemirror_mode": {
    "name": "ipython",
    "version": 3
   },
   "file_extension": ".py",
   "mimetype": "text/x-python",
   "name": "python",
   "nbconvert_exporter": "python",
   "pygments_lexer": "ipython3",
   "version": "3.6.9"
  }
 },
 "nbformat": 4,
 "nbformat_minor": 4
}
