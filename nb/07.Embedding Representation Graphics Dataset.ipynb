{
 "cells": [
  {
   "cell_type": "markdown",
   "metadata": {},
   "source": [
    "## Embedding Projection for Graphics Classifier(T-SNE, PCA, Umap)\n",
    "+ In this notebook we use different projection for the last layer prior to the softmax layer in the CNN\n",
    "+ Source:\n",
    "    + Chart_Synthetic : Synthetic dataset of graphic images\n",
    "    + Chart2020       : Dataset for infographics 2020\n",
    "    + clef16          : Clef challenge 2016\n",
    "    + clef13          : Clef challenge 2013\n"
   ]
  },
  {
   "cell_type": "markdown",
   "metadata": {},
   "source": [
    "## 1. Importing Libraries"
   ]
  },
  {
   "cell_type": "code",
   "execution_count": 1,
   "metadata": {},
   "outputs": [],
   "source": [
    "import os\n",
    "import sys\n",
    "module_path = \"../src\"\n",
    "#os.environ[\"WANDB_SILENT\"] = \"true\" # Environment Variable to make wandb silent\n",
    "if module_path not in sys.path:\n",
    "    sys.path.append(module_path)\n",
    "# 1. General Libraries\n",
    "import pandas as pd\n",
    "import numpy as np\n",
    "from pathlib import Path\n",
    "import yaml\n",
    "import seaborn as sns\n",
    "import matplotlib.pyplot as plt\n",
    "plt.style.use('ggplot')\n",
    "# 2. DataModule & Class Libraries\n",
    "from utils.label_encoder import label_encoder_target\n",
    "from utils.calc_stat import calc_dataset_mean_std\n",
    "from utils.FeatureExtractor import get_vector_representation,prepare_projection\n",
    "from dataset.ImageDataModule import ImageDataModule\n",
    "from dataset.ImageDataset import ImageDataset,EvalImageDataset\n",
    "from utils.ModelPrediction import get_prediction\n",
    "from models.EfficientNetClass import EfficientNetClass\n",
    "from models.ResNetClass import ResNetClass\n",
    "# 3. Pytorch & Pytorch Lightning Libraries\n",
    "from pytorch_lightning import Trainer,seed_everything\n",
    "from torchvision import transforms\n",
    "from pytorch_lightning.callbacks import LearningRateMonitor\n",
    "from pytorch_lightning.callbacks.early_stopping import EarlyStopping\n",
    "from pytorch_lightning.loggers import WandbLogger\n",
    "import torch\n",
    "import umap\n",
    "from sklearn.decomposition import PCA\n",
    "from sklearn.manifold import TSNE\n",
    "# 4. Wandb Tracker Experiements\n",
    "import wandb"
   ]
  },
  {
   "cell_type": "markdown",
   "metadata": {},
   "source": [
    "## 2. Feature Extraction - ResNet CNN"
   ]
  },
  {
   "cell_type": "code",
   "execution_count": 2,
   "metadata": {},
   "outputs": [],
   "source": [
    "DATA_PATH = '../data/graphics_dataset_final_v1.csv'\n",
    "BASE_PATH = Path('/mnt')\n",
    "BASE_IMG_DIR = BASE_PATH\n",
    "SEED = 42\n",
    "model_path = '/mnt/artifacts/models/Graphics/graphics_classifier_v1.pt'"
   ]
  },
  {
   "cell_type": "code",
   "execution_count": 3,
   "metadata": {},
   "outputs": [
    {
     "data": {
      "text/html": [
       "<div>\n",
       "<style scoped>\n",
       "    .dataframe tbody tr th:only-of-type {\n",
       "        vertical-align: middle;\n",
       "    }\n",
       "\n",
       "    .dataframe tbody tr th {\n",
       "        vertical-align: top;\n",
       "    }\n",
       "\n",
       "    .dataframe thead th {\n",
       "        text-align: right;\n",
       "    }\n",
       "</style>\n",
       "<table border=\"1\" class=\"dataframe\">\n",
       "  <thead>\n",
       "    <tr style=\"text-align: right;\">\n",
       "      <th></th>\n",
       "      <th>img</th>\n",
       "      <th>original</th>\n",
       "      <th>modality</th>\n",
       "      <th>source</th>\n",
       "      <th>img_path</th>\n",
       "      <th>higher_modality</th>\n",
       "      <th>split_set</th>\n",
       "      <th>target</th>\n",
       "    </tr>\n",
       "  </thead>\n",
       "  <tbody>\n",
       "    <tr>\n",
       "      <th>0</th>\n",
       "      <td>100050.png</td>\n",
       "      <td>Scatter</td>\n",
       "      <td>scatterplot</td>\n",
       "      <td>Chart_Synthetic</td>\n",
       "      <td>chart_synthetic_1/train/100050.png</td>\n",
       "      <td>GRAPHICS</td>\n",
       "      <td>TRAIN</td>\n",
       "      <td>scatterplot</td>\n",
       "    </tr>\n",
       "    <tr>\n",
       "      <th>1</th>\n",
       "      <td>0.png</td>\n",
       "      <td>Grouped horizontal bar</td>\n",
       "      <td>histogram</td>\n",
       "      <td>Chart_Synthetic</td>\n",
       "      <td>chart_synthetic_1/train/0.png</td>\n",
       "      <td>GRAPHICS</td>\n",
       "      <td>TRAIN</td>\n",
       "      <td>histogram</td>\n",
       "    </tr>\n",
       "    <tr>\n",
       "      <th>2</th>\n",
       "      <td>1.png</td>\n",
       "      <td>Grouped horizontal bar</td>\n",
       "      <td>histogram</td>\n",
       "      <td>Chart_Synthetic</td>\n",
       "      <td>chart_synthetic_1/train/1.png</td>\n",
       "      <td>GRAPHICS</td>\n",
       "      <td>TRAIN</td>\n",
       "      <td>histogram</td>\n",
       "    </tr>\n",
       "    <tr>\n",
       "      <th>3</th>\n",
       "      <td>100052.png</td>\n",
       "      <td>Scatter</td>\n",
       "      <td>scatterplot</td>\n",
       "      <td>Chart_Synthetic</td>\n",
       "      <td>chart_synthetic_1/train/100052.png</td>\n",
       "      <td>GRAPHICS</td>\n",
       "      <td>TRAIN</td>\n",
       "      <td>scatterplot</td>\n",
       "    </tr>\n",
       "    <tr>\n",
       "      <th>4</th>\n",
       "      <td>10.png</td>\n",
       "      <td>Grouped vertical bar</td>\n",
       "      <td>histogram</td>\n",
       "      <td>Chart_Synthetic</td>\n",
       "      <td>chart_synthetic_1/train/10.png</td>\n",
       "      <td>GRAPHICS</td>\n",
       "      <td>VAL</td>\n",
       "      <td>histogram</td>\n",
       "    </tr>\n",
       "  </tbody>\n",
       "</table>\n",
       "</div>"
      ],
      "text/plain": [
       "          img                original     modality           source  \\\n",
       "0  100050.png                 Scatter  scatterplot  Chart_Synthetic   \n",
       "1       0.png  Grouped horizontal bar    histogram  Chart_Synthetic   \n",
       "2       1.png  Grouped horizontal bar    histogram  Chart_Synthetic   \n",
       "3  100052.png                 Scatter  scatterplot  Chart_Synthetic   \n",
       "4      10.png    Grouped vertical bar    histogram  Chart_Synthetic   \n",
       "\n",
       "                             img_path higher_modality split_set       target  \n",
       "0  chart_synthetic_1/train/100050.png        GRAPHICS     TRAIN  scatterplot  \n",
       "1       chart_synthetic_1/train/0.png        GRAPHICS     TRAIN    histogram  \n",
       "2       chart_synthetic_1/train/1.png        GRAPHICS     TRAIN    histogram  \n",
       "3  chart_synthetic_1/train/100052.png        GRAPHICS     TRAIN  scatterplot  \n",
       "4      chart_synthetic_1/train/10.png        GRAPHICS       VAL    histogram  "
      ]
     },
     "execution_count": 3,
     "metadata": {},
     "output_type": "execute_result"
    }
   ],
   "source": [
    "df = pd.read_csv(DATA_PATH, sep='\\t')\n",
    "le_encoder,dict_label = label_encoder_target(df,target_col='higher_modality')\n",
    "df.head()"
   ]
  },
  {
   "cell_type": "code",
   "execution_count": null,
   "metadata": {},
   "outputs": [],
   "source": [
    "# 3.1 Load the Resnet Model\n",
    "model = ResNetClass.load_from_checkpoint(model_path)\n",
    "print('*'*5,' Resnet Model Parameters ','*'*5)\n",
    "print(model.hparams)\n",
    "print('*'*5,' Resnet Model Children ','*'*5)\n",
    "children_counter = 0\n",
    "for n,c in model.named_children():\n",
    "    print(\"Children Counter: \",children_counter,\" Layer Name: \",n,)\n",
    "    children_counter+=1"
   ]
  },
  {
   "cell_type": "code",
   "execution_count": null,
   "metadata": {},
   "outputs": [],
   "source": [
    "%%time\n",
    "prepare_projection(model ,le_encoder,DATA_PATH,BASE_IMG_DIR,SEED,CLASSF ='graphics' ,VERSION = 1)"
   ]
  },
  {
   "cell_type": "code",
   "execution_count": null,
   "metadata": {},
   "outputs": [],
   "source": [
    "df_projection = pd.read_parquet( '/mnt/artifacts/projections/graphics_v1.parquet')\n",
    "plt.figure(figsize=(8,8))\n",
    "df1 = df_projection[df_projection['split_set']=='TRAIN'].reset_index(drop = True)\n",
    "sns.scatterplot(data=df1, x=\"pca_x\", y=\"pca_y\", hue=\"modality\")\n",
    "plt.show()"
   ]
  },
  {
   "cell_type": "markdown",
   "metadata": {},
   "source": [
    "### 2.1 Evaluation on GFIG Images (Different From Training or Vallidation Dataset)"
   ]
  },
  {
   "cell_type": "code",
   "execution_count": 16,
   "metadata": {},
   "outputs": [
    {
     "data": {
      "text/html": [
       "<div>\n",
       "<style scoped>\n",
       "    .dataframe tbody tr th:only-of-type {\n",
       "        vertical-align: middle;\n",
       "    }\n",
       "\n",
       "    .dataframe tbody tr th {\n",
       "        vertical-align: top;\n",
       "    }\n",
       "\n",
       "    .dataframe thead th {\n",
       "        text-align: right;\n",
       "    }\n",
       "</style>\n",
       "<table border=\"1\" class=\"dataframe\">\n",
       "  <thead>\n",
       "    <tr style=\"text-align: right;\">\n",
       "      <th></th>\n",
       "      <th>img</th>\n",
       "      <th>modality</th>\n",
       "      <th>set</th>\n",
       "      <th>source</th>\n",
       "      <th>img_path</th>\n",
       "      <th>higher_modality</th>\n",
       "      <th>caption</th>\n",
       "      <th>split_set</th>\n",
       "    </tr>\n",
       "  </thead>\n",
       "  <tbody>\n",
       "    <tr>\n",
       "      <th>0</th>\n",
       "      <td>1297-9686-42-10-3-1.jpg</td>\n",
       "      <td>GFIG</td>\n",
       "      <td>TRAIN</td>\n",
       "      <td>clef16</td>\n",
       "      <td>2016/train/GFIG/1297-9686-42-10-3-1.jpg</td>\n",
       "      <td>GRAPHICS</td>\n",
       "      <td>Accuracy of QTL-EBV and total EBV as a functio...</td>\n",
       "      <td>TRAIN</td>\n",
       "    </tr>\n",
       "    <tr>\n",
       "      <th>1</th>\n",
       "      <td>1297-9686-42-10-3-2.jpg</td>\n",
       "      <td>GFIG</td>\n",
       "      <td>TRAIN</td>\n",
       "      <td>clef16</td>\n",
       "      <td>2016/train/GFIG/1297-9686-42-10-3-2.jpg</td>\n",
       "      <td>GRAPHICS</td>\n",
       "      <td>Accuracy of QTL-EBV and total EBV as a functio...</td>\n",
       "      <td>TRAIN</td>\n",
       "    </tr>\n",
       "    <tr>\n",
       "      <th>2</th>\n",
       "      <td>1297-9686-42-10-3-3.jpg</td>\n",
       "      <td>GFIG</td>\n",
       "      <td>TRAIN</td>\n",
       "      <td>clef16</td>\n",
       "      <td>2016/train/GFIG/1297-9686-42-10-3-3.jpg</td>\n",
       "      <td>GRAPHICS</td>\n",
       "      <td>Accuracy of QTL-EBV and total EBV as a functio...</td>\n",
       "      <td>TRAIN</td>\n",
       "    </tr>\n",
       "    <tr>\n",
       "      <th>3</th>\n",
       "      <td>1297-9686-42-10-3-4.jpg</td>\n",
       "      <td>GFIG</td>\n",
       "      <td>TRAIN</td>\n",
       "      <td>clef16</td>\n",
       "      <td>2016/train/GFIG/1297-9686-42-10-3-4.jpg</td>\n",
       "      <td>GRAPHICS</td>\n",
       "      <td>Accuracy of QTL-EBV and total EBV as a functio...</td>\n",
       "      <td>TRAIN</td>\n",
       "    </tr>\n",
       "    <tr>\n",
       "      <th>4</th>\n",
       "      <td>1423-0127-16-6-3-2.jpg</td>\n",
       "      <td>GFIG</td>\n",
       "      <td>TRAIN</td>\n",
       "      <td>clef16</td>\n",
       "      <td>2016/train/GFIG/1423-0127-16-6-3-2.jpg</td>\n",
       "      <td>GRAPHICS</td>\n",
       "      <td>Kinetic analysis of human EndoG . (A) Electrop...</td>\n",
       "      <td>TRAIN</td>\n",
       "    </tr>\n",
       "  </tbody>\n",
       "</table>\n",
       "</div>"
      ],
      "text/plain": [
       "                       img modality    set  source  \\\n",
       "0  1297-9686-42-10-3-1.jpg     GFIG  TRAIN  clef16   \n",
       "1  1297-9686-42-10-3-2.jpg     GFIG  TRAIN  clef16   \n",
       "2  1297-9686-42-10-3-3.jpg     GFIG  TRAIN  clef16   \n",
       "3  1297-9686-42-10-3-4.jpg     GFIG  TRAIN  clef16   \n",
       "4   1423-0127-16-6-3-2.jpg     GFIG  TRAIN  clef16   \n",
       "\n",
       "                                  img_path higher_modality  \\\n",
       "0  2016/train/GFIG/1297-9686-42-10-3-1.jpg        GRAPHICS   \n",
       "1  2016/train/GFIG/1297-9686-42-10-3-2.jpg        GRAPHICS   \n",
       "2  2016/train/GFIG/1297-9686-42-10-3-3.jpg        GRAPHICS   \n",
       "3  2016/train/GFIG/1297-9686-42-10-3-4.jpg        GRAPHICS   \n",
       "4   2016/train/GFIG/1423-0127-16-6-3-2.jpg        GRAPHICS   \n",
       "\n",
       "                                             caption split_set  \n",
       "0  Accuracy of QTL-EBV and total EBV as a functio...     TRAIN  \n",
       "1  Accuracy of QTL-EBV and total EBV as a functio...     TRAIN  \n",
       "2  Accuracy of QTL-EBV and total EBV as a functio...     TRAIN  \n",
       "3  Accuracy of QTL-EBV and total EBV as a functio...     TRAIN  \n",
       "4  Kinetic analysis of human EndoG . (A) Electrop...     TRAIN  "
      ]
     },
     "execution_count": 16,
     "metadata": {},
     "output_type": "execute_result"
    }
   ],
   "source": [
    "# Dataloader for the GFIG IMAGES\n",
    "df_gfig = pd.read_csv('../data/higher_modality_vol1.csv',sep = '\\t')\n",
    "df_gfig = df_gfig[df_gfig['modality'].isin(['GFIG'])].reset_index(drop = True)\n",
    "df_gfig.head()"
   ]
  },
  {
   "cell_type": "code",
   "execution_count": 17,
   "metadata": {},
   "outputs": [],
   "source": [
    "test_transform = [transforms.ToPILImage(),\n",
    "                 transforms.Resize((224, 224)),\n",
    "                 transforms.ToTensor(),\n",
    "                 transforms.Normalize(resnet_model.hparams['mean_dataset'], resnet_model.hparams['std_dataset'])\n",
    "                ]\n",
    "test_transform = transforms.Compose(test_transform)\n",
    "\n",
    "test_dataset   = EvalImageDataset(df_gfig,\n",
    "                                  BASE_IMG_DIR/'subfigure-classification',\n",
    "                                  image_transform=test_transform,\n",
    "                                  path_col='img_path')\n",
    "\n",
    "test_dataloader = torch.utils.data.DataLoader(\n",
    "                    test_dataset,\n",
    "                    batch_size = 32,\n",
    "                    shuffle = False,\n",
    "                    num_workers = 72\n",
    "                    )"
   ]
  },
  {
   "cell_type": "code",
   "execution_count": 18,
   "metadata": {},
   "outputs": [
    {
     "data": {
      "application/vnd.jupyter.widget-view+json": {
       "model_id": "3d01798e775848d49bb83313c7948788",
       "version_major": 2,
       "version_minor": 0
      },
      "text/plain": [
       "HBox(children=(FloatProgress(value=0.0, max=161.0), HTML(value='')))"
      ]
     },
     "metadata": {},
     "output_type": "display_data"
    },
    {
     "name": "stdout",
     "output_type": "stream",
     "text": [
      "\n"
     ]
    }
   ],
   "source": [
    "model = resnet_model.to('cuda')\n",
    "test_predictions = get_prediction(test_dataloader,model, 'cuda')\n",
    "df_gfig ['Graphics_Classifier_Class_Predicted'] = le_encoder_graphics.inverse_transform(test_predictions)"
   ]
  },
  {
   "cell_type": "code",
   "execution_count": 19,
   "metadata": {},
   "outputs": [
    {
     "data": {
      "application/vnd.jupyter.widget-view+json": {
       "model_id": "b848065ca8844fb7bf0fdd3ebcaefee5",
       "version_major": 2,
       "version_minor": 0
      },
      "text/plain": [
       "HBox(children=(FloatProgress(value=0.0, max=5345.0), HTML(value='')))"
      ]
     },
     "metadata": {},
     "output_type": "display_data"
    },
    {
     "name": "stdout",
     "output_type": "stream",
     "text": [
      "\n"
     ]
    }
   ],
   "source": [
    "# Get the Embedding Matrix\n",
    "# 1. Tranformations Needed\n",
    "transform = [transforms.ToPILImage(),\n",
    "             transforms.Resize((224, 224)),\n",
    "             transforms.ToTensor(),\n",
    "             transforms.Normalize(resnet_model.hparams['mean_dataset'], resnet_model.hparams['std_dataset'])\n",
    "            ]\n",
    "transform = transforms.Compose(transform)\n",
    "# 2. Train Dataloader\n",
    "dm = ImageDataModule    ( batch_size  = 32,\n",
    "                          label_encoder    = le_encoder_graphics,\n",
    "                          data_path        = str(DATA_PATH), \n",
    "                          base_img_dir     = str(BASE_IMG_DIR),\n",
    "                          seed             = SEED,   \n",
    "                          image_transforms = [transform,transform,transform],\n",
    "                          num_workers      = 72,\n",
    "                          target_class_col ='split_set',\n",
    "                          modality_col     ='modality',\n",
    "                          path_col         ='img_path',\n",
    "                          shuffle_train    = False) # Not Shuffling Train\n",
    "dm.prepare_data()\n",
    "dm.setup()\n",
    "\n",
    "# 3. Model\n",
    "FE = ResNetFeatureExtractor(parts_resnet[1]).to('cuda')\n",
    "train_dataloader = dm.train_dataloader()\n",
    "fe_matrix        = get_vector_representation(train_dataloader,FE,'cuda')"
   ]
  },
  {
   "cell_type": "markdown",
   "metadata": {},
   "source": [
    "## 3.Embedding Projection"
   ]
  },
  {
   "cell_type": "markdown",
   "metadata": {},
   "source": [
    "## 3.1 Umap "
   ]
  },
  {
   "cell_type": "markdown",
   "metadata": {},
   "source": [
    "### 3.1.1 Train Set"
   ]
  },
  {
   "cell_type": "code",
   "execution_count": 21,
   "metadata": {},
   "outputs": [
    {
     "name": "stdout",
     "output_type": "stream",
     "text": [
      "CPU times: user 8min 58s, sys: 12min 24s, total: 21min 22s\n",
      "Wall time: 8min 35s\n"
     ]
    },
    {
     "data": {
      "text/plain": [
       "UMAP(dens_frac=0.0, dens_lambda=0.0, random_state=42)"
      ]
     },
     "execution_count": 21,
     "metadata": {},
     "output_type": "execute_result"
    }
   ],
   "source": [
    "%%time\n",
    "reducer = umap.UMAP(random_state=42)\n",
    "reducer.fit(fe_matrix)"
   ]
  },
  {
   "cell_type": "code",
   "execution_count": 27,
   "metadata": {},
   "outputs": [
    {
     "data": {
      "image/png": "[encoded data removed]",
      "text/plain": [
       "<Figure size 432x288 with 1 Axes>"
      ]
     },
     "metadata": {},
     "output_type": "display_data"
    }
   ],
   "source": [
    "embedding = reducer.transform(fe_matrix)\n",
    "plt.scatter(embedding[:, 0], embedding[:, 1], c=le_encoder_graphics.transform(df[df['split_set']=='TRAIN'].reset_index(drop = True).modality), cmap='Spectral', s=5)\n",
    "plt.gca().set_aspect('equal', 'datalim')\n",
    "plt.title('UMAP projection on Graphics dataset', fontsize=12);"
   ]
  },
  {
   "cell_type": "code",
   "execution_count": 29,
   "metadata": {},
   "outputs": [],
   "source": [
    "#fe_model = ResNetFeatureExtractor(parts_resnet[1]).to('cuda')\n",
    "#fe_matrix_gfig = get_vector_representation(test_dataloader,fe_model,'cuda')"
   ]
  }
 ],
 "metadata": {
  "kernelspec": {
   "display_name": "Python 3",
   "language": "python",
   "name": "python3"
  },
  "language_info": {
   "codemirror_mode": {
    "name": "ipython",
    "version": 3
   },
   "file_extension": ".py",
   "mimetype": "text/x-python",
   "name": "python",
   "nbconvert_exporter": "python",
   "pygments_lexer": "ipython3",
   "version": "3.6.9"
  }
 },
 "nbformat": 4,
 "nbformat_minor": 4
}
