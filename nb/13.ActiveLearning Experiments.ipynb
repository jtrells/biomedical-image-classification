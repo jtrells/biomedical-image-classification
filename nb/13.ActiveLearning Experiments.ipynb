{
 "cells": [
  {
   "cell_type": "markdown",
   "metadata": {},
   "source": [
    "## 1. Importing Libraries"
   ]
  },
  {
   "cell_type": "code",
   "execution_count": 13,
   "metadata": {},
   "outputs": [],
   "source": [
    "import os\n",
    "import sys\n",
    "module_path = \"../src\"\n",
    "#os.environ[\"WANDB_SILENT\"] = \"true\" # Environment Variable to make wandb silent\n",
    "if module_path not in sys.path:\n",
    "    sys.path.append(module_path)"
   ]
  },
  {
   "cell_type": "code",
   "execution_count": 14,
   "metadata": {},
   "outputs": [],
   "source": [
    "# 1. General Libraries\n",
    "import pandas as pd\n",
    "import numpy as np\n",
    "from pathlib import Path\n",
    "from skimage import io\n",
    "import yaml\n",
    "from iterstrat.ml_stratifiers import MultilabelStratifiedKFold\n",
    "import matplotlib.pyplot as plt\n",
    "# 2. DataModule & Class Libraries\n",
    "from utils.label_encoder import label_encoder_target\n",
    "from utils.calc_stat import calc_dataset_mean_std\n",
    "from utils.ModelPrediction import get_prediction,all_pred\n",
    "from dataset.ImageDataModule import ImageDataModule\n",
    "from dataset.ImageDataset import ImageDataset, EvalImageDataset\n",
    "from models.EfficientNetClass import EfficientNetClass\n",
    "from models.ResNetClass import ResNetClass\n",
    "from sklearn.model_selection import train_test_split\n",
    "# 3. Pytorch & Pytorch Lightning Libraries\n",
    "from pytorch_lightning import Trainer,seed_everything\n",
    "from torchvision import transforms\n",
    "from pytorch_lightning.callbacks import LearningRateMonitor\n",
    "from pytorch_lightning.callbacks.early_stopping import EarlyStopping\n",
    "from pytorch_lightning.loggers import WandbLogger\n",
    "from torch.utils.data import DataLoader\n",
    "from pytorch_lightning.callbacks import ModelCheckpoint\n",
    "import torch\n",
    "import torch.nn as nn\n",
    "from tqdm.notebook import tqdm\n",
    "# 4. Wandb Tracker Experiements\n",
    "import wandb"
   ]
  },
  {
   "cell_type": "code",
   "execution_count": 15,
   "metadata": {},
   "outputs": [],
   "source": [
    "DATA_PATH      = '../data/ActiveLearning/'\n",
    "BASE_IMG_DIR   = '/mnt/subfigure-classification'\n",
    "SEED           = 42\n",
    "METRIC_MONITOR = \"val_avg_loss\"\n",
    "CRITERIA         = 'lc'     \n",
    "SAMPLES        = 100\n",
    "DELTA          = 0.05\n",
    "DELTA_RATIO    = 0.033\n",
    "MAXIMUM_INTERATIONS = 10\n",
    "MAX_EPOCHS     = 100 \n",
    "OUTPUT_DIR     = '/mnt/artifacts/active_learning/higher_modality'"
   ]
  },
  {
   "cell_type": "markdown",
   "metadata": {},
   "source": [
    "# Reference Code\n",
    "+ https://blog.scaleway.com/active-learning-pytorch/\n",
    "+ https://github.com/dhaalves/CEAL_keras/blob/master/CEAL_keras.py\n",
    "+ http://www.robertmunro.com/\n",
    "+ https://github.com/ej0cl6/deep-active-learning\n",
    "+ Book: https://www.manning.com/books/human-in-the-loop-machine-learning"
   ]
  },
  {
   "cell_type": "code",
   "execution_count": 4,
   "metadata": {},
   "outputs": [],
   "source": [
    "def initialize_dataset(csv_route,new_col='split_set_al'):\n",
    "    df           = pd.read_csv(csv_route,sep = '\\t')\n",
    "    df_labeled   = df[df['labeled']=='LABELED'].reset_index(drop = True)\n",
    "    df_unlabaled = df[df['labeled']=='UNLABELED'].reset_index(drop = True)\n",
    "    df_test      = df[df['labeled']=='TEST'].reset_index(drop = True)\n",
    "    df_test[new_col] = df_test['labeled']\n",
    "    df_train_labeled,df_val_labeled,_,_ = train_test_split(df_labeled.copy(),df_labeled['higher_modality'].copy(),random_state=SEED)\n",
    "    df_train_labeled[new_col] = 'TRAIN'\n",
    "    df_val_labeled[new_col]   = 'VAL'\n",
    "    df_start_labeled   = pd.concat([df_train_labeled,df_val_labeled,df_test]).reset_index(drop = True)\n",
    "    df_start_unlabaled = df_unlabaled.copy()\n",
    "    \n",
    "    \n",
    "    df_start_labeled.to_csv(os.path.join(DATA_PATH,'Labeled_Pool_0.csv'),index = False,sep = '\\t')\n",
    "    df_start_unlabaled.to_csv(os.path.join(DATA_PATH,'Unlabeled_Pool.csv'),index = False,sep = '\\t')"
   ]
  },
  {
   "cell_type": "code",
   "execution_count": 5,
   "metadata": {},
   "outputs": [],
   "source": [
    "def split_dataset(df_labeled,col= 'split_set_al'):\n",
    "    df_train_labeled,df_val_labeled,_,_ = train_test_split(df_labeled.copy(),df_labeled['higher_modality'].copy(),random_state=SEED)\n",
    "    df_train_labeled[col] = 'TRAIN'\n",
    "    df_val_labeled[col]   = 'VAL'\n",
    "    return pd.concat([df_train_labeled,df_val_labeled]).reset_index(drop = True)"
   ]
  },
  {
   "cell_type": "code",
   "execution_count": 6,
   "metadata": {},
   "outputs": [],
   "source": [
    "def get_probs(data_loader, model, device):\n",
    "    # Put the model in eval mode\n",
    "    model.eval()\n",
    "    m = nn.Softmax(dim=1)\n",
    "    # List for store final predictions\n",
    "    final_probs = []\n",
    "    with torch.no_grad():\n",
    "        tk0 = tqdm(data_loader, total=len(data_loader))\n",
    "        for b_idx, data in enumerate(tk0):\n",
    "            data  = data.to(device)\n",
    "            probs = model(data)\n",
    "            probs = m(probs)\n",
    "            final_probs.append(probs.cpu())\n",
    "    return np.vstack(final_probs)"
   ]
  },
  {
   "cell_type": "code",
   "execution_count": 7,
   "metadata": {},
   "outputs": [],
   "source": [
    "# Random sampling\n",
    "def random_sampling(y_pred_prob, n_samples):\n",
    "    return np.random.choice(range(len(y_pred_prob)), n_samples)\n",
    "\n",
    "# Rank all the unlabeled samples in an ascending order according to the least confidence\n",
    "def least_confidence(y_pred_prob, n_samples):\n",
    "    origin_index = np.arange(0, len(y_pred_prob))\n",
    "    max_prob = np.max(y_pred_prob, axis=1)\n",
    "    pred_label = np.argmax(y_pred_prob, axis=1)\n",
    "\n",
    "    lci = np.column_stack((origin_index,\n",
    "                           max_prob,\n",
    "                           pred_label))\n",
    "    lci = lci[lci[:, 1].argsort()]\n",
    "    return lci[:, 0].astype(int)[:n_samples]\n",
    "\n",
    "\n",
    "# Rank all the unlabeled samples in an ascending order according to the margin sampling\n",
    "def margin_sampling(y_pred_prob, n_samples):\n",
    "    origin_index = np.arange(0, len(y_pred_prob))\n",
    "    margim_sampling = np.diff(-np.sort(y_pred_prob)[:, ::-1][:, :2])\n",
    "    pred_label = np.argmax(y_pred_prob, axis=1)\n",
    "    msi = np.column_stack((origin_index,\n",
    "                           margim_sampling,\n",
    "                           pred_label))\n",
    "    msi = msi[msi[:, 1].argsort()]\n",
    "    return msi[:n_samples], msi[:, 0].astype(int)[:n_samples]\n",
    "\n",
    "\n",
    "# Rank all the unlabeled samples in an descending order according to their entropy\n",
    "def entropy(y_pred_prob, n_samples):\n",
    "    # entropy = stats.entropy(y_pred_prob.T)\n",
    "    # entropy = np.nan_to_num(entropy)\n",
    "    origin_index = np.arange(0, len(y_pred_prob))\n",
    "    entropy = -np.nansum(np.multiply(y_pred_prob, np.log(y_pred_prob)), axis=1)\n",
    "    pred_label = np.argmax(y_pred_prob, axis=1)\n",
    "    eni = np.column_stack((origin_index,\n",
    "                           entropy,\n",
    "                           pred_label))\n",
    "\n",
    "    eni = eni[(-eni[:, 1]).argsort()]\n",
    "    return eni[:n_samples], eni[:, 0].astype(int)[:n_samples]\n",
    "\n",
    "\n",
    "def get_high_confidence_samples(y_pred_prob, delta):\n",
    "    eni, eni_idx = entropy(y_pred_prob, len(y_pred_prob))\n",
    "    hcs = eni[eni[:, 1] < delta]\n",
    "    return hcs[:, 0].astype(int), hcs[:, 2].astype(int)\n",
    "\n",
    "\n",
    "def get_uncertain_samples(y_pred_prob, n_samples, criteria):\n",
    "    if criteria == 'lc':\n",
    "        return least_confidence(y_pred_prob, n_samples)\n",
    "    elif criteria == 'ms':\n",
    "        return margin_sampling(y_pred_prob, n_samples)\n",
    "    elif criteria == 'en':\n",
    "        return entropy(y_pred_prob, n_samples)\n",
    "    elif criteria == 'rs':\n",
    "        return None, random_sampling(y_pred_prob, n_samples)\n",
    "    else:\n",
    "        raise ValueError(\n",
    "            'Unknown criteria value \\'%s\\', use one of [\\'rs\\',\\'lc\\',\\'ms\\',\\'en\\']' % criteria)\n"
   ]
  },
  {
   "cell_type": "markdown",
   "metadata": {},
   "source": [
    "## Dividing Dataset For Experiments\n",
    "\n",
    "+ Split fot the test set is almost 30% percent, We can keep this in order to test our models in active learning\n",
    "+ We start with a 10% of labeled images that would be extracted in a stratified way and then we would keep adding images from the unlabeled batch"
   ]
  },
  {
   "cell_type": "code",
   "execution_count": 8,
   "metadata": {},
   "outputs": [
    {
     "name": "stderr",
     "output_type": "stream",
     "text": [
      "/usr/local/lib/python3.6/dist-packages/sklearn/utils/validation.py:72: FutureWarning: Pass shuffle=False, random_state=None as keyword args. From version 1.0 (renaming of 0.25) passing these as positional arguments will result in an error\n",
      "  \"will result in an error\", FutureWarning)\n"
     ]
    }
   ],
   "source": [
    "df_higher_modality     = pd.read_csv('../data/higher_modality_vol1.csv',sep = '\\t').drop(columns = ['caption','split_set'])\n",
    "df_hm_train,df_hm_test = df_higher_modality[df_higher_modality['set']=='TRAIN'].reset_index(drop = True), df_higher_modality[df_higher_modality['set']=='TEST'].reset_index(drop = True)\n",
    "df_hm_train['labeled'] = 'UNLABELED'\n",
    "mskf = MultilabelStratifiedKFold(n_splits = 10, shuffle = False)\n",
    "for fold,(train_index, test_index) in enumerate(mskf.split(df_hm_train, df_hm_train[['source','higher_modality']])):\n",
    "    if fold == 0:   \n",
    "        df_hm_train.loc[test_index,'labeled'] = 'LABELED'\n",
    "\n",
    "# Dataset for Active Learning\n",
    "df_al = pd.concat([df_hm_train,df_hm_test],axis = 0)\n",
    "df_al['labeled'] = df_al['labeled'].fillna('TEST') # For Test Set\n",
    "df_al.to_csv('../data/higher_modality_al.csv',sep = '\\t',index = False)"
   ]
  },
  {
   "cell_type": "code",
   "execution_count": 9,
   "metadata": {},
   "outputs": [
    {
     "data": {
      "text/plain": [
       "UNLABELED    9244\n",
       "TEST         4097\n",
       "LABELED      1027\n",
       "Name: labeled, dtype: int64"
      ]
     },
     "execution_count": 9,
     "metadata": {},
     "output_type": "execute_result"
    }
   ],
   "source": [
    "pd.read_csv('../data/higher_modality_al.csv',sep = '\\t')['labeled'].value_counts()"
   ]
  },
  {
   "cell_type": "code",
   "execution_count": 10,
   "metadata": {},
   "outputs": [],
   "source": [
    "os.makedirs(DATA_PATH,exist_ok=True)"
   ]
  },
  {
   "cell_type": "markdown",
   "metadata": {},
   "source": [
    "## Active Learning"
   ]
  },
  {
   "cell_type": "code",
   "execution_count": 163,
   "metadata": {},
   "outputs": [
    {
     "data": {
      "text/plain": [
       "{'EXPERIMENTAL': 0,\n",
       " 'GRAPHICS': 1,\n",
       " 'MICROSCOPY': 2,\n",
       " 'MOLECULAR': 3,\n",
       " 'ORGANISMS': 4,\n",
       " 'OTHER': 5}"
      ]
     },
     "execution_count": 163,
     "metadata": {},
     "output_type": "execute_result"
    }
   ],
   "source": [
    "df_higher_modality_al = pd.read_csv('../data/higher_modality_al.csv',sep= '\\t')\n",
    "df = pd.read_csv('../data/higher_modality_al.csv', sep='\\t')\n",
    "le_encoder_higher_modality,dict_label = label_encoder_target(df)\n",
    "del df\n",
    "dict_label"
   ]
  },
  {
   "cell_type": "code",
   "execution_count": 44,
   "metadata": {},
   "outputs": [],
   "source": [
    "# Transformations for mean_std\n",
    "transform_mean_std =  transforms.Compose([\n",
    "                                         transforms.ToPILImage(),\n",
    "                                         transforms.Resize((224, 224)),\n",
    "                                         transforms.ToTensor()])\n",
    "\n",
    "\n",
    "\n",
    "# Transformations for train_val_test\n",
    "train_transform = transforms.Compose([\n",
    "                    transforms.ToPILImage(),\n",
    "                    transforms.Resize((256, 256)),\n",
    "                    transforms.RandomHorizontalFlip(p=0.5),\n",
    "                    transforms.RandomRotation(15),\n",
    "                    transforms.CenterCrop((224,224)),\n",
    "                    transforms.ToTensor(),\n",
    "                    transforms.Normalize(mean,std)\n",
    "                ])\n",
    "\n",
    "val_transform = transforms.Compose([\n",
    "                transforms.ToPILImage(),\n",
    "                transforms.Resize((224, 224)),\n",
    "                transforms.ToTensor(),\n",
    "                transforms.Normalize(mean,std)\n",
    "                ])"
   ]
  },
  {
   "cell_type": "markdown",
   "metadata": {},
   "source": [
    "### 1.First Step is get the mean and standard deviation\n"
   ]
  },
  {
   "cell_type": "code",
   "execution_count": 283,
   "metadata": {},
   "outputs": [],
   "source": [
    "count     = 0 # Starting the active learning "
   ]
  },
  {
   "cell_type": "code",
   "execution_count": 297,
   "metadata": {},
   "outputs": [
    {
     "name": "stdout",
     "output_type": "stream",
     "text": [
      "****** Active learning: 3***********\n"
     ]
    },
    {
     "data": {
      "application/vnd.jupyter.widget-view+json": {
       "model_id": "5e714ca57e384e4a82533a01a91ae3cc",
       "version_major": 2,
       "version_minor": 0
      },
      "text/plain": [
       "HBox(children=(FloatProgress(value=0.0, max=74.0), HTML(value='')))"
      ]
     },
     "metadata": {},
     "output_type": "display_data"
    },
    {
     "name": "stdout",
     "output_type": "stream",
     "text": [
      "\n"
     ]
    },
    {
     "data": {
      "application/vnd.jupyter.widget-view+json": {
       "model_id": "4f29f71f874041c7b5a8b877ab41f86c",
       "version_major": 2,
       "version_minor": 0
      },
      "text/plain": [
       "HBox(children=(FloatProgress(value=0.0, max=74.0), HTML(value='')))"
      ]
     },
     "metadata": {},
     "output_type": "display_data"
    },
    {
     "name": "stdout",
     "output_type": "stream",
     "text": [
      "\n",
      "Mean:  tensor([0.4847, 0.4597, 0.4630])\n",
      "Std :  tensor([0.3808, 0.3798, 0.3913])\n"
     ]
    }
   ],
   "source": [
    "print(f'****** Active learning: {count}***********')\n",
    "initialize_dataset('../data/higher_modality_al.csv')\n",
    "train_dataset   = ImageDataset    (os.path.join(DATA_PATH,f'Labeled_Pool_{count}.csv'),\n",
    "                                  le_encoder_higher_modality,\n",
    "                                  str(BASE_IMG_DIR),\n",
    "                                  'TRAIN',\n",
    "                                  image_transform=transform_mean_std,\n",
    "                                  label_name='higher_modality',\n",
    "                                  target_class_col='split_set_al',\n",
    "                                  path_col='img_path')\n",
    "\n",
    "mean, std =calc_dataset_mean_std(train_dataset, batch_size=32, num_workers=72)\n",
    "print(f\"Mean:  {mean}\")\n",
    "print(f\"Std :  {std}\")"
   ]
  },
  {
   "cell_type": "markdown",
   "metadata": {},
   "source": [
    "### 2. Second Step is Modeling"
   ]
  },
  {
   "cell_type": "code",
   "execution_count": 298,
   "metadata": {},
   "outputs": [
    {
     "name": "stderr",
     "output_type": "stream",
     "text": [
      "GPU available: True, used: True\n",
      "TPU available: None, using: 0 TPU cores\n",
      "LOCAL_RANK: 0 - CUDA_VISIBLE_DEVICES: [0]\n",
      "\n",
      "  | Name      | Type             | Params\n",
      "-----------------------------------------------\n",
      "0 | criterion | CrossEntropyLoss | 0     \n",
      "1 | model     | ResNet           | 23.5 M\n",
      "-----------------------------------------------\n",
      "23.5 M    Trainable params\n",
      "0         Non-trainable params\n",
      "23.5 M    Total params\n"
     ]
    },
    {
     "data": {
      "application/vnd.jupyter.widget-view+json": {
       "model_id": "6c9ac7e71f5548d2a6873f654dc1899c",
       "version_major": 2,
       "version_minor": 0
      },
      "text/plain": [
       "HBox(children=(FloatProgress(value=1.0, bar_style='info', description='Training', layout=Layout(flex='2'), max…"
      ]
     },
     "metadata": {},
     "output_type": "display_data"
    },
    {
     "data": {
      "application/vnd.jupyter.widget-view+json": {
       "model_id": "",
       "version_major": 2,
       "version_minor": 0
      },
      "text/plain": [
       "HBox(children=(FloatProgress(value=1.0, bar_style='info', description='Validating', layout=Layout(flex='2'), m…"
      ]
     },
     "metadata": {},
     "output_type": "display_data"
    },
    {
     "data": {
      "application/vnd.jupyter.widget-view+json": {
       "model_id": "",
       "version_major": 2,
       "version_minor": 0
      },
      "text/plain": [
       "HBox(children=(FloatProgress(value=1.0, bar_style='info', description='Validating', layout=Layout(flex='2'), m…"
      ]
     },
     "metadata": {},
     "output_type": "display_data"
    },
    {
     "name": "stdout",
     "output_type": "stream",
     "text": [
      "\n"
     ]
    },
    {
     "data": {
      "text/plain": [
       "1"
      ]
     },
     "execution_count": 298,
     "metadata": {},
     "output_type": "execute_result"
    }
   ],
   "source": [
    "dm = ImageDataModule( batch_size           = 32,\n",
    "                          label_encoder    = le_encoder_higher_modality,\n",
    "                          data_path        = os.path.join(DATA_PATH,f'Labeled_Pool_{count}.csv'),\n",
    "                          base_img_dir     = str(BASE_IMG_DIR),\n",
    "                          seed             = SEED,   \n",
    "                          image_transforms = [train_transform,val_transform,val_transform],\n",
    "                          num_workers      = 72,\n",
    "                          target_class_col ='split_set_al',\n",
    "                          modality_col     ='higher_modality',\n",
    "                          path_col         ='img_path')\n",
    "dm.prepare_data()\n",
    "dm.setup()\n",
    "dm.set_seed()\n",
    "\n",
    "early_stop_callback = EarlyStopping(\n",
    "    monitor   = METRIC_MONITOR,\n",
    "    min_delta = 0.0,\n",
    "    patience  = 5,\n",
    "    verbose   = True,\n",
    "    mode      = 'min'\n",
    ")\n",
    "# setup model - note how we refer to sweep parameters with wandb.config\n",
    "num_classes = 6\n",
    "model = ResNetClass      (name            = 'resnet50',\n",
    "                          num_classes     = num_classes,\n",
    "                          pretrained      = True,\n",
    "                          fine_tuned_from = 'whole',\n",
    "                          lr              = 1e-3,\n",
    "                          metric_monitor  = METRIC_MONITOR,\n",
    "                          mode_scheduler  = \"min\",\n",
    "                          class_weights   = dm.class_weights,\n",
    "                          mean_dataset    = mean,\n",
    "                          std_dataset     = std)\n",
    "\n",
    "\n",
    "# setup Trainer\n",
    "trainer = Trainer(gpus=1,\n",
    "              max_epochs=2,                  \n",
    "              callbacks=[early_stop_callback],\n",
    "              deterministic= True,\n",
    "              logger = None,\n",
    "              num_sanity_val_steps=0)\n",
    "\n",
    "# train\n",
    "trainer.fit(model, dm)"
   ]
  },
  {
   "cell_type": "markdown",
   "metadata": {},
   "source": [
    "### 3. Get Confident and uncertain predictions"
   ]
  },
  {
   "cell_type": "code",
   "execution_count": 278,
   "metadata": {},
   "outputs": [
    {
     "data": {
      "text/html": [
       "<div>\n",
       "<style scoped>\n",
       "    .dataframe tbody tr th:only-of-type {\n",
       "        vertical-align: middle;\n",
       "    }\n",
       "\n",
       "    .dataframe tbody tr th {\n",
       "        vertical-align: top;\n",
       "    }\n",
       "\n",
       "    .dataframe thead th {\n",
       "        text-align: right;\n",
       "    }\n",
       "</style>\n",
       "<table border=\"1\" class=\"dataframe\">\n",
       "  <thead>\n",
       "    <tr style=\"text-align: right;\">\n",
       "      <th></th>\n",
       "      <th>img</th>\n",
       "      <th>modality</th>\n",
       "      <th>set</th>\n",
       "      <th>source</th>\n",
       "      <th>img_path</th>\n",
       "      <th>higher_modality</th>\n",
       "      <th>labeled</th>\n",
       "    </tr>\n",
       "  </thead>\n",
       "  <tbody>\n",
       "    <tr>\n",
       "      <th>0</th>\n",
       "      <td>11373_2007_9226_Fig1_HTML-10.jpg</td>\n",
       "      <td>DMFL</td>\n",
       "      <td>TRAIN</td>\n",
       "      <td>clef16</td>\n",
       "      <td>2016/train/DMFL/11373_2007_9226_Fig1_HTML-10.jpg</td>\n",
       "      <td>MICROSCOPY</td>\n",
       "      <td>UNLABELED</td>\n",
       "    </tr>\n",
       "    <tr>\n",
       "      <th>1</th>\n",
       "      <td>11373_2007_9226_Fig1_HTML-11.jpg</td>\n",
       "      <td>DMFL</td>\n",
       "      <td>TRAIN</td>\n",
       "      <td>clef16</td>\n",
       "      <td>2016/train/DMFL/11373_2007_9226_Fig1_HTML-11.jpg</td>\n",
       "      <td>MICROSCOPY</td>\n",
       "      <td>UNLABELED</td>\n",
       "    </tr>\n",
       "    <tr>\n",
       "      <th>2</th>\n",
       "      <td>11373_2007_9226_Fig1_HTML-12.jpg</td>\n",
       "      <td>DMFL</td>\n",
       "      <td>TRAIN</td>\n",
       "      <td>clef16</td>\n",
       "      <td>2016/train/DMFL/11373_2007_9226_Fig1_HTML-12.jpg</td>\n",
       "      <td>MICROSCOPY</td>\n",
       "      <td>UNLABELED</td>\n",
       "    </tr>\n",
       "    <tr>\n",
       "      <th>3</th>\n",
       "      <td>11373_2007_9226_Fig1_HTML-13.jpg</td>\n",
       "      <td>DMFL</td>\n",
       "      <td>TRAIN</td>\n",
       "      <td>clef16</td>\n",
       "      <td>2016/train/DMFL/11373_2007_9226_Fig1_HTML-13.jpg</td>\n",
       "      <td>MICROSCOPY</td>\n",
       "      <td>UNLABELED</td>\n",
       "    </tr>\n",
       "    <tr>\n",
       "      <th>4</th>\n",
       "      <td>11373_2007_9226_Fig1_HTML-14.jpg</td>\n",
       "      <td>DMFL</td>\n",
       "      <td>TRAIN</td>\n",
       "      <td>clef16</td>\n",
       "      <td>2016/train/DMFL/11373_2007_9226_Fig1_HTML-14.jpg</td>\n",
       "      <td>MICROSCOPY</td>\n",
       "      <td>UNLABELED</td>\n",
       "    </tr>\n",
       "  </tbody>\n",
       "</table>\n",
       "</div>"
      ],
      "text/plain": [
       "                                img modality    set  source  \\\n",
       "0  11373_2007_9226_Fig1_HTML-10.jpg     DMFL  TRAIN  clef16   \n",
       "1  11373_2007_9226_Fig1_HTML-11.jpg     DMFL  TRAIN  clef16   \n",
       "2  11373_2007_9226_Fig1_HTML-12.jpg     DMFL  TRAIN  clef16   \n",
       "3  11373_2007_9226_Fig1_HTML-13.jpg     DMFL  TRAIN  clef16   \n",
       "4  11373_2007_9226_Fig1_HTML-14.jpg     DMFL  TRAIN  clef16   \n",
       "\n",
       "                                           img_path higher_modality    labeled  \n",
       "0  2016/train/DMFL/11373_2007_9226_Fig1_HTML-10.jpg      MICROSCOPY  UNLABELED  \n",
       "1  2016/train/DMFL/11373_2007_9226_Fig1_HTML-11.jpg      MICROSCOPY  UNLABELED  \n",
       "2  2016/train/DMFL/11373_2007_9226_Fig1_HTML-12.jpg      MICROSCOPY  UNLABELED  \n",
       "3  2016/train/DMFL/11373_2007_9226_Fig1_HTML-13.jpg      MICROSCOPY  UNLABELED  \n",
       "4  2016/train/DMFL/11373_2007_9226_Fig1_HTML-14.jpg      MICROSCOPY  UNLABELED  "
      ]
     },
     "execution_count": 278,
     "metadata": {},
     "output_type": "execute_result"
    }
   ],
   "source": [
    "df_unlabeled = pd.read_csv(os.path.join(DATA_PATH,f'Unlabeled_Pool.csv'),sep = '\\t')\n",
    "df_unlabeled.head()"
   ]
  },
  {
   "cell_type": "code",
   "execution_count": 299,
   "metadata": {},
   "outputs": [
    {
     "data": {
      "application/vnd.jupyter.widget-view+json": {
       "model_id": "2781679aa6244b668b9f39b01e57e2f9",
       "version_major": 2,
       "version_minor": 0
      },
      "text/plain": [
       "HBox(children=(FloatProgress(value=0.0, max=289.0), HTML(value='')))"
      ]
     },
     "metadata": {},
     "output_type": "display_data"
    },
    {
     "name": "stdout",
     "output_type": "stream",
     "text": [
      "\n"
     ]
    }
   ],
   "source": [
    "## Get the confident samples & uncertain samples\n",
    "df_unlabeled_pool = df_unlabeled[df_unlabeled['labeled']=='UNLABELED'].reset_index(drop = True)\n",
    "df_unlabeled_pool['img_path'] = df_unlabeled_pool['img_path'].apply(lambda x: BASE_IMG_DIR +'/'+ x)\n",
    "unlabeled_dataset= EvalImageDataset (df_unlabeled_copy,\n",
    "                                  image_transform=val_transform,\n",
    "                                  path_col='img_path')\n",
    "\n",
    "unlabeled_dataloader = DataLoader(dataset     = unlabeled_dataset,\n",
    "                          batch_size  = 32,\n",
    "                          shuffle     = False,\n",
    "                          num_workers = 72)\n",
    "unlabeled_probs = get_probs(unlabeled_dataloader,model.to('cuda'),'cuda')"
   ]
  },
  {
   "cell_type": "code",
   "execution_count": 300,
   "metadata": {},
   "outputs": [
    {
     "data": {
      "text/plain": [
       "(9024, 7)"
      ]
     },
     "execution_count": 300,
     "metadata": {},
     "output_type": "execute_result"
    }
   ],
   "source": [
    "df_unlabeled.shape"
   ]
  },
  {
   "cell_type": "code",
   "execution_count": 301,
   "metadata": {},
   "outputs": [],
   "source": [
    "# Getting the dataset for training and validation \n",
    "un_idx       = get_uncertain_samples(unlabeled_probs, SAMPLES,CRITERIA)\n",
    "df_uncertain = df_unlabeled.iloc[un_idx,:].reset_index(drop = True)\n",
    "\n",
    "hc_idx,hc_labels = get_high_confidence_samples(unlabeled_probs,DELTA)\n",
    "df_confidence    = df_unlabeled.iloc[np.array(list(set(hc_idx)-set(un_idx))),:].copy()\n",
    "df_unlabeled.drop(df_unlabeled.index[np.array(list(set(hc_idx)|set(un_idx)))],inplace = True)\n",
    "\n",
    "df_confidence.loc[hc_idx,'higher_modality'] = le_encoder_higher_modality.inverse_transform(hc_labels)\n",
    "df_confidence = df_confidence.reset_index(drop = True)\n",
    "\n",
    "df_new_dataset = pd.concat([df_uncertain,df_confidence]).reset_index(drop = True)\n",
    "df_new_dataset['labeled'] = 'LABELED'\n",
    "df_new_dataset = split_dataset(df_new_dataset)"
   ]
  },
  {
   "cell_type": "code",
   "execution_count": 302,
   "metadata": {},
   "outputs": [
    {
     "data": {
      "text/html": [
       "<div>\n",
       "<style scoped>\n",
       "    .dataframe tbody tr th:only-of-type {\n",
       "        vertical-align: middle;\n",
       "    }\n",
       "\n",
       "    .dataframe tbody tr th {\n",
       "        vertical-align: top;\n",
       "    }\n",
       "\n",
       "    .dataframe thead th {\n",
       "        text-align: right;\n",
       "    }\n",
       "</style>\n",
       "<table border=\"1\" class=\"dataframe\">\n",
       "  <thead>\n",
       "    <tr style=\"text-align: right;\">\n",
       "      <th></th>\n",
       "      <th>img</th>\n",
       "      <th>modality</th>\n",
       "      <th>set</th>\n",
       "      <th>source</th>\n",
       "      <th>img_path</th>\n",
       "      <th>higher_modality</th>\n",
       "      <th>labeled</th>\n",
       "      <th>split_set_al</th>\n",
       "    </tr>\n",
       "  </thead>\n",
       "  <tbody>\n",
       "    <tr>\n",
       "      <th>0</th>\n",
       "      <td>1472-6750-10-32-4-3.jpg</td>\n",
       "      <td>GFIG</td>\n",
       "      <td>TRAIN</td>\n",
       "      <td>clef16</td>\n",
       "      <td>2016/train/GFIG/1472-6750-10-32-4-3.jpg</td>\n",
       "      <td>GRAPHICS</td>\n",
       "      <td>LABELED</td>\n",
       "      <td>TRAIN</td>\n",
       "    </tr>\n",
       "    <tr>\n",
       "      <th>1</th>\n",
       "      <td>1475-2867-6-22-3-4.jpg</td>\n",
       "      <td>GGEL</td>\n",
       "      <td>TRAIN</td>\n",
       "      <td>clef16</td>\n",
       "      <td>2016/train/GGEL/1475-2867-6-22-3-4.jpg</td>\n",
       "      <td>EXPERIMENTAL</td>\n",
       "      <td>LABELED</td>\n",
       "      <td>TRAIN</td>\n",
       "    </tr>\n",
       "    <tr>\n",
       "      <th>2</th>\n",
       "      <td>1465-9921-12-111-2-5.jpg</td>\n",
       "      <td>DMLI</td>\n",
       "      <td>TRAIN</td>\n",
       "      <td>clef16</td>\n",
       "      <td>2016/train/DMLI/1465-9921-12-111-2-5.jpg</td>\n",
       "      <td>MICROSCOPY</td>\n",
       "      <td>LABELED</td>\n",
       "      <td>TRAIN</td>\n",
       "    </tr>\n",
       "    <tr>\n",
       "      <th>3</th>\n",
       "      <td>1744-9081-2-18-2-4.jpg</td>\n",
       "      <td>GFIG</td>\n",
       "      <td>TRAIN</td>\n",
       "      <td>clef16</td>\n",
       "      <td>2016/train/GFIG/1744-9081-2-18-2-4.jpg</td>\n",
       "      <td>GRAPHICS</td>\n",
       "      <td>LABELED</td>\n",
       "      <td>TRAIN</td>\n",
       "    </tr>\n",
       "    <tr>\n",
       "      <th>4</th>\n",
       "      <td>1471-2105-10-157-2-6.jpg</td>\n",
       "      <td>GFIG</td>\n",
       "      <td>TRAIN</td>\n",
       "      <td>clef16</td>\n",
       "      <td>2016/train/GFIG/1471-2105-10-157-2-6.jpg</td>\n",
       "      <td>GRAPHICS</td>\n",
       "      <td>LABELED</td>\n",
       "      <td>TRAIN</td>\n",
       "    </tr>\n",
       "    <tr>\n",
       "      <th>...</th>\n",
       "      <td>...</td>\n",
       "      <td>...</td>\n",
       "      <td>...</td>\n",
       "      <td>...</td>\n",
       "      <td>...</td>\n",
       "      <td>...</td>\n",
       "      <td>...</td>\n",
       "      <td>...</td>\n",
       "    </tr>\n",
       "    <tr>\n",
       "      <th>95</th>\n",
       "      <td>1471-2202-11-97-2-3.jpg</td>\n",
       "      <td>DMTR</td>\n",
       "      <td>TRAIN</td>\n",
       "      <td>clef16</td>\n",
       "      <td>2016/train/DMTR/1471-2202-11-97-2-3.jpg</td>\n",
       "      <td>MICROSCOPY</td>\n",
       "      <td>LABELED</td>\n",
       "      <td>VAL</td>\n",
       "    </tr>\n",
       "    <tr>\n",
       "      <th>96</th>\n",
       "      <td>1746-1448-1-10-15-2.jpg</td>\n",
       "      <td>GFIG</td>\n",
       "      <td>TRAIN</td>\n",
       "      <td>clef16</td>\n",
       "      <td>2016/train/GFIG/1746-1448-1-10-15-2.jpg</td>\n",
       "      <td>GRAPHICS</td>\n",
       "      <td>LABELED</td>\n",
       "      <td>VAL</td>\n",
       "    </tr>\n",
       "    <tr>\n",
       "      <th>97</th>\n",
       "      <td>1471-2121-9-1-4-1.jpg</td>\n",
       "      <td>DMFL</td>\n",
       "      <td>TRAIN</td>\n",
       "      <td>clef16</td>\n",
       "      <td>2016/train/DMFL/1471-2121-9-1-4-1.jpg</td>\n",
       "      <td>MICROSCOPY</td>\n",
       "      <td>LABELED</td>\n",
       "      <td>VAL</td>\n",
       "    </tr>\n",
       "    <tr>\n",
       "      <th>98</th>\n",
       "      <td>PMC5030503_ijcpd-04-147-g016.png</td>\n",
       "      <td>DRXR</td>\n",
       "      <td>TRAIN</td>\n",
       "      <td>openi</td>\n",
       "      <td>OPENI_XRAY/PMC5030503_ijcpd-04-147-g016.png</td>\n",
       "      <td>ORGANISMS</td>\n",
       "      <td>LABELED</td>\n",
       "      <td>VAL</td>\n",
       "    </tr>\n",
       "    <tr>\n",
       "      <th>99</th>\n",
       "      <td>1471-2407-10-427-2-6.jpg</td>\n",
       "      <td>GFIG</td>\n",
       "      <td>TRAIN</td>\n",
       "      <td>clef16</td>\n",
       "      <td>2016/train/GFIG/1471-2407-10-427-2-6.jpg</td>\n",
       "      <td>GRAPHICS</td>\n",
       "      <td>LABELED</td>\n",
       "      <td>VAL</td>\n",
       "    </tr>\n",
       "  </tbody>\n",
       "</table>\n",
       "<p>100 rows × 8 columns</p>\n",
       "</div>"
      ],
      "text/plain": [
       "                                 img modality    set  source  \\\n",
       "0            1472-6750-10-32-4-3.jpg     GFIG  TRAIN  clef16   \n",
       "1             1475-2867-6-22-3-4.jpg     GGEL  TRAIN  clef16   \n",
       "2           1465-9921-12-111-2-5.jpg     DMLI  TRAIN  clef16   \n",
       "3             1744-9081-2-18-2-4.jpg     GFIG  TRAIN  clef16   \n",
       "4           1471-2105-10-157-2-6.jpg     GFIG  TRAIN  clef16   \n",
       "..                               ...      ...    ...     ...   \n",
       "95           1471-2202-11-97-2-3.jpg     DMTR  TRAIN  clef16   \n",
       "96           1746-1448-1-10-15-2.jpg     GFIG  TRAIN  clef16   \n",
       "97             1471-2121-9-1-4-1.jpg     DMFL  TRAIN  clef16   \n",
       "98  PMC5030503_ijcpd-04-147-g016.png     DRXR  TRAIN   openi   \n",
       "99          1471-2407-10-427-2-6.jpg     GFIG  TRAIN  clef16   \n",
       "\n",
       "                                       img_path higher_modality  labeled  \\\n",
       "0       2016/train/GFIG/1472-6750-10-32-4-3.jpg        GRAPHICS  LABELED   \n",
       "1        2016/train/GGEL/1475-2867-6-22-3-4.jpg    EXPERIMENTAL  LABELED   \n",
       "2      2016/train/DMLI/1465-9921-12-111-2-5.jpg      MICROSCOPY  LABELED   \n",
       "3        2016/train/GFIG/1744-9081-2-18-2-4.jpg        GRAPHICS  LABELED   \n",
       "4      2016/train/GFIG/1471-2105-10-157-2-6.jpg        GRAPHICS  LABELED   \n",
       "..                                          ...             ...      ...   \n",
       "95      2016/train/DMTR/1471-2202-11-97-2-3.jpg      MICROSCOPY  LABELED   \n",
       "96      2016/train/GFIG/1746-1448-1-10-15-2.jpg        GRAPHICS  LABELED   \n",
       "97        2016/train/DMFL/1471-2121-9-1-4-1.jpg      MICROSCOPY  LABELED   \n",
       "98  OPENI_XRAY/PMC5030503_ijcpd-04-147-g016.png       ORGANISMS  LABELED   \n",
       "99     2016/train/GFIG/1471-2407-10-427-2-6.jpg        GRAPHICS  LABELED   \n",
       "\n",
       "   split_set_al  \n",
       "0         TRAIN  \n",
       "1         TRAIN  \n",
       "2         TRAIN  \n",
       "3         TRAIN  \n",
       "4         TRAIN  \n",
       "..          ...  \n",
       "95          VAL  \n",
       "96          VAL  \n",
       "97          VAL  \n",
       "98          VAL  \n",
       "99          VAL  \n",
       "\n",
       "[100 rows x 8 columns]"
      ]
     },
     "execution_count": 302,
     "metadata": {},
     "output_type": "execute_result"
    }
   ],
   "source": [
    "df_new_dataset"
   ]
  },
  {
   "cell_type": "code",
   "execution_count": 303,
   "metadata": {},
   "outputs": [],
   "source": [
    "df_actual_labeled = pd.read_csv(os.path.join(DATA_PATH,f'Labeled_Pool_{count}.csv'),sep = '\\t')\n",
    "count = count + 1\n",
    "pd.concat([df_actual_labeled,df_new_dataset]).reset_index(drop = True).to_csv(os.path.join(DATA_PATH,f'Labeled_Pool_{count}.csv'),sep ='\\t',index = False)"
   ]
  },
  {
   "cell_type": "markdown",
   "metadata": {},
   "source": [
    "## Putting all in the loop"
   ]
  },
  {
   "cell_type": "code",
   "execution_count": 11,
   "metadata": {},
   "outputs": [],
   "source": [
    "df_higher_modality_al = pd.read_csv('../data/higher_modality_al.csv',sep= '\\t')\n",
    "df = pd.read_csv('../data/higher_modality_al.csv', sep='\\t')\n",
    "le_encoder_higher_modality,dict_label = label_encoder_target(df)\n",
    "del df\n",
    "dict_label\n",
    "\n",
    "\n",
    "# Transformations for mean_std\n",
    "transform_mean_std =  transforms.Compose([\n",
    "                                         transforms.ToPILImage(),\n",
    "                                         transforms.Resize((224, 224)),\n",
    "                                         transforms.ToTensor()])\n",
    "\n",
    "# 1. Generate the pool of labeled Data & Unlabaled data\n",
    "initialize_dataset('../data/higher_modality_al.csv')\n",
    "df_unlabeled = pd.read_csv(os.path.join(DATA_PATH,f'Unlabeled_Pool.csv'),sep = '\\t').reset_index(drop = True)"
   ]
  },
  {
   "cell_type": "code",
   "execution_count": 64,
   "metadata": {},
   "outputs": [
    {
     "name": "stdout",
     "output_type": "stream",
     "text": [
      "Calculate the Mean & Standard Deviation: \n",
      "(1027, 8)\n"
     ]
    },
    {
     "data": {
      "application/vnd.jupyter.widget-view+json": {
       "model_id": "c6d087efaa174a5ab514d3958ae5998d",
       "version_major": 2,
       "version_minor": 0
      },
      "text/plain": [
       "HBox(children=(FloatProgress(value=0.0, max=25.0), HTML(value='')))"
      ]
     },
     "metadata": {},
     "output_type": "display_data"
    },
    {
     "name": "stdout",
     "output_type": "stream",
     "text": [
      "\n"
     ]
    },
    {
     "data": {
      "application/vnd.jupyter.widget-view+json": {
       "model_id": "f10ffd49a80c4437a5079d0e2f728c50",
       "version_major": 2,
       "version_minor": 0
      },
      "text/plain": [
       "HBox(children=(FloatProgress(value=0.0, max=25.0), HTML(value='')))"
      ]
     },
     "metadata": {},
     "output_type": "display_data"
    },
    {
     "name": "stdout",
     "output_type": "stream",
     "text": [
      "\n",
      "Mean of the Dataset: tensor([0.6384, 0.6349, 0.6352]), Std of the Dataset: tensor([0.3725, 0.3706, 0.3733]) \n"
     ]
    },
    {
     "name": "stderr",
     "output_type": "stream",
     "text": [
      "GPU available: True, used: True\n",
      "TPU available: None, using: 0 TPU cores\n",
      "LOCAL_RANK: 0 - CUDA_VISIBLE_DEVICES: [0]\n",
      "\n",
      "  | Name      | Type             | Params\n",
      "-----------------------------------------------\n",
      "0 | criterion | CrossEntropyLoss | 0     \n",
      "1 | model     | ResNet           | 23.5 M\n",
      "-----------------------------------------------\n",
      "23.5 M    Trainable params\n",
      "0         Non-trainable params\n",
      "23.5 M    Total params\n"
     ]
    },
    {
     "data": {
      "application/vnd.jupyter.widget-view+json": {
       "model_id": "6d4645c65daa41e59338053605aafd69",
       "version_major": 2,
       "version_minor": 0
      },
      "text/plain": [
       "HBox(children=(FloatProgress(value=1.0, bar_style='info', description='Training', layout=Layout(flex='2'), max…"
      ]
     },
     "metadata": {},
     "output_type": "display_data"
    },
    {
     "data": {
      "application/vnd.jupyter.widget-view+json": {
       "model_id": "",
       "version_major": 2,
       "version_minor": 0
      },
      "text/plain": [
       "HBox(children=(FloatProgress(value=1.0, bar_style='info', description='Validating', layout=Layout(flex='2'), m…"
      ]
     },
     "metadata": {},
     "output_type": "display_data"
    },
    {
     "data": {
      "application/vnd.jupyter.widget-view+json": {
       "model_id": "",
       "version_major": 2,
       "version_minor": 0
      },
      "text/plain": [
       "HBox(children=(FloatProgress(value=1.0, bar_style='info', description='Validating', layout=Layout(flex='2'), m…"
      ]
     },
     "metadata": {},
     "output_type": "display_data"
    },
    {
     "data": {
      "application/vnd.jupyter.widget-view+json": {
       "model_id": "",
       "version_major": 2,
       "version_minor": 0
      },
      "text/plain": [
       "HBox(children=(FloatProgress(value=1.0, bar_style='info', description='Validating', layout=Layout(flex='2'), m…"
      ]
     },
     "metadata": {},
     "output_type": "display_data"
    },
    {
     "data": {
      "application/vnd.jupyter.widget-view+json": {
       "model_id": "",
       "version_major": 2,
       "version_minor": 0
      },
      "text/plain": [
       "HBox(children=(FloatProgress(value=1.0, bar_style='info', description='Validating', layout=Layout(flex='2'), m…"
      ]
     },
     "metadata": {},
     "output_type": "display_data"
    },
    {
     "data": {
      "application/vnd.jupyter.widget-view+json": {
       "model_id": "",
       "version_major": 2,
       "version_minor": 0
      },
      "text/plain": [
       "HBox(children=(FloatProgress(value=1.0, bar_style='info', description='Validating', layout=Layout(flex='2'), m…"
      ]
     },
     "metadata": {},
     "output_type": "display_data"
    },
    {
     "name": "stdout",
     "output_type": "stream",
     "text": [
      "\n"
     ]
    },
    {
     "data": {
      "application/vnd.jupyter.widget-view+json": {
       "model_id": "17315f7a959b4204b37595df8d6ac4dd",
       "version_major": 2,
       "version_minor": 0
      },
      "text/plain": [
       "HBox(children=(FloatProgress(value=1.0, bar_style='info', description='Testing', layout=Layout(flex='2'), max=…"
      ]
     },
     "metadata": {},
     "output_type": "display_data"
    },
    {
     "name": "stdout",
     "output_type": "stream",
     "text": [
      "Accuracy: 85.86770629882812\n",
      "              precision    recall  f1-score   support\n",
      "\n",
      "         0.0       0.84      0.82      0.83       224\n",
      "         1.0       0.93      0.95      0.94      2133\n",
      "         2.0       0.94      0.79      0.85       873\n",
      "         3.0       0.62      0.51      0.56       260\n",
      "         4.0       0.78      0.87      0.82       491\n",
      "         5.0       0.27      0.49      0.35       116\n",
      "\n",
      "    accuracy                           0.86      4097\n",
      "   macro avg       0.73      0.74      0.73      4097\n",
      "weighted avg       0.87      0.86      0.86      4097\n",
      "\n",
      "\n",
      "--------------------------------------------------------------------------------\n",
      "DATALOADER:0 TEST RESULTS\n",
      "{'Balanced Accuracy': 0.7379565208068208,\n",
      " 'Macro F1-Score': 0.7266396692644421,\n",
      " 'test_acc': tensor(85.8677, device='cuda:0'),\n",
      " 'test_loss': tensor(0.4398, device='cuda:0')}\n",
      "--------------------------------------------------------------------------------\n",
      "(9244, 7)\n"
     ]
    },
    {
     "data": {
      "application/vnd.jupyter.widget-view+json": {
       "model_id": "37262a7dfb0348bda43d5204ed36a42a",
       "version_major": 2,
       "version_minor": 0
      },
      "text/plain": [
       "HBox(children=(FloatProgress(value=0.0, max=289.0), HTML(value='')))"
      ]
     },
     "metadata": {},
     "output_type": "display_data"
    },
    {
     "name": "stdout",
     "output_type": "stream",
     "text": [
      "\n",
      "DELTA: 0.017\n",
      "(1650, 7)\n",
      "Calculate the Mean & Standard Deviation: \n",
      "(2777, 8)\n"
     ]
    },
    {
     "data": {
      "application/vnd.jupyter.widget-view+json": {
       "model_id": "2d82ed18f014454f97de8e4c7acc635b",
       "version_major": 2,
       "version_minor": 0
      },
      "text/plain": [
       "HBox(children=(FloatProgress(value=0.0, max=66.0), HTML(value='')))"
      ]
     },
     "metadata": {},
     "output_type": "display_data"
    },
    {
     "name": "stdout",
     "output_type": "stream",
     "text": [
      "\n"
     ]
    },
    {
     "data": {
      "application/vnd.jupyter.widget-view+json": {
       "model_id": "02002bc6efee41c3ade7948151d620c4",
       "version_major": 2,
       "version_minor": 0
      },
      "text/plain": [
       "HBox(children=(FloatProgress(value=0.0, max=66.0), HTML(value='')))"
      ]
     },
     "metadata": {},
     "output_type": "display_data"
    },
    {
     "name": "stdout",
     "output_type": "stream",
     "text": [
      "\n",
      "Mean of the Dataset: tensor([0.6297, 0.6244, 0.6231]), Std of the Dataset: tensor([0.3610, 0.3612, 0.3638]) \n"
     ]
    },
    {
     "name": "stderr",
     "output_type": "stream",
     "text": [
      "GPU available: True, used: True\n",
      "TPU available: None, using: 0 TPU cores\n",
      "LOCAL_RANK: 0 - CUDA_VISIBLE_DEVICES: [0]\n",
      "\n",
      "  | Name      | Type             | Params\n",
      "-----------------------------------------------\n",
      "0 | criterion | CrossEntropyLoss | 0     \n",
      "1 | model     | ResNet           | 23.5 M\n",
      "-----------------------------------------------\n",
      "23.5 M    Trainable params\n",
      "0         Non-trainable params\n",
      "23.5 M    Total params\n"
     ]
    },
    {
     "data": {
      "application/vnd.jupyter.widget-view+json": {
       "model_id": "86abdad4187d4593be4056d21d24e583",
       "version_major": 2,
       "version_minor": 0
      },
      "text/plain": [
       "HBox(children=(FloatProgress(value=1.0, bar_style='info', description='Training', layout=Layout(flex='2'), max…"
      ]
     },
     "metadata": {},
     "output_type": "display_data"
    },
    {
     "data": {
      "application/vnd.jupyter.widget-view+json": {
       "model_id": "",
       "version_major": 2,
       "version_minor": 0
      },
      "text/plain": [
       "HBox(children=(FloatProgress(value=1.0, bar_style='info', description='Validating', layout=Layout(flex='2'), m…"
      ]
     },
     "metadata": {},
     "output_type": "display_data"
    },
    {
     "data": {
      "application/vnd.jupyter.widget-view+json": {
       "model_id": "",
       "version_major": 2,
       "version_minor": 0
      },
      "text/plain": [
       "HBox(children=(FloatProgress(value=1.0, bar_style='info', description='Validating', layout=Layout(flex='2'), m…"
      ]
     },
     "metadata": {},
     "output_type": "display_data"
    },
    {
     "data": {
      "application/vnd.jupyter.widget-view+json": {
       "model_id": "",
       "version_major": 2,
       "version_minor": 0
      },
      "text/plain": [
       "HBox(children=(FloatProgress(value=1.0, bar_style='info', description='Validating', layout=Layout(flex='2'), m…"
      ]
     },
     "metadata": {},
     "output_type": "display_data"
    },
    {
     "data": {
      "application/vnd.jupyter.widget-view+json": {
       "model_id": "",
       "version_major": 2,
       "version_minor": 0
      },
      "text/plain": [
       "HBox(children=(FloatProgress(value=1.0, bar_style='info', description='Validating', layout=Layout(flex='2'), m…"
      ]
     },
     "metadata": {},
     "output_type": "display_data"
    },
    {
     "data": {
      "application/vnd.jupyter.widget-view+json": {
       "model_id": "",
       "version_major": 2,
       "version_minor": 0
      },
      "text/plain": [
       "HBox(children=(FloatProgress(value=1.0, bar_style='info', description='Validating', layout=Layout(flex='2'), m…"
      ]
     },
     "metadata": {},
     "output_type": "display_data"
    },
    {
     "name": "stdout",
     "output_type": "stream",
     "text": [
      "\n"
     ]
    },
    {
     "data": {
      "application/vnd.jupyter.widget-view+json": {
       "model_id": "79776f9f66ca4f9da8d624e1b0d6fa37",
       "version_major": 2,
       "version_minor": 0
      },
      "text/plain": [
       "HBox(children=(FloatProgress(value=1.0, bar_style='info', description='Testing', layout=Layout(flex='2'), max=…"
      ]
     },
     "metadata": {},
     "output_type": "display_data"
    },
    {
     "name": "stdout",
     "output_type": "stream",
     "text": [
      "Accuracy: 88.16207122802734\n",
      "              precision    recall  f1-score   support\n",
      "\n",
      "         0.0       0.82      0.78      0.80       224\n",
      "         1.0       0.93      0.96      0.94      2133\n",
      "         2.0       0.89      0.93      0.91       873\n",
      "         3.0       0.63      0.60      0.62       260\n",
      "         4.0       0.94      0.79      0.86       491\n",
      "         5.0       0.33      0.34      0.33       116\n",
      "\n",
      "    accuracy                           0.88      4097\n",
      "   macro avg       0.76      0.73      0.74      4097\n",
      "weighted avg       0.88      0.88      0.88      4097\n",
      "\n",
      "\n",
      "--------------------------------------------------------------------------------\n",
      "DATALOADER:0 TEST RESULTS\n",
      "{'Balanced Accuracy': 0.7340669331070884,\n",
      " 'Macro F1-Score': 0.7445658992524478,\n",
      " 'test_acc': tensor(88.1621, device='cuda:0'),\n",
      " 'test_loss': tensor(0.4015, device='cuda:0')}\n",
      "--------------------------------------------------------------------------------\n",
      "(7494, 7)\n"
     ]
    },
    {
     "data": {
      "application/vnd.jupyter.widget-view+json": {
       "model_id": "15ddb9d39ab74a2ca49a7e5957a8879d",
       "version_major": 2,
       "version_minor": 0
      },
      "text/plain": [
       "HBox(children=(FloatProgress(value=0.0, max=235.0), HTML(value='')))"
      ]
     },
     "metadata": {},
     "output_type": "display_data"
    },
    {
     "name": "stdout",
     "output_type": "stream",
     "text": [
      "\n",
      "DELTA: -0.016\n",
      "(0, 7)\n",
      "Calculate the Mean & Standard Deviation: \n",
      "(2877, 8)\n"
     ]
    },
    {
     "data": {
      "application/vnd.jupyter.widget-view+json": {
       "model_id": "0023668ead9f43248359f8fe3d154a1c",
       "version_major": 2,
       "version_minor": 0
      },
      "text/plain": [
       "HBox(children=(FloatProgress(value=0.0, max=68.0), HTML(value='')))"
      ]
     },
     "metadata": {},
     "output_type": "display_data"
    },
    {
     "name": "stdout",
     "output_type": "stream",
     "text": [
      "\n"
     ]
    },
    {
     "data": {
      "application/vnd.jupyter.widget-view+json": {
       "model_id": "bb7d951a509f45528c6be3990998056e",
       "version_major": 2,
       "version_minor": 0
      },
      "text/plain": [
       "HBox(children=(FloatProgress(value=0.0, max=68.0), HTML(value='')))"
      ]
     },
     "metadata": {},
     "output_type": "display_data"
    },
    {
     "name": "stdout",
     "output_type": "stream",
     "text": [
      "\n",
      "Mean of the Dataset: tensor([0.6332, 0.6271, 0.6253]), Std of the Dataset: tensor([0.3605, 0.3610, 0.3639]) \n"
     ]
    },
    {
     "name": "stderr",
     "output_type": "stream",
     "text": [
      "GPU available: True, used: True\n",
      "TPU available: None, using: 0 TPU cores\n",
      "LOCAL_RANK: 0 - CUDA_VISIBLE_DEVICES: [0]\n",
      "\n",
      "  | Name      | Type             | Params\n",
      "-----------------------------------------------\n",
      "0 | criterion | CrossEntropyLoss | 0     \n",
      "1 | model     | ResNet           | 23.5 M\n",
      "-----------------------------------------------\n",
      "23.5 M    Trainable params\n",
      "0         Non-trainable params\n",
      "23.5 M    Total params\n"
     ]
    },
    {
     "data": {
      "application/vnd.jupyter.widget-view+json": {
       "model_id": "2be1ad0159f14405929ed60d3bdaac18",
       "version_major": 2,
       "version_minor": 0
      },
      "text/plain": [
       "HBox(children=(FloatProgress(value=1.0, bar_style='info', description='Training', layout=Layout(flex='2'), max…"
      ]
     },
     "metadata": {},
     "output_type": "display_data"
    },
    {
     "data": {
      "application/vnd.jupyter.widget-view+json": {
       "model_id": "",
       "version_major": 2,
       "version_minor": 0
      },
      "text/plain": [
       "HBox(children=(FloatProgress(value=1.0, bar_style='info', description='Validating', layout=Layout(flex='2'), m…"
      ]
     },
     "metadata": {},
     "output_type": "display_data"
    },
    {
     "data": {
      "application/vnd.jupyter.widget-view+json": {
       "model_id": "",
       "version_major": 2,
       "version_minor": 0
      },
      "text/plain": [
       "HBox(children=(FloatProgress(value=1.0, bar_style='info', description='Validating', layout=Layout(flex='2'), m…"
      ]
     },
     "metadata": {},
     "output_type": "display_data"
    },
    {
     "data": {
      "application/vnd.jupyter.widget-view+json": {
       "model_id": "",
       "version_major": 2,
       "version_minor": 0
      },
      "text/plain": [
       "HBox(children=(FloatProgress(value=1.0, bar_style='info', description='Validating', layout=Layout(flex='2'), m…"
      ]
     },
     "metadata": {},
     "output_type": "display_data"
    },
    {
     "data": {
      "application/vnd.jupyter.widget-view+json": {
       "model_id": "",
       "version_major": 2,
       "version_minor": 0
      },
      "text/plain": [
       "HBox(children=(FloatProgress(value=1.0, bar_style='info', description='Validating', layout=Layout(flex='2'), m…"
      ]
     },
     "metadata": {},
     "output_type": "display_data"
    },
    {
     "name": "stdout",
     "output_type": "stream",
     "text": [
      "\n"
     ]
    },
    {
     "data": {
      "application/vnd.jupyter.widget-view+json": {
       "model_id": "3ff58e0319d445f9b6bf6a330b2ec19e",
       "version_major": 2,
       "version_minor": 0
      },
      "text/plain": [
       "HBox(children=(FloatProgress(value=1.0, bar_style='info', description='Testing', layout=Layout(flex='2'), max=…"
      ]
     },
     "metadata": {},
     "output_type": "display_data"
    },
    {
     "name": "stdout",
     "output_type": "stream",
     "text": [
      "Accuracy: 86.03856658935547\n",
      "              precision    recall  f1-score   support\n",
      "\n",
      "         0.0       0.88      0.75      0.81       224\n",
      "         1.0       0.95      0.92      0.94      2133\n",
      "         2.0       0.91      0.87      0.89       873\n",
      "         3.0       0.42      0.70      0.53       260\n",
      "         4.0       0.94      0.81      0.87       491\n",
      "         5.0       0.28      0.36      0.32       116\n",
      "\n",
      "    accuracy                           0.86      4097\n",
      "   macro avg       0.73      0.74      0.73      4097\n",
      "weighted avg       0.89      0.86      0.87      4097\n",
      "\n",
      "\n",
      "--------------------------------------------------------------------------------\n",
      "DATALOADER:0 TEST RESULTS\n",
      "{'Balanced Accuracy': 0.7367097421055419,\n",
      " 'Macro F1-Score': 0.7261270168027808,\n",
      " 'test_acc': tensor(86.0386, device='cuda:0'),\n",
      " 'test_loss': tensor(0.4746, device='cuda:0')}\n",
      "--------------------------------------------------------------------------------\n",
      "(7394, 7)\n"
     ]
    },
    {
     "data": {
      "application/vnd.jupyter.widget-view+json": {
       "model_id": "cd4bf63ed612476f9c09c43235fd39f8",
       "version_major": 2,
       "version_minor": 0
      },
      "text/plain": [
       "HBox(children=(FloatProgress(value=0.0, max=232.0), HTML(value='')))"
      ]
     },
     "metadata": {},
     "output_type": "display_data"
    },
    {
     "name": "stdout",
     "output_type": "stream",
     "text": [
      "\n",
      "DELTA: -0.082\n",
      "(0, 7)\n",
      "Calculate the Mean & Standard Deviation: \n",
      "(2977, 8)\n"
     ]
    },
    {
     "data": {
      "application/vnd.jupyter.widget-view+json": {
       "model_id": "89a7187632e64603bde83f50787c246d",
       "version_major": 2,
       "version_minor": 0
      },
      "text/plain": [
       "HBox(children=(FloatProgress(value=0.0, max=70.0), HTML(value='')))"
      ]
     },
     "metadata": {},
     "output_type": "display_data"
    },
    {
     "name": "stdout",
     "output_type": "stream",
     "text": [
      "\n"
     ]
    },
    {
     "data": {
      "application/vnd.jupyter.widget-view+json": {
       "model_id": "fc5cce6c4a694b028f52e7d0a6b9bf16",
       "version_major": 2,
       "version_minor": 0
      },
      "text/plain": [
       "HBox(children=(FloatProgress(value=0.0, max=70.0), HTML(value='')))"
      ]
     },
     "metadata": {},
     "output_type": "display_data"
    },
    {
     "name": "stdout",
     "output_type": "stream",
     "text": [
      "\n",
      "Mean of the Dataset: tensor([0.6322, 0.6266, 0.6243]), Std of the Dataset: tensor([0.3614, 0.3616, 0.3645]) \n"
     ]
    },
    {
     "name": "stderr",
     "output_type": "stream",
     "text": [
      "GPU available: True, used: True\n",
      "TPU available: None, using: 0 TPU cores\n",
      "LOCAL_RANK: 0 - CUDA_VISIBLE_DEVICES: [0]\n",
      "\n",
      "  | Name      | Type             | Params\n",
      "-----------------------------------------------\n",
      "0 | criterion | CrossEntropyLoss | 0     \n",
      "1 | model     | ResNet           | 23.5 M\n",
      "-----------------------------------------------\n",
      "23.5 M    Trainable params\n",
      "0         Non-trainable params\n",
      "23.5 M    Total params\n"
     ]
    },
    {
     "data": {
      "application/vnd.jupyter.widget-view+json": {
       "model_id": "29773b6624aa4633bef6d9046e438955",
       "version_major": 2,
       "version_minor": 0
      },
      "text/plain": [
       "HBox(children=(FloatProgress(value=1.0, bar_style='info', description='Training', layout=Layout(flex='2'), max…"
      ]
     },
     "metadata": {},
     "output_type": "display_data"
    },
    {
     "data": {
      "application/vnd.jupyter.widget-view+json": {
       "model_id": "",
       "version_major": 2,
       "version_minor": 0
      },
      "text/plain": [
       "HBox(children=(FloatProgress(value=1.0, bar_style='info', description='Validating', layout=Layout(flex='2'), m…"
      ]
     },
     "metadata": {},
     "output_type": "display_data"
    },
    {
     "name": "stdout",
     "output_type": "stream",
     "text": [
      "\n"
     ]
    },
    {
     "data": {
      "application/vnd.jupyter.widget-view+json": {
       "model_id": "9371e41898b04bd9871c64769a0dfebb",
       "version_major": 2,
       "version_minor": 0
      },
      "text/plain": [
       "HBox(children=(FloatProgress(value=1.0, bar_style='info', description='Testing', layout=Layout(flex='2'), max=…"
      ]
     },
     "metadata": {},
     "output_type": "display_data"
    },
    {
     "name": "stdout",
     "output_type": "stream",
     "text": [
      "Accuracy: 76.22650909423828\n",
      "              precision    recall  f1-score   support\n",
      "\n",
      "         0.0       0.76      0.65      0.70       224\n",
      "         1.0       0.97      0.79      0.87      2133\n",
      "         2.0       0.95      0.81      0.87       873\n",
      "         3.0       0.28      0.83      0.42       260\n",
      "         4.0       0.94      0.65      0.77       491\n",
      "         5.0       0.14      0.35      0.20       116\n",
      "\n",
      "    accuracy                           0.76      4097\n",
      "   macro avg       0.67      0.68      0.64      4097\n",
      "weighted avg       0.89      0.76      0.80      4097\n",
      "\n",
      "\n",
      "--------------------------------------------------------------------------------\n",
      "DATALOADER:0 TEST RESULTS\n",
      "{'Balanced Accuracy': 0.6824467615014301,\n",
      " 'Macro F1-Score': 0.6390435531136452,\n",
      " 'test_acc': tensor(76.2265, device='cuda:0'),\n",
      " 'test_loss': tensor(0.6490, device='cuda:0')}\n",
      "--------------------------------------------------------------------------------\n",
      "(7294, 7)\n"
     ]
    },
    {
     "data": {
      "application/vnd.jupyter.widget-view+json": {
       "model_id": "9c66d0c9bb304591901b01906ebbfe35",
       "version_major": 2,
       "version_minor": 0
      },
      "text/plain": [
       "HBox(children=(FloatProgress(value=0.0, max=228.0), HTML(value='')))"
      ]
     },
     "metadata": {},
     "output_type": "display_data"
    },
    {
     "name": "stdout",
     "output_type": "stream",
     "text": [
      "\n"
     ]
    },
    {
     "ename": "KeyboardInterrupt",
     "evalue": "",
     "output_type": "error",
     "traceback": [
      "\u001b[0;31m---------------------------------------------------------------------------\u001b[0m",
      "\u001b[0;31mKeyboardInterrupt\u001b[0m                         Traceback (most recent call last)",
      "\u001b[0;32m<ipython-input-64-4e0204f6191e>\u001b[0m in \u001b[0;36m<module>\u001b[0;34m\u001b[0m\n\u001b[1;32m     87\u001b[0m \u001b[0;34m\u001b[0m\u001b[0m\n\u001b[1;32m     88\u001b[0m     \u001b[0munlabeled_dataloader\u001b[0m \u001b[0;34m=\u001b[0m \u001b[0mDataLoader\u001b[0m\u001b[0;34m(\u001b[0m\u001b[0mdataset\u001b[0m     \u001b[0;34m=\u001b[0m \u001b[0munlabeled_dataset\u001b[0m\u001b[0;34m,\u001b[0m\u001b[0mbatch_size\u001b[0m  \u001b[0;34m=\u001b[0m \u001b[0;36m32\u001b[0m\u001b[0;34m,\u001b[0m\u001b[0mshuffle\u001b[0m     \u001b[0;34m=\u001b[0m \u001b[0;32mFalse\u001b[0m\u001b[0;34m,\u001b[0m\u001b[0mnum_workers\u001b[0m \u001b[0;34m=\u001b[0m \u001b[0;36m32\u001b[0m\u001b[0;34m)\u001b[0m\u001b[0;34m\u001b[0m\u001b[0;34m\u001b[0m\u001b[0m\n\u001b[0;32m---> 89\u001b[0;31m     \u001b[0munlabeled_probs\u001b[0m \u001b[0;34m=\u001b[0m \u001b[0mget_probs\u001b[0m\u001b[0;34m(\u001b[0m\u001b[0munlabeled_dataloader\u001b[0m\u001b[0;34m,\u001b[0m\u001b[0mmodel\u001b[0m\u001b[0;34m.\u001b[0m\u001b[0mto\u001b[0m\u001b[0;34m(\u001b[0m\u001b[0;34m'cuda'\u001b[0m\u001b[0;34m)\u001b[0m\u001b[0;34m,\u001b[0m\u001b[0;34m'cuda'\u001b[0m\u001b[0;34m)\u001b[0m\u001b[0;34m\u001b[0m\u001b[0;34m\u001b[0m\u001b[0m\n\u001b[0m\u001b[1;32m     90\u001b[0m     \u001b[0;32mdel\u001b[0m \u001b[0mmodel\u001b[0m\u001b[0;34m\u001b[0m\u001b[0;34m\u001b[0m\u001b[0m\n\u001b[1;32m     91\u001b[0m     \u001b[0;31m# 4.1 Get the most uncertain examples and the most confident\u001b[0m\u001b[0;34m\u001b[0m\u001b[0;34m\u001b[0m\u001b[0;34m\u001b[0m\u001b[0m\n",
      "\u001b[0;32m<ipython-input-6-800d2825b7b6>\u001b[0m in \u001b[0;36mget_probs\u001b[0;34m(data_loader, model, device)\u001b[0m\n\u001b[1;32m     11\u001b[0m             \u001b[0mprobs\u001b[0m \u001b[0;34m=\u001b[0m \u001b[0mmodel\u001b[0m\u001b[0;34m(\u001b[0m\u001b[0mdata\u001b[0m\u001b[0;34m)\u001b[0m\u001b[0;34m\u001b[0m\u001b[0;34m\u001b[0m\u001b[0m\n\u001b[1;32m     12\u001b[0m             \u001b[0mprobs\u001b[0m \u001b[0;34m=\u001b[0m \u001b[0mm\u001b[0m\u001b[0;34m(\u001b[0m\u001b[0mprobs\u001b[0m\u001b[0;34m)\u001b[0m\u001b[0;34m\u001b[0m\u001b[0;34m\u001b[0m\u001b[0m\n\u001b[0;32m---> 13\u001b[0;31m             \u001b[0mfinal_probs\u001b[0m\u001b[0;34m.\u001b[0m\u001b[0mappend\u001b[0m\u001b[0;34m(\u001b[0m\u001b[0mprobs\u001b[0m\u001b[0;34m.\u001b[0m\u001b[0mcpu\u001b[0m\u001b[0;34m(\u001b[0m\u001b[0;34m)\u001b[0m\u001b[0;34m)\u001b[0m\u001b[0;34m\u001b[0m\u001b[0;34m\u001b[0m\u001b[0m\n\u001b[0m\u001b[1;32m     14\u001b[0m     \u001b[0;32mreturn\u001b[0m \u001b[0mnp\u001b[0m\u001b[0;34m.\u001b[0m\u001b[0mvstack\u001b[0m\u001b[0;34m(\u001b[0m\u001b[0mfinal_probs\u001b[0m\u001b[0;34m)\u001b[0m\u001b[0;34m\u001b[0m\u001b[0;34m\u001b[0m\u001b[0m\n",
      "\u001b[0;31mKeyboardInterrupt\u001b[0m: "
     ]
    },
    {
     "data": {
      "image/png": "[encoded data removed]",
      "text/plain": [
       "<Figure size 288x288 with 2 Axes>"
      ]
     },
     "metadata": {
      "needs_background": "light"
     },
     "output_type": "display_data"
    },
    {
     "data": {
      "image/png": "[encoded data removed]",
      "text/plain": [
       "<Figure size 288x288 with 2 Axes>"
      ]
     },
     "metadata": {
      "needs_background": "light"
     },
     "output_type": "display_data"
    },
    {
     "data": {
      "image/png": "[encoded data removed]",
      "text/plain": [
       "<Figure size 288x288 with 2 Axes>"
      ]
     },
     "metadata": {
      "needs_background": "light"
     },
     "output_type": "display_data"
    },
    {
     "data": {
      "image/png": "[encoded data removed]",
      "text/plain": [
       "<Figure size 288x288 with 2 Axes>"
      ]
     },
     "metadata": {
      "needs_background": "light"
     },
     "output_type": "display_data"
    }
   ],
   "source": [
    "# Iteration Loop\n",
    "\n",
    "for it in range(MAXIMUM_INTERATIONS):\n",
    "    # 2. Calculate the Mean and Standard Deviation\n",
    "    print('Calculate the Mean & Standard Deviation: ')\n",
    "    train_dataset   = ImageDataset    (os.path.join(DATA_PATH,f'Labeled_Pool_{it}.csv'),\n",
    "                                      le_encoder_higher_modality,\n",
    "                                      str(BASE_IMG_DIR),\n",
    "                                      'TRAIN',\n",
    "                                      image_transform  = transform_mean_std,\n",
    "                                      label_name       = 'higher_modality',\n",
    "                                      target_class_col = 'split_set_al',\n",
    "                                      path_col         = 'img_path')\n",
    "    df_ = pd.read_csv(os.path.join(DATA_PATH,f'Labeled_Pool_{it}.csv'),sep = '\\t')\n",
    "    print(df_[df_['labeled']=='LABELED'].shape)\n",
    "\n",
    "\n",
    "    mean, std =calc_dataset_mean_std(train_dataset, batch_size=32, num_workers=32)\n",
    "    print(f\"Mean of the Dataset: {mean}, Std of the Dataset: {std} \")\n",
    "\n",
    "    # 3. Generate the Model\n",
    "    # 3.1 Setup Data & Data Module\n",
    "    # Transformations for train_val_test\n",
    "    train_transform = transforms.Compose([\n",
    "                        transforms.ToPILImage(),\n",
    "                        transforms.Resize((256, 256)),\n",
    "                        transforms.RandomHorizontalFlip(p=0.5),\n",
    "                        transforms.RandomRotation(15),\n",
    "                        transforms.CenterCrop((224,224)),\n",
    "                        transforms.ToTensor(),\n",
    "                        transforms.Normalize(mean,std)\n",
    "                    ])\n",
    "\n",
    "    val_transform = transforms.Compose([\n",
    "                    transforms.ToPILImage(),\n",
    "                    transforms.Resize((224, 224)),\n",
    "                    transforms.ToTensor(),\n",
    "                    transforms.Normalize(mean,std)\n",
    "                    ])\n",
    "\n",
    "    dm = ImageDataModule( batch_size       = 32,\n",
    "                          label_encoder    = le_encoder_higher_modality,\n",
    "                          data_path        = os.path.join(DATA_PATH,f'Labeled_Pool_{it}.csv'),\n",
    "                          base_img_dir     = str(BASE_IMG_DIR),\n",
    "                          seed             = SEED,   \n",
    "                          image_transforms = [train_transform,val_transform,val_transform],\n",
    "                          num_workers      = 32,\n",
    "                          target_class_col ='split_set_al',\n",
    "                          modality_col     ='higher_modality',\n",
    "                          path_col         ='img_path')\n",
    "    dm.prepare_data()\n",
    "    dm.setup()\n",
    "    dm.set_seed()\n",
    "\n",
    "    \n",
    "    # 3.2 Setup Modeling\n",
    "    num_classes = 6\n",
    "    model = ResNetClass      (name            = 'resnet18',\n",
    "                              num_classes     = num_classes,\n",
    "                              pretrained      = True,\n",
    "                              fine_tuned_from = 'whole',\n",
    "                              lr              = 1e-4,\n",
    "                              metric_monitor  = METRIC_MONITOR,\n",
    "                              mode_scheduler  = \"min\",\n",
    "                              class_weights   = dm.class_weights,\n",
    "                              mean_dataset    = mean,\n",
    "                              std_dataset     = std)\n",
    "\n",
    "    # Call backs:\n",
    "    \n",
    "    early_stop_callback = EarlyStopping(\n",
    "        monitor   = METRIC_MONITOR,\n",
    "        min_delta = 0.0,\n",
    "        patience  = 5,\n",
    "        verbose   = True,\n",
    "        mode      = 'min'\n",
    "    )\n",
    "\n",
    "    \n",
    "    \n",
    "    checkpoint_callback = ModelCheckpoint(dirpath = os.path.join(OUTPUT_MODEL,f'{}'),\n",
    "                                      monitor=METRIC_MONITOR,\n",
    "                                      mode = 'min',\n",
    "                                      save_top_k = 1)\n",
    "    \n",
    "    # 3.3 Setup Trainer\n",
    "    trainer = Trainer(gpus=1,max_epochs = 5,callbacks=[early_stop_callback],deterministic= True,logger = None,num_sanity_val_steps=0)\n",
    "    trainer.fit(model, dm)\n",
    "    \n",
    "    # 3.4 Save Modeling\n",
    "    trainer.save_checkpoint(os.path.join(OUTPUT_DIR,f'active_learning_iteration_{it}'))\n",
    "\n",
    "    # 3.5 Evaluate on the Test Set (Save Metrics):\n",
    "    trainer.test(model, test_dataloaders=dm.test_dataloader()) # Add Here the precision by class\n",
    "    del trainer\n",
    "    # 4. Evaluate on the pool unlabeled data\n",
    "    df_unlabeled_it = df_unlabeled.copy()\n",
    "    print(f'{df_unlabeled_it.shape}')\n",
    "    df_unlabeled_it['img_path'] = df_unlabeled_it['img_path'].apply(lambda x: BASE_IMG_DIR +'/'+ x)\n",
    "    unlabeled_dataset= EvalImageDataset (df_unlabeled_it,\n",
    "                                         image_transform=val_transform,\n",
    "                                         path_col='img_path')\n",
    "\n",
    "    unlabeled_dataloader = DataLoader(dataset     = unlabeled_dataset,batch_size  = 32,shuffle     = False,num_workers = 32)\n",
    "    unlabeled_probs = get_probs(unlabeled_dataloader,model.to('cuda'),'cuda')\n",
    "    del model\n",
    "    # 4.1 Get the most uncertain examples and the most confident\n",
    "    # Getting the dataset for training and validation \n",
    "    un_idx       = get_uncertain_samples(unlabeled_probs, SAMPLES,CRITERIA)\n",
    "    df_uncertain = df_unlabeled.iloc[un_idx,:].reset_index(drop = True)\n",
    "\n",
    "    DELTA = DELTA - (DELTA_RATIO * it)\n",
    "    print(f'DELTA: {DELTA}')\n",
    "    hc_idx,hc_labels = get_high_confidence_samples(unlabeled_probs,DELTA)\n",
    "    df_confidence    = df_unlabeled.iloc[np.array(list(set(hc_idx)-set(un_idx))),:].copy()\n",
    "    print(df_confidence.shape)\n",
    "    df_unlabeled.drop(df_unlabeled.index[np.array(list(set(hc_idx)|set(un_idx)))],inplace = True)\n",
    "\n",
    "    df_confidence.loc[hc_idx,'higher_modality'] = le_encoder_higher_modality.inverse_transform(hc_labels)\n",
    "    df_confidence = df_confidence.reset_index(drop = True)\n",
    "\n",
    "    df_new_labeled_pool            = pd.concat([df_uncertain,df_confidence]).reset_index(drop = True)\n",
    "    df_new_labeled_pool['labeled'] = 'LABELED'\n",
    "    df_new_labeled_pool            = split_dataset(df_new_labeled_pool)\n",
    "\n",
    "    df_actual_labeled = pd.read_csv(os.path.join(DATA_PATH,f'Labeled_Pool_{it}.csv'),sep = '\\t')\n",
    "    pd.concat([df_actual_labeled,df_new_labeled_pool]).reset_index(drop = True).to_csv(os.path.join(DATA_PATH,f'Labeled_Pool_{it+1}.csv'),sep ='\\t',index = False)"
   ]
  }
 ],
 "metadata": {
  "kernelspec": {
   "display_name": "Python 3",
   "language": "python",
   "name": "python3"
  },
  "language_info": {
   "codemirror_mode": {
    "name": "ipython",
    "version": 3
   },
   "file_extension": ".py",
   "mimetype": "text/x-python",
   "name": "python",
   "nbconvert_exporter": "python",
   "pygments_lexer": "ipython3",
   "version": "3.6.9"
  }
 },
 "nbformat": 4,
 "nbformat_minor": 4
}
