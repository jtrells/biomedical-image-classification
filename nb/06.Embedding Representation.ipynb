{
 "cells": [
  {
   "cell_type": "markdown",
   "metadata": {},
   "source": [
    "## Embedding Projection (T-SNE, PCA, Umap)\n",
    "+ In this notebook we use different projection for the last layer prior to the softmax layer in the CNN-"
   ]
  },
  {
   "cell_type": "markdown",
   "metadata": {},
   "source": [
    "## 1. Importing Libraries"
   ]
  },
  {
   "cell_type": "code",
   "execution_count": 2,
   "metadata": {},
   "outputs": [],
   "source": [
    "import os\n",
    "import sys\n",
    "module_path = \"../src\"\n",
    "#os.environ[\"WANDB_SILENT\"] = \"true\" # Environment Variable to make wandb silent\n",
    "if module_path not in sys.path:\n",
    "    sys.path.append(module_path)\n",
    "# 1. General Libraries\n",
    "import pandas as pd\n",
    "import numpy as np\n",
    "from pathlib import Path\n",
    "import yaml\n",
    "import seaborn as sns\n",
    "import matplotlib.pyplot as plt\n",
    "# 2. DataModule & Class Libraries\n",
    "from utils.label_encoder import label_encoder_target\n",
    "from utils.calc_stat import calc_dataset_mean_std\n",
    "from dataset.ImageDataModule import ImageDataModule\n",
    "from dataset.ImageDataset import ImageDataset\n",
    "from models.EfficientNetClass import EfficientNetClass\n",
    "from models.ResNetClass import ResNetClass\n",
    "\n",
    "# 3. Pytorch & Pytorch Lightning Libraries\n",
    "from pytorch_lightning import Trainer,seed_everything\n",
    "from torchvision import transforms\n",
    "from pytorch_lightning.callbacks import LearningRateMonitor\n",
    "from pytorch_lightning.callbacks.early_stopping import EarlyStopping\n",
    "from pytorch_lightning.loggers import WandbLogger\n",
    "import torch\n",
    "# 4. Wandb Tracker Experiements\n",
    "import wandb"
   ]
  },
  {
   "cell_type": "code",
   "execution_count": 22,
   "metadata": {},
   "outputs": [],
   "source": [
    "DATA_PATH = '../data/higher_modality_vol1.csv'\n",
    "model_path = '/mnt/artifacts/experiments/Biomedical-Image-Classification-Higher-Modality/v5hru53s/iconic-sweep-1/final.pt'"
   ]
  },
  {
   "cell_type": "markdown",
   "metadata": {},
   "source": [
    "## 2. Feature Extraction - ResNet CNN"
   ]
  },
  {
   "cell_type": "markdown",
   "metadata": {},
   "source": [
    "## 2.1 Higher - Modality"
   ]
  },
  {
   "cell_type": "code",
   "execution_count": 23,
   "metadata": {},
   "outputs": [
    {
     "data": {
      "text/html": [
       "<div>\n",
       "<style scoped>\n",
       "    .dataframe tbody tr th:only-of-type {\n",
       "        vertical-align: middle;\n",
       "    }\n",
       "\n",
       "    .dataframe tbody tr th {\n",
       "        vertical-align: top;\n",
       "    }\n",
       "\n",
       "    .dataframe thead th {\n",
       "        text-align: right;\n",
       "    }\n",
       "</style>\n",
       "<table border=\"1\" class=\"dataframe\">\n",
       "  <thead>\n",
       "    <tr style=\"text-align: right;\">\n",
       "      <th></th>\n",
       "      <th>img</th>\n",
       "      <th>modality</th>\n",
       "      <th>set</th>\n",
       "      <th>source</th>\n",
       "      <th>img_path</th>\n",
       "      <th>higher_modality</th>\n",
       "      <th>caption</th>\n",
       "      <th>split_set</th>\n",
       "    </tr>\n",
       "  </thead>\n",
       "  <tbody>\n",
       "    <tr>\n",
       "      <th>0</th>\n",
       "      <td>11373_2007_9226_Fig1_HTML-10.jpg</td>\n",
       "      <td>DMFL</td>\n",
       "      <td>TRAIN</td>\n",
       "      <td>clef16</td>\n",
       "      <td>2016/train/DMFL/11373_2007_9226_Fig1_HTML-10.jpg</td>\n",
       "      <td>MICROSCOPY</td>\n",
       "      <td>Colocalization of hNopp140, pol I and rDNA rep...</td>\n",
       "      <td>TRAIN</td>\n",
       "    </tr>\n",
       "    <tr>\n",
       "      <th>1</th>\n",
       "      <td>11373_2007_9226_Fig1_HTML-11.jpg</td>\n",
       "      <td>DMFL</td>\n",
       "      <td>TRAIN</td>\n",
       "      <td>clef16</td>\n",
       "      <td>2016/train/DMFL/11373_2007_9226_Fig1_HTML-11.jpg</td>\n",
       "      <td>MICROSCOPY</td>\n",
       "      <td>Colocalization of hNopp140, pol I and rDNA rep...</td>\n",
       "      <td>TRAIN</td>\n",
       "    </tr>\n",
       "    <tr>\n",
       "      <th>2</th>\n",
       "      <td>11373_2007_9226_Fig1_HTML-12.jpg</td>\n",
       "      <td>DMFL</td>\n",
       "      <td>TRAIN</td>\n",
       "      <td>clef16</td>\n",
       "      <td>2016/train/DMFL/11373_2007_9226_Fig1_HTML-12.jpg</td>\n",
       "      <td>MICROSCOPY</td>\n",
       "      <td>Colocalization of hNopp140, pol I and rDNA rep...</td>\n",
       "      <td>TRAIN</td>\n",
       "    </tr>\n",
       "    <tr>\n",
       "      <th>3</th>\n",
       "      <td>11373_2007_9226_Fig1_HTML-13.jpg</td>\n",
       "      <td>DMFL</td>\n",
       "      <td>TRAIN</td>\n",
       "      <td>clef16</td>\n",
       "      <td>2016/train/DMFL/11373_2007_9226_Fig1_HTML-13.jpg</td>\n",
       "      <td>MICROSCOPY</td>\n",
       "      <td>Colocalization of hNopp140, pol I and rDNA rep...</td>\n",
       "      <td>TRAIN</td>\n",
       "    </tr>\n",
       "    <tr>\n",
       "      <th>4</th>\n",
       "      <td>11373_2007_9226_Fig1_HTML-14.jpg</td>\n",
       "      <td>DMFL</td>\n",
       "      <td>TRAIN</td>\n",
       "      <td>clef16</td>\n",
       "      <td>2016/train/DMFL/11373_2007_9226_Fig1_HTML-14.jpg</td>\n",
       "      <td>MICROSCOPY</td>\n",
       "      <td>Colocalization of hNopp140, pol I and rDNA rep...</td>\n",
       "      <td>TRAIN</td>\n",
       "    </tr>\n",
       "  </tbody>\n",
       "</table>\n",
       "</div>"
      ],
      "text/plain": [
       "                                img modality    set  source  \\\n",
       "0  11373_2007_9226_Fig1_HTML-10.jpg     DMFL  TRAIN  clef16   \n",
       "1  11373_2007_9226_Fig1_HTML-11.jpg     DMFL  TRAIN  clef16   \n",
       "2  11373_2007_9226_Fig1_HTML-12.jpg     DMFL  TRAIN  clef16   \n",
       "3  11373_2007_9226_Fig1_HTML-13.jpg     DMFL  TRAIN  clef16   \n",
       "4  11373_2007_9226_Fig1_HTML-14.jpg     DMFL  TRAIN  clef16   \n",
       "\n",
       "                                           img_path higher_modality  \\\n",
       "0  2016/train/DMFL/11373_2007_9226_Fig1_HTML-10.jpg      MICROSCOPY   \n",
       "1  2016/train/DMFL/11373_2007_9226_Fig1_HTML-11.jpg      MICROSCOPY   \n",
       "2  2016/train/DMFL/11373_2007_9226_Fig1_HTML-12.jpg      MICROSCOPY   \n",
       "3  2016/train/DMFL/11373_2007_9226_Fig1_HTML-13.jpg      MICROSCOPY   \n",
       "4  2016/train/DMFL/11373_2007_9226_Fig1_HTML-14.jpg      MICROSCOPY   \n",
       "\n",
       "                                             caption split_set  \n",
       "0  Colocalization of hNopp140, pol I and rDNA rep...     TRAIN  \n",
       "1  Colocalization of hNopp140, pol I and rDNA rep...     TRAIN  \n",
       "2  Colocalization of hNopp140, pol I and rDNA rep...     TRAIN  \n",
       "3  Colocalization of hNopp140, pol I and rDNA rep...     TRAIN  \n",
       "4  Colocalization of hNopp140, pol I and rDNA rep...     TRAIN  "
      ]
     },
     "execution_count": 23,
     "metadata": {},
     "output_type": "execute_result"
    }
   ],
   "source": [
    "df = pd.read_csv(DATA_PATH, sep='\\t')\n",
    "df.head()"
   ]
  },
  {
   "cell_type": "code",
   "execution_count": 24,
   "metadata": {},
   "outputs": [
    {
     "name": "stderr",
     "output_type": "stream",
     "text": [
      "Downloading: \"https://download.pytorch.org/models/resnet101-5d3b4d8f.pth\" to /root/.cache/torch/hub/checkpoints/resnet101-5d3b4d8f.pth\n"
     ]
    },
    {
     "data": {
      "application/vnd.jupyter.widget-view+json": {
       "model_id": "fe9f588859f54c99ae5aa63b2291865c",
       "version_major": 2,
       "version_minor": 0
      },
      "text/plain": [
       "HBox(children=(FloatProgress(value=0.0, max=178728960.0), HTML(value='')))"
      ]
     },
     "metadata": {},
     "output_type": "display_data"
    },
    {
     "name": "stdout",
     "output_type": "stream",
     "text": [
      "\n",
      "*****  Resnet Model Parameters  *****\n",
      "\"class_weights\":   [4.38888889 0.52605967 0.72953294 3.14067278 0.56028369 2.51715686]\n",
      "\"fine_tuned_from\": whole\n",
      "\"lr\":              1e-05\n",
      "\"mean_dataset\":    [0.4857, 0.474, 0.4755]\n",
      "\"metric_monitor\":  val_avg_loss\n",
      "\"mode_scheduler\":  min\n",
      "\"name\":            resnet101\n",
      "\"num_classes\":     6\n",
      "\"pretrained\":      True\n",
      "\"std_dataset\":     [0.3648, 0.3557, 0.3669]\n",
      "*****  Resnet Model Children  *****\n",
      "Children Counter:  0  Layer Name:  conv1\n",
      "Children Counter:  1  Layer Name:  bn1\n",
      "Children Counter:  2  Layer Name:  relu\n",
      "Children Counter:  3  Layer Name:  maxpool\n",
      "Children Counter:  4  Layer Name:  layer1\n",
      "Children Counter:  5  Layer Name:  layer2\n",
      "Children Counter:  6  Layer Name:  layer3\n",
      "Children Counter:  7  Layer Name:  layer4\n",
      "Children Counter:  8  Layer Name:  avgpool\n",
      "Children Counter:  9  Layer Name:  fc\n"
     ]
    }
   ],
   "source": [
    "# 3.1 Load the Resnet Model\n",
    "resnet_model = ResNetClass.load_from_checkpoint(model_path)\n",
    "parts_resnet = [i for i in resnet_model.children()]    \n",
    "print('*'*5,' Resnet Model Parameters ','*'*5)\n",
    "print(resnet_model.hparams)\n",
    "print('*'*5,' Resnet Model Children ','*'*5)\n",
    "children_counter = 0\n",
    "for n,c in parts_resnet[1].named_children():\n",
    "    print(\"Children Counter: \",children_counter,\" Layer Name: \",n,)\n",
    "    children_counter+=1\n"
   ]
  },
  {
   "cell_type": "code",
   "execution_count": null,
   "metadata": {},
   "outputs": [],
   "source": []
  }
 ],
 "metadata": {
  "kernelspec": {
   "display_name": "Python 3",
   "language": "python",
   "name": "python3"
  },
  "language_info": {
   "codemirror_mode": {
    "name": "ipython",
    "version": 3
   },
   "file_extension": ".py",
   "mimetype": "text/x-python",
   "name": "python",
   "nbconvert_exporter": "python",
   "pygments_lexer": "ipython3",
   "version": "3.6.9"
  }
 },
 "nbformat": 4,
 "nbformat_minor": 4
}
