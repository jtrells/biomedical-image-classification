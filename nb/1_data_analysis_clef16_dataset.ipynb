{
 "cells": [
  {
   "cell_type": "markdown",
   "metadata": {},
   "source": [
    "# Merging the captions and modality values\n",
    "Where we obtain a CSV file with the *subfigure*, *modality* and *caption* values per row. "
   ]
  },
  {
   "cell_type": "code",
   "execution_count": 59,
   "metadata": {},
   "outputs": [],
   "source": [
    "import pandas as pd\n",
    "import numpy as np"
   ]
  },
  {
   "cell_type": "markdown",
   "metadata": {},
   "source": [
    "## Load dataframes\n",
    "ImageClef16 provides a CSV file with the pairs image name and image type (class) for the subfigure classification task. For the captions, we borrow them from the compound figure detection task. The CSV file below is a post-processed file to match each caption to the image name used in the subfigure classification task.\n"
   ]
  },
  {
   "cell_type": "code",
   "execution_count": 48,
   "metadata": {},
   "outputs": [
    {
     "name": "stdout",
     "output_type": "stream",
     "text": [
      "Captions frame shape: (6776, 2)\n",
      "Classes frame shape:  (6776, 2)\n"
     ]
    }
   ],
   "source": [
    "captions_file = '../data/out/clef16_subfig_captions.csv'\n",
    "classes_file  =  '/mnt/clef/imageclef_2016/SubfigureClassificationTraining2016-GT.csv'\n",
    "\n",
    "captions_df = pd.read_csv(captions_file, names=['FIG_NAME', 'CAPTION'], header=0)\n",
    "classes_df = pd.read_csv(classes_file, names=['FIG_NAME', 'CLASS'], header=None)\n",
    "\n",
    "print(\"Captions frame shape: {0}\".format(captions_df.shape))\n",
    "print(\"Classes frame shape:  {0}\".format(classes_df.shape))"
   ]
  },
  {
   "cell_type": "code",
   "execution_count": 49,
   "metadata": {},
   "outputs": [
    {
     "data": {
      "text/html": [
       "<div>\n",
       "<style scoped>\n",
       "    .dataframe tbody tr th:only-of-type {\n",
       "        vertical-align: middle;\n",
       "    }\n",
       "\n",
       "    .dataframe tbody tr th {\n",
       "        vertical-align: top;\n",
       "    }\n",
       "\n",
       "    .dataframe thead th {\n",
       "        text-align: right;\n",
       "    }\n",
       "</style>\n",
       "<table border=\"1\" class=\"dataframe\">\n",
       "  <thead>\n",
       "    <tr style=\"text-align: right;\">\n",
       "      <th></th>\n",
       "      <th>FIG_NAME</th>\n",
       "      <th>CAPTION</th>\n",
       "    </tr>\n",
       "  </thead>\n",
       "  <tbody>\n",
       "    <tr>\n",
       "      <th>0</th>\n",
       "      <td>1471-2105-12-247-9-3</td>\n",
       "      <td>Illustration of the functional role of three w...</td>\n",
       "    </tr>\n",
       "    <tr>\n",
       "      <th>1</th>\n",
       "      <td>1423-0127-16-109-3-1</td>\n",
       "      <td>A. Three dimensional model of class C protein ...</td>\n",
       "    </tr>\n",
       "    <tr>\n",
       "      <th>2</th>\n",
       "      <td>1471-2105-12-247-9-2</td>\n",
       "      <td>Illustration of the functional role of three w...</td>\n",
       "    </tr>\n",
       "    <tr>\n",
       "      <th>3</th>\n",
       "      <td>1423-0127-16-109-3-2</td>\n",
       "      <td>A. Three dimensional model of class C protein ...</td>\n",
       "    </tr>\n",
       "    <tr>\n",
       "      <th>4</th>\n",
       "      <td>1471-2105-6-6-1-3</td>\n",
       "      <td>Analysis of plant CNB domains . (A) Arabidopsi...</td>\n",
       "    </tr>\n",
       "  </tbody>\n",
       "</table>\n",
       "</div>"
      ],
      "text/plain": [
       "               FIG_NAME                                            CAPTION\n",
       "0  1471-2105-12-247-9-3  Illustration of the functional role of three w...\n",
       "1  1423-0127-16-109-3-1  A. Three dimensional model of class C protein ...\n",
       "2  1471-2105-12-247-9-2  Illustration of the functional role of three w...\n",
       "3  1423-0127-16-109-3-2  A. Three dimensional model of class C protein ...\n",
       "4     1471-2105-6-6-1-3  Analysis of plant CNB domains . (A) Arabidopsi..."
      ]
     },
     "execution_count": 49,
     "metadata": {},
     "output_type": "execute_result"
    }
   ],
   "source": [
    "captions_df.head()"
   ]
  },
  {
   "cell_type": "code",
   "execution_count": 50,
   "metadata": {},
   "outputs": [
    {
     "data": {
      "text/html": [
       "<div>\n",
       "<style scoped>\n",
       "    .dataframe tbody tr th:only-of-type {\n",
       "        vertical-align: middle;\n",
       "    }\n",
       "\n",
       "    .dataframe tbody tr th {\n",
       "        vertical-align: top;\n",
       "    }\n",
       "\n",
       "    .dataframe thead th {\n",
       "        text-align: right;\n",
       "    }\n",
       "</style>\n",
       "<table border=\"1\" class=\"dataframe\">\n",
       "  <thead>\n",
       "    <tr style=\"text-align: right;\">\n",
       "      <th></th>\n",
       "      <th>FIG_NAME</th>\n",
       "      <th>CLASS</th>\n",
       "    </tr>\n",
       "  </thead>\n",
       "  <tbody>\n",
       "    <tr>\n",
       "      <th>0</th>\n",
       "      <td>11373_2007_9226_Fig1_HTML-10</td>\n",
       "      <td>DMFL</td>\n",
       "    </tr>\n",
       "    <tr>\n",
       "      <th>1</th>\n",
       "      <td>11373_2007_9226_Fig1_HTML-11</td>\n",
       "      <td>DMFL</td>\n",
       "    </tr>\n",
       "    <tr>\n",
       "      <th>2</th>\n",
       "      <td>11373_2007_9226_Fig1_HTML-12</td>\n",
       "      <td>DMFL</td>\n",
       "    </tr>\n",
       "    <tr>\n",
       "      <th>3</th>\n",
       "      <td>11373_2007_9226_Fig1_HTML-13</td>\n",
       "      <td>DMFL</td>\n",
       "    </tr>\n",
       "    <tr>\n",
       "      <th>4</th>\n",
       "      <td>11373_2007_9226_Fig1_HTML-14</td>\n",
       "      <td>DMFL</td>\n",
       "    </tr>\n",
       "  </tbody>\n",
       "</table>\n",
       "</div>"
      ],
      "text/plain": [
       "                       FIG_NAME CLASS\n",
       "0  11373_2007_9226_Fig1_HTML-10  DMFL\n",
       "1  11373_2007_9226_Fig1_HTML-11  DMFL\n",
       "2  11373_2007_9226_Fig1_HTML-12  DMFL\n",
       "3  11373_2007_9226_Fig1_HTML-13  DMFL\n",
       "4  11373_2007_9226_Fig1_HTML-14  DMFL"
      ]
     },
     "execution_count": 50,
     "metadata": {},
     "output_type": "execute_result"
    }
   ],
   "source": [
    "classes_df.head()"
   ]
  },
  {
   "cell_type": "markdown",
   "metadata": {},
   "source": [
    "Merging the dataframes shows that several subfigures share the same caption. This is a downside from the dataset as the captions are at the figure level and not at the subfigure level."
   ]
  },
  {
   "cell_type": "code",
   "execution_count": 60,
   "metadata": {},
   "outputs": [
    {
     "data": {
      "text/html": [
       "<div>\n",
       "<style scoped>\n",
       "    .dataframe tbody tr th:only-of-type {\n",
       "        vertical-align: middle;\n",
       "    }\n",
       "\n",
       "    .dataframe tbody tr th {\n",
       "        vertical-align: top;\n",
       "    }\n",
       "\n",
       "    .dataframe thead th {\n",
       "        text-align: right;\n",
       "    }\n",
       "</style>\n",
       "<table border=\"1\" class=\"dataframe\">\n",
       "  <thead>\n",
       "    <tr style=\"text-align: right;\">\n",
       "      <th></th>\n",
       "      <th>FIG_NAME</th>\n",
       "      <th>CLASS</th>\n",
       "      <th>CAPTION</th>\n",
       "      <th>ID</th>\n",
       "    </tr>\n",
       "  </thead>\n",
       "  <tbody>\n",
       "    <tr>\n",
       "      <th>0</th>\n",
       "      <td>11373_2007_9226_Fig1_HTML-10</td>\n",
       "      <td>DMFL</td>\n",
       "      <td>Colocalization of hNopp140, pol I and rDNA rep...</td>\n",
       "      <td>0</td>\n",
       "    </tr>\n",
       "    <tr>\n",
       "      <th>1</th>\n",
       "      <td>11373_2007_9226_Fig1_HTML-11</td>\n",
       "      <td>DMFL</td>\n",
       "      <td>Colocalization of hNopp140, pol I and rDNA rep...</td>\n",
       "      <td>1</td>\n",
       "    </tr>\n",
       "    <tr>\n",
       "      <th>2</th>\n",
       "      <td>11373_2007_9226_Fig1_HTML-12</td>\n",
       "      <td>DMFL</td>\n",
       "      <td>Colocalization of hNopp140, pol I and rDNA rep...</td>\n",
       "      <td>2</td>\n",
       "    </tr>\n",
       "    <tr>\n",
       "      <th>3</th>\n",
       "      <td>11373_2007_9226_Fig1_HTML-13</td>\n",
       "      <td>DMFL</td>\n",
       "      <td>Colocalization of hNopp140, pol I and rDNA rep...</td>\n",
       "      <td>3</td>\n",
       "    </tr>\n",
       "    <tr>\n",
       "      <th>4</th>\n",
       "      <td>11373_2007_9226_Fig1_HTML-14</td>\n",
       "      <td>DMFL</td>\n",
       "      <td>Colocalization of hNopp140, pol I and rDNA rep...</td>\n",
       "      <td>4</td>\n",
       "    </tr>\n",
       "  </tbody>\n",
       "</table>\n",
       "</div>"
      ],
      "text/plain": [
       "                       FIG_NAME CLASS  \\\n",
       "0  11373_2007_9226_Fig1_HTML-10  DMFL   \n",
       "1  11373_2007_9226_Fig1_HTML-11  DMFL   \n",
       "2  11373_2007_9226_Fig1_HTML-12  DMFL   \n",
       "3  11373_2007_9226_Fig1_HTML-13  DMFL   \n",
       "4  11373_2007_9226_Fig1_HTML-14  DMFL   \n",
       "\n",
       "                                             CAPTION  ID  \n",
       "0  Colocalization of hNopp140, pol I and rDNA rep...   0  \n",
       "1  Colocalization of hNopp140, pol I and rDNA rep...   1  \n",
       "2  Colocalization of hNopp140, pol I and rDNA rep...   2  \n",
       "3  Colocalization of hNopp140, pol I and rDNA rep...   3  \n",
       "4  Colocalization of hNopp140, pol I and rDNA rep...   4  "
      ]
     },
     "execution_count": 60,
     "metadata": {},
     "output_type": "execute_result"
    }
   ],
   "source": [
    "merged_df = pd.merge(classes_df, captions_df, on='FIG_NAME', how='left')\n",
    "merged_df['ID'] = np.arange(len(df))\n",
    "merged_df.head()"
   ]
  },
  {
   "cell_type": "code",
   "execution_count": 61,
   "metadata": {},
   "outputs": [],
   "source": [
    "output_file = '../data/out/clef16_caption_classes.csv'\n",
    "merged_df.to_csv(output_file, index=False)"
   ]
  },
  {
   "cell_type": "markdown",
   "metadata": {},
   "source": [
    "## Sentence Length"
   ]
  },
  {
   "cell_type": "code",
   "execution_count": 10,
   "metadata": {},
   "outputs": [],
   "source": [
    "import re\n",
    "def clean_str(string):\n",
    "    \"\"\"\n",
    "    Tokenization/string cleaning for all datasets except for SST.\n",
    "    from https://github.com/yoonkim/CNN_sentence/blob/master/process_data.py\n",
    "    'the rock is destined to be the 21st century\\'s new \" conan \" and that he\\'s going to make a splash even greater than arnold schwarzenegger , jean-claud van damme or steven segal . \\n'\n",
    "    becomes\n",
    "    \"the rock is destined to be the 21st century 's new conan and that he 's going to make a splash even greater than arnold schwarzenegger , jean claud van damme or steven segal\"\n",
    "    \"\"\"\n",
    "    string = re.sub(r\"[^A-Za-z0-9(),!?\\'\\`]\", \" \", string)\n",
    "    string = re.sub(r\"\\'s\", \" \\'s\", string)\n",
    "    string = re.sub(r\"\\'ve\", \" \\'ve\", string)\n",
    "    string = re.sub(r\"n\\'t\", \" n\\'t\", string)\n",
    "    string = re.sub(r\"\\'re\", \" \\'re\", string)\n",
    "    string = re.sub(r\"\\'d\", \" \\'d\", string)\n",
    "    string = re.sub(r\"\\'ll\", \" \\'ll\", string)\n",
    "    string = re.sub(r\",\", \" , \", string)\n",
    "    string = re.sub(r\"!\", \" ! \", string)\n",
    "    string = re.sub(r\"\\(\", \" \\( \", string)\n",
    "    string = re.sub(r\"\\)\", \" \\) \", string)\n",
    "    string = re.sub(r\"\\?\", \" \\? \", string)\n",
    "    string = re.sub(r\"\\s{2,}\", \" \", string)\n",
    "    return string.strip().lower()"
   ]
  },
  {
   "cell_type": "code",
   "execution_count": 11,
   "metadata": {},
   "outputs": [],
   "source": [
    "merged_df['CLEAN'] = merged_df['CAPTION'].apply(clean_str)"
   ]
  },
  {
   "cell_type": "code",
   "execution_count": 12,
   "metadata": {},
   "outputs": [
    {
     "data": {
      "text/html": [
       "<div>\n",
       "<style scoped>\n",
       "    .dataframe tbody tr th:only-of-type {\n",
       "        vertical-align: middle;\n",
       "    }\n",
       "\n",
       "    .dataframe tbody tr th {\n",
       "        vertical-align: top;\n",
       "    }\n",
       "\n",
       "    .dataframe thead th {\n",
       "        text-align: right;\n",
       "    }\n",
       "</style>\n",
       "<table border=\"1\" class=\"dataframe\">\n",
       "  <thead>\n",
       "    <tr style=\"text-align: right;\">\n",
       "      <th></th>\n",
       "      <th>FIG_NAME</th>\n",
       "      <th>CLASS</th>\n",
       "      <th>CAPTION</th>\n",
       "      <th>CLEAN</th>\n",
       "    </tr>\n",
       "  </thead>\n",
       "  <tbody>\n",
       "    <tr>\n",
       "      <th>0</th>\n",
       "      <td>11373_2007_9226_Fig1_HTML-10</td>\n",
       "      <td>DMFL</td>\n",
       "      <td>Colocalization of hNopp140, pol I and rDNA rep...</td>\n",
       "      <td>colocalization of hnopp140 , pol i and rdna re...</td>\n",
       "    </tr>\n",
       "    <tr>\n",
       "      <th>1</th>\n",
       "      <td>11373_2007_9226_Fig1_HTML-11</td>\n",
       "      <td>DMFL</td>\n",
       "      <td>Colocalization of hNopp140, pol I and rDNA rep...</td>\n",
       "      <td>colocalization of hnopp140 , pol i and rdna re...</td>\n",
       "    </tr>\n",
       "    <tr>\n",
       "      <th>2</th>\n",
       "      <td>11373_2007_9226_Fig1_HTML-12</td>\n",
       "      <td>DMFL</td>\n",
       "      <td>Colocalization of hNopp140, pol I and rDNA rep...</td>\n",
       "      <td>colocalization of hnopp140 , pol i and rdna re...</td>\n",
       "    </tr>\n",
       "    <tr>\n",
       "      <th>3</th>\n",
       "      <td>11373_2007_9226_Fig1_HTML-13</td>\n",
       "      <td>DMFL</td>\n",
       "      <td>Colocalization of hNopp140, pol I and rDNA rep...</td>\n",
       "      <td>colocalization of hnopp140 , pol i and rdna re...</td>\n",
       "    </tr>\n",
       "    <tr>\n",
       "      <th>4</th>\n",
       "      <td>11373_2007_9226_Fig1_HTML-14</td>\n",
       "      <td>DMFL</td>\n",
       "      <td>Colocalization of hNopp140, pol I and rDNA rep...</td>\n",
       "      <td>colocalization of hnopp140 , pol i and rdna re...</td>\n",
       "    </tr>\n",
       "  </tbody>\n",
       "</table>\n",
       "</div>"
      ],
      "text/plain": [
       "                       FIG_NAME CLASS  \\\n",
       "0  11373_2007_9226_Fig1_HTML-10  DMFL   \n",
       "1  11373_2007_9226_Fig1_HTML-11  DMFL   \n",
       "2  11373_2007_9226_Fig1_HTML-12  DMFL   \n",
       "3  11373_2007_9226_Fig1_HTML-13  DMFL   \n",
       "4  11373_2007_9226_Fig1_HTML-14  DMFL   \n",
       "\n",
       "                                             CAPTION  \\\n",
       "0  Colocalization of hNopp140, pol I and rDNA rep...   \n",
       "1  Colocalization of hNopp140, pol I and rDNA rep...   \n",
       "2  Colocalization of hNopp140, pol I and rDNA rep...   \n",
       "3  Colocalization of hNopp140, pol I and rDNA rep...   \n",
       "4  Colocalization of hNopp140, pol I and rDNA rep...   \n",
       "\n",
       "                                               CLEAN  \n",
       "0  colocalization of hnopp140 , pol i and rdna re...  \n",
       "1  colocalization of hnopp140 , pol i and rdna re...  \n",
       "2  colocalization of hnopp140 , pol i and rdna re...  \n",
       "3  colocalization of hnopp140 , pol i and rdna re...  \n",
       "4  colocalization of hnopp140 , pol i and rdna re...  "
      ]
     },
     "execution_count": 12,
     "metadata": {},
     "output_type": "execute_result"
    }
   ],
   "source": [
    "merged_df.head()"
   ]
  },
  {
   "cell_type": "code",
   "execution_count": 15,
   "metadata": {},
   "outputs": [
    {
     "data": {
      "text/plain": [
       "'Colocalization of hNopp140, pol I and rDNA repeats. ( a ) Distribution of hNopp140 and pol I. The rounded-up mitotic cells were collected from HeLa culture by mechanical shake-off (upper panel; arrows for anaphase, arrowheads for telophase). The attached cells were at interphase (lower panel). Cells were subjected to double-fluorescent immunostaining of pol I and hNopp140. The DNA was counterstained with Hoechst 33258. ( b ) Distribution of hNopp140 and rDNA. HeLa cells at interphase were visualized in FISH experiments with a biotin labeled rDNA probe and a detector, avidin ï¿½ï¿½ rhodamin conjugate. The same cells were also immunofluorescence-stained with anti-hNopp140 mAb. Arrow, Cajal body. ( c ) rDNA colocalized with the ectopically expressed hNopp140. HeLa cells transfected with Flag-tagged full-length hNopp140 were processed for detecting the rDNA and the Flag-tagged proteins. Bars, 10 ï¿½ Î¼ m'"
      ]
     },
     "execution_count": 15,
     "metadata": {},
     "output_type": "execute_result"
    }
   ],
   "source": [
    "merged_df.iloc[0]['CAPTION']"
   ]
  },
  {
   "cell_type": "code",
   "execution_count": 16,
   "metadata": {},
   "outputs": [
    {
     "data": {
      "text/plain": [
       "'colocalization of hnopp140 , pol i and rdna repeats \\\\( a \\\\) distribution of hnopp140 and pol i the rounded up mitotic cells were collected from hela culture by mechanical shake off \\\\( upper panel arrows for anaphase , arrowheads for telophase \\\\) the attached cells were at interphase \\\\( lower panel \\\\) cells were subjected to double fluorescent immunostaining of pol i and hnopp140 the dna was counterstained with hoechst 33258 \\\\( b \\\\) distribution of hnopp140 and rdna hela cells at interphase were visualized in fish experiments with a biotin labeled rdna probe and a detector , avidin rhodamin conjugate the same cells were also immunofluorescence stained with anti hnopp140 mab arrow , cajal body \\\\( c \\\\) rdna colocalized with the ectopically expressed hnopp140 hela cells transfected with flag tagged full length hnopp140 were processed for detecting the rdna and the flag tagged proteins bars , 10 m'"
      ]
     },
     "execution_count": 16,
     "metadata": {},
     "output_type": "execute_result"
    }
   ],
   "source": [
    "merged_df.iloc[0]['CLEAN']"
   ]
  },
  {
   "cell_type": "code",
   "execution_count": 25,
   "metadata": {},
   "outputs": [],
   "source": [
    "merged_df['LEN'] = merged_df['CLEAN'].apply(lambda x: len(str(x).split(' ')))"
   ]
  },
  {
   "cell_type": "code",
   "execution_count": 26,
   "metadata": {},
   "outputs": [
    {
     "name": "stdout",
     "output_type": "stream",
     "text": [
      "mean length of sentence: 146.19332939787486\n",
      "max length of sentence: 592\n",
      "std dev length of sentence: 93.57052453113403\n"
     ]
    }
   ],
   "source": [
    "print(\"mean length of sentence: \" + str(merged_df['LEN'].mean()))\n",
    "print(\"max length of sentence: \" + str(merged_df['LEN'].max()))\n",
    "print(\"std dev length of sentence: \" + str(merged_df['LEN'].std()))"
   ]
  },
  {
   "cell_type": "code",
   "execution_count": 28,
   "metadata": {},
   "outputs": [
    {
     "data": {
      "text/plain": [
       "<AxesSubplot:>"
      ]
     },
     "execution_count": 28,
     "metadata": {},
     "output_type": "execute_result"
    },
    {
     "data": {
      "image/png": "[encoded data removed]",
      "text/plain": [
       "<Figure size 432x288 with 1 Axes>"
      ]
     },
     "metadata": {
      "needs_background": "light"
     },
     "output_type": "display_data"
    }
   ],
   "source": [
    "import matplotlib.pyplot as plt\n",
    "%matplotlib inline\n",
    "\n",
    "merged_df['LEN'].hist()"
   ]
  },
  {
   "cell_type": "markdown",
   "metadata": {},
   "source": [
    "## Check tokenizer"
   ]
  },
  {
   "cell_type": "code",
   "execution_count": 29,
   "metadata": {},
   "outputs": [],
   "source": [
    "from tensorflow.keras.preprocessing.text import Tokenizer\n",
    "from tensorflow.keras.preprocessing.sequence import pad_sequences"
   ]
  },
  {
   "cell_type": "code",
   "execution_count": 30,
   "metadata": {},
   "outputs": [],
   "source": [
    "max_words = 20000\n",
    "tokenizer = Tokenizer(num_words=max_words, filters='!\"#$%&()*+,-/:;<=>?@[\\\\]^_`{|}~\\t\\n\\'')"
   ]
  },
  {
   "cell_type": "code",
   "execution_count": 35,
   "metadata": {},
   "outputs": [],
   "source": [
    "x = merged_df['CLEAN'].tolist()"
   ]
  },
  {
   "cell_type": "code",
   "execution_count": 36,
   "metadata": {},
   "outputs": [
    {
     "data": {
      "text/plain": [
       "6776"
      ]
     },
     "execution_count": 36,
     "metadata": {},
     "output_type": "execute_result"
    }
   ],
   "source": [
    "len(x)"
   ]
  },
  {
   "cell_type": "code",
   "execution_count": 37,
   "metadata": {},
   "outputs": [],
   "source": [
    "tokenizer.fit_on_texts(x)"
   ]
  },
  {
   "cell_type": "code",
   "execution_count": 38,
   "metadata": {},
   "outputs": [],
   "source": [
    "word_index = tokenizer.word_index"
   ]
  },
  {
   "cell_type": "code",
   "execution_count": 39,
   "metadata": {},
   "outputs": [
    {
     "data": {
      "text/plain": [
       "14805"
      ]
     },
     "execution_count": 39,
     "metadata": {},
     "output_type": "execute_result"
    }
   ],
   "source": [
    "len(word_index)"
   ]
  },
  {
   "cell_type": "code",
   "execution_count": 41,
   "metadata": {},
   "outputs": [],
   "source": [
    "train_sequences = tokenizer.texts_to_sequences(x)"
   ]
  },
  {
   "cell_type": "code",
   "execution_count": 43,
   "metadata": {},
   "outputs": [
    {
     "data": {
      "text/plain": [
       "'colocalization of hnopp140 , pol i and rdna repeats \\\\( a \\\\) distribution of hnopp140 and pol i the rounded up mitotic cells were collected from hela culture by mechanical shake off \\\\( upper panel arrows for anaphase , arrowheads for telophase \\\\) the attached cells were at interphase \\\\( lower panel \\\\) cells were subjected to double fluorescent immunostaining of pol i and hnopp140 the dna was counterstained with hoechst 33258 \\\\( b \\\\) distribution of hnopp140 and rdna hela cells at interphase were visualized in fish experiments with a biotin labeled rdna probe and a detector , avidin rhodamin conjugate the same cells were also immunofluorescence stained with anti hnopp140 mab arrow , cajal body \\\\( c \\\\) rdna colocalized with the ectopically expressed hnopp140 hela cells transfected with flag tagged full length hnopp140 were processed for detecting the rdna and the flag tagged proteins bars , 10 m'"
      ]
     },
     "execution_count": 43,
     "metadata": {},
     "output_type": "execute_result"
    }
   ],
   "source": [
    "x[0]"
   ]
  },
  {
   "cell_type": "code",
   "execution_count": 44,
   "metadata": {},
   "outputs": [
    {
     "data": {
      "text/plain": [
       "1244"
      ]
     },
     "execution_count": 44,
     "metadata": {},
     "output_type": "execute_result"
    }
   ],
   "source": [
    "word_index['pol']"
   ]
  },
  {
   "cell_type": "code",
   "execution_count": 45,
   "metadata": {},
   "outputs": [],
   "source": [
    "train_data = pad_sequences(train_sequences,\n",
    "                               maxlen=200,\n",
    "                               padding='pre')"
   ]
  },
  {
   "cell_type": "code",
   "execution_count": 46,
   "metadata": {},
   "outputs": [
    {
     "data": {
      "text/plain": [
       "array([   0,    0,    0,    0,    0,    0,    0,    0,    0,    0,    0,\n",
       "          0,    0,    0,    0,    0,    0,    0,    0,    0,    0,    0,\n",
       "          0,    0,    0,    0,    0,    0,    0,    0,    0,    0,    0,\n",
       "          0,    0,    0,    0,    0,    0,    0,    0,    0,    0,    0,\n",
       "          0,    0,    0,    0,    0,    0,    0,    0,    0,    0,    0,\n",
       "          0,    0,    0,    0,    0,    0,    0,    0,    0, 1142,    2,\n",
       "        832, 1244,   51,    3,  723, 2105,    5,  146,    2,  832,    3,\n",
       "       1244,   51,    1, 2770,  338, 1153,   11,   12,  590,   18,  597,\n",
       "        358,   14, 3331, 4448, 1000,  316,   48,   69,    7, 4449,  197,\n",
       "          7, 3672,    1, 2178,   11,   12,   23, 2230,  222,   48,   11,\n",
       "         12,  785,    8,  457,  632, 1514,    2, 1244,   51,    3,  832,\n",
       "          1,  129,   20, 1432,    6, 2936, 4450,    9,  146,    2,  832,\n",
       "          3,  723,  597,   11,   23, 2230,   12,  636,    4, 1287,  119,\n",
       "          6,    5, 1371,  140,  723,  202,    3,    5, 3332, 4049, 3209,\n",
       "       2428,    1,  122,   11,   12,  175,  483,   86,    6,   63,  832,\n",
       "        496,   87, 4451,  473,   10,  723, 3137,    6,    1, 4452,  103,\n",
       "        832,  597,   11,  167,    6,  861, 1206,  897,  383,  832,   12,\n",
       "       1464,    7, 2872,    1,  723,    3,    1,  861, 1206,  137,   70,\n",
       "         41,   28], dtype=int32)"
      ]
     },
     "execution_count": 46,
     "metadata": {},
     "output_type": "execute_result"
    }
   ],
   "source": [
    "train_data[0]"
   ]
  },
  {
   "cell_type": "code",
   "execution_count": 93,
   "metadata": {},
   "outputs": [],
   "source": [
    "set_keys=[0,50,100]\n",
    "dataframe = merged_df[merged_df['ID'].isin(set_keys)]\n",
    "dataframe = dataframe.reset_index()"
   ]
  },
  {
   "cell_type": "code",
   "execution_count": 94,
   "metadata": {},
   "outputs": [
    {
     "data": {
      "text/html": [
       "<div>\n",
       "<style scoped>\n",
       "    .dataframe tbody tr th:only-of-type {\n",
       "        vertical-align: middle;\n",
       "    }\n",
       "\n",
       "    .dataframe tbody tr th {\n",
       "        vertical-align: top;\n",
       "    }\n",
       "\n",
       "    .dataframe thead th {\n",
       "        text-align: right;\n",
       "    }\n",
       "</style>\n",
       "<table border=\"1\" class=\"dataframe\">\n",
       "  <thead>\n",
       "    <tr style=\"text-align: right;\">\n",
       "      <th></th>\n",
       "      <th>index</th>\n",
       "      <th>FIG_NAME</th>\n",
       "      <th>CLASS</th>\n",
       "      <th>CAPTION</th>\n",
       "      <th>ID</th>\n",
       "    </tr>\n",
       "  </thead>\n",
       "  <tbody>\n",
       "    <tr>\n",
       "      <th>0</th>\n",
       "      <td>0</td>\n",
       "      <td>11373_2007_9226_Fig1_HTML-10</td>\n",
       "      <td>DMFL</td>\n",
       "      <td>Colocalization of hNopp140, pol I and rDNA rep...</td>\n",
       "      <td>0</td>\n",
       "    </tr>\n",
       "    <tr>\n",
       "      <th>1</th>\n",
       "      <td>50</td>\n",
       "      <td>1423-0127-17-22-2-1</td>\n",
       "      <td>GGEL</td>\n",
       "      <td>MBP-pulldown and mammalian two hybrid assay in...</td>\n",
       "      <td>50</td>\n",
       "    </tr>\n",
       "    <tr>\n",
       "      <th>2</th>\n",
       "      <td>100</td>\n",
       "      <td>1465-9921-11-121-3-3</td>\n",
       "      <td>GFIG</td>\n",
       "      <td>Intra-individual comparisons of relative gene ...</td>\n",
       "      <td>100</td>\n",
       "    </tr>\n",
       "  </tbody>\n",
       "</table>\n",
       "</div>"
      ],
      "text/plain": [
       "   index                      FIG_NAME CLASS  \\\n",
       "0      0  11373_2007_9226_Fig1_HTML-10  DMFL   \n",
       "1     50           1423-0127-17-22-2-1  GGEL   \n",
       "2    100          1465-9921-11-121-3-3  GFIG   \n",
       "\n",
       "                                             CAPTION   ID  \n",
       "0  Colocalization of hNopp140, pol I and rDNA rep...    0  \n",
       "1  MBP-pulldown and mammalian two hybrid assay in...   50  \n",
       "2  Intra-individual comparisons of relative gene ...  100  "
      ]
     },
     "execution_count": 94,
     "metadata": {},
     "output_type": "execute_result"
    }
   ],
   "source": [
    "dataframe.head()"
   ]
  },
  {
   "cell_type": "code",
   "execution_count": 71,
   "metadata": {},
   "outputs": [],
   "source": [
    "captions = dataframe['CAPTION'].tolist()\n",
    "caption_seqs = tokenizer.texts_to_sequences(captions)\n",
    "caption_seqs_padded = pad_sequences(train_sequences, maxlen=200, padding='pre')"
   ]
  },
  {
   "cell_type": "code",
   "execution_count": 72,
   "metadata": {},
   "outputs": [
    {
     "data": {
      "text/plain": [
       "['Colocalization of hNopp140, pol I and rDNA repeats. ( a ) Distribution of hNopp140 and pol I. The rounded-up mitotic cells were collected from HeLa culture by mechanical shake-off (upper panel; arrows for anaphase, arrowheads for telophase). The attached cells were at interphase (lower panel). Cells were subjected to double-fluorescent immunostaining of pol I and hNopp140. The DNA was counterstained with Hoechst 33258. ( b ) Distribution of hNopp140 and rDNA. HeLa cells at interphase were visualized in FISH experiments with a biotin labeled rDNA probe and a detector, avidin ï¿½ï¿½ rhodamin conjugate. The same cells were also immunofluorescence-stained with anti-hNopp140 mAb. Arrow, Cajal body. ( c ) rDNA colocalized with the ectopically expressed hNopp140. HeLa cells transfected with Flag-tagged full-length hNopp140 were processed for detecting the rDNA and the Flag-tagged proteins. Bars, 10 ï¿½ Î¼ m',\n",
       " 'MBP-pulldown and mammalian two hybrid assay indicated homo-interaction character of LMO2-L and -S isoform . (A) Coomassie blue R-250 staining of MBP-pulldown samples after SDS-PAGE. NC, amylose resin without recombinant protein and incubated with K562/Jurkat total protein; MAL- Î² -galactase, sample of purified MAL- Î² -galactase incubated with K562/Jurkat total protein used as a control; MAL-LMO2-L/-S, sample of purified MAL-LMO2-L/-S incubated with K562/Jurkat total protein. (B) Western blot analysis of relative samples corresponding to (A) using anti-LMO2 antibody. (C) Mammalian two hybrid assay of LMO2-L and LMO2-S. pACT, activation domain fusion protein expression plasmid; pBIND, GAL4 binding domain fusion protein expression plasmid. +, cells transfected with such component; -, cells transfected without such component.',\n",
       " 'Intra-individual comparisons of relative gene expression of the M2 markers IL-10 (a, b) and CCR2 (c, d) in total BAL cells cultured in medium (four or 24 h), or stimulated with LPS (24 h), in sarcoidosis patients (left columns) and healthy controls (right columns) .,']"
      ]
     },
     "execution_count": 72,
     "metadata": {},
     "output_type": "execute_result"
    }
   ],
   "source": [
    "captions"
   ]
  },
  {
   "cell_type": "code",
   "execution_count": 98,
   "metadata": {},
   "outputs": [
    {
     "data": {
      "text/plain": [
       "2"
      ]
     },
     "execution_count": 98,
     "metadata": {},
     "output_type": "execute_result"
    }
   ],
   "source": [
    "idx = dataframe[dataframe['ID'] == 100].index[0]\n",
    "idx"
   ]
  },
  {
   "cell_type": "code",
   "execution_count": 99,
   "metadata": {
    "scrolled": true
   },
   "outputs": [
    {
     "data": {
      "text/plain": [
       "'Intra-individual comparisons of relative gene expression of the M2 markers IL-10 (a, b) and CCR2 (c, d) in total BAL cells cultured in medium (four or 24 h), or stimulated with LPS (24 h), in sarcoidosis patients (left columns) and healthy controls (right columns) .,'"
      ]
     },
     "execution_count": 99,
     "metadata": {},
     "output_type": "execute_result"
    }
   ],
   "source": [
    "captions[idx]"
   ]
  },
  {
   "cell_type": "code",
   "execution_count": null,
   "metadata": {},
   "outputs": [],
   "source": []
  }
 ],
 "metadata": {
  "kernelspec": {
   "display_name": "Python 3",
   "language": "python",
   "name": "python3"
  },
  "language_info": {
   "codemirror_mode": {
    "name": "ipython",
    "version": 3
   },
   "file_extension": ".py",
   "mimetype": "text/x-python",
   "name": "python",
   "nbconvert_exporter": "python",
   "pygments_lexer": "ipython3",
   "version": "3.6.9"
  }
 },
 "nbformat": 4,
 "nbformat_minor": 4
}
