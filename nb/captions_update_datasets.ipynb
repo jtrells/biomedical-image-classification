{
 "cells": [
  {
   "cell_type": "code",
   "execution_count": 1,
   "metadata": {},
   "outputs": [],
   "source": [
    "import os\n",
    "\n",
    "BASE_PATH = Path('/workspace/data')\n",
    "IMAGES16_TRAIN = BASE_PATH / 'subfigure-classification' / '2016' / 'train'\n",
    "IMAGES16_TEST  = BASE_PATH / 'subfigure-classification' / '2016' / 'test'"
   ]
  },
  {
   "cell_type": "code",
   "execution_count": null,
   "metadata": {},
   "outputs": [],
   "source": [
    "# os.rename(IMAGES16_TEST / \"1471-2105-6-S2-S11-7_1.jpg\", IMAGES16_TEST / \"IJBI2010-308627.003-1.jpg\")\n",
    "# os.rename(IMAGES16_TEST / \"1471-2105-6-S2-S11-7_2.jpg\", IMAGES16_TEST / \"IJBI2010-308627.003-2.jpg\")\n",
    "# os.rename(IMAGES16_TEST / \"1471-2105-6-S2-S11-7_3.jpg\", IMAGES16_TEST / \"IJBI2010-308627.003-3.jpg\")\n",
    "# os.rename(IMAGES16_TEST / \"1471-2105-6-S2-S11-7_4.jpg\", IMAGES16_TEST / \"IJBI2010-308627.003-4.jpg\")\n",
    "# os.rename(IMAGES16_TEST / \"1471-2105-6-S2-S11-7_5.jpg\", IMAGES16_TEST / \"IJBI2010-308627.003-5.jpg\")\n",
    "# os.rename(IMAGES16_TEST / \"1471-2105-6-S2-S11-7_6.jpg\", IMAGES16_TEST / \"IJBI2010-308627.003-6.jpg\")\n",
    "# os.rename(IMAGES16_TEST / \"1471-2105-6-S2-S11-7_7.jpg\", IMAGES16_TEST / \"IJBI2010-308627.003-7.jpg\")\n",
    "# os.rename(IMAGES16_TEST / \"1471-2105-6-S2-S11-7_8.jpg\", IMAGES16_TEST / \"IJBI2010-308627.003-8.jpg\")\n",
    "# os.rename(IMAGES16_TEST / \"1471-2105-6-S2-S11-7_9.jpg\", IMAGES16_TEST / \"IJBI2010-308627.003-9.jpg\")\n",
    "# os.rename(IMAGES16_TEST / \"1471-2105-6-S2-S11-7_10.jpg\", IMAGES16_TEST / \"IJBI2010-308627.003-10.jpg\")\n",
    "\n",
    "# os.rename(IMAGES16_TEST / \"IJBI2010-308627-003-8.jpg\", IMAGES16_TEST / \"IJBI2010-308627.003-8.jpg\")\n",
    "# os.rename(IMAGES16_TEST / \"IJBI2010-535329-1.015.jpg\", IMAGES16_TEST / \"IJBI2010-535329.015-1.jpg\")\n",
    "# os.rename(IMAGES16_TEST / \"IJBI2010-535329-2.015.jpg\", IMAGES16_TEST / \"IJBI2010-535329.015-2.jpg\")\n",
    "# os.rename(IMAGES16_TEST / \"IJBI2010-535329-3.015.jpg\", IMAGES16_TEST / \"IJBI2010-535329.015-3.jpg\")\n",
    "# os.rename(IMAGES16_TEST / \"IJBI2010-535329-4.015.jpg\", IMAGES16_TEST / \"IJBI2010-535329.015-4.jpg\")\n",
    "# os.rename(IMAGES16_TEST / \"IJBI2010-535329-5.015.jpg\", IMAGES16_TEST / \"IJBI2010-535329.015-5.jpg\")"
   ]
  }
 ],
 "metadata": {
  "kernelspec": {
   "display_name": "Python 3",
   "language": "python",
   "name": "python3"
  },
  "language_info": {
   "codemirror_mode": {
    "name": "ipython",
    "version": 3
   },
   "file_extension": ".py",
   "mimetype": "text/x-python",
   "name": "python",
   "nbconvert_exporter": "python",
   "pygments_lexer": "ipython3",
   "version": "3.6.9"
  }
 },
 "nbformat": 4,
 "nbformat_minor": 4
}
