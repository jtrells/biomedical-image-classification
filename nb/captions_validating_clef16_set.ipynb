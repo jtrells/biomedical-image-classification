{
 "cells": [
  {
   "cell_type": "markdown",
   "metadata": {},
   "source": [
    "# Captions for CLEF16 Data\n",
    "\n",
    "ImageCLEF captions come from the subfigure segmentation task where one figure (compound or single) comes with a corresponding caption and the bounding boxes for any subfigure. As we want to use the captions for the subfigure classification, which is derived from segmentation dataset, we need to match the captions to the subfigure classification set.\n",
    "\n",
    "There is one caveat, the subfigure classification task dataset was built using the subfigure bounding boxes but the captions were not processed to match the subfigure. Hence, the same caption will be repeated for the *n* subfigures in a figure. For example:\n",
    "* Figure '1471-2202-9-58-19.jpg' (nomenclature in segmentation task) has 3 subfigures.\n",
    "* Subfigures: '1471-2202-9-58-19**-1**.jpg', '1471-2202-9-58-19**-2**.jpg', '1471-2202-9-58-19**-3**.jpg' (nomenclature in subfigure classification task)\n",
    "* Caption: \"This is a sample caption (A) something, (B) something else, (C) another thing\" is assigned to the three subfigures.\n",
    "\n",
    "How will this affect our classification approach? That's yet to be analyzed, but chopping the subfigures is a way to laborious task."
   ]
  },
  {
   "cell_type": "markdown",
   "metadata": {},
   "source": [
    "## Our Data\n",
    "* Captions:\n",
    "    * CompoundFigureDetectionTraining2016-Captions.csv\n",
    "    * CompoundFigureDetectionTest2016-Captions.csv\n",
    "    * We don't have data for ImageClef13 now.\n",
    "* Images:\n",
    "    * Organized in folder per modality"
   ]
  },
  {
   "cell_type": "markdown",
   "metadata": {},
   "source": [
    "## 1. Data Validation"
   ]
  },
  {
   "cell_type": "markdown",
   "metadata": {},
   "source": [
    "Verify that each image on the CLEF16 training dataset has a corresponding caption."
   ]
  },
  {
   "cell_type": "code",
   "execution_count": 54,
   "metadata": {},
   "outputs": [],
   "source": [
    "import pandas as pd\n",
    "import json\n",
    "import os\n",
    "import re\n",
    "import csv\n",
    "from pathlib import Path"
   ]
  },
  {
   "cell_type": "code",
   "execution_count": 271,
   "metadata": {},
   "outputs": [],
   "source": [
    "BASE_PATH = Path('/workspace/data')\n",
    "IMAGES16_TRAIN = BASE_PATH / 'subfigure-classification' / '2016' / 'train'\n",
    "IMAGES16_TEST  = BASE_PATH / 'subfigure-classification' / '2016' / 'test'\n",
    "LABELS16_TEST  = BASE_PATH / 'subfigure-classification' / '2016' / 'test.csv'\n",
    "# CAPTIONS16_TRAIN = BASE_PATH / 'figure-separation' / '2016' / 'captions-training.csv'\n",
    "CAPTIONS16_TRAIN = BASE_PATH / 'compound-figure-detection' / '2016' / 'captions-train.csv'\n",
    "CAPTIONS16_TEST  = BASE_PATH / 'figure-separation' / '2016' / 'captions-test.csv'\n",
    "\n",
    "DATASET_PATH = BASE_PATH / \"multimodality_classification.csv\""
   ]
  },
  {
   "cell_type": "markdown",
   "metadata": {},
   "source": [
    "I want to create my dataset later with the path to an image, but keeping it relative to wherever I want to place the dataset content. In other words, I don't want to save the **BASE_PATH** in the dataset so I can use it as a parameter. The *pathlib parts* method is handy for this task."
   ]
  },
  {
   "cell_type": "code",
   "execution_count": 117,
   "metadata": {},
   "outputs": [
    {
     "data": {
      "text/plain": [
       "PosixPath('subfigure-classification/2016/train')"
      ]
     },
     "execution_count": 117,
     "metadata": {},
     "output_type": "execute_result"
    }
   ],
   "source": [
    "# 3 because of BASE_PATH (start after /data)\n",
    "Path(*IMAGES16_TRAIN.parts[3:])"
   ]
  },
  {
   "cell_type": "code",
   "execution_count": 92,
   "metadata": {},
   "outputs": [],
   "source": [
    "# os.rename(IMAGES16_TEST / \"1471-2105-6-S2-S11-7_1.jpg\", IMAGES16_TEST / \"IJBI2010-308627.003-1.jpg\")\n",
    "# os.rename(IMAGES16_TEST / \"1471-2105-6-S2-S11-7_2.jpg\", IMAGES16_TEST / \"IJBI2010-308627.003-2.jpg\")\n",
    "# os.rename(IMAGES16_TEST / \"1471-2105-6-S2-S11-7_3.jpg\", IMAGES16_TEST / \"IJBI2010-308627.003-3.jpg\")\n",
    "# os.rename(IMAGES16_TEST / \"1471-2105-6-S2-S11-7_4.jpg\", IMAGES16_TEST / \"IJBI2010-308627.003-4.jpg\")\n",
    "# os.rename(IMAGES16_TEST / \"1471-2105-6-S2-S11-7_5.jpg\", IMAGES16_TEST / \"IJBI2010-308627.003-5.jpg\")\n",
    "# os.rename(IMAGES16_TEST / \"1471-2105-6-S2-S11-7_6.jpg\", IMAGES16_TEST / \"IJBI2010-308627.003-6.jpg\")\n",
    "# os.rename(IMAGES16_TEST / \"1471-2105-6-S2-S11-7_7.jpg\", IMAGES16_TEST / \"IJBI2010-308627.003-7.jpg\")\n",
    "# os.rename(IMAGES16_TEST / \"1471-2105-6-S2-S11-7_8.jpg\", IMAGES16_TEST / \"IJBI2010-308627.003-8.jpg\")\n",
    "# os.rename(IMAGES16_TEST / \"1471-2105-6-S2-S11-7_9.jpg\", IMAGES16_TEST / \"IJBI2010-308627.003-9.jpg\")\n",
    "# os.rename(IMAGES16_TEST / \"1471-2105-6-S2-S11-7_10.jpg\", IMAGES16_TEST / \"IJBI2010-308627.003-10.jpg\")\n",
    "\n",
    "# os.rename(IMAGES16_TEST / \"IJBI2010-308627-003-8.jpg\", IMAGES16_TEST / \"IJBI2010-308627.003-8.jpg\")\n",
    "# os.rename(IMAGES16_TEST / \"IJBI2010-535329-1.015.jpg\", IMAGES16_TEST / \"IJBI2010-535329.015-1.jpg\")\n",
    "# os.rename(IMAGES16_TEST / \"IJBI2010-535329-2.015.jpg\", IMAGES16_TEST / \"IJBI2010-535329.015-2.jpg\")\n",
    "# os.rename(IMAGES16_TEST / \"IJBI2010-535329-3.015.jpg\", IMAGES16_TEST / \"IJBI2010-535329.015-3.jpg\")\n",
    "# os.rename(IMAGES16_TEST / \"IJBI2010-535329-4.015.jpg\", IMAGES16_TEST / \"IJBI2010-535329.015-4.jpg\")\n",
    "# os.rename(IMAGES16_TEST / \"IJBI2010-535329-5.015.jpg\", IMAGES16_TEST / \"IJBI2010-535329.015-5.jpg\")"
   ]
  },
  {
   "cell_type": "markdown",
   "metadata": {},
   "source": [
    "Obtain the list of image names (**training_ids**) from the CLEF16 image folder"
   ]
  },
  {
   "cell_type": "code",
   "execution_count": 133,
   "metadata": {},
   "outputs": [],
   "source": [
    "def load_test_modalities16():\n",
    "    with open(LABELS16_TEST) as csvfile:\n",
    "        reader = csv.reader(csvfile, delimiter=' ')\n",
    "        return { '{0}.jpg'.format(x[0]): x[1] for x in reader }\n",
    "\n",
    "def get_modality(dictionary, key):\n",
    "    try:\n",
    "        return dictionary[key]\n",
    "    except:\n",
    "        return \"NONE\"\n",
    "    \n",
    "modalities16_test = load_test_modalities16()"
   ]
  },
  {
   "cell_type": "code",
   "execution_count": 136,
   "metadata": {},
   "outputs": [
    {
     "data": {
      "text/plain": [
       "['12178_2008_9035_Fig6_HTML-1.jpg',\n",
       " '12178_2008_9035_Fig6_HTML-2.jpg',\n",
       " '1297-9686-41-35-3-1.jpg',\n",
       " '1297-9686-41-35-3-2.jpg',\n",
       " '1423-0127-16-19-5-1.jpg']"
      ]
     },
     "execution_count": 136,
     "metadata": {},
     "output_type": "execute_result"
    }
   ],
   "source": [
    "# modalities in ImageCLEF13 also considered the class COMP, if we use it, make sure to discard it first\n",
    "modalities = [x.name for x in IMAGES16_TRAIN.glob('*/')]\n",
    "train_data_16 = [(img_path.name, modality, Path(*img_path.parts[3:])) for modality in modalities \n",
    "                 for img_path in (IMAGES16_TRAIN / modality).glob('*.jpg')]  \n",
    "# to match with captions\n",
    "train_ids_16 = [x[0] for x in train_data_16] \n",
    "\n",
    "test_data_16 = [(img_path.name, get_modality(modalities16_test, img_path.name), \n",
    "                 Path(*img_path.parts[3:]))\n",
    "                for img_path in IMAGES16_TEST.glob('*.jpg')]\n",
    "test_ids_16  = [x[0] for x in test_data_16]\n",
    "test_ids_16[:5]"
   ]
  },
  {
   "cell_type": "code",
   "execution_count": 121,
   "metadata": {},
   "outputs": [
    {
     "data": {
      "text/plain": [
       "[('1423-0127-16-109-3-1.jpg',\n",
       "  'D3DR',\n",
       "  PosixPath('subfigure-classification/2016/train/D3DR/1423-0127-16-109-3-1.jpg'))]"
      ]
     },
     "execution_count": 121,
     "metadata": {},
     "output_type": "execute_result"
    }
   ],
   "source": [
    "train_data_16[:1]"
   ]
  },
  {
   "cell_type": "code",
   "execution_count": 231,
   "metadata": {},
   "outputs": [
    {
     "data": {
      "text/plain": [
       "[('12178_2008_9035_Fig6_HTML-1.jpg',\n",
       "  'DRXR',\n",
       "  PosixPath('subfigure-classification/2016/test/12178_2008_9035_Fig6_HTML-1.jpg'))]"
      ]
     },
     "execution_count": 231,
     "metadata": {},
     "output_type": "execute_result"
    }
   ],
   "source": [
    "test_data_16[:1]"
   ]
  },
  {
   "cell_type": "markdown",
   "metadata": {},
   "source": [
    "As the main difference in the file namings between datasets is the suffix used in the subfigure classification images, the following functions will become handy to match the image with the captions."
   ]
  },
  {
   "cell_type": "code",
   "execution_count": 64,
   "metadata": {},
   "outputs": [
    {
     "name": "stdout",
     "output_type": "stream",
     "text": [
      "1471-2202-9-58-19\n",
      "IJBI2010-105610.007\n",
      "11373_2007_9226_Fig1_HTML\n"
     ]
    }
   ],
   "source": [
    "# def match_compound(img_id):\n",
    "#     p = re.compile('(-|[.])[0-9]*-[0-9]*.(jpg)$')\n",
    "#     match = p.search(img_id)\n",
    "#     return True if match != None else False\n",
    "\n",
    "def get_compound_root(img_id):\n",
    "    # Obtain the part of the image name without subfigure labeling\n",
    "    p = re.compile('(-|[.])[0-9]*.(jpg)$')\n",
    "    match = p.search(img_id)\n",
    "    m_start, m_end = match.span()\n",
    "    return img_id[:m_start]\n",
    "\n",
    "def create_captions_dict(csv_file):\n",
    "    # create a captions dictionary for a convenient matching\n",
    "    # works for the FIGURE DETECTION file but this files is incomplete\n",
    "    captions_dict = {}\n",
    "    with open(csv_file, encoding='ISO-8859-1') as csvfile:\n",
    "        reader = csv.reader(csvfile, delimiter='\\t')\n",
    "        for row in reader:\n",
    "            captions_dict[row[0]] = row[1]\n",
    "    return captions_dict\n",
    "\n",
    "def create_caption_dictionary(csv_file):\n",
    "    # works with the COMPOUND FIGURE DETECTION file\n",
    "    captions = {}\n",
    "    with open(csv_file, encoding='ISO-8859-1') as csvfile:\n",
    "        reader = csv.reader(csvfile, delimiter='\\t')\n",
    "        for row in reader:\n",
    "            # the original file has some empty lines\n",
    "            if len(row) != 0:\n",
    "                # lines using tab separators\n",
    "                if len(row) == 1:\n",
    "                    sp = row[0].split('\\t')\n",
    "                    if len(sp) == 2:\n",
    "                        # remove the ,,,,,,,, sequences\n",
    "                        captions[sp[0]] = sp[1].replace(',,', '').replace(\"\\xa0\", \"\")\n",
    "                    else:\n",
    "                        # there is at least one case there the id is not present\n",
    "                        # so the line has only one value\n",
    "                        captions[sp[0]] = ''\n",
    "                elif len(row) == 2:\n",
    "                    captions[row[0]] = row[1]\n",
    "    return captions\n",
    "            \n",
    "# Tests match_compound\n",
    "test = '1471-2202-9-58-19-6.jpg'\n",
    "test2= 'IJBI2010-105610.007-1.jpg'\n",
    "test3= '11373_2007_9226_Fig1_HTML-16.jpg'\n",
    "\n",
    "print(get_compound_root(test))\n",
    "print(get_compound_root(test2))\n",
    "print(get_compound_root(test3))"
   ]
  },
  {
   "cell_type": "code",
   "execution_count": 67,
   "metadata": {},
   "outputs": [
    {
     "name": "stdout",
     "output_type": "stream",
     "text": [
      "There are 6776 training subfigures.\n",
      "The captions dictionary has 20987 captions\n"
     ]
    }
   ],
   "source": [
    "captions16_train = create_caption_dictionary(CAPTIONS16_TRAIN)\n",
    "captions16_test  = create_caption_dictionary(CAPTIONS16_TEST)\n",
    "\n",
    "print(\"There are {num} training subfigures.\".format(num=len(image_ids_16)))\n",
    "print(\"The captions dictionary has {num} captions\".format(num=len(captions16_train.keys())))"
   ]
  },
  {
   "cell_type": "markdown",
   "metadata": {},
   "source": [
    "### Check Training Data"
   ]
  },
  {
   "cell_type": "code",
   "execution_count": 149,
   "metadata": {},
   "outputs": [
    {
     "name": "stdout",
     "output_type": "stream",
     "text": [
      "6776 subfigures have a corresponding caption\n",
      "Only  have no captions\n"
     ]
    }
   ],
   "source": [
    "def check_captions(ids, captions_dict):\n",
    "    num_has_caption = 0\n",
    "    imgs_no_caption = []\n",
    "    \n",
    "    for img_id in ids:\n",
    "        try:\n",
    "            caption = captions_dict[get_compound_root(img_id)]\n",
    "            num_has_caption += 1\n",
    "        except KeyError:\n",
    "            imgs_no_caption.append(img_id)\n",
    "    \n",
    "    print(\"{num} subfigures have a corresponding caption\".format(num=num_has_caption))\n",
    "    print(\"Only {images} have no captions\".format(images=(' ').join(imgs_no_caption)))\n",
    "    return\n",
    "\n",
    "check_captions(image_ids_16, captions16_train)"
   ]
  },
  {
   "cell_type": "markdown",
   "metadata": {},
   "source": [
    "After searching for the key in the dictionary, we can see that the problem is the use of **.001** instead of **-001**. We proceed to create a corresponding key."
   ]
  },
  {
   "cell_type": "code",
   "execution_count": 70,
   "metadata": {},
   "outputs": [
    {
     "name": "stdout",
     "output_type": "stream",
     "text": [
      "['DRP2011-927852.001']\n"
     ]
    }
   ],
   "source": [
    "found = []\n",
    "for k in captions16_train.keys():\n",
    "    if 'DRP2011-927852' in k:\n",
    "        found.append(k)\n",
    "print(found)\n",
    "\n",
    "captions16_train['DRP2011-927852-001'] = captions16_train['DRP2011-927852.001']"
   ]
  },
  {
   "cell_type": "code",
   "execution_count": 138,
   "metadata": {},
   "outputs": [
    {
     "name": "stdout",
     "output_type": "stream",
     "text": [
      "6776 subfigures have a corresponding caption\n",
      "Only  have no captions\n"
     ]
    }
   ],
   "source": [
    "check_captions(image_ids_16, captions16_train)"
   ]
  },
  {
   "cell_type": "markdown",
   "metadata": {},
   "source": [
    "Checking if any subfigure has an empty caption."
   ]
  },
  {
   "cell_type": "code",
   "execution_count": 139,
   "metadata": {},
   "outputs": [
    {
     "name": "stdout",
     "output_type": "stream",
     "text": [
      "There are no subfigure with empty labels\n"
     ]
    }
   ],
   "source": [
    "count_empty = 0\n",
    "for img_id in image_ids_16:\n",
    "    if captions16_train[get_compound_root(img_id)] == '':\n",
    "        count_empty += 1\n",
    "        print(img_id)\n",
    "\n",
    "if count_empty == 0:\n",
    "    print(\"There are no subfigure with empty labels\")\n",
    "else:\n",
    "    print(\"There are {num} subfigures with empty labels\".format(num=count_empty))"
   ]
  },
  {
   "cell_type": "markdown",
   "metadata": {},
   "source": [
    "### Check Test Data"
   ]
  },
  {
   "cell_type": "code",
   "execution_count": 140,
   "metadata": {
    "scrolled": true
   },
   "outputs": [
    {
     "name": "stdout",
     "output_type": "stream",
     "text": [
      "4158 subfigures have a corresponding caption\n",
      "Only  have no captions\n"
     ]
    }
   ],
   "source": [
    "check_captions(test_ids_16, captions16_test)"
   ]
  },
  {
   "cell_type": "markdown",
   "metadata": {},
   "source": [
    "## Create Dataframe"
   ]
  },
  {
   "cell_type": "code",
   "execution_count": 232,
   "metadata": {},
   "outputs": [],
   "source": [
    "import pandas as pd\n",
    "\n",
    "def create_dataset(data, captions_dict):\n",
    "    df = pd.DataFrame(data, columns =['ID', 'MODALITY', 'PATH'])\n",
    "    df['CAPTION'] = df.apply(lambda x: captions_dict[get_compound_root(x['ID'])],axis=1)\n",
    "    df['COMPOUND'] = df.apply(lambda x: get_compound_root(x['ID']), axis=1)\n",
    "    return df"
   ]
  },
  {
   "cell_type": "code",
   "execution_count": 233,
   "metadata": {},
   "outputs": [
    {
     "data": {
      "text/plain": [
       "4158"
      ]
     },
     "execution_count": 233,
     "metadata": {},
     "output_type": "execute_result"
    }
   ],
   "source": [
    "len(test_data_16)"
   ]
  },
  {
   "cell_type": "code",
   "execution_count": 234,
   "metadata": {
    "scrolled": false
   },
   "outputs": [
    {
     "data": {
      "text/html": [
       "<div>\n",
       "<style scoped>\n",
       "    .dataframe tbody tr th:only-of-type {\n",
       "        vertical-align: middle;\n",
       "    }\n",
       "\n",
       "    .dataframe tbody tr th {\n",
       "        vertical-align: top;\n",
       "    }\n",
       "\n",
       "    .dataframe thead th {\n",
       "        text-align: right;\n",
       "    }\n",
       "</style>\n",
       "<table border=\"1\" class=\"dataframe\">\n",
       "  <thead>\n",
       "    <tr style=\"text-align: right;\">\n",
       "      <th></th>\n",
       "      <th>ID</th>\n",
       "      <th>MODALITY</th>\n",
       "      <th>PATH</th>\n",
       "      <th>CAPTION</th>\n",
       "      <th>COMPOUND</th>\n",
       "    </tr>\n",
       "  </thead>\n",
       "  <tbody>\n",
       "    <tr>\n",
       "      <th>0</th>\n",
       "      <td>1423-0127-16-109-3-1.jpg</td>\n",
       "      <td>D3DR</td>\n",
       "      <td>subfigure-classification/2016/train/D3DR/1423-...</td>\n",
       "      <td>A. Three dimensional model of class C protein ...</td>\n",
       "      <td>1423-0127-16-109-3</td>\n",
       "    </tr>\n",
       "    <tr>\n",
       "      <th>1</th>\n",
       "      <td>1423-0127-16-109-3-2.jpg</td>\n",
       "      <td>D3DR</td>\n",
       "      <td>subfigure-classification/2016/train/D3DR/1423-...</td>\n",
       "      <td>A. Three dimensional model of class C protein ...</td>\n",
       "      <td>1423-0127-16-109-3</td>\n",
       "    </tr>\n",
       "    <tr>\n",
       "      <th>2</th>\n",
       "      <td>1423-0127-17-34-3-1.jpg</td>\n",
       "      <td>D3DR</td>\n",
       "      <td>subfigure-classification/2016/train/D3DR/1423-...</td>\n",
       "      <td>Three domains of AAG A (or C)-chain: (a) domai...</td>\n",
       "      <td>1423-0127-17-34-3</td>\n",
       "    </tr>\n",
       "    <tr>\n",
       "      <th>3</th>\n",
       "      <td>1423-0127-17-34-3-2.jpg</td>\n",
       "      <td>D3DR</td>\n",
       "      <td>subfigure-classification/2016/train/D3DR/1423-...</td>\n",
       "      <td>Three domains of AAG A (or C)-chain: (a) domai...</td>\n",
       "      <td>1423-0127-17-34-3</td>\n",
       "    </tr>\n",
       "    <tr>\n",
       "      <th>4</th>\n",
       "      <td>1423-0127-17-34-3-3.jpg</td>\n",
       "      <td>D3DR</td>\n",
       "      <td>subfigure-classification/2016/train/D3DR/1423-...</td>\n",
       "      <td>Three domains of AAG A (or C)-chain: (a) domai...</td>\n",
       "      <td>1423-0127-17-34-3</td>\n",
       "    </tr>\n",
       "  </tbody>\n",
       "</table>\n",
       "</div>"
      ],
      "text/plain": [
       "                         ID MODALITY  \\\n",
       "0  1423-0127-16-109-3-1.jpg     D3DR   \n",
       "1  1423-0127-16-109-3-2.jpg     D3DR   \n",
       "2   1423-0127-17-34-3-1.jpg     D3DR   \n",
       "3   1423-0127-17-34-3-2.jpg     D3DR   \n",
       "4   1423-0127-17-34-3-3.jpg     D3DR   \n",
       "\n",
       "                                                PATH  \\\n",
       "0  subfigure-classification/2016/train/D3DR/1423-...   \n",
       "1  subfigure-classification/2016/train/D3DR/1423-...   \n",
       "2  subfigure-classification/2016/train/D3DR/1423-...   \n",
       "3  subfigure-classification/2016/train/D3DR/1423-...   \n",
       "4  subfigure-classification/2016/train/D3DR/1423-...   \n",
       "\n",
       "                                             CAPTION            COMPOUND  \n",
       "0  A. Three dimensional model of class C protein ...  1423-0127-16-109-3  \n",
       "1  A. Three dimensional model of class C protein ...  1423-0127-16-109-3  \n",
       "2  Three domains of AAG A (or C)-chain: (a) domai...   1423-0127-17-34-3  \n",
       "3  Three domains of AAG A (or C)-chain: (a) domai...   1423-0127-17-34-3  \n",
       "4  Three domains of AAG A (or C)-chain: (a) domai...   1423-0127-17-34-3  "
      ]
     },
     "execution_count": 234,
     "metadata": {},
     "output_type": "execute_result"
    }
   ],
   "source": [
    "df16_train = create_dataset(train_data_16, captions16_train)\n",
    "df16_test  = create_dataset(test_data_16, captions16_test)\n",
    "df_train.head()"
   ]
  },
  {
   "cell_type": "code",
   "execution_count": 235,
   "metadata": {},
   "outputs": [
    {
     "data": {
      "text/html": [
       "<div>\n",
       "<style scoped>\n",
       "    .dataframe tbody tr th:only-of-type {\n",
       "        vertical-align: middle;\n",
       "    }\n",
       "\n",
       "    .dataframe tbody tr th {\n",
       "        vertical-align: top;\n",
       "    }\n",
       "\n",
       "    .dataframe thead tr th {\n",
       "        text-align: left;\n",
       "    }\n",
       "\n",
       "    .dataframe thead tr:last-of-type th {\n",
       "        text-align: right;\n",
       "    }\n",
       "</style>\n",
       "<table border=\"1\" class=\"dataframe\">\n",
       "  <thead>\n",
       "    <tr>\n",
       "      <th></th>\n",
       "      <th></th>\n",
       "      <th>ID</th>\n",
       "    </tr>\n",
       "    <tr>\n",
       "      <th></th>\n",
       "      <th></th>\n",
       "      <th>count</th>\n",
       "    </tr>\n",
       "    <tr>\n",
       "      <th>COMPOUND</th>\n",
       "      <th>MODALITY</th>\n",
       "      <th></th>\n",
       "    </tr>\n",
       "  </thead>\n",
       "  <tbody>\n",
       "    <tr>\n",
       "      <th>11373_2007_9226_Fig1_HTML</th>\n",
       "      <th>DMFL</th>\n",
       "      <td>19</td>\n",
       "    </tr>\n",
       "    <tr>\n",
       "      <th rowspan=\"2\" valign=\"top\">12178_2007_9007_Fig1_HTML</th>\n",
       "      <th>DMTR</th>\n",
       "      <td>1</td>\n",
       "    </tr>\n",
       "    <tr>\n",
       "      <th>GHDR</th>\n",
       "      <td>3</td>\n",
       "    </tr>\n",
       "    <tr>\n",
       "      <th>12178_2008_9027_Fig4_HTML</th>\n",
       "      <th>DRXR</th>\n",
       "      <td>3</td>\n",
       "    </tr>\n",
       "    <tr>\n",
       "      <th>12178_2009_9056_Fig9_HTML</th>\n",
       "      <th>DRUS</th>\n",
       "      <td>2</td>\n",
       "    </tr>\n",
       "    <tr>\n",
       "      <th>1297-9686-42-10-3</th>\n",
       "      <th>GFIG</th>\n",
       "      <td>4</td>\n",
       "    </tr>\n",
       "    <tr>\n",
       "      <th>1423-0127-16-109-3</th>\n",
       "      <th>D3DR</th>\n",
       "      <td>2</td>\n",
       "    </tr>\n",
       "    <tr>\n",
       "      <th rowspan=\"2\" valign=\"top\">1423-0127-16-6-3</th>\n",
       "      <th>GFIG</th>\n",
       "      <td>1</td>\n",
       "    </tr>\n",
       "    <tr>\n",
       "      <th>GGEL</th>\n",
       "      <td>1</td>\n",
       "    </tr>\n",
       "    <tr>\n",
       "      <th rowspan=\"2\" valign=\"top\">1423-0127-16-6-5</th>\n",
       "      <th>GFIG</th>\n",
       "      <td>1</td>\n",
       "    </tr>\n",
       "    <tr>\n",
       "      <th>GGEL</th>\n",
       "      <td>2</td>\n",
       "    </tr>\n",
       "    <tr>\n",
       "      <th rowspan=\"2\" valign=\"top\">1423-0127-16-7-1</th>\n",
       "      <th>DMEL</th>\n",
       "      <td>5</td>\n",
       "    </tr>\n",
       "    <tr>\n",
       "      <th>GFIG</th>\n",
       "      <td>1</td>\n",
       "    </tr>\n",
       "    <tr>\n",
       "      <th rowspan=\"4\" valign=\"top\">1423-0127-16-88-1</th>\n",
       "      <th>DMEL</th>\n",
       "      <td>1</td>\n",
       "    </tr>\n",
       "    <tr>\n",
       "      <th>DMFL</th>\n",
       "      <td>2</td>\n",
       "    </tr>\n",
       "    <tr>\n",
       "      <th>DMLI</th>\n",
       "      <td>1</td>\n",
       "    </tr>\n",
       "    <tr>\n",
       "      <th>DRMR</th>\n",
       "      <td>1</td>\n",
       "    </tr>\n",
       "    <tr>\n",
       "      <th rowspan=\"3\" valign=\"top\">1423-0127-17-22-2</th>\n",
       "      <th>GFIG</th>\n",
       "      <td>1</td>\n",
       "    </tr>\n",
       "    <tr>\n",
       "      <th>GGEL</th>\n",
       "      <td>2</td>\n",
       "    </tr>\n",
       "    <tr>\n",
       "      <th>GTAB</th>\n",
       "      <td>1</td>\n",
       "    </tr>\n",
       "  </tbody>\n",
       "</table>\n",
       "</div>"
      ],
      "text/plain": [
       "                                      ID\n",
       "                                   count\n",
       "COMPOUND                  MODALITY      \n",
       "11373_2007_9226_Fig1_HTML DMFL        19\n",
       "12178_2007_9007_Fig1_HTML DMTR         1\n",
       "                          GHDR         3\n",
       "12178_2008_9027_Fig4_HTML DRXR         3\n",
       "12178_2009_9056_Fig9_HTML DRUS         2\n",
       "1297-9686-42-10-3         GFIG         4\n",
       "1423-0127-16-109-3        D3DR         2\n",
       "1423-0127-16-6-3          GFIG         1\n",
       "                          GGEL         1\n",
       "1423-0127-16-6-5          GFIG         1\n",
       "                          GGEL         2\n",
       "1423-0127-16-7-1          DMEL         5\n",
       "                          GFIG         1\n",
       "1423-0127-16-88-1         DMEL         1\n",
       "                          DMFL         2\n",
       "                          DMLI         1\n",
       "                          DRMR         1\n",
       "1423-0127-17-22-2         GFIG         1\n",
       "                          GGEL         2\n",
       "                          GTAB         1"
      ]
     },
     "execution_count": 235,
     "metadata": {},
     "output_type": "execute_result"
    }
   ],
   "source": [
    "x = df16_train[['ID', 'COMPOUND', 'MODALITY']].groupby(['COMPOUND', 'MODALITY']).agg(['count'])\n",
    "# x = df16_train[['ID', 'COMPOUND', 'MODALITY']].groupby(['COMPOUND', 'MODALITY']).size()\n",
    "x.head(20)"
   ]
  },
  {
   "cell_type": "code",
   "execution_count": 256,
   "metadata": {},
   "outputs": [
    {
     "name": "stdout",
     "output_type": "stream",
     "text": [
      "(2110, 5) (873, 5)\n"
     ]
    },
    {
     "data": {
      "text/html": [
       "<div>\n",
       "<style scoped>\n",
       "    .dataframe tbody tr th:only-of-type {\n",
       "        vertical-align: middle;\n",
       "    }\n",
       "\n",
       "    .dataframe tbody tr th {\n",
       "        vertical-align: top;\n",
       "    }\n",
       "\n",
       "    .dataframe thead th {\n",
       "        text-align: right;\n",
       "    }\n",
       "</style>\n",
       "<table border=\"1\" class=\"dataframe\">\n",
       "  <thead>\n",
       "    <tr style=\"text-align: right;\">\n",
       "      <th></th>\n",
       "      <th>ID</th>\n",
       "      <th>MODALITY</th>\n",
       "      <th>PATH</th>\n",
       "      <th>CAPTION</th>\n",
       "      <th>COMPOUND</th>\n",
       "    </tr>\n",
       "  </thead>\n",
       "  <tbody>\n",
       "    <tr>\n",
       "      <th>201</th>\n",
       "      <td>1423-0127-16-7-1-1.jpg</td>\n",
       "      <td>DMEL</td>\n",
       "      <td>subfigure-classification/2016/train/DMEL/1423-...</td>\n",
       "      <td>Scanning electron microscope images of the TiO...</td>\n",
       "      <td>1423-0127-16-7-1</td>\n",
       "    </tr>\n",
       "    <tr>\n",
       "      <th>202</th>\n",
       "      <td>1423-0127-16-7-1-2.jpg</td>\n",
       "      <td>DMEL</td>\n",
       "      <td>subfigure-classification/2016/train/DMEL/1423-...</td>\n",
       "      <td>Scanning electron microscope images of the TiO...</td>\n",
       "      <td>1423-0127-16-7-1</td>\n",
       "    </tr>\n",
       "    <tr>\n",
       "      <th>203</th>\n",
       "      <td>1423-0127-16-7-1-4.jpg</td>\n",
       "      <td>DMEL</td>\n",
       "      <td>subfigure-classification/2016/train/DMEL/1423-...</td>\n",
       "      <td>Scanning electron microscope images of the TiO...</td>\n",
       "      <td>1423-0127-16-7-1</td>\n",
       "    </tr>\n",
       "    <tr>\n",
       "      <th>204</th>\n",
       "      <td>1423-0127-16-7-1-5.jpg</td>\n",
       "      <td>DMEL</td>\n",
       "      <td>subfigure-classification/2016/train/DMEL/1423-...</td>\n",
       "      <td>Scanning electron microscope images of the TiO...</td>\n",
       "      <td>1423-0127-16-7-1</td>\n",
       "    </tr>\n",
       "    <tr>\n",
       "      <th>205</th>\n",
       "      <td>1423-0127-16-7-1-6.jpg</td>\n",
       "      <td>DMEL</td>\n",
       "      <td>subfigure-classification/2016/train/DMEL/1423-...</td>\n",
       "      <td>Scanning electron microscope images of the TiO...</td>\n",
       "      <td>1423-0127-16-7-1</td>\n",
       "    </tr>\n",
       "  </tbody>\n",
       "</table>\n",
       "</div>"
      ],
      "text/plain": [
       "                         ID MODALITY  \\\n",
       "201  1423-0127-16-7-1-1.jpg     DMEL   \n",
       "202  1423-0127-16-7-1-2.jpg     DMEL   \n",
       "203  1423-0127-16-7-1-4.jpg     DMEL   \n",
       "204  1423-0127-16-7-1-5.jpg     DMEL   \n",
       "205  1423-0127-16-7-1-6.jpg     DMEL   \n",
       "\n",
       "                                                  PATH  \\\n",
       "201  subfigure-classification/2016/train/DMEL/1423-...   \n",
       "202  subfigure-classification/2016/train/DMEL/1423-...   \n",
       "203  subfigure-classification/2016/train/DMEL/1423-...   \n",
       "204  subfigure-classification/2016/train/DMEL/1423-...   \n",
       "205  subfigure-classification/2016/train/DMEL/1423-...   \n",
       "\n",
       "                                               CAPTION          COMPOUND  \n",
       "201  Scanning electron microscope images of the TiO...  1423-0127-16-7-1  \n",
       "202  Scanning electron microscope images of the TiO...  1423-0127-16-7-1  \n",
       "203  Scanning electron microscope images of the TiO...  1423-0127-16-7-1  \n",
       "204  Scanning electron microscope images of the TiO...  1423-0127-16-7-1  \n",
       "205  Scanning electron microscope images of the TiO...  1423-0127-16-7-1  "
      ]
     },
     "execution_count": 256,
     "metadata": {},
     "output_type": "execute_result"
    }
   ],
   "source": [
    "df16_microscopy_train = df16_train[df16_train['MODALITY'].isin(['DMFL', 'DMTR', 'DMLI', 'DMEL'])]\n",
    "df16_microscopy_test  = df16_test[df16_test['MODALITY'].isin(['DMFL', 'DMTR', 'DMLI', 'DMEL'])]\n",
    "\n",
    "print(df16_microscopy_train.shape, df16_microscopy_test.shape)\n",
    "df16_microscopy_train.reset_index()\n",
    "df16_microscopy_train.head()"
   ]
  },
  {
   "cell_type": "code",
   "execution_count": 242,
   "metadata": {},
   "outputs": [
    {
     "data": {
      "text/html": [
       "<div>\n",
       "<style scoped>\n",
       "    .dataframe tbody tr th:only-of-type {\n",
       "        vertical-align: middle;\n",
       "    }\n",
       "\n",
       "    .dataframe tbody tr th {\n",
       "        vertical-align: top;\n",
       "    }\n",
       "\n",
       "    .dataframe thead th {\n",
       "        text-align: right;\n",
       "    }\n",
       "</style>\n",
       "<table border=\"1\" class=\"dataframe\">\n",
       "  <thead>\n",
       "    <tr style=\"text-align: right;\">\n",
       "      <th></th>\n",
       "      <th>ID</th>\n",
       "      <th>MODALITY</th>\n",
       "      <th>PATH</th>\n",
       "      <th>CAPTION</th>\n",
       "      <th>COMPOUND</th>\n",
       "    </tr>\n",
       "  </thead>\n",
       "  <tbody>\n",
       "    <tr>\n",
       "      <th>14</th>\n",
       "      <td>1423-0127-17-78-9-1.jpg</td>\n",
       "      <td>DMFL</td>\n",
       "      <td>subfigure-classification/2016/test/1423-0127-1...</td>\n",
       "      <td>Confocal image of 5-HT 2A  receptors in the hi...</td>\n",
       "      <td>1423-0127-17-78-9</td>\n",
       "    </tr>\n",
       "    <tr>\n",
       "      <th>15</th>\n",
       "      <td>1423-0127-17-78-9-2.jpg</td>\n",
       "      <td>DMFL</td>\n",
       "      <td>subfigure-classification/2016/test/1423-0127-1...</td>\n",
       "      <td>Confocal image of 5-HT 2A  receptors in the hi...</td>\n",
       "      <td>1423-0127-17-78-9</td>\n",
       "    </tr>\n",
       "    <tr>\n",
       "      <th>16</th>\n",
       "      <td>1423-0127-17-78-9-3.jpg</td>\n",
       "      <td>DMFL</td>\n",
       "      <td>subfigure-classification/2016/test/1423-0127-1...</td>\n",
       "      <td>Confocal image of 5-HT 2A  receptors in the hi...</td>\n",
       "      <td>1423-0127-17-78-9</td>\n",
       "    </tr>\n",
       "    <tr>\n",
       "      <th>17</th>\n",
       "      <td>1423-0127-17-78-9-4.jpg</td>\n",
       "      <td>DMFL</td>\n",
       "      <td>subfigure-classification/2016/test/1423-0127-1...</td>\n",
       "      <td>Confocal image of 5-HT 2A  receptors in the hi...</td>\n",
       "      <td>1423-0127-17-78-9</td>\n",
       "    </tr>\n",
       "    <tr>\n",
       "      <th>18</th>\n",
       "      <td>1423-0127-17-78-9-5.jpg</td>\n",
       "      <td>DMFL</td>\n",
       "      <td>subfigure-classification/2016/test/1423-0127-1...</td>\n",
       "      <td>Confocal image of 5-HT 2A  receptors in the hi...</td>\n",
       "      <td>1423-0127-17-78-9</td>\n",
       "    </tr>\n",
       "  </tbody>\n",
       "</table>\n",
       "</div>"
      ],
      "text/plain": [
       "                         ID MODALITY  \\\n",
       "14  1423-0127-17-78-9-1.jpg     DMFL   \n",
       "15  1423-0127-17-78-9-2.jpg     DMFL   \n",
       "16  1423-0127-17-78-9-3.jpg     DMFL   \n",
       "17  1423-0127-17-78-9-4.jpg     DMFL   \n",
       "18  1423-0127-17-78-9-5.jpg     DMFL   \n",
       "\n",
       "                                                 PATH  \\\n",
       "14  subfigure-classification/2016/test/1423-0127-1...   \n",
       "15  subfigure-classification/2016/test/1423-0127-1...   \n",
       "16  subfigure-classification/2016/test/1423-0127-1...   \n",
       "17  subfigure-classification/2016/test/1423-0127-1...   \n",
       "18  subfigure-classification/2016/test/1423-0127-1...   \n",
       "\n",
       "                                              CAPTION           COMPOUND  \n",
       "14  Confocal image of 5-HT 2A  receptors in the hi...  1423-0127-17-78-9  \n",
       "15  Confocal image of 5-HT 2A  receptors in the hi...  1423-0127-17-78-9  \n",
       "16  Confocal image of 5-HT 2A  receptors in the hi...  1423-0127-17-78-9  \n",
       "17  Confocal image of 5-HT 2A  receptors in the hi...  1423-0127-17-78-9  \n",
       "18  Confocal image of 5-HT 2A  receptors in the hi...  1423-0127-17-78-9  "
      ]
     },
     "execution_count": 242,
     "metadata": {},
     "output_type": "execute_result"
    }
   ],
   "source": [
    "df16_microscopy_test.head()"
   ]
  },
  {
   "cell_type": "code",
   "execution_count": 257,
   "metadata": {},
   "outputs": [],
   "source": [
    "from sklearn.model_selection import train_test_split\n",
    "train, val = train_test_split(df16_microscopy_train,\n",
    "                              test_size=0.2,\n",
    "                              random_state=43,\n",
    "                              shuffle=True,\n",
    "                              stratify=df16_microscopy_train['MODALITY'])"
   ]
  },
  {
   "cell_type": "code",
   "execution_count": 262,
   "metadata": {
    "scrolled": false
   },
   "outputs": [
    {
     "name": "stderr",
     "output_type": "stream",
     "text": [
      "/usr/local/lib/python3.6/dist-packages/ipykernel_launcher.py:2: SettingWithCopyWarning: \n",
      "A value is trying to be set on a copy of a slice from a DataFrame.\n",
      "Try using .loc[row_indexer,col_indexer] = value instead\n",
      "\n",
      "See the caveats in the documentation: https://pandas.pydata.org/pandas-docs/stable/user_guide/indexing.html#returning-a-view-versus-a-copy\n",
      "  \n"
     ]
    },
    {
     "data": {
      "text/html": [
       "<div>\n",
       "<style scoped>\n",
       "    .dataframe tbody tr th:only-of-type {\n",
       "        vertical-align: middle;\n",
       "    }\n",
       "\n",
       "    .dataframe tbody tr th {\n",
       "        vertical-align: top;\n",
       "    }\n",
       "\n",
       "    .dataframe thead th {\n",
       "        text-align: right;\n",
       "    }\n",
       "</style>\n",
       "<table border=\"1\" class=\"dataframe\">\n",
       "  <thead>\n",
       "    <tr style=\"text-align: right;\">\n",
       "      <th></th>\n",
       "      <th>ID</th>\n",
       "      <th>MODALITY</th>\n",
       "      <th>PATH</th>\n",
       "      <th>CAPTION</th>\n",
       "      <th>COMPOUND</th>\n",
       "      <th>SET</th>\n",
       "    </tr>\n",
       "  </thead>\n",
       "  <tbody>\n",
       "    <tr>\n",
       "      <th>2291</th>\n",
       "      <td>1756-6606-1-12-6-2.jpg</td>\n",
       "      <td>DMTR</td>\n",
       "      <td>subfigure-classification/2016/train/DMTR/1756-...</td>\n",
       "      <td>PKC Î´  mediates dieldrin-induced DNA fragment...</td>\n",
       "      <td>1756-6606-1-12-6</td>\n",
       "      <td>TRAIN</td>\n",
       "    </tr>\n",
       "    <tr>\n",
       "      <th>2292</th>\n",
       "      <td>1756-6606-1-12-6-3.jpg</td>\n",
       "      <td>DMTR</td>\n",
       "      <td>subfigure-classification/2016/train/DMTR/1756-...</td>\n",
       "      <td>PKC Î´  mediates dieldrin-induced DNA fragment...</td>\n",
       "      <td>1756-6606-1-12-6</td>\n",
       "      <td>TRAIN</td>\n",
       "    </tr>\n",
       "    <tr>\n",
       "      <th>2293</th>\n",
       "      <td>1756-6606-1-12-6-5.jpg</td>\n",
       "      <td>DMTR</td>\n",
       "      <td>subfigure-classification/2016/train/DMTR/1756-...</td>\n",
       "      <td>PKC Î´  mediates dieldrin-induced DNA fragment...</td>\n",
       "      <td>1756-6606-1-12-6</td>\n",
       "      <td>TRAIN</td>\n",
       "    </tr>\n",
       "    <tr>\n",
       "      <th>2294</th>\n",
       "      <td>1756-6606-1-12-6-6.jpg</td>\n",
       "      <td>DMTR</td>\n",
       "      <td>subfigure-classification/2016/train/DMTR/1756-...</td>\n",
       "      <td>PKC Î´  mediates dieldrin-induced DNA fragment...</td>\n",
       "      <td>1756-6606-1-12-6</td>\n",
       "      <td>VAL</td>\n",
       "    </tr>\n",
       "    <tr>\n",
       "      <th>2295</th>\n",
       "      <td>1756-6606-2-12-2-4.jpg</td>\n",
       "      <td>DMTR</td>\n",
       "      <td>subfigure-classification/2016/train/DMTR/1756-...</td>\n",
       "      <td>Maintenance of rotarod-running skill requires ...</td>\n",
       "      <td>1756-6606-2-12-2</td>\n",
       "      <td>TRAIN</td>\n",
       "    </tr>\n",
       "    <tr>\n",
       "      <th>2296</th>\n",
       "      <td>ar1464-7-5.jpg</td>\n",
       "      <td>DMTR</td>\n",
       "      <td>subfigure-classification/2016/train/DMTR/ar146...</td>\n",
       "      <td>Changes in cell morphology induced by the comb...</td>\n",
       "      <td>ar1464-7</td>\n",
       "      <td>VAL</td>\n",
       "    </tr>\n",
       "    <tr>\n",
       "      <th>2297</th>\n",
       "      <td>ar1464-7-7.jpg</td>\n",
       "      <td>DMTR</td>\n",
       "      <td>subfigure-classification/2016/train/DMTR/ar146...</td>\n",
       "      <td>Changes in cell morphology induced by the comb...</td>\n",
       "      <td>ar1464-7</td>\n",
       "      <td>TRAIN</td>\n",
       "    </tr>\n",
       "    <tr>\n",
       "      <th>2298</th>\n",
       "      <td>ar1491-3-1.jpg</td>\n",
       "      <td>DMTR</td>\n",
       "      <td>subfigure-classification/2016/train/DMTR/ar149...</td>\n",
       "      <td>Representative optical coherence tomography (O...</td>\n",
       "      <td>ar1491-3</td>\n",
       "      <td>TRAIN</td>\n",
       "    </tr>\n",
       "    <tr>\n",
       "      <th>2299</th>\n",
       "      <td>ar1491-4-1.jpg</td>\n",
       "      <td>DMTR</td>\n",
       "      <td>subfigure-classification/2016/train/DMTR/ar149...</td>\n",
       "      <td>An optical coherence tomography (OCT) image  (...</td>\n",
       "      <td>ar1491-4</td>\n",
       "      <td>TRAIN</td>\n",
       "    </tr>\n",
       "    <tr>\n",
       "      <th>2300</th>\n",
       "      <td>ar1491-5-1.jpg</td>\n",
       "      <td>DMTR</td>\n",
       "      <td>subfigure-classification/2016/train/DMTR/ar149...</td>\n",
       "      <td>Optical coherence tomography (OCT) image  (a) ...</td>\n",
       "      <td>ar1491-5</td>\n",
       "      <td>TRAIN</td>\n",
       "    </tr>\n",
       "    <tr>\n",
       "      <th>2301</th>\n",
       "      <td>cc6913-7-1.jpg</td>\n",
       "      <td>DMTR</td>\n",
       "      <td>subfigure-classification/2016/train/DMTR/cc691...</td>\n",
       "      <td>Exemplary electron microscopic images of heart...</td>\n",
       "      <td>cc6913-7</td>\n",
       "      <td>TRAIN</td>\n",
       "    </tr>\n",
       "    <tr>\n",
       "      <th>2302</th>\n",
       "      <td>cc6913-7-2.jpg</td>\n",
       "      <td>DMTR</td>\n",
       "      <td>subfigure-classification/2016/train/DMTR/cc691...</td>\n",
       "      <td>Exemplary electron microscopic images of heart...</td>\n",
       "      <td>cc6913-7</td>\n",
       "      <td>TRAIN</td>\n",
       "    </tr>\n",
       "    <tr>\n",
       "      <th>2303</th>\n",
       "      <td>cc6913-7-3.jpg</td>\n",
       "      <td>DMTR</td>\n",
       "      <td>subfigure-classification/2016/train/DMTR/cc691...</td>\n",
       "      <td>Exemplary electron microscopic images of heart...</td>\n",
       "      <td>cc6913-7</td>\n",
       "      <td>TRAIN</td>\n",
       "    </tr>\n",
       "    <tr>\n",
       "      <th>2304</th>\n",
       "      <td>cc6913-7-4.jpg</td>\n",
       "      <td>DMTR</td>\n",
       "      <td>subfigure-classification/2016/train/DMTR/cc691...</td>\n",
       "      <td>Exemplary electron microscopic images of heart...</td>\n",
       "      <td>cc6913-7</td>\n",
       "      <td>TRAIN</td>\n",
       "    </tr>\n",
       "    <tr>\n",
       "      <th>2305</th>\n",
       "      <td>cc6913-7-5.jpg</td>\n",
       "      <td>DMTR</td>\n",
       "      <td>subfigure-classification/2016/train/DMTR/cc691...</td>\n",
       "      <td>Exemplary electron microscopic images of heart...</td>\n",
       "      <td>cc6913-7</td>\n",
       "      <td>TRAIN</td>\n",
       "    </tr>\n",
       "    <tr>\n",
       "      <th>2306</th>\n",
       "      <td>gb-2007-8-7-r144-4-10.jpg</td>\n",
       "      <td>DMTR</td>\n",
       "      <td>subfigure-classification/2016/train/DMTR/gb-20...</td>\n",
       "      <td>Representative samples with defects in early d...</td>\n",
       "      <td>gb-2007-8-7-r144-4</td>\n",
       "      <td>TRAIN</td>\n",
       "    </tr>\n",
       "    <tr>\n",
       "      <th>2307</th>\n",
       "      <td>gb-2007-8-7-r144-4-7.jpg</td>\n",
       "      <td>DMTR</td>\n",
       "      <td>subfigure-classification/2016/train/DMTR/gb-20...</td>\n",
       "      <td>Representative samples with defects in early d...</td>\n",
       "      <td>gb-2007-8-7-r144-4</td>\n",
       "      <td>TRAIN</td>\n",
       "    </tr>\n",
       "    <tr>\n",
       "      <th>2308</th>\n",
       "      <td>IJBI2010-674582.003-1.jpg</td>\n",
       "      <td>DMTR</td>\n",
       "      <td>subfigure-classification/2016/train/DMTR/IJBI2...</td>\n",
       "      <td>Ventricle extraction: (a) original ventricles ...</td>\n",
       "      <td>IJBI2010-674582.003</td>\n",
       "      <td>TRAIN</td>\n",
       "    </tr>\n",
       "    <tr>\n",
       "      <th>2309</th>\n",
       "      <td>IJBI2010-674582.003-2.jpg</td>\n",
       "      <td>DMTR</td>\n",
       "      <td>subfigure-classification/2016/train/DMTR/IJBI2...</td>\n",
       "      <td>Ventricle extraction: (a) original ventricles ...</td>\n",
       "      <td>IJBI2010-674582.003</td>\n",
       "      <td>TRAIN</td>\n",
       "    </tr>\n",
       "    <tr>\n",
       "      <th>2310</th>\n",
       "      <td>IJBI2010-674582.003-4.jpg</td>\n",
       "      <td>DMTR</td>\n",
       "      <td>subfigure-classification/2016/train/DMTR/IJBI2...</td>\n",
       "      <td>Ventricle extraction: (a) original ventricles ...</td>\n",
       "      <td>IJBI2010-674582.003</td>\n",
       "      <td>TRAIN</td>\n",
       "    </tr>\n",
       "  </tbody>\n",
       "</table>\n",
       "</div>"
      ],
      "text/plain": [
       "                             ID MODALITY  \\\n",
       "2291     1756-6606-1-12-6-2.jpg     DMTR   \n",
       "2292     1756-6606-1-12-6-3.jpg     DMTR   \n",
       "2293     1756-6606-1-12-6-5.jpg     DMTR   \n",
       "2294     1756-6606-1-12-6-6.jpg     DMTR   \n",
       "2295     1756-6606-2-12-2-4.jpg     DMTR   \n",
       "2296             ar1464-7-5.jpg     DMTR   \n",
       "2297             ar1464-7-7.jpg     DMTR   \n",
       "2298             ar1491-3-1.jpg     DMTR   \n",
       "2299             ar1491-4-1.jpg     DMTR   \n",
       "2300             ar1491-5-1.jpg     DMTR   \n",
       "2301             cc6913-7-1.jpg     DMTR   \n",
       "2302             cc6913-7-2.jpg     DMTR   \n",
       "2303             cc6913-7-3.jpg     DMTR   \n",
       "2304             cc6913-7-4.jpg     DMTR   \n",
       "2305             cc6913-7-5.jpg     DMTR   \n",
       "2306  gb-2007-8-7-r144-4-10.jpg     DMTR   \n",
       "2307   gb-2007-8-7-r144-4-7.jpg     DMTR   \n",
       "2308  IJBI2010-674582.003-1.jpg     DMTR   \n",
       "2309  IJBI2010-674582.003-2.jpg     DMTR   \n",
       "2310  IJBI2010-674582.003-4.jpg     DMTR   \n",
       "\n",
       "                                                   PATH  \\\n",
       "2291  subfigure-classification/2016/train/DMTR/1756-...   \n",
       "2292  subfigure-classification/2016/train/DMTR/1756-...   \n",
       "2293  subfigure-classification/2016/train/DMTR/1756-...   \n",
       "2294  subfigure-classification/2016/train/DMTR/1756-...   \n",
       "2295  subfigure-classification/2016/train/DMTR/1756-...   \n",
       "2296  subfigure-classification/2016/train/DMTR/ar146...   \n",
       "2297  subfigure-classification/2016/train/DMTR/ar146...   \n",
       "2298  subfigure-classification/2016/train/DMTR/ar149...   \n",
       "2299  subfigure-classification/2016/train/DMTR/ar149...   \n",
       "2300  subfigure-classification/2016/train/DMTR/ar149...   \n",
       "2301  subfigure-classification/2016/train/DMTR/cc691...   \n",
       "2302  subfigure-classification/2016/train/DMTR/cc691...   \n",
       "2303  subfigure-classification/2016/train/DMTR/cc691...   \n",
       "2304  subfigure-classification/2016/train/DMTR/cc691...   \n",
       "2305  subfigure-classification/2016/train/DMTR/cc691...   \n",
       "2306  subfigure-classification/2016/train/DMTR/gb-20...   \n",
       "2307  subfigure-classification/2016/train/DMTR/gb-20...   \n",
       "2308  subfigure-classification/2016/train/DMTR/IJBI2...   \n",
       "2309  subfigure-classification/2016/train/DMTR/IJBI2...   \n",
       "2310  subfigure-classification/2016/train/DMTR/IJBI2...   \n",
       "\n",
       "                                                CAPTION             COMPOUND  \\\n",
       "2291  PKC Î´  mediates dieldrin-induced DNA fragment...     1756-6606-1-12-6   \n",
       "2292  PKC Î´  mediates dieldrin-induced DNA fragment...     1756-6606-1-12-6   \n",
       "2293  PKC Î´  mediates dieldrin-induced DNA fragment...     1756-6606-1-12-6   \n",
       "2294  PKC Î´  mediates dieldrin-induced DNA fragment...     1756-6606-1-12-6   \n",
       "2295  Maintenance of rotarod-running skill requires ...     1756-6606-2-12-2   \n",
       "2296  Changes in cell morphology induced by the comb...             ar1464-7   \n",
       "2297  Changes in cell morphology induced by the comb...             ar1464-7   \n",
       "2298  Representative optical coherence tomography (O...             ar1491-3   \n",
       "2299  An optical coherence tomography (OCT) image  (...             ar1491-4   \n",
       "2300  Optical coherence tomography (OCT) image  (a) ...             ar1491-5   \n",
       "2301  Exemplary electron microscopic images of heart...             cc6913-7   \n",
       "2302  Exemplary electron microscopic images of heart...             cc6913-7   \n",
       "2303  Exemplary electron microscopic images of heart...             cc6913-7   \n",
       "2304  Exemplary electron microscopic images of heart...             cc6913-7   \n",
       "2305  Exemplary electron microscopic images of heart...             cc6913-7   \n",
       "2306  Representative samples with defects in early d...   gb-2007-8-7-r144-4   \n",
       "2307  Representative samples with defects in early d...   gb-2007-8-7-r144-4   \n",
       "2308  Ventricle extraction: (a) original ventricles ...  IJBI2010-674582.003   \n",
       "2309  Ventricle extraction: (a) original ventricles ...  IJBI2010-674582.003   \n",
       "2310  Ventricle extraction: (a) original ventricles ...  IJBI2010-674582.003   \n",
       "\n",
       "        SET  \n",
       "2291  TRAIN  \n",
       "2292  TRAIN  \n",
       "2293  TRAIN  \n",
       "2294    VAL  \n",
       "2295  TRAIN  \n",
       "2296    VAL  \n",
       "2297  TRAIN  \n",
       "2298  TRAIN  \n",
       "2299  TRAIN  \n",
       "2300  TRAIN  \n",
       "2301  TRAIN  \n",
       "2302  TRAIN  \n",
       "2303  TRAIN  \n",
       "2304  TRAIN  \n",
       "2305  TRAIN  \n",
       "2306  TRAIN  \n",
       "2307  TRAIN  \n",
       "2308  TRAIN  \n",
       "2309  TRAIN  \n",
       "2310  TRAIN  "
      ]
     },
     "execution_count": 262,
     "metadata": {},
     "output_type": "execute_result"
    }
   ],
   "source": [
    "df16_microscopy_train['SET'] = df16_microscopy_train.apply(\n",
    "    lambda x: 'TRAIN' if x['ID'] in train['ID'].values else 'VAL', axis=1)\n",
    "df16_microscopy_train.tail(20)"
   ]
  },
  {
   "cell_type": "code",
   "execution_count": 263,
   "metadata": {
    "scrolled": true
   },
   "outputs": [
    {
     "data": {
      "text/html": [
       "<div>\n",
       "<style scoped>\n",
       "    .dataframe tbody tr th:only-of-type {\n",
       "        vertical-align: middle;\n",
       "    }\n",
       "\n",
       "    .dataframe tbody tr th {\n",
       "        vertical-align: top;\n",
       "    }\n",
       "\n",
       "    .dataframe thead th {\n",
       "        text-align: right;\n",
       "    }\n",
       "</style>\n",
       "<table border=\"1\" class=\"dataframe\">\n",
       "  <thead>\n",
       "    <tr style=\"text-align: right;\">\n",
       "      <th></th>\n",
       "      <th>ID</th>\n",
       "      <th>MODALITY</th>\n",
       "      <th>PATH</th>\n",
       "      <th>CAPTION</th>\n",
       "      <th>COMPOUND</th>\n",
       "    </tr>\n",
       "    <tr>\n",
       "      <th>SET</th>\n",
       "      <th></th>\n",
       "      <th></th>\n",
       "      <th></th>\n",
       "      <th></th>\n",
       "      <th></th>\n",
       "    </tr>\n",
       "  </thead>\n",
       "  <tbody>\n",
       "    <tr>\n",
       "      <th>TRAIN</th>\n",
       "      <td>1688</td>\n",
       "      <td>1688</td>\n",
       "      <td>1688</td>\n",
       "      <td>1688</td>\n",
       "      <td>1688</td>\n",
       "    </tr>\n",
       "    <tr>\n",
       "      <th>VAL</th>\n",
       "      <td>422</td>\n",
       "      <td>422</td>\n",
       "      <td>422</td>\n",
       "      <td>422</td>\n",
       "      <td>422</td>\n",
       "    </tr>\n",
       "  </tbody>\n",
       "</table>\n",
       "</div>"
      ],
      "text/plain": [
       "         ID  MODALITY  PATH  CAPTION  COMPOUND\n",
       "SET                                           \n",
       "TRAIN  1688      1688  1688     1688      1688\n",
       "VAL     422       422   422      422       422"
      ]
     },
     "execution_count": 263,
     "metadata": {},
     "output_type": "execute_result"
    }
   ],
   "source": [
    "df16_microscopy_train.groupby(['SET']).count()"
   ]
  },
  {
   "cell_type": "code",
   "execution_count": 264,
   "metadata": {},
   "outputs": [
    {
     "name": "stderr",
     "output_type": "stream",
     "text": [
      "/usr/local/lib/python3.6/dist-packages/ipykernel_launcher.py:1: SettingWithCopyWarning: \n",
      "A value is trying to be set on a copy of a slice from a DataFrame.\n",
      "Try using .loc[row_indexer,col_indexer] = value instead\n",
      "\n",
      "See the caveats in the documentation: https://pandas.pydata.org/pandas-docs/stable/user_guide/indexing.html#returning-a-view-versus-a-copy\n",
      "  \"\"\"Entry point for launching an IPython kernel.\n"
     ]
    },
    {
     "data": {
      "text/html": [
       "<div>\n",
       "<style scoped>\n",
       "    .dataframe tbody tr th:only-of-type {\n",
       "        vertical-align: middle;\n",
       "    }\n",
       "\n",
       "    .dataframe tbody tr th {\n",
       "        vertical-align: top;\n",
       "    }\n",
       "\n",
       "    .dataframe thead th {\n",
       "        text-align: right;\n",
       "    }\n",
       "</style>\n",
       "<table border=\"1\" class=\"dataframe\">\n",
       "  <thead>\n",
       "    <tr style=\"text-align: right;\">\n",
       "      <th></th>\n",
       "      <th>ID</th>\n",
       "      <th>MODALITY</th>\n",
       "      <th>PATH</th>\n",
       "      <th>CAPTION</th>\n",
       "      <th>COMPOUND</th>\n",
       "      <th>SET</th>\n",
       "    </tr>\n",
       "  </thead>\n",
       "  <tbody>\n",
       "    <tr>\n",
       "      <th>14</th>\n",
       "      <td>1423-0127-17-78-9-1.jpg</td>\n",
       "      <td>DMFL</td>\n",
       "      <td>subfigure-classification/2016/test/1423-0127-1...</td>\n",
       "      <td>Confocal image of 5-HT 2A  receptors in the hi...</td>\n",
       "      <td>1423-0127-17-78-9</td>\n",
       "      <td>TEST</td>\n",
       "    </tr>\n",
       "    <tr>\n",
       "      <th>15</th>\n",
       "      <td>1423-0127-17-78-9-2.jpg</td>\n",
       "      <td>DMFL</td>\n",
       "      <td>subfigure-classification/2016/test/1423-0127-1...</td>\n",
       "      <td>Confocal image of 5-HT 2A  receptors in the hi...</td>\n",
       "      <td>1423-0127-17-78-9</td>\n",
       "      <td>TEST</td>\n",
       "    </tr>\n",
       "    <tr>\n",
       "      <th>16</th>\n",
       "      <td>1423-0127-17-78-9-3.jpg</td>\n",
       "      <td>DMFL</td>\n",
       "      <td>subfigure-classification/2016/test/1423-0127-1...</td>\n",
       "      <td>Confocal image of 5-HT 2A  receptors in the hi...</td>\n",
       "      <td>1423-0127-17-78-9</td>\n",
       "      <td>TEST</td>\n",
       "    </tr>\n",
       "    <tr>\n",
       "      <th>17</th>\n",
       "      <td>1423-0127-17-78-9-4.jpg</td>\n",
       "      <td>DMFL</td>\n",
       "      <td>subfigure-classification/2016/test/1423-0127-1...</td>\n",
       "      <td>Confocal image of 5-HT 2A  receptors in the hi...</td>\n",
       "      <td>1423-0127-17-78-9</td>\n",
       "      <td>TEST</td>\n",
       "    </tr>\n",
       "    <tr>\n",
       "      <th>18</th>\n",
       "      <td>1423-0127-17-78-9-5.jpg</td>\n",
       "      <td>DMFL</td>\n",
       "      <td>subfigure-classification/2016/test/1423-0127-1...</td>\n",
       "      <td>Confocal image of 5-HT 2A  receptors in the hi...</td>\n",
       "      <td>1423-0127-17-78-9</td>\n",
       "      <td>TEST</td>\n",
       "    </tr>\n",
       "  </tbody>\n",
       "</table>\n",
       "</div>"
      ],
      "text/plain": [
       "                         ID MODALITY  \\\n",
       "14  1423-0127-17-78-9-1.jpg     DMFL   \n",
       "15  1423-0127-17-78-9-2.jpg     DMFL   \n",
       "16  1423-0127-17-78-9-3.jpg     DMFL   \n",
       "17  1423-0127-17-78-9-4.jpg     DMFL   \n",
       "18  1423-0127-17-78-9-5.jpg     DMFL   \n",
       "\n",
       "                                                 PATH  \\\n",
       "14  subfigure-classification/2016/test/1423-0127-1...   \n",
       "15  subfigure-classification/2016/test/1423-0127-1...   \n",
       "16  subfigure-classification/2016/test/1423-0127-1...   \n",
       "17  subfigure-classification/2016/test/1423-0127-1...   \n",
       "18  subfigure-classification/2016/test/1423-0127-1...   \n",
       "\n",
       "                                              CAPTION           COMPOUND   SET  \n",
       "14  Confocal image of 5-HT 2A  receptors in the hi...  1423-0127-17-78-9  TEST  \n",
       "15  Confocal image of 5-HT 2A  receptors in the hi...  1423-0127-17-78-9  TEST  \n",
       "16  Confocal image of 5-HT 2A  receptors in the hi...  1423-0127-17-78-9  TEST  \n",
       "17  Confocal image of 5-HT 2A  receptors in the hi...  1423-0127-17-78-9  TEST  \n",
       "18  Confocal image of 5-HT 2A  receptors in the hi...  1423-0127-17-78-9  TEST  "
      ]
     },
     "execution_count": 264,
     "metadata": {},
     "output_type": "execute_result"
    }
   ],
   "source": [
    "df16_microscopy_test['SET'] = 'TEST'\n",
    "df16_microscopy_test.head()"
   ]
  },
  {
   "cell_type": "code",
   "execution_count": 265,
   "metadata": {
    "scrolled": false
   },
   "outputs": [
    {
     "name": "stderr",
     "output_type": "stream",
     "text": [
      "/usr/local/lib/python3.6/dist-packages/pandas/plotting/_matplotlib/core.py:1192: UserWarning: FixedFormatter should only be used together with FixedLocator\n",
      "  ax.set_xticklabels(xticklabels)\n"
     ]
    },
    {
     "data": {
      "text/plain": [
       "<AxesSubplot:xlabel='MODALITY'>"
      ]
     },
     "execution_count": 265,
     "metadata": {},
     "output_type": "execute_result"
    },
    {
     "data": {
      "image/png": "[encoded data removed]",
      "text/plain": [
       "<Figure size 432x288 with 1 Axes>"
      ]
     },
     "metadata": {
      "needs_background": "light"
     },
     "output_type": "display_data"
    }
   ],
   "source": [
    "train.groupby(['MODALITY']).count().plot()"
   ]
  },
  {
   "cell_type": "code",
   "execution_count": 266,
   "metadata": {
    "scrolled": false
   },
   "outputs": [
    {
     "name": "stderr",
     "output_type": "stream",
     "text": [
      "/usr/local/lib/python3.6/dist-packages/pandas/plotting/_matplotlib/core.py:1192: UserWarning: FixedFormatter should only be used together with FixedLocator\n",
      "  ax.set_xticklabels(xticklabels)\n"
     ]
    },
    {
     "data": {
      "text/plain": [
       "<AxesSubplot:xlabel='MODALITY'>"
      ]
     },
     "execution_count": 266,
     "metadata": {},
     "output_type": "execute_result"
    },
    {
     "data": {
      "image/png": "[encoded data removed]",
      "text/plain": [
       "<Figure size 432x288 with 1 Axes>"
      ]
     },
     "metadata": {
      "needs_background": "light"
     },
     "output_type": "display_data"
    }
   ],
   "source": [
    "val.groupby(['MODALITY']).count().plot()"
   ]
  },
  {
   "cell_type": "code",
   "execution_count": 270,
   "metadata": {},
   "outputs": [
    {
     "data": {
      "text/plain": [
       "(2983, 6)"
      ]
     },
     "execution_count": 270,
     "metadata": {},
     "output_type": "execute_result"
    }
   ],
   "source": [
    "df = pd.concat([df16_microscopy_train, df16_microscopy_test])\n",
    "df.shape"
   ]
  },
  {
   "cell_type": "code",
   "execution_count": 272,
   "metadata": {},
   "outputs": [],
   "source": [
    "df.to_csv(DATASET_PATH, sep='\\t')"
   ]
  },
  {
   "cell_type": "markdown",
   "metadata": {},
   "source": [
    "## Captions with spatial indicators"
   ]
  },
  {
   "cell_type": "markdown",
   "metadata": {},
   "source": [
    "Captions in compound figures can use the spatial position of the pane as a reference for the related text in the caption. In the example below (left), the top left image is referenced with the text **(A, top left)** but the image itself does not have an **A** label. As the given subfigure (image below, right) does not have any reference to the **A** label and we cannot guess the position in the original compound image, there is no way to relate just a part of the caption to it.\n",
    "\n",
    "It's worth noticing that for this particular image, the whole caption may indeed be relevant for any pane just because this is an homogeneous case. For instance, **3-D** is mentioned before any specific pane caption and within pane captions. \n",
    "\n",
    "*Image on the left taken from https://www.ncbi.nlm.nih.gov/pmc/articles/PMC1508147/*"
   ]
  },
  {
   "cell_type": "markdown",
   "metadata": {},
   "source": [
    "![10.1186/1472-6807-6-9 Figure 6](./samples/PMC1508147.png)"
   ]
  }
 ],
 "metadata": {
  "kernelspec": {
   "display_name": "Python 3",
   "language": "python",
   "name": "python3"
  },
  "language_info": {
   "codemirror_mode": {
    "name": "ipython",
    "version": 3
   },
   "file_extension": ".py",
   "mimetype": "text/x-python",
   "name": "python",
   "nbconvert_exporter": "python",
   "pygments_lexer": "ipython3",
   "version": "3.6.9"
  },
  "widgets": {
   "application/vnd.jupyter.widget-state+json": {
    "state": {},
    "version_major": 2,
    "version_minor": 0
   }
  }
 },
 "nbformat": 4,
 "nbformat_minor": 2
}
