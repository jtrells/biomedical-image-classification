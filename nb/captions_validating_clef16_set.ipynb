{
 "cells": [
  {
   "cell_type": "markdown",
   "metadata": {},
   "source": [
    "# Captions for CLEF16 Data\n",
    "\n",
    "ImageCLEF captions come from the subfigure segmentation task where one figure (compound or single) comes with a corresponding caption and the bounding boxes for any subfigure. As we want to use the captions for the subfigure classification, which is derived from segmentation dataset, we need to match the captions to the subfigure classification set.\n",
    "\n",
    "There is one caveat, the subfigure classification task dataset was built using the subfigure bounding boxes but the captions were not processed to match the subfigure. Hence, the same caption will be repeated for the *n* subfigures in a figure. For example:\n",
    "* Figure '1471-2202-9-58-19.jpg' (nomenclature in segmentation task) has 3 subfigures.\n",
    "* Subfigures: '1471-2202-9-58-19**-1**.jpg', '1471-2202-9-58-19**-2**.jpg', '1471-2202-9-58-19**-3**.jpg' (nomenclature in subfigure classification task)\n",
    "* Caption: \"This is a sample caption (A) something, (B) something else, (C) another thing\" is assigned to the three subfigures.\n",
    "\n",
    "How will this affect our classification approach? That's yet to be analyzed, but chopping the subfigures is a way to laborious task."
   ]
  },
  {
   "cell_type": "markdown",
   "metadata": {},
   "source": [
    "## Our Data\n",
    "* Captions:\n",
    "    * CompoundFigureDetectionTraining2016-Captions.csv\n",
    "    * CompoundFigureDetectionTest2016-Captions.csv\n",
    "    * We don't have data for ImageClef13 now.\n",
    "* Images:\n",
    "    * Organized in folder per modality"
   ]
  },
  {
   "cell_type": "markdown",
   "metadata": {},
   "source": [
    "## 1. Data Validation"
   ]
  },
  {
   "cell_type": "markdown",
   "metadata": {},
   "source": [
    "Verify that each image on the CLEF16 training dataset has a corresponding caption."
   ]
  },
  {
   "cell_type": "code",
   "execution_count": 54,
   "metadata": {},
   "outputs": [],
   "source": [
    "import pandas as pd\n",
    "import json\n",
    "import os\n",
    "import re\n",
    "import csv\n",
    "from pathlib import Path"
   ]
  },
  {
   "cell_type": "code",
   "execution_count": 283,
   "metadata": {},
   "outputs": [],
   "source": [
    "BASE_PATH = Path('/workspace/data')\n",
    "IMAGES16_TRAIN = BASE_PATH / 'subfigure-classification' / '2016' / 'train'\n",
    "IMAGES16_TEST  = BASE_PATH / 'subfigure-classification' / '2016' / 'test'\n",
    "IMAGES13_TRAIN = BASE_PATH / 'subfigure-classification' / '2013' / 'train'\n",
    "IMAGES13_TEST  = BASE_PATH / 'subfigure-classification' / '2013' / 'test'\n",
    "LABELS16_TEST  = BASE_PATH / 'subfigure-classification' / '2016' / 'test.csv'\n",
    "CAPTIONS16_TRAIN = BASE_PATH / 'compound-figure-detection' / '2016' / 'captions-train.csv' #CompoundFigureDetectionTraining2016-Captions.csv \n",
    "CAPTIONS16_TEST  = BASE_PATH / 'figure-separation' / '2016' / 'captions-test.csv'\n",
    "\n",
    "DATASET_PATH = BASE_PATH / \"multimodality_classification.csv\" # output path"
   ]
  },
  {
   "cell_type": "markdown",
   "metadata": {},
   "source": [
    "I want to create my dataset later with the path to an image, but keeping it relative to wherever I want to place the dataset content. In other words, I don't want to save the **BASE_PATH** in the dataset so I can use it as a parameter. The *pathlib parts* method is handy for this task."
   ]
  },
  {
   "cell_type": "code",
   "execution_count": 117,
   "metadata": {},
   "outputs": [
    {
     "data": {
      "text/plain": [
       "PosixPath('subfigure-classification/2016/train')"
      ]
     },
     "execution_count": 117,
     "metadata": {},
     "output_type": "execute_result"
    }
   ],
   "source": [
    "# 3 because of BASE_PATH (start after /data)\n",
    "Path(*IMAGES16_TRAIN.parts[3:])"
   ]
  },
  {
   "cell_type": "markdown",
   "metadata": {},
   "source": [
    "Obtain the list of image names (**training_ids**) from the CLEF16 image folder"
   ]
  },
  {
   "cell_type": "code",
   "execution_count": 133,
   "metadata": {},
   "outputs": [],
   "source": [
    "def load_test_modalities16():\n",
    "    with open(LABELS16_TEST) as csvfile:\n",
    "        reader = csv.reader(csvfile, delimiter=' ')\n",
    "        return { '{0}.jpg'.format(x[0]): x[1] for x in reader }\n",
    "\n",
    "def get_modality(dictionary, key):\n",
    "    try:\n",
    "        return dictionary[key]\n",
    "    except:\n",
    "        return \"NONE\"\n",
    "    \n",
    "modalities16_test = load_test_modalities16()"
   ]
  },
  {
   "cell_type": "code",
   "execution_count": 136,
   "metadata": {},
   "outputs": [
    {
     "data": {
      "text/plain": [
       "['12178_2008_9035_Fig6_HTML-1.jpg',\n",
       " '12178_2008_9035_Fig6_HTML-2.jpg',\n",
       " '1297-9686-41-35-3-1.jpg',\n",
       " '1297-9686-41-35-3-2.jpg',\n",
       " '1423-0127-16-19-5-1.jpg']"
      ]
     },
     "execution_count": 136,
     "metadata": {},
     "output_type": "execute_result"
    }
   ],
   "source": [
    "# modalities in ImageCLEF13 also considered the class COMP, if we use it, make sure to discard it first\n",
    "modalities = [x.name for x in IMAGES16_TRAIN.glob('*/')]\n",
    "train_data_16 = [(img_path.name, modality, Path(*img_path.parts[3:])) for modality in modalities \n",
    "                 for img_path in (IMAGES16_TRAIN / modality).glob('*.jpg')]  \n",
    "# to match with captions\n",
    "train_ids_16 = [x[0] for x in train_data_16] \n",
    "\n",
    "test_data_16 = [(img_path.name, get_modality(modalities16_test, img_path.name), \n",
    "                 Path(*img_path.parts[3:]))\n",
    "                for img_path in IMAGES16_TEST.glob('*.jpg')]\n",
    "test_ids_16  = [x[0] for x in test_data_16]\n",
    "test_ids_16[:5]"
   ]
  },
  {
   "cell_type": "code",
   "execution_count": 336,
   "metadata": {},
   "outputs": [],
   "source": [
    "modalities13 = [x for x in IMAGES13_TRAIN.glob('*/') if x.is_dir()]\n",
    "train_data_13 = [(img_path.name, modality.name, Path(*img_path.parts[3:]))  \n",
    "       for modality in modalities13 for img_path in (IMAGES13_TRAIN / modality).glob('*.jpg') ]\n",
    "train_ids_13 = [x[0] for x in train_data_13]"
   ]
  },
  {
   "cell_type": "code",
   "execution_count": 121,
   "metadata": {},
   "outputs": [
    {
     "data": {
      "text/plain": [
       "[('1423-0127-16-109-3-1.jpg',\n",
       "  'D3DR',\n",
       "  PosixPath('subfigure-classification/2016/train/D3DR/1423-0127-16-109-3-1.jpg'))]"
      ]
     },
     "execution_count": 121,
     "metadata": {},
     "output_type": "execute_result"
    }
   ],
   "source": [
    "train_data_16[:1]"
   ]
  },
  {
   "cell_type": "code",
   "execution_count": 231,
   "metadata": {},
   "outputs": [
    {
     "data": {
      "text/plain": [
       "[('12178_2008_9035_Fig6_HTML-1.jpg',\n",
       "  'DRXR',\n",
       "  PosixPath('subfigure-classification/2016/test/12178_2008_9035_Fig6_HTML-1.jpg'))]"
      ]
     },
     "execution_count": 231,
     "metadata": {},
     "output_type": "execute_result"
    }
   ],
   "source": [
    "test_data_16[:1]"
   ]
  },
  {
   "cell_type": "markdown",
   "metadata": {},
   "source": [
    "As the main difference in the file namings between datasets is the suffix used in the subfigure classification images, the following functions will become handy to match the image with the captions."
   ]
  },
  {
   "cell_type": "code",
   "execution_count": 64,
   "metadata": {},
   "outputs": [
    {
     "name": "stdout",
     "output_type": "stream",
     "text": [
      "1471-2202-9-58-19\n",
      "IJBI2010-105610.007\n",
      "11373_2007_9226_Fig1_HTML\n"
     ]
    }
   ],
   "source": [
    "# def match_compound(img_id):\n",
    "#     p = re.compile('(-|[.])[0-9]*-[0-9]*.(jpg)$')\n",
    "#     match = p.search(img_id)\n",
    "#     return True if match != None else False\n",
    "\n",
    "def get_compound_root(img_id):\n",
    "    # Obtain the part of the image name without subfigure labeling\n",
    "    p = re.compile('(-|[.])[0-9]*.(jpg)$')\n",
    "    match = p.search(img_id)\n",
    "    m_start, m_end = match.span()\n",
    "    return img_id[:m_start]\n",
    "\n",
    "def create_captions_dict(csv_file):\n",
    "    # create a captions dictionary for a convenient matching\n",
    "    # works for the FIGURE DETECTION file but this files is incomplete\n",
    "    captions_dict = {}\n",
    "    with open(csv_file, encoding='ISO-8859-1') as csvfile:\n",
    "        reader = csv.reader(csvfile, delimiter='\\t')\n",
    "        for row in reader:\n",
    "            captions_dict[row[0]] = row[1]\n",
    "    return captions_dict\n",
    "\n",
    "def create_caption_dictionary(csv_file):\n",
    "    # works with the COMPOUND FIGURE DETECTION file\n",
    "    captions = {}\n",
    "    with open(csv_file, encoding='ISO-8859-1') as csvfile:\n",
    "        reader = csv.reader(csvfile, delimiter='\\t')\n",
    "        for row in reader:\n",
    "            # the original file has some empty lines\n",
    "            if len(row) != 0:\n",
    "                # lines using tab separators\n",
    "                if len(row) == 1:\n",
    "                    sp = row[0].split('\\t')\n",
    "                    if len(sp) == 2:\n",
    "                        # remove the ,,,,,,,, sequences\n",
    "                        captions[sp[0]] = sp[1].replace(',,', '').replace(\"\\xa0\", \"\")\n",
    "                    else:\n",
    "                        # there is at least one case there the id is not present\n",
    "                        # so the line has only one value\n",
    "                        captions[sp[0]] = ''\n",
    "                elif len(row) == 2:\n",
    "                    captions[row[0]] = row[1]\n",
    "    return captions\n",
    "            \n",
    "# Tests match_compound\n",
    "test = '1471-2202-9-58-19-6.jpg'\n",
    "test2= 'IJBI2010-105610.007-1.jpg'\n",
    "test3= '11373_2007_9226_Fig1_HTML-16.jpg'\n",
    "\n",
    "print(get_compound_root(test))\n",
    "print(get_compound_root(test2))\n",
    "print(get_compound_root(test3))"
   ]
  },
  {
   "cell_type": "code",
   "execution_count": 67,
   "metadata": {},
   "outputs": [
    {
     "name": "stdout",
     "output_type": "stream",
     "text": [
      "There are 6776 training subfigures.\n",
      "The captions dictionary has 20987 captions\n"
     ]
    }
   ],
   "source": [
    "captions16_train = create_caption_dictionary(CAPTIONS16_TRAIN)\n",
    "captions16_test  = create_caption_dictionary(CAPTIONS16_TEST)\n",
    "\n",
    "print(\"There are {num} training subfigures.\".format(num=len(image_ids_16)))\n",
    "print(\"The captions dictionary has {num} captions\".format(num=len(captions16_train.keys())))"
   ]
  },
  {
   "cell_type": "markdown",
   "metadata": {},
   "source": [
    "### Check Training Data"
   ]
  },
  {
   "cell_type": "code",
   "execution_count": 320,
   "metadata": {},
   "outputs": [
    {
     "name": "stdout",
     "output_type": "stream",
     "text": [
      "6776 subfigures have a corresponding caption\n",
      "Only  have no captions\n"
     ]
    }
   ],
   "source": [
    "def check_captions(ids, captions_dict, get_root=True):\n",
    "    num_has_caption = 0\n",
    "    imgs_no_caption = []\n",
    "    \n",
    "    for img_id in ids:\n",
    "        try:\n",
    "            if get_root:\n",
    "                caption = captions_dict[get_compound_root(img_id)]\n",
    "            else:\n",
    "                caption = captions_dict[img_id[:-4]] # get rid of the file extension\n",
    "            num_has_caption += 1\n",
    "        except KeyError:\n",
    "            imgs_no_caption.append(img_id)\n",
    "    \n",
    "    print(\"{num} subfigures have a corresponding caption\".format(num=num_has_caption))\n",
    "    print(\"Only {images} have no captions\".format(images=(' ').join(imgs_no_caption)))\n",
    "    return\n",
    "\n",
    "check_captions(image_ids_16, captions16_train)"
   ]
  },
  {
   "cell_type": "markdown",
   "metadata": {},
   "source": [
    "After searching for the key in the dictionary, we can see that the problem is the use of **.001** instead of **-001**. We proceed to create a corresponding key."
   ]
  },
  {
   "cell_type": "code",
   "execution_count": 70,
   "metadata": {},
   "outputs": [
    {
     "name": "stdout",
     "output_type": "stream",
     "text": [
      "['DRP2011-927852.001']\n"
     ]
    }
   ],
   "source": [
    "found = []\n",
    "for k in captions16_train.keys():\n",
    "    if 'DRP2011-927852' in k:\n",
    "        found.append(k)\n",
    "print(found)\n",
    "\n",
    "captions16_train['DRP2011-927852-001'] = captions16_train['DRP2011-927852.001']"
   ]
  },
  {
   "cell_type": "code",
   "execution_count": 138,
   "metadata": {},
   "outputs": [
    {
     "name": "stdout",
     "output_type": "stream",
     "text": [
      "6776 subfigures have a corresponding caption\n",
      "Only  have no captions\n"
     ]
    }
   ],
   "source": [
    "check_captions(image_ids_16, captions16_train)"
   ]
  },
  {
   "cell_type": "markdown",
   "metadata": {},
   "source": [
    "Checking if any subfigure has an empty caption."
   ]
  },
  {
   "cell_type": "code",
   "execution_count": 139,
   "metadata": {},
   "outputs": [
    {
     "name": "stdout",
     "output_type": "stream",
     "text": [
      "There are no subfigure with empty labels\n"
     ]
    }
   ],
   "source": [
    "count_empty = 0\n",
    "for img_id in image_ids_16:\n",
    "    if captions16_train[get_compound_root(img_id)] == '':\n",
    "        count_empty += 1\n",
    "        print(img_id)\n",
    "\n",
    "if count_empty == 0:\n",
    "    print(\"There are no subfigure with empty labels\")\n",
    "else:\n",
    "    print(\"There are {num} subfigures with empty labels\".format(num=count_empty))"
   ]
  },
  {
   "cell_type": "markdown",
   "metadata": {},
   "source": [
    "### Check Test Data"
   ]
  },
  {
   "cell_type": "code",
   "execution_count": 140,
   "metadata": {
    "scrolled": true
   },
   "outputs": [
    {
     "name": "stdout",
     "output_type": "stream",
     "text": [
      "4158 subfigures have a corresponding caption\n",
      "Only  have no captions\n"
     ]
    }
   ],
   "source": [
    "check_captions(test_ids_16, captions16_test)"
   ]
  },
  {
   "cell_type": "code",
   "execution_count": 321,
   "metadata": {},
   "outputs": [
    {
     "name": "stdout",
     "output_type": "stream",
     "text": [
      "2875 subfigures have a corresponding caption\n",
      "Only 1471-2121-4-11-5.jpg 1471-5945-1-9-6.jpg 1471-2474-3-5-2.jpg 1471-2474-3-5-5.jpg cc8332-1.jpg have no captions\n"
     ]
    }
   ],
   "source": [
    "check_captions(train_ids_13, captions16_train, get_root=False)"
   ]
  },
  {
   "cell_type": "markdown",
   "metadata": {},
   "source": [
    "## Create Dataframe"
   ]
  },
  {
   "cell_type": "code",
   "execution_count": 325,
   "metadata": {},
   "outputs": [],
   "source": [
    "import pandas as pd\n",
    "\n",
    "def get_caption(captions_dict, key, get_root=True):\n",
    "    try:\n",
    "        if get_root: return captions_dict[get_compound_root(key)]\n",
    "        else: return captions_dict[key[:-4]]\n",
    "    except: return \"NULL\"\n",
    "\n",
    "def create_dataset(data, captions_dict, get_root=True):\n",
    "    df = pd.DataFrame(data, columns =['ID', 'MODALITY', 'PATH'])\n",
    "    df['CAPTION'] = df.apply(lambda x: get_caption(captions_dict, x['ID'], get_root=get_root), axis=1)                             \n",
    "    #df['COMPOUND'] = df.apply(lambda x: get_compound_root(x['ID']), axis=1)\n",
    "    return df"
   ]
  },
  {
   "cell_type": "code",
   "execution_count": 337,
   "metadata": {
    "scrolled": false
   },
   "outputs": [
    {
     "data": {
      "text/html": [
       "<div>\n",
       "<style scoped>\n",
       "    .dataframe tbody tr th:only-of-type {\n",
       "        vertical-align: middle;\n",
       "    }\n",
       "\n",
       "    .dataframe tbody tr th {\n",
       "        vertical-align: top;\n",
       "    }\n",
       "\n",
       "    .dataframe thead th {\n",
       "        text-align: right;\n",
       "    }\n",
       "</style>\n",
       "<table border=\"1\" class=\"dataframe\">\n",
       "  <thead>\n",
       "    <tr style=\"text-align: right;\">\n",
       "      <th></th>\n",
       "      <th>ID</th>\n",
       "      <th>MODALITY</th>\n",
       "      <th>PATH</th>\n",
       "      <th>CAPTION</th>\n",
       "      <th>COMPOUND</th>\n",
       "    </tr>\n",
       "  </thead>\n",
       "  <tbody>\n",
       "    <tr>\n",
       "      <th>0</th>\n",
       "      <td>1423-0127-16-109-3-1.jpg</td>\n",
       "      <td>D3DR</td>\n",
       "      <td>subfigure-classification/2016/train/D3DR/1423-...</td>\n",
       "      <td>A. Three dimensional model of class C protein ...</td>\n",
       "      <td>1423-0127-16-109-3</td>\n",
       "    </tr>\n",
       "    <tr>\n",
       "      <th>1</th>\n",
       "      <td>1423-0127-16-109-3-2.jpg</td>\n",
       "      <td>D3DR</td>\n",
       "      <td>subfigure-classification/2016/train/D3DR/1423-...</td>\n",
       "      <td>A. Three dimensional model of class C protein ...</td>\n",
       "      <td>1423-0127-16-109-3</td>\n",
       "    </tr>\n",
       "    <tr>\n",
       "      <th>2</th>\n",
       "      <td>1423-0127-17-34-3-1.jpg</td>\n",
       "      <td>D3DR</td>\n",
       "      <td>subfigure-classification/2016/train/D3DR/1423-...</td>\n",
       "      <td>Three domains of AAG A (or C)-chain: (a) domai...</td>\n",
       "      <td>1423-0127-17-34-3</td>\n",
       "    </tr>\n",
       "    <tr>\n",
       "      <th>3</th>\n",
       "      <td>1423-0127-17-34-3-2.jpg</td>\n",
       "      <td>D3DR</td>\n",
       "      <td>subfigure-classification/2016/train/D3DR/1423-...</td>\n",
       "      <td>Three domains of AAG A (or C)-chain: (a) domai...</td>\n",
       "      <td>1423-0127-17-34-3</td>\n",
       "    </tr>\n",
       "    <tr>\n",
       "      <th>4</th>\n",
       "      <td>1423-0127-17-34-3-3.jpg</td>\n",
       "      <td>D3DR</td>\n",
       "      <td>subfigure-classification/2016/train/D3DR/1423-...</td>\n",
       "      <td>Three domains of AAG A (or C)-chain: (a) domai...</td>\n",
       "      <td>1423-0127-17-34-3</td>\n",
       "    </tr>\n",
       "  </tbody>\n",
       "</table>\n",
       "</div>"
      ],
      "text/plain": [
       "                         ID MODALITY  \\\n",
       "0  1423-0127-16-109-3-1.jpg     D3DR   \n",
       "1  1423-0127-16-109-3-2.jpg     D3DR   \n",
       "2   1423-0127-17-34-3-1.jpg     D3DR   \n",
       "3   1423-0127-17-34-3-2.jpg     D3DR   \n",
       "4   1423-0127-17-34-3-3.jpg     D3DR   \n",
       "\n",
       "                                                PATH  \\\n",
       "0  subfigure-classification/2016/train/D3DR/1423-...   \n",
       "1  subfigure-classification/2016/train/D3DR/1423-...   \n",
       "2  subfigure-classification/2016/train/D3DR/1423-...   \n",
       "3  subfigure-classification/2016/train/D3DR/1423-...   \n",
       "4  subfigure-classification/2016/train/D3DR/1423-...   \n",
       "\n",
       "                                             CAPTION            COMPOUND  \n",
       "0  A. Three dimensional model of class C protein ...  1423-0127-16-109-3  \n",
       "1  A. Three dimensional model of class C protein ...  1423-0127-16-109-3  \n",
       "2  Three domains of AAG A (or C)-chain: (a) domai...   1423-0127-17-34-3  \n",
       "3  Three domains of AAG A (or C)-chain: (a) domai...   1423-0127-17-34-3  \n",
       "4  Three domains of AAG A (or C)-chain: (a) domai...   1423-0127-17-34-3  "
      ]
     },
     "execution_count": 337,
     "metadata": {},
     "output_type": "execute_result"
    }
   ],
   "source": [
    "df16_train = create_dataset(train_data_16, captions16_train, get_root=True)\n",
    "df16_test  = create_dataset(test_data_16, captions16_test, get_root=True)\n",
    "df13_train = create_dataset(train_data_13, captions16_train, get_root=False)\n",
    "df_train.head()"
   ]
  },
  {
   "cell_type": "code",
   "execution_count": 338,
   "metadata": {},
   "outputs": [
    {
     "data": {
      "text/html": [
       "<div>\n",
       "<style scoped>\n",
       "    .dataframe tbody tr th:only-of-type {\n",
       "        vertical-align: middle;\n",
       "    }\n",
       "\n",
       "    .dataframe tbody tr th {\n",
       "        vertical-align: top;\n",
       "    }\n",
       "\n",
       "    .dataframe thead th {\n",
       "        text-align: right;\n",
       "    }\n",
       "</style>\n",
       "<table border=\"1\" class=\"dataframe\">\n",
       "  <thead>\n",
       "    <tr style=\"text-align: right;\">\n",
       "      <th></th>\n",
       "      <th>ID</th>\n",
       "      <th>MODALITY</th>\n",
       "      <th>PATH</th>\n",
       "      <th>CAPTION</th>\n",
       "    </tr>\n",
       "  </thead>\n",
       "  <tbody>\n",
       "    <tr>\n",
       "      <th>0</th>\n",
       "      <td>1297-9686-41-26-2.jpg</td>\n",
       "      <td>COMP</td>\n",
       "      <td>subfigure-classification/2013/train/COMP/1297-...</td>\n",
       "      <td>Estimated (----) additive genetic variance and...</td>\n",
       "    </tr>\n",
       "    <tr>\n",
       "      <th>1</th>\n",
       "      <td>1297-9686-42-13-6.jpg</td>\n",
       "      <td>COMP</td>\n",
       "      <td>subfigure-classification/2013/train/COMP/1297-...</td>\n",
       "      <td>Posterior density curves for Landrace and Larg...</td>\n",
       "    </tr>\n",
       "    <tr>\n",
       "      <th>2</th>\n",
       "      <td>1423-0127-16-113-4.jpg</td>\n",
       "      <td>COMP</td>\n",
       "      <td>subfigure-classification/2013/train/COMP/1423-...</td>\n",
       "      <td>Binding of TPR proteins to Hsc70 . ( A ) TPR p...</td>\n",
       "    </tr>\n",
       "    <tr>\n",
       "      <th>3</th>\n",
       "      <td>1423-0127-16-17-6.jpg</td>\n",
       "      <td>COMP</td>\n",
       "      <td>subfigure-classification/2013/train/COMP/1423-...</td>\n",
       "      <td>Silencing of Clathrin heavy chain in HepG2 cel...</td>\n",
       "    </tr>\n",
       "    <tr>\n",
       "      <th>4</th>\n",
       "      <td>1423-0127-16-35-4.jpg</td>\n",
       "      <td>COMP</td>\n",
       "      <td>subfigure-classification/2013/train/COMP/1423-...</td>\n",
       "      <td>A: The analysis of nuclear factor NF- Îº B and...</td>\n",
       "    </tr>\n",
       "  </tbody>\n",
       "</table>\n",
       "</div>"
      ],
      "text/plain": [
       "                       ID MODALITY  \\\n",
       "0   1297-9686-41-26-2.jpg     COMP   \n",
       "1   1297-9686-42-13-6.jpg     COMP   \n",
       "2  1423-0127-16-113-4.jpg     COMP   \n",
       "3   1423-0127-16-17-6.jpg     COMP   \n",
       "4   1423-0127-16-35-4.jpg     COMP   \n",
       "\n",
       "                                                PATH  \\\n",
       "0  subfigure-classification/2013/train/COMP/1297-...   \n",
       "1  subfigure-classification/2013/train/COMP/1297-...   \n",
       "2  subfigure-classification/2013/train/COMP/1423-...   \n",
       "3  subfigure-classification/2013/train/COMP/1423-...   \n",
       "4  subfigure-classification/2013/train/COMP/1423-...   \n",
       "\n",
       "                                             CAPTION  \n",
       "0  Estimated (----) additive genetic variance and...  \n",
       "1  Posterior density curves for Landrace and Larg...  \n",
       "2  Binding of TPR proteins to Hsc70 . ( A ) TPR p...  \n",
       "3  Silencing of Clathrin heavy chain in HepG2 cel...  \n",
       "4  A: The analysis of nuclear factor NF- Îº B and...  "
      ]
     },
     "execution_count": 338,
     "metadata": {},
     "output_type": "execute_result"
    }
   ],
   "source": [
    "# get rid of samples without captions\n",
    "df13_train = df13_train[df13_train['CAPTION'] != 'NULL']\n",
    "df13_train.head()"
   ]
  },
  {
   "cell_type": "code",
   "execution_count": 235,
   "metadata": {},
   "outputs": [
    {
     "data": {
      "text/html": [
       "<div>\n",
       "<style scoped>\n",
       "    .dataframe tbody tr th:only-of-type {\n",
       "        vertical-align: middle;\n",
       "    }\n",
       "\n",
       "    .dataframe tbody tr th {\n",
       "        vertical-align: top;\n",
       "    }\n",
       "\n",
       "    .dataframe thead tr th {\n",
       "        text-align: left;\n",
       "    }\n",
       "\n",
       "    .dataframe thead tr:last-of-type th {\n",
       "        text-align: right;\n",
       "    }\n",
       "</style>\n",
       "<table border=\"1\" class=\"dataframe\">\n",
       "  <thead>\n",
       "    <tr>\n",
       "      <th></th>\n",
       "      <th></th>\n",
       "      <th>ID</th>\n",
       "    </tr>\n",
       "    <tr>\n",
       "      <th></th>\n",
       "      <th></th>\n",
       "      <th>count</th>\n",
       "    </tr>\n",
       "    <tr>\n",
       "      <th>COMPOUND</th>\n",
       "      <th>MODALITY</th>\n",
       "      <th></th>\n",
       "    </tr>\n",
       "  </thead>\n",
       "  <tbody>\n",
       "    <tr>\n",
       "      <th>11373_2007_9226_Fig1_HTML</th>\n",
       "      <th>DMFL</th>\n",
       "      <td>19</td>\n",
       "    </tr>\n",
       "    <tr>\n",
       "      <th rowspan=\"2\" valign=\"top\">12178_2007_9007_Fig1_HTML</th>\n",
       "      <th>DMTR</th>\n",
       "      <td>1</td>\n",
       "    </tr>\n",
       "    <tr>\n",
       "      <th>GHDR</th>\n",
       "      <td>3</td>\n",
       "    </tr>\n",
       "    <tr>\n",
       "      <th>12178_2008_9027_Fig4_HTML</th>\n",
       "      <th>DRXR</th>\n",
       "      <td>3</td>\n",
       "    </tr>\n",
       "    <tr>\n",
       "      <th>12178_2009_9056_Fig9_HTML</th>\n",
       "      <th>DRUS</th>\n",
       "      <td>2</td>\n",
       "    </tr>\n",
       "    <tr>\n",
       "      <th>1297-9686-42-10-3</th>\n",
       "      <th>GFIG</th>\n",
       "      <td>4</td>\n",
       "    </tr>\n",
       "    <tr>\n",
       "      <th>1423-0127-16-109-3</th>\n",
       "      <th>D3DR</th>\n",
       "      <td>2</td>\n",
       "    </tr>\n",
       "    <tr>\n",
       "      <th rowspan=\"2\" valign=\"top\">1423-0127-16-6-3</th>\n",
       "      <th>GFIG</th>\n",
       "      <td>1</td>\n",
       "    </tr>\n",
       "    <tr>\n",
       "      <th>GGEL</th>\n",
       "      <td>1</td>\n",
       "    </tr>\n",
       "    <tr>\n",
       "      <th rowspan=\"2\" valign=\"top\">1423-0127-16-6-5</th>\n",
       "      <th>GFIG</th>\n",
       "      <td>1</td>\n",
       "    </tr>\n",
       "    <tr>\n",
       "      <th>GGEL</th>\n",
       "      <td>2</td>\n",
       "    </tr>\n",
       "    <tr>\n",
       "      <th rowspan=\"2\" valign=\"top\">1423-0127-16-7-1</th>\n",
       "      <th>DMEL</th>\n",
       "      <td>5</td>\n",
       "    </tr>\n",
       "    <tr>\n",
       "      <th>GFIG</th>\n",
       "      <td>1</td>\n",
       "    </tr>\n",
       "    <tr>\n",
       "      <th rowspan=\"4\" valign=\"top\">1423-0127-16-88-1</th>\n",
       "      <th>DMEL</th>\n",
       "      <td>1</td>\n",
       "    </tr>\n",
       "    <tr>\n",
       "      <th>DMFL</th>\n",
       "      <td>2</td>\n",
       "    </tr>\n",
       "    <tr>\n",
       "      <th>DMLI</th>\n",
       "      <td>1</td>\n",
       "    </tr>\n",
       "    <tr>\n",
       "      <th>DRMR</th>\n",
       "      <td>1</td>\n",
       "    </tr>\n",
       "    <tr>\n",
       "      <th rowspan=\"3\" valign=\"top\">1423-0127-17-22-2</th>\n",
       "      <th>GFIG</th>\n",
       "      <td>1</td>\n",
       "    </tr>\n",
       "    <tr>\n",
       "      <th>GGEL</th>\n",
       "      <td>2</td>\n",
       "    </tr>\n",
       "    <tr>\n",
       "      <th>GTAB</th>\n",
       "      <td>1</td>\n",
       "    </tr>\n",
       "  </tbody>\n",
       "</table>\n",
       "</div>"
      ],
      "text/plain": [
       "                                      ID\n",
       "                                   count\n",
       "COMPOUND                  MODALITY      \n",
       "11373_2007_9226_Fig1_HTML DMFL        19\n",
       "12178_2007_9007_Fig1_HTML DMTR         1\n",
       "                          GHDR         3\n",
       "12178_2008_9027_Fig4_HTML DRXR         3\n",
       "12178_2009_9056_Fig9_HTML DRUS         2\n",
       "1297-9686-42-10-3         GFIG         4\n",
       "1423-0127-16-109-3        D3DR         2\n",
       "1423-0127-16-6-3          GFIG         1\n",
       "                          GGEL         1\n",
       "1423-0127-16-6-5          GFIG         1\n",
       "                          GGEL         2\n",
       "1423-0127-16-7-1          DMEL         5\n",
       "                          GFIG         1\n",
       "1423-0127-16-88-1         DMEL         1\n",
       "                          DMFL         2\n",
       "                          DMLI         1\n",
       "                          DRMR         1\n",
       "1423-0127-17-22-2         GFIG         1\n",
       "                          GGEL         2\n",
       "                          GTAB         1"
      ]
     },
     "execution_count": 235,
     "metadata": {},
     "output_type": "execute_result"
    }
   ],
   "source": [
    "# x = df16_train[['ID', 'COMPOUND', 'MODALITY']].groupby(['COMPOUND', 'MODALITY']).agg(['count'])\n",
    "# x = df16_train[['ID', 'COMPOUND', 'MODALITY']].groupby(['COMPOUND', 'MODALITY']).size()\n",
    "# x.head(20)"
   ]
  },
  {
   "cell_type": "code",
   "execution_count": 341,
   "metadata": {},
   "outputs": [
    {
     "name": "stdout",
     "output_type": "stream",
     "text": [
      "(2110, 4) (220, 4) (873, 4)\n"
     ]
    },
    {
     "data": {
      "text/html": [
       "<div>\n",
       "<style scoped>\n",
       "    .dataframe tbody tr th:only-of-type {\n",
       "        vertical-align: middle;\n",
       "    }\n",
       "\n",
       "    .dataframe tbody tr th {\n",
       "        vertical-align: top;\n",
       "    }\n",
       "\n",
       "    .dataframe thead th {\n",
       "        text-align: right;\n",
       "    }\n",
       "</style>\n",
       "<table border=\"1\" class=\"dataframe\">\n",
       "  <thead>\n",
       "    <tr style=\"text-align: right;\">\n",
       "      <th></th>\n",
       "      <th>ID</th>\n",
       "      <th>MODALITY</th>\n",
       "      <th>PATH</th>\n",
       "      <th>CAPTION</th>\n",
       "    </tr>\n",
       "  </thead>\n",
       "  <tbody>\n",
       "    <tr>\n",
       "      <th>201</th>\n",
       "      <td>1423-0127-16-7-1-1.jpg</td>\n",
       "      <td>DMEL</td>\n",
       "      <td>subfigure-classification/2016/train/DMEL/1423-...</td>\n",
       "      <td>Scanning electron microscope images of the TiO...</td>\n",
       "    </tr>\n",
       "    <tr>\n",
       "      <th>202</th>\n",
       "      <td>1423-0127-16-7-1-2.jpg</td>\n",
       "      <td>DMEL</td>\n",
       "      <td>subfigure-classification/2016/train/DMEL/1423-...</td>\n",
       "      <td>Scanning electron microscope images of the TiO...</td>\n",
       "    </tr>\n",
       "    <tr>\n",
       "      <th>203</th>\n",
       "      <td>1423-0127-16-7-1-4.jpg</td>\n",
       "      <td>DMEL</td>\n",
       "      <td>subfigure-classification/2016/train/DMEL/1423-...</td>\n",
       "      <td>Scanning electron microscope images of the TiO...</td>\n",
       "    </tr>\n",
       "    <tr>\n",
       "      <th>204</th>\n",
       "      <td>1423-0127-16-7-1-5.jpg</td>\n",
       "      <td>DMEL</td>\n",
       "      <td>subfigure-classification/2016/train/DMEL/1423-...</td>\n",
       "      <td>Scanning electron microscope images of the TiO...</td>\n",
       "    </tr>\n",
       "    <tr>\n",
       "      <th>205</th>\n",
       "      <td>1423-0127-16-7-1-6.jpg</td>\n",
       "      <td>DMEL</td>\n",
       "      <td>subfigure-classification/2016/train/DMEL/1423-...</td>\n",
       "      <td>Scanning electron microscope images of the TiO...</td>\n",
       "    </tr>\n",
       "  </tbody>\n",
       "</table>\n",
       "</div>"
      ],
      "text/plain": [
       "                         ID MODALITY  \\\n",
       "201  1423-0127-16-7-1-1.jpg     DMEL   \n",
       "202  1423-0127-16-7-1-2.jpg     DMEL   \n",
       "203  1423-0127-16-7-1-4.jpg     DMEL   \n",
       "204  1423-0127-16-7-1-5.jpg     DMEL   \n",
       "205  1423-0127-16-7-1-6.jpg     DMEL   \n",
       "\n",
       "                                                  PATH  \\\n",
       "201  subfigure-classification/2016/train/DMEL/1423-...   \n",
       "202  subfigure-classification/2016/train/DMEL/1423-...   \n",
       "203  subfigure-classification/2016/train/DMEL/1423-...   \n",
       "204  subfigure-classification/2016/train/DMEL/1423-...   \n",
       "205  subfigure-classification/2016/train/DMEL/1423-...   \n",
       "\n",
       "                                               CAPTION  \n",
       "201  Scanning electron microscope images of the TiO...  \n",
       "202  Scanning electron microscope images of the TiO...  \n",
       "203  Scanning electron microscope images of the TiO...  \n",
       "204  Scanning electron microscope images of the TiO...  \n",
       "205  Scanning electron microscope images of the TiO...  "
      ]
     },
     "execution_count": 341,
     "metadata": {},
     "output_type": "execute_result"
    }
   ],
   "source": [
    "df16_microscopy_train = df16_train[df16_train['MODALITY'].isin(['DMFL', 'DMTR', 'DMLI', 'DMEL'])]\n",
    "df13_microscopy_train = df13_train[df13_train['MODALITY'].isin(['DMFL', 'DMTR', 'DMLI', 'DMEL'])]\n",
    "df16_microscopy_test  = df16_test[df16_test['MODALITY'].isin(['DMFL', 'DMTR', 'DMLI', 'DMEL'])]\n",
    "\n",
    "print(df16_microscopy_train.shape, df13_microscopy_train.shape, df16_microscopy_test.shape)\n",
    "# df16_microscopy_train.reset_index()\n",
    "df13_16_microscopy_train = pd.concat([df16_microscopy_train, df13_microscopy_train])\n",
    "df13_16_microscopy_train.head()"
   ]
  },
  {
   "cell_type": "code",
   "execution_count": 342,
   "metadata": {},
   "outputs": [],
   "source": [
    "from sklearn.model_selection import train_test_split\n",
    "train, val = train_test_split(df13_16_microscopy_train,\n",
    "                              test_size=0.2,\n",
    "                              random_state=43,\n",
    "                              shuffle=True,\n",
    "                              stratify=df13_16_microscopy_train['MODALITY'])"
   ]
  },
  {
   "cell_type": "code",
   "execution_count": 343,
   "metadata": {
    "scrolled": false
   },
   "outputs": [
    {
     "data": {
      "text/html": [
       "<div>\n",
       "<style scoped>\n",
       "    .dataframe tbody tr th:only-of-type {\n",
       "        vertical-align: middle;\n",
       "    }\n",
       "\n",
       "    .dataframe tbody tr th {\n",
       "        vertical-align: top;\n",
       "    }\n",
       "\n",
       "    .dataframe thead th {\n",
       "        text-align: right;\n",
       "    }\n",
       "</style>\n",
       "<table border=\"1\" class=\"dataframe\">\n",
       "  <thead>\n",
       "    <tr style=\"text-align: right;\">\n",
       "      <th></th>\n",
       "      <th>ID</th>\n",
       "      <th>MODALITY</th>\n",
       "      <th>PATH</th>\n",
       "      <th>CAPTION</th>\n",
       "      <th>SET</th>\n",
       "    </tr>\n",
       "  </thead>\n",
       "  <tbody>\n",
       "    <tr>\n",
       "      <th>1351</th>\n",
       "      <td>1477-7819-3-32-2.jpg</td>\n",
       "      <td>DMTR</td>\n",
       "      <td>subfigure-classification/2013/train/DMTR/1477-...</td>\n",
       "      <td>Pathological findings of the left lung. The se...</td>\n",
       "      <td>VAL</td>\n",
       "    </tr>\n",
       "    <tr>\n",
       "      <th>1352</th>\n",
       "      <td>1477-7827-4-63-10.jpg</td>\n",
       "      <td>DMTR</td>\n",
       "      <td>subfigure-classification/2013/train/DMTR/1477-...</td>\n",
       "      <td>Immunohistochemical staining of section from t...</td>\n",
       "      <td>TRAIN</td>\n",
       "    </tr>\n",
       "    <tr>\n",
       "      <th>1353</th>\n",
       "      <td>1743-8454-5-10-9.jpg</td>\n",
       "      <td>DMTR</td>\n",
       "      <td>subfigure-classification/2013/train/DMTR/1743-...</td>\n",
       "      <td>Fibrosis in senescent rat choroid plexus.  Agi...</td>\n",
       "      <td>TRAIN</td>\n",
       "    </tr>\n",
       "    <tr>\n",
       "      <th>1354</th>\n",
       "      <td>1746-160X-3-35-5.jpg</td>\n",
       "      <td>DMTR</td>\n",
       "      <td>subfigure-classification/2013/train/DMTR/1746-...</td>\n",
       "      <td>Irregular melanosomes with some inclusions cou...</td>\n",
       "      <td>TRAIN</td>\n",
       "    </tr>\n",
       "    <tr>\n",
       "      <th>1355</th>\n",
       "      <td>1749-799X-5-56-6.jpg</td>\n",
       "      <td>DMTR</td>\n",
       "      <td>subfigure-classification/2013/train/DMTR/1749-...</td>\n",
       "      <td>Histological examination . Cyst wall structure...</td>\n",
       "      <td>TRAIN</td>\n",
       "    </tr>\n",
       "    <tr>\n",
       "      <th>1356</th>\n",
       "      <td>1750-1172-4-7-17.jpg</td>\n",
       "      <td>DMTR</td>\n",
       "      <td>subfigure-classification/2013/train/DMTR/1750-...</td>\n",
       "      <td>Subepithelial mucinous corneal dystrophy . Tra...</td>\n",
       "      <td>TRAIN</td>\n",
       "    </tr>\n",
       "    <tr>\n",
       "      <th>1357</th>\n",
       "      <td>1750-1172-4-7-21.jpg</td>\n",
       "      <td>DMTR</td>\n",
       "      <td>subfigure-classification/2013/train/DMTR/1750-...</td>\n",
       "      <td>Macular corneal dystrophy . Transmission elect...</td>\n",
       "      <td>VAL</td>\n",
       "    </tr>\n",
       "    <tr>\n",
       "      <th>1358</th>\n",
       "      <td>1750-1172-4-7-37.jpg</td>\n",
       "      <td>DMTR</td>\n",
       "      <td>subfigure-classification/2013/train/DMTR/1750-...</td>\n",
       "      <td>Granular corneal dystrophy . Characteristic ro...</td>\n",
       "      <td>TRAIN</td>\n",
       "    </tr>\n",
       "    <tr>\n",
       "      <th>1359</th>\n",
       "      <td>1750-1172-4-7-60.jpg</td>\n",
       "      <td>DMTR</td>\n",
       "      <td>subfigure-classification/2013/train/DMTR/1750-...</td>\n",
       "      <td>Fuchs corneal dystrophy . Transmission electro...</td>\n",
       "      <td>TRAIN</td>\n",
       "    </tr>\n",
       "    <tr>\n",
       "      <th>1360</th>\n",
       "      <td>1751-0147-42-311-3.jpg</td>\n",
       "      <td>DMTR</td>\n",
       "      <td>subfigure-classification/2013/train/DMTR/1751-...</td>\n",
       "      <td>Liver from an animal in group 3 (Cu and Cr def...</td>\n",
       "      <td>VAL</td>\n",
       "    </tr>\n",
       "    <tr>\n",
       "      <th>1361</th>\n",
       "      <td>1754-1611-4-15-1.jpg</td>\n",
       "      <td>DMTR</td>\n",
       "      <td>subfigure-classification/2013/train/DMTR/1754-...</td>\n",
       "      <td>Transmission electron microscope image of DMAE...</td>\n",
       "      <td>TRAIN</td>\n",
       "    </tr>\n",
       "    <tr>\n",
       "      <th>1362</th>\n",
       "      <td>1755-7682-2-8-4.jpg</td>\n",
       "      <td>DMTR</td>\n",
       "      <td>subfigure-classification/2013/train/DMTR/1755-...</td>\n",
       "      <td>Morphological examination by phase contrast mi...</td>\n",
       "      <td>TRAIN</td>\n",
       "    </tr>\n",
       "    <tr>\n",
       "      <th>1363</th>\n",
       "      <td>1756-3305-2-12-24.jpg</td>\n",
       "      <td>DMTR</td>\n",
       "      <td>subfigure-classification/2013/train/DMTR/1756-...</td>\n",
       "      <td>Possible ciliate . Bar = 14  Î¼ m.,</td>\n",
       "      <td>TRAIN</td>\n",
       "    </tr>\n",
       "    <tr>\n",
       "      <th>1364</th>\n",
       "      <td>1756-3305-2-12-25.jpg</td>\n",
       "      <td>DMTR</td>\n",
       "      <td>subfigure-classification/2013/train/DMTR/1756-...</td>\n",
       "      <td>Possible ciliate . Bar = 12  Î¼ m.,</td>\n",
       "      <td>VAL</td>\n",
       "    </tr>\n",
       "    <tr>\n",
       "      <th>1365</th>\n",
       "      <td>1757-1626-1-184-1.jpg</td>\n",
       "      <td>DMTR</td>\n",
       "      <td>subfigure-classification/2013/train/DMTR/1757-...</td>\n",
       "      <td>Fingerprint-like intramembranous deposit (magn...</td>\n",
       "      <td>TRAIN</td>\n",
       "    </tr>\n",
       "    <tr>\n",
       "      <th>1366</th>\n",
       "      <td>1757-1626-1-184-2.jpg</td>\n",
       "      <td>DMTR</td>\n",
       "      <td>subfigure-classification/2013/train/DMTR/1757-...</td>\n",
       "      <td>Deposit characterized by hollow structure (mag...</td>\n",
       "      <td>TRAIN</td>\n",
       "    </tr>\n",
       "    <tr>\n",
       "      <th>1367</th>\n",
       "      <td>1757-1626-3-31-1.jpg</td>\n",
       "      <td>DMTR</td>\n",
       "      <td>subfigure-classification/2013/train/DMTR/1757-...</td>\n",
       "      <td>Gram Stain of first vitreous aspirate .,</td>\n",
       "      <td>VAL</td>\n",
       "    </tr>\n",
       "    <tr>\n",
       "      <th>1368</th>\n",
       "      <td>2040-2384-2-20-4.jpg</td>\n",
       "      <td>DMTR</td>\n",
       "      <td>subfigure-classification/2013/train/DMTR/2040-...</td>\n",
       "      <td>Liposomes . TEM image of liposomes made of DOP...</td>\n",
       "      <td>TRAIN</td>\n",
       "    </tr>\n",
       "    <tr>\n",
       "      <th>1369</th>\n",
       "      <td>bcr299-2.jpg</td>\n",
       "      <td>DMTR</td>\n",
       "      <td>subfigure-classification/2013/train/DMTR/bcr29...</td>\n",
       "      <td>Photomicrographs illustrating patterns of DNA ...</td>\n",
       "      <td>TRAIN</td>\n",
       "    </tr>\n",
       "    <tr>\n",
       "      <th>1370</th>\n",
       "      <td>gb-2006-7-12-244-1.jpg</td>\n",
       "      <td>DMTR</td>\n",
       "      <td>subfigure-classification/2013/train/DMTR/gb-20...</td>\n",
       "      <td>Electron micrograph of  C. elegans  spermatozo...</td>\n",
       "      <td>VAL</td>\n",
       "    </tr>\n",
       "  </tbody>\n",
       "</table>\n",
       "</div>"
      ],
      "text/plain": [
       "                          ID MODALITY  \\\n",
       "1351    1477-7819-3-32-2.jpg     DMTR   \n",
       "1352   1477-7827-4-63-10.jpg     DMTR   \n",
       "1353    1743-8454-5-10-9.jpg     DMTR   \n",
       "1354    1746-160X-3-35-5.jpg     DMTR   \n",
       "1355    1749-799X-5-56-6.jpg     DMTR   \n",
       "1356    1750-1172-4-7-17.jpg     DMTR   \n",
       "1357    1750-1172-4-7-21.jpg     DMTR   \n",
       "1358    1750-1172-4-7-37.jpg     DMTR   \n",
       "1359    1750-1172-4-7-60.jpg     DMTR   \n",
       "1360  1751-0147-42-311-3.jpg     DMTR   \n",
       "1361    1754-1611-4-15-1.jpg     DMTR   \n",
       "1362     1755-7682-2-8-4.jpg     DMTR   \n",
       "1363   1756-3305-2-12-24.jpg     DMTR   \n",
       "1364   1756-3305-2-12-25.jpg     DMTR   \n",
       "1365   1757-1626-1-184-1.jpg     DMTR   \n",
       "1366   1757-1626-1-184-2.jpg     DMTR   \n",
       "1367    1757-1626-3-31-1.jpg     DMTR   \n",
       "1368    2040-2384-2-20-4.jpg     DMTR   \n",
       "1369            bcr299-2.jpg     DMTR   \n",
       "1370  gb-2006-7-12-244-1.jpg     DMTR   \n",
       "\n",
       "                                                   PATH  \\\n",
       "1351  subfigure-classification/2013/train/DMTR/1477-...   \n",
       "1352  subfigure-classification/2013/train/DMTR/1477-...   \n",
       "1353  subfigure-classification/2013/train/DMTR/1743-...   \n",
       "1354  subfigure-classification/2013/train/DMTR/1746-...   \n",
       "1355  subfigure-classification/2013/train/DMTR/1749-...   \n",
       "1356  subfigure-classification/2013/train/DMTR/1750-...   \n",
       "1357  subfigure-classification/2013/train/DMTR/1750-...   \n",
       "1358  subfigure-classification/2013/train/DMTR/1750-...   \n",
       "1359  subfigure-classification/2013/train/DMTR/1750-...   \n",
       "1360  subfigure-classification/2013/train/DMTR/1751-...   \n",
       "1361  subfigure-classification/2013/train/DMTR/1754-...   \n",
       "1362  subfigure-classification/2013/train/DMTR/1755-...   \n",
       "1363  subfigure-classification/2013/train/DMTR/1756-...   \n",
       "1364  subfigure-classification/2013/train/DMTR/1756-...   \n",
       "1365  subfigure-classification/2013/train/DMTR/1757-...   \n",
       "1366  subfigure-classification/2013/train/DMTR/1757-...   \n",
       "1367  subfigure-classification/2013/train/DMTR/1757-...   \n",
       "1368  subfigure-classification/2013/train/DMTR/2040-...   \n",
       "1369  subfigure-classification/2013/train/DMTR/bcr29...   \n",
       "1370  subfigure-classification/2013/train/DMTR/gb-20...   \n",
       "\n",
       "                                                CAPTION    SET  \n",
       "1351  Pathological findings of the left lung. The se...    VAL  \n",
       "1352  Immunohistochemical staining of section from t...  TRAIN  \n",
       "1353  Fibrosis in senescent rat choroid plexus.  Agi...  TRAIN  \n",
       "1354  Irregular melanosomes with some inclusions cou...  TRAIN  \n",
       "1355  Histological examination . Cyst wall structure...  TRAIN  \n",
       "1356  Subepithelial mucinous corneal dystrophy . Tra...  TRAIN  \n",
       "1357  Macular corneal dystrophy . Transmission elect...    VAL  \n",
       "1358  Granular corneal dystrophy . Characteristic ro...  TRAIN  \n",
       "1359  Fuchs corneal dystrophy . Transmission electro...  TRAIN  \n",
       "1360  Liver from an animal in group 3 (Cu and Cr def...    VAL  \n",
       "1361  Transmission electron microscope image of DMAE...  TRAIN  \n",
       "1362  Morphological examination by phase contrast mi...  TRAIN  \n",
       "1363                Possible ciliate . Bar = 14  Î¼ m.,  TRAIN  \n",
       "1364                Possible ciliate . Bar = 12  Î¼ m.,    VAL  \n",
       "1365  Fingerprint-like intramembranous deposit (magn...  TRAIN  \n",
       "1366  Deposit characterized by hollow structure (mag...  TRAIN  \n",
       "1367           Gram Stain of first vitreous aspirate .,    VAL  \n",
       "1368  Liposomes . TEM image of liposomes made of DOP...  TRAIN  \n",
       "1369  Photomicrographs illustrating patterns of DNA ...  TRAIN  \n",
       "1370  Electron micrograph of  C. elegans  spermatozo...    VAL  "
      ]
     },
     "execution_count": 343,
     "metadata": {},
     "output_type": "execute_result"
    }
   ],
   "source": [
    "df13_16_microscopy_train['SET'] = df13_16_microscopy_train.apply(\n",
    "    lambda x: 'TRAIN' if x['ID'] in train['ID'].values else 'VAL', axis=1)\n",
    "df13_16_microscopy_train.tail(20)"
   ]
  },
  {
   "cell_type": "code",
   "execution_count": 344,
   "metadata": {
    "scrolled": true
   },
   "outputs": [
    {
     "data": {
      "text/html": [
       "<div>\n",
       "<style scoped>\n",
       "    .dataframe tbody tr th:only-of-type {\n",
       "        vertical-align: middle;\n",
       "    }\n",
       "\n",
       "    .dataframe tbody tr th {\n",
       "        vertical-align: top;\n",
       "    }\n",
       "\n",
       "    .dataframe thead th {\n",
       "        text-align: right;\n",
       "    }\n",
       "</style>\n",
       "<table border=\"1\" class=\"dataframe\">\n",
       "  <thead>\n",
       "    <tr style=\"text-align: right;\">\n",
       "      <th></th>\n",
       "      <th>ID</th>\n",
       "      <th>MODALITY</th>\n",
       "      <th>PATH</th>\n",
       "      <th>CAPTION</th>\n",
       "    </tr>\n",
       "    <tr>\n",
       "      <th>SET</th>\n",
       "      <th></th>\n",
       "      <th></th>\n",
       "      <th></th>\n",
       "      <th></th>\n",
       "    </tr>\n",
       "  </thead>\n",
       "  <tbody>\n",
       "    <tr>\n",
       "      <th>TRAIN</th>\n",
       "      <td>1864</td>\n",
       "      <td>1864</td>\n",
       "      <td>1864</td>\n",
       "      <td>1864</td>\n",
       "    </tr>\n",
       "    <tr>\n",
       "      <th>VAL</th>\n",
       "      <td>466</td>\n",
       "      <td>466</td>\n",
       "      <td>466</td>\n",
       "      <td>466</td>\n",
       "    </tr>\n",
       "  </tbody>\n",
       "</table>\n",
       "</div>"
      ],
      "text/plain": [
       "         ID  MODALITY  PATH  CAPTION\n",
       "SET                                 \n",
       "TRAIN  1864      1864  1864     1864\n",
       "VAL     466       466   466      466"
      ]
     },
     "execution_count": 344,
     "metadata": {},
     "output_type": "execute_result"
    }
   ],
   "source": [
    "df13_16_microscopy_train.groupby(['SET']).count()"
   ]
  },
  {
   "cell_type": "code",
   "execution_count": 345,
   "metadata": {},
   "outputs": [
    {
     "name": "stderr",
     "output_type": "stream",
     "text": [
      "/usr/local/lib/python3.6/dist-packages/ipykernel_launcher.py:1: SettingWithCopyWarning: \n",
      "A value is trying to be set on a copy of a slice from a DataFrame.\n",
      "Try using .loc[row_indexer,col_indexer] = value instead\n",
      "\n",
      "See the caveats in the documentation: https://pandas.pydata.org/pandas-docs/stable/user_guide/indexing.html#returning-a-view-versus-a-copy\n",
      "  \"\"\"Entry point for launching an IPython kernel.\n"
     ]
    },
    {
     "data": {
      "text/html": [
       "<div>\n",
       "<style scoped>\n",
       "    .dataframe tbody tr th:only-of-type {\n",
       "        vertical-align: middle;\n",
       "    }\n",
       "\n",
       "    .dataframe tbody tr th {\n",
       "        vertical-align: top;\n",
       "    }\n",
       "\n",
       "    .dataframe thead th {\n",
       "        text-align: right;\n",
       "    }\n",
       "</style>\n",
       "<table border=\"1\" class=\"dataframe\">\n",
       "  <thead>\n",
       "    <tr style=\"text-align: right;\">\n",
       "      <th></th>\n",
       "      <th>ID</th>\n",
       "      <th>MODALITY</th>\n",
       "      <th>PATH</th>\n",
       "      <th>CAPTION</th>\n",
       "      <th>SET</th>\n",
       "    </tr>\n",
       "  </thead>\n",
       "  <tbody>\n",
       "    <tr>\n",
       "      <th>14</th>\n",
       "      <td>1423-0127-17-78-9-1.jpg</td>\n",
       "      <td>DMFL</td>\n",
       "      <td>subfigure-classification/2016/test/1423-0127-1...</td>\n",
       "      <td>Confocal image of 5-HT 2A  receptors in the hi...</td>\n",
       "      <td>TEST</td>\n",
       "    </tr>\n",
       "    <tr>\n",
       "      <th>15</th>\n",
       "      <td>1423-0127-17-78-9-2.jpg</td>\n",
       "      <td>DMFL</td>\n",
       "      <td>subfigure-classification/2016/test/1423-0127-1...</td>\n",
       "      <td>Confocal image of 5-HT 2A  receptors in the hi...</td>\n",
       "      <td>TEST</td>\n",
       "    </tr>\n",
       "    <tr>\n",
       "      <th>16</th>\n",
       "      <td>1423-0127-17-78-9-3.jpg</td>\n",
       "      <td>DMFL</td>\n",
       "      <td>subfigure-classification/2016/test/1423-0127-1...</td>\n",
       "      <td>Confocal image of 5-HT 2A  receptors in the hi...</td>\n",
       "      <td>TEST</td>\n",
       "    </tr>\n",
       "    <tr>\n",
       "      <th>17</th>\n",
       "      <td>1423-0127-17-78-9-4.jpg</td>\n",
       "      <td>DMFL</td>\n",
       "      <td>subfigure-classification/2016/test/1423-0127-1...</td>\n",
       "      <td>Confocal image of 5-HT 2A  receptors in the hi...</td>\n",
       "      <td>TEST</td>\n",
       "    </tr>\n",
       "    <tr>\n",
       "      <th>18</th>\n",
       "      <td>1423-0127-17-78-9-5.jpg</td>\n",
       "      <td>DMFL</td>\n",
       "      <td>subfigure-classification/2016/test/1423-0127-1...</td>\n",
       "      <td>Confocal image of 5-HT 2A  receptors in the hi...</td>\n",
       "      <td>TEST</td>\n",
       "    </tr>\n",
       "  </tbody>\n",
       "</table>\n",
       "</div>"
      ],
      "text/plain": [
       "                         ID MODALITY  \\\n",
       "14  1423-0127-17-78-9-1.jpg     DMFL   \n",
       "15  1423-0127-17-78-9-2.jpg     DMFL   \n",
       "16  1423-0127-17-78-9-3.jpg     DMFL   \n",
       "17  1423-0127-17-78-9-4.jpg     DMFL   \n",
       "18  1423-0127-17-78-9-5.jpg     DMFL   \n",
       "\n",
       "                                                 PATH  \\\n",
       "14  subfigure-classification/2016/test/1423-0127-1...   \n",
       "15  subfigure-classification/2016/test/1423-0127-1...   \n",
       "16  subfigure-classification/2016/test/1423-0127-1...   \n",
       "17  subfigure-classification/2016/test/1423-0127-1...   \n",
       "18  subfigure-classification/2016/test/1423-0127-1...   \n",
       "\n",
       "                                              CAPTION   SET  \n",
       "14  Confocal image of 5-HT 2A  receptors in the hi...  TEST  \n",
       "15  Confocal image of 5-HT 2A  receptors in the hi...  TEST  \n",
       "16  Confocal image of 5-HT 2A  receptors in the hi...  TEST  \n",
       "17  Confocal image of 5-HT 2A  receptors in the hi...  TEST  \n",
       "18  Confocal image of 5-HT 2A  receptors in the hi...  TEST  "
      ]
     },
     "execution_count": 345,
     "metadata": {},
     "output_type": "execute_result"
    }
   ],
   "source": [
    "df16_microscopy_test['SET'] = 'TEST'\n",
    "df16_microscopy_test.head()"
   ]
  },
  {
   "cell_type": "code",
   "execution_count": 265,
   "metadata": {
    "scrolled": false
   },
   "outputs": [
    {
     "name": "stderr",
     "output_type": "stream",
     "text": [
      "/usr/local/lib/python3.6/dist-packages/pandas/plotting/_matplotlib/core.py:1192: UserWarning: FixedFormatter should only be used together with FixedLocator\n",
      "  ax.set_xticklabels(xticklabels)\n"
     ]
    },
    {
     "data": {
      "text/plain": [
       "<AxesSubplot:xlabel='MODALITY'>"
      ]
     },
     "execution_count": 265,
     "metadata": {},
     "output_type": "execute_result"
    },
    {
     "data": {
      "image/png": "[encoded data removed]",
      "text/plain": [
       "<Figure size 432x288 with 1 Axes>"
      ]
     },
     "metadata": {
      "needs_background": "light"
     },
     "output_type": "display_data"
    }
   ],
   "source": [
    "train.groupby(['MODALITY']).count().plot()"
   ]
  },
  {
   "cell_type": "code",
   "execution_count": 266,
   "metadata": {
    "scrolled": false
   },
   "outputs": [
    {
     "name": "stderr",
     "output_type": "stream",
     "text": [
      "/usr/local/lib/python3.6/dist-packages/pandas/plotting/_matplotlib/core.py:1192: UserWarning: FixedFormatter should only be used together with FixedLocator\n",
      "  ax.set_xticklabels(xticklabels)\n"
     ]
    },
    {
     "data": {
      "text/plain": [
       "<AxesSubplot:xlabel='MODALITY'>"
      ]
     },
     "execution_count": 266,
     "metadata": {},
     "output_type": "execute_result"
    },
    {
     "data": {
      "image/png": "[encoded data removed]",
      "text/plain": [
       "<Figure size 432x288 with 1 Axes>"
      ]
     },
     "metadata": {
      "needs_background": "light"
     },
     "output_type": "display_data"
    }
   ],
   "source": [
    "val.groupby(['MODALITY']).count().plot()"
   ]
  },
  {
   "cell_type": "code",
   "execution_count": 346,
   "metadata": {},
   "outputs": [
    {
     "data": {
      "text/plain": [
       "(3203, 5)"
      ]
     },
     "execution_count": 346,
     "metadata": {},
     "output_type": "execute_result"
    }
   ],
   "source": [
    "df = pd.concat([df13_16_microscopy_train, df16_microscopy_test])\n",
    "df.shape"
   ]
  },
  {
   "cell_type": "code",
   "execution_count": 347,
   "metadata": {},
   "outputs": [],
   "source": [
    "df.to_csv(DATASET_PATH, sep='\\t')"
   ]
  },
  {
   "cell_type": "markdown",
   "metadata": {},
   "source": [
    "## Check some of the images"
   ]
  },
  {
   "cell_type": "code",
   "execution_count": 362,
   "metadata": {},
   "outputs": [
    {
     "name": "stdout",
     "output_type": "stream",
     "text": [
      "1471-2482-6-10-4.jpg\n",
      "Microscopic aspect of SFT (a) . Microscopic aspect of a solitary fibrous tumor: \"Patternless\" growth pattern with cellular (right half) and some myxoid (left half) areas, hemangiopericytoma-like wide blood vessels.\n"
     ]
    },
    {
     "data": {
      "image/png": "[encoded data removed]",
      "text/plain": [
       "<Figure size 432x288 with 1 Axes>"
      ]
     },
     "metadata": {
      "needs_background": "light"
     },
     "output_type": "display_data"
    }
   ],
   "source": [
    "import matplotlib.pyplot as plt\n",
    "import skimage.io as io\n",
    "\n",
    "idx = 99\n",
    "# idx = 100 belong to the same compound figure and has the caption split\n",
    "\n",
    "img_id = df13_microscopy_train.iloc[idx]['ID']\n",
    "caption = df13_microscopy_train.iloc[idx]['CAPTION']\n",
    "image_path = BASE_PATH / df13_microscopy_train.iloc[idx]['PATH']\n",
    "\n",
    "print(img_id)\n",
    "print(caption)\n",
    "img = io.imread(image_path)\n",
    "plt.imshow(img);"
   ]
  },
  {
   "cell_type": "code",
   "execution_count": 363,
   "metadata": {},
   "outputs": [
    {
     "name": "stdout",
     "output_type": "stream",
     "text": [
      "1423-0127-16-7-1-1.jpg\n",
      "Scanning electron microscope images of the TiO 2  nanoparticles . (A) C150, (B) C200, (C) EDS elemental spectrum of C200, (D)  S. aureus  and UV100, (E)  S. aureus  and C150, and (F)  S. aureus  and C200. Scale bars: 100 nm.\n"
     ]
    },
    {
     "data": {
      "image/png": "[encoded data removed]",
      "text/plain": [
       "<Figure size 432x288 with 1 Axes>"
      ]
     },
     "metadata": {
      "needs_background": "light"
     },
     "output_type": "display_data"
    }
   ],
   "source": [
    "idx = 0\n",
    "\n",
    "img_id = df16_microscopy_train.iloc[idx]['ID']\n",
    "caption = df16_microscopy_train.iloc[idx]['CAPTION']\n",
    "image_path = BASE_PATH / df16_microscopy_train.iloc[idx]['PATH']\n",
    "\n",
    "print(img_id)\n",
    "print(caption)\n",
    "img = io.imread(image_path)\n",
    "plt.imshow(img);"
   ]
  },
  {
   "cell_type": "markdown",
   "metadata": {},
   "source": [
    "## Captions Length"
   ]
  },
  {
   "cell_type": "code",
   "execution_count": 365,
   "metadata": {
    "scrolled": true
   },
   "outputs": [
    {
     "name": "stderr",
     "output_type": "stream",
     "text": [
      "/usr/local/lib/python3.6/dist-packages/ipykernel_launcher.py:1: SettingWithCopyWarning: \n",
      "A value is trying to be set on a copy of a slice from a DataFrame.\n",
      "Try using .loc[row_indexer,col_indexer] = value instead\n",
      "\n",
      "See the caveats in the documentation: https://pandas.pydata.org/pandas-docs/stable/user_guide/indexing.html#returning-a-view-versus-a-copy\n",
      "  \"\"\"Entry point for launching an IPython kernel.\n",
      "/usr/local/lib/python3.6/dist-packages/ipykernel_launcher.py:2: SettingWithCopyWarning: \n",
      "A value is trying to be set on a copy of a slice from a DataFrame.\n",
      "Try using .loc[row_indexer,col_indexer] = value instead\n",
      "\n",
      "See the caveats in the documentation: https://pandas.pydata.org/pandas-docs/stable/user_guide/indexing.html#returning-a-view-versus-a-copy\n",
      "  \n"
     ]
    }
   ],
   "source": [
    "df13_microscopy_train['L'] = df13_microscopy_train.apply(lambda x: len(x['CAPTION']), axis=1)\n",
    "df16_microscopy_train['L'] = df16_microscopy_train.apply(lambda x: len(x['CAPTION']), axis=1)"
   ]
  },
  {
   "cell_type": "code",
   "execution_count": 368,
   "metadata": {
    "scrolled": true
   },
   "outputs": [
    {
     "name": "stdout",
     "output_type": "stream",
     "text": [
      "181.98181818181817 28 1139\n",
      "791.1023696682464 21 2949\n"
     ]
    }
   ],
   "source": [
    "print(df13_microscopy_train['L'].mean(), df13_microscopy_train['L'].min(), df13_microscopy_train['L'].max())\n",
    "print(df16_microscopy_train['L'].mean(), df16_microscopy_train['L'].min(), df16_microscopy_train['L'].max())"
   ]
  },
  {
   "cell_type": "code",
   "execution_count": 369,
   "metadata": {
    "scrolled": true
   },
   "outputs": [
    {
     "data": {
      "text/plain": [
       "<AxesSubplot:>"
      ]
     },
     "execution_count": 369,
     "metadata": {},
     "output_type": "execute_result"
    },
    {
     "data": {
      "image/png": "[encoded data removed]",
      "text/plain": [
       "<Figure size 432x288 with 1 Axes>"
      ]
     },
     "metadata": {
      "needs_background": "light"
     },
     "output_type": "display_data"
    }
   ],
   "source": [
    "df13_microscopy_train['L'].hist();"
   ]
  },
  {
   "cell_type": "code",
   "execution_count": 370,
   "metadata": {},
   "outputs": [
    {
     "data": {
      "image/png": "[encoded data removed]",
      "text/plain": [
       "<Figure size 432x288 with 1 Axes>"
      ]
     },
     "metadata": {
      "needs_background": "light"
     },
     "output_type": "display_data"
    }
   ],
   "source": [
    "df16_microscopy_train['L'].hist();"
   ]
  },
  {
   "cell_type": "markdown",
   "metadata": {},
   "source": [
    "## Captions with spatial indicators"
   ]
  },
  {
   "cell_type": "markdown",
   "metadata": {},
   "source": [
    "Captions in compound figures can use the spatial position of the pane as a reference for the related text in the caption. In the example below (left), the top left image is referenced with the text **(A, top left)** but the image itself does not have an **A** label. As the given subfigure (image below, right) does not have any reference to the **A** label and we cannot guess the position in the original compound image, there is no way to relate just a part of the caption to it.\n",
    "\n",
    "It's worth noticing that for this particular image, the whole caption may indeed be relevant for any pane just because this is an homogeneous case. For instance, **3-D** is mentioned before any specific pane caption and within pane captions. \n",
    "\n",
    "*Image on the left taken from https://www.ncbi.nlm.nih.gov/pmc/articles/PMC1508147/*"
   ]
  },
  {
   "cell_type": "markdown",
   "metadata": {},
   "source": [
    "![10.1186/1472-6807-6-9 Figure 6](./samples/PMC1508147.png)"
   ]
  }
 ],
 "metadata": {
  "kernelspec": {
   "display_name": "Python 3",
   "language": "python",
   "name": "python3"
  },
  "language_info": {
   "codemirror_mode": {
    "name": "ipython",
    "version": 3
   },
   "file_extension": ".py",
   "mimetype": "text/x-python",
   "name": "python",
   "nbconvert_exporter": "python",
   "pygments_lexer": "ipython3",
   "version": "3.6.9"
  },
  "widgets": {
   "application/vnd.jupyter.widget-state+json": {
    "state": {},
    "version_major": 2,
    "version_minor": 0
   }
  }
 },
 "nbformat": 4,
 "nbformat_minor": 2
}
