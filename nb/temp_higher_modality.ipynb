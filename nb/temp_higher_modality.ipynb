{
 "cells": [
  {
   "cell_type": "code",
   "execution_count": 1,
   "metadata": {},
   "outputs": [],
   "source": [
    "import pandas as pd\n",
    "import os\n",
    "import matplotlib.pyplot as plt\n",
    "\n",
    "csv_clef16_train = '/workspace/data/subfigure-classification/2016/train.csv'\n",
    "csv_clef16_test = '/workspace/data/subfigure-classification/2016/test.csv'\n",
    "# csv_clef13_train = '/workspace/data/subfigure-classification/2013/train.csv'\n",
    "clef13_img_dir = '/workspace/data/subfigure-classification/2013/train'\n",
    "base_url = '/workspace/data/subfigure-classification'"
   ]
  },
  {
   "cell_type": "code",
   "execution_count": 2,
   "metadata": {},
   "outputs": [],
   "source": [
    "discard_train_clef16 = {\n",
    "  \"D3DR\": [\"1475-925X-10-30-14-4.jpg\", \"1746-160X-6-6-11-1.jpg\", \"1746-160X-6-6-11-2.jpg\", \"1746-160X-6-6-11-3.jpg\", \"1746-160X-6-6-11-4.jpg\", \"1746-160X-6-6-11-5.jpg\", \"1746-160X-6-6-19-1.jpg\", \"1746-160X-6-6-19-2.jpg\", \"1746-160X-6-6-19-3.jpg\", \"1746-160X-6-6-19-4.jpg\", \"1746-160X-6-6-19-5.jpg\", \"1746-160X-6-18-1-2.jpg\", \"1746-160X-6-18-1-4.jpg\", \"1746-160X-6-18-1-5.jpg\", \"1746-160X-6-18-1-6.jpg\", \"1749-8090-2-18-1-2.jpg\", \"1749-8090-6-125-2-2.jpg\", \"1752-1947-3-71-2-2.jpg\", \"1752-1947-4-25-2-1.jpg\", \"1757-1627-0002-0000007013-004-2.jpg\", \"1757-1627-0002-0000007013-007-2.jpg\", \"bcr914-2-2.jpg\"],\n",
    "  \"GCHE\": [\"1477-7827-7-9-1-2.jpg\"],\n",
    "  \"GFIG\": [\"1471-2121-8-40-5-2.jpg\", \"1471-2121-8-40-5-3.jpg\", \"1471-2121-8-40-5-4.jpg\", \"1471-2180-10-297-6-2.jpg\", \"1472-6947-11-54-8-5.jpg\", \"1532-429X-12-19-4-1.jpg\", \"1532-429X-12-19-4-2.jpg\", \"1532-429X-12-19-4-3.jpg\", \"1532-429X-12-19-4-4.jpg\", \"1532-429X-12-19-4-5.jpg\", \"1532-429X-12-19-4-6.jpg\", \"1532-429X-12-19-4-8.jpg\", \"1532-429X-12-19-4-9.jpg\", \"1741-7007-7-83-4-1.jpg\", \"1745-7580-6-11-3-3.jpg\", \"1748-7188-5-27-1-2.jpg\", \"1756-3305-2-12-10-2.jpg\", \"gb-2011-12-6-r56-3-2.jpg\", \"IJBI2010-631264.009-2.jpg\", \"IJBI2011-592924.005-4.jpg\", \"IJBI2011-592924.005-6.jpg\"],\n",
    "  \"GFLO\": [\"1755-8794-3-45-1-2.jpg\"],\n",
    "  \"GGEN\": [\"1471-2105-10-273-3-1.jpg\", \"1471-2121-11-60-6-3.jpg\"],\n",
    "}\n",
    "\n",
    "move_train_clef16 = {\n",
    "  \"GSCR\": {\n",
    "     \"1471-2105-10-S12-S12-8-1.jpg\": \"GFIG\",\n",
    "     \"1471-2105-10-S12-S12-8-2.jpg\": \"GFIG\",\n",
    "     \"1471-2105-10-S12-S12-8-3.jpg\": \"GFIG\",\n",
    "     \"1475-925X-3-3-5-1.jpg\": \"GFIG\",\n",
    "     \"1475-925X-3-3-5-2.jpg\": \"GFIG\",\n",
    "     \"1475-925X-3-3-5-3.jpg\": \"GFIG\"\n",
    "  },\n",
    "  \"GTAB\": {\n",
    "     \"1471-2369-12-13-2-1.jpg\": \"GFIG\"\n",
    "  }\n",
    "}\n",
    "\n",
    "discard_test_clef16 = {\n",
    "  \"D3DR\": [\"1532-429X-11-35-3-3.jpg\", \"1744-9081-5-41-1-1.jpg\", \"1744-9081-5-41-1-2.jpg\", \"1746-1340-15-15-5-1.jpg\", \"1746-1340-15-15-5-2.jpg\", \"1746-1340-15-15-5-3.jpg\", \"1746-1340-15-15-5-4.jpg\", \"1746-1340-15-15-5-5.jpg\", \"1746-1340-15-15-5-6.jpg\", \"1746-1340-15-15-5-7.jpg\", \"1746-1340-15-15-5-8.jpg\", \"1746-1340-15-15-5-9.jpg\", \"1746-1340-15-15-5-10.jpg\", \"1749-8090-6-40-2-3.jpg\", \"1749-8090-6-40-2-4.jpg\", \"1757-1146-1-S1-O43-1-1.jpg\", \"1757-1146-1-S1-O43-1-2.jpg\", \"IJBI2010-535329.009-1.jpg\", \"IJBI2010-535329.009-2.jpg\"],\n",
    "  \"DRXR\": [\"1475-925X-9-73-2-1.jpg\", \"1475-925X-9-73-2-2.jpg\", \"1475-925X-9-73-2-3.jpg\", \"1475-925X-9-73-2-4.jpg\", \"1475-925X-9-73-2-5.jpg\", \"1475-925X-9-73-2-6.jpg\"],\n",
    "  \"GFIG\": [\"1471-2202-12-94-3-4.jpg\"],\n",
    "  \"GMAT\": [\"1477-3155-9-13-9-3.jpg\"],\n",
    "  \"GFLO\": [\"1751-0759-2-19-1-5.jpg\", \"1751-0759-2-19-1-6.jpg\", \"1751-0759-2-19-1-7.jpg\", \"1751-0759-2-19-1-9.jpg\"], # these ones also appeared on system overview    \n",
    "}\n",
    "\n",
    "move_test_clef16 = {\n",
    "  \"GSCR\": [\"1471-2377-6-36-4-4.jpg\"],    \n",
    "}\n",
    "\n",
    "discard_train_clef13 = {\n",
    "  \"D3DR\": ['1471-2105-11-20-9.jpg', '1471-2105-7-316-3.jpg', '1471-2105-8-389-7.jpg', '1471-213X-8-83-2.jpg', '1471-2202-8-45-6.jpg', '1471-2342-10-5-2.jpg', '1471-2342-7-4-5.jpg', '1471-2407-10-62-2.jpg', '1471-2474-10-96-2.jpg', '1471-2474-10-96-3.jpg', '1471-5945-1-9-6.jpg', '1475-925X-5-39-3.jpg', '1475-925X-6-48-8.jpg', '1476-7120-8-4-5.jpg', '1477-7819-9-71-2.jpg', '1477-7819-9-71-3.jpg', '1746-160X-5-8-3.jpg', '1746-160X-5-8-4.jpg', '1746-160X-6-16-5.jpg', '1748-7161-4-1-2.jpg', '1748-717X-1-27-1.jpg', '1749-7922-4-26-2.jpg', '1749-7922-4-6-2.jpg', '1749-799X-5-50-2.jpg', '1749-799X-5-50-8.jpg', '1749-799X-5-77-4.jpg', '1749-8090-1-9-3.jpg', '1749-8090-2-27-2.jpg', '1749-8090-5-28-3.jpg', '1749-8090-5-35-3.jpg', '1749-8090-5-96-2.jpg', '1749-8090-6-134-1.jpg', '1750-1172-2-2-4.jpg', '1750-1172-2-2-6.jpg', '1752-1947-2-41-1.jpg', '1752-1947-2-41-3.jpg', '1757-1626-2-9359-4.jpg', '1758-2555-1-28-2.jpg', '1758-2555-3-8-3.jpg', '1758-2555-3-8-4.jpg', 'IJBI2007-90216.005.jpg', 'IJBI2010-429051.012.jpg'],\n",
    "  \"GFIG\": ['1476-069X-4-19-6.jpg'], # are we considering maps?\n",
    "  \"GTAB\": ['1471-2164-9-119-10.jpg']   \n",
    "}\n",
    "\n",
    "modality2highlevel = {\n",
    "    'D3DR': 'MOLECULAR',  # not all 3D images are from molecules\n",
    "    'DMEL': 'MICROSCOPY',\n",
    "    'DMFL': 'MICROSCOPY',\n",
    "    'DMLI': 'MICROSCOPY',\n",
    "    'DMTR': 'MICROSCOPY',\n",
    "    'DRAN': 'ORGANISMS',\n",
    "    'DRCO': 'REMOVE',     # Combined modalities in one image, radiology?\n",
    "    'DRCT': 'ORGANISMS',\n",
    "    'DRMR': 'ORGANISMS',\n",
    "    'DRPE': 'ORGANISMS',\n",
    "    'DRUS': 'ORGANISMS',\n",
    "    'DRXR': 'ORGANISMS',\n",
    "    'DSEC': 'GRAPHICS',  # Printed signals and waves\n",
    "    'DSEE': 'GRAPHICS',\n",
    "    'DSEM': 'GRAPHICS',  # Less than 6 samples\n",
    "    'DVDM': 'ORGANISMS', # ignore?\n",
    "    'DVEN': 'ORGANISMS', # ignore?\n",
    "    'DVOR': 'ORGANISMS', # ignore?\n",
    "    'GCHE': 'MOLECULAR', \n",
    "    'GFIG': 'GRAPHICS',\n",
    "    'GFLO': 'GRAPHICS',\n",
    "    'GGEL': 'EXPERIMENTAL',\n",
    "    'GGEN': 'MOLECULAR',\n",
    "    'GHDR': 'REMOVE', #ignore\n",
    "    'GMAT': 'REMOVE',\n",
    "    'GNCP': 'OTHER', #ignore?\n",
    "    'GPLI': 'OTHER', # There is only one sample\n",
    "    'GSCR': 'OTHER',\n",
    "    'GSYS': 'OTHER', #or ignore\n",
    "    'GTAB': 'OTHER',\n",
    "}\n",
    "\n",
    "rename_4_captions_2016 = {\n",
    "    \"train\": {\n",
    "        \"DRP2011-927852-001-2.jpg\": \"DRP2011-927852.001-2.jpg\",         \n",
    "    },\n",
    "    \"test\": {\n",
    "        \"IJBI2010-308627-003-8.jpg\": \"IJBI2010-308627.003-8.jpg\",\n",
    "    }    \n",
    "}\n",
    "\n",
    "rename_2_match_file_path = {\n",
    "    # because typo on img name\n",
    "    \"IJBI2010-308627.003-8.jpg\": \"IJBI2010-308627-003-8.jpg\",\n",
    "    \"1471-2105-6-S2-S11-7-1.jpg\": \"1471-2105-6-S2-S11-7_1.jpg\",\n",
    "    \"1471-2105-6-S2-S11-7-2.jpg\": \"1471-2105-6-S2-S11-7_2.jpg\",\n",
    "    \"1471-2105-6-S2-S11-7-3.jpg\": \"1471-2105-6-S2-S11-7_3.jpg\",\n",
    "    \"1471-2105-6-S2-S11-7-4.jpg\": \"1471-2105-6-S2-S11-7_4.jpg\",\n",
    "    \"1471-2105-6-S2-S11-7-5.jpg\": \"1471-2105-6-S2-S11-7_5.jpg\",\n",
    "    \"1471-2105-6-S2-S11-7-6.jpg\": \"1471-2105-6-S2-S11-7_6.jpg\",\n",
    "    \"1471-2105-6-S2-S11-7-7.jpg\": \"1471-2105-6-S2-S11-7_7.jpg\",\n",
    "    \"1471-2105-6-S2-S11-7-8.jpg\": \"1471-2105-6-S2-S11-7_8.jpg\",\n",
    "    \"1471-2105-6-S2-S11-7-9.jpg\": \"1471-2105-6-S2-S11-7_9.jpg\",\n",
    "    \"1471-2105-6-S2-S11-7-10.jpg\": \"1471-2105-6-S2-S11-7_10.jpg\",\n",
    "    \"IJBI2010-535329.015-1.jpg\": \"IJBI2010-535329-1.015.jpg\",\n",
    "    \"IJBI2010-535329.015-2.jpg\": \"IJBI2010-535329-2.015.jpg\",\n",
    "    \"IJBI2010-535329.015-3.jpg\": \"IJBI2010-535329-3.015.jpg\",\n",
    "    \"IJBI2010-535329.015-4.jpg\": \"IJBI2010-535329-4.015.jpg\",\n",
    "    \"IJBI2010-535329.015-5.jpg\": \"IJBI2010-535329-5.015.jpg\",\n",
    "}\n",
    "\n",
    "# i don't want to change the name here as the format for the last \n",
    "# 5 goes against pattern\n",
    "rename_2_match_file_name = {\n",
    "    \"IJBI2010-308627.003-8.jpg\": \"IJBI2010-308627-003-8.jpg\",\n",
    "    \"1471-2105-6-S2-S11-7-1.jpg\": \"1471-2105-6-S2-S11-7_1.jpg\",\n",
    "    \"1471-2105-6-S2-S11-7-2.jpg\": \"1471-2105-6-S2-S11-7_2.jpg\",\n",
    "    \"1471-2105-6-S2-S11-7-3.jpg\": \"1471-2105-6-S2-S11-7_3.jpg\",\n",
    "    \"1471-2105-6-S2-S11-7-4.jpg\": \"1471-2105-6-S2-S11-7_4.jpg\",\n",
    "    \"1471-2105-6-S2-S11-7-5.jpg\": \"1471-2105-6-S2-S11-7_5.jpg\",\n",
    "    \"1471-2105-6-S2-S11-7-6.jpg\": \"1471-2105-6-S2-S11-7_6.jpg\",\n",
    "    \"1471-2105-6-S2-S11-7-7.jpg\": \"1471-2105-6-S2-S11-7_7.jpg\",\n",
    "    \"1471-2105-6-S2-S11-7-8.jpg\": \"1471-2105-6-S2-S11-7_8.jpg\",\n",
    "    \"1471-2105-6-S2-S11-7-9.jpg\": \"1471-2105-6-S2-S11-7_9.jpg\",\n",
    "    \"1471-2105-6-S2-S11-7-10.jpg\": \"1471-2105-6-S2-S11-7_10.jpg\",    \n",
    "}"
   ]
  },
  {
   "cell_type": "code",
   "execution_count": 3,
   "metadata": {},
   "outputs": [],
   "source": [
    "def get_check_location(x, col, base_url):\n",
    "    ''' \n",
    "        Verify that image exists, if not mark the \n",
    "        row to be removed.\n",
    "    '''\n",
    "    image_path = os.path.join(base_url, x.img_path)\n",
    "    if not os.path.exists(image_path):\n",
    "        print(image_path)\n",
    "        return 'REMOVE'\n",
    "    else: return x[col]\n",
    "    \n",
    "def create_clef13_df(clef13_img_dir):    \n",
    "    modalities = [x for x in os.listdir(clef13_img_dir) if os.path.isdir(os.path.join(clef13_img_dir, x))]\n",
    "    modalities.remove('COMP')\n",
    "\n",
    "    img_name_l  = []\n",
    "    img_label_l = []\n",
    "\n",
    "    for modality in modalities:\n",
    "        imgs_path = os.path.join(clef13_img_dir, modality)\n",
    "        img_names = [x for x in os.listdir(imgs_path) if x[-4:] == '.jpg']\n",
    "        labels = [modality] * len(img_names)\n",
    "        img_name_l  += img_names\n",
    "        img_label_l += labels\n",
    "\n",
    "    df = pd.DataFrame(list(zip(img_name_l, img_label_l)), columns =['img', 'modality'])\n",
    "    df.loc[:, 'set'] = 'TRAIN'\n",
    "    df.loc[:, 'source'] = 'clef13'\n",
    "    df.loc[:, 'img_path'] = df.apply(lambda x: \"2013/train/{0}/{1}\".format(x.modality, x.img), axis=1)\n",
    "    return df\n",
    "\n",
    "def mark_removed_imgs(df, remove_dict):\n",
    "    affected_modalities = remove_dict.keys()\n",
    "    for aff_mod in affected_modalities:\n",
    "        aff_imgs = [x for x in remove_dict[aff_mod]]\n",
    "        for img in aff_imgs:\n",
    "            df.loc[df['img'] == img, ['modality']] = 'REMOVE'\n",
    "            \n",
    "def update_moved_imgs(df, move_dict):\n",
    "    affected_modalities = move_dict.keys()\n",
    "    \n",
    "    for aff_mod in affected_modalities:\n",
    "        aff_images = move_dict[aff_mod].keys()\n",
    "        for img in aff_images:\n",
    "            df.loc[df['img']==img, ['modality']] = move_dict[aff_mod][img]   \n",
    "            \n",
    "def map_modality2higher(x):\n",
    "    if x == 'REMOVE': return 'REMOVE'\n",
    "    else: return modality2highlevel[x]\n",
    "    \n",
    "def rename_2_match_captions(x):\n",
    "    if x.source == 'clef16':\n",
    "        rename_d = rename_4_captions_2016['train'] if x.set == 'TRAIN' else rename_4_captions_2016['test']\n",
    "        if x.img in rename_d:\n",
    "            return rename_d[x.img]\n",
    "        else: return x.img\n",
    "    return x.img\n",
    "\n",
    "def rename_2_match_storage(x, col):\n",
    "    rename_dict = rename_2_match_file_name if col == \"img\" else rename_2_match_file_path\n",
    "    \n",
    "    # fix some typos on image names\n",
    "    if x.img in rename_dict:\n",
    "        if col == \"img\":\n",
    "            return rename_dict[x.img]\n",
    "        else: # change storage ref            \n",
    "            p = x.img_path.split(\"/\")\n",
    "            p[-1] = rename_dict[x.img]\n",
    "            return '/'.join(p)\n",
    "    else:\n",
    "        return x.img if col == \"img\" else x.img_path"
   ]
  },
  {
   "cell_type": "code",
   "execution_count": 4,
   "metadata": {
    "scrolled": true
   },
   "outputs": [
    {
     "data": {
      "image/png": "[encoded data removed]",
      "text/plain": [
       "<Figure size 432x288 with 1 Axes>"
      ]
     },
     "metadata": {
      "needs_background": "light"
     },
     "output_type": "display_data"
    }
   ],
   "source": [
    "# load clef16 train\n",
    "df_clef16_train = pd.read_csv(csv_clef16_train, header=None)\n",
    "df_clef16_train.columns = ['img', 'modality']\n",
    "df_clef16_train.loc[:,'img'] = df_clef16_train.apply(lambda x: f\"{x['img']}.jpg\", axis=1)\n",
    "df_clef16_train.loc[:, 'set'] = 'TRAIN'\n",
    "df_clef16_train.loc[:, 'source'] = 'clef16'\n",
    "df_clef16_train.loc[:, 'img_path'] = df_clef16_train.apply(lambda x: \"2016/train/{0}/{1}\".format(x.modality, x.img), axis=1)\n",
    "\n",
    "# load clef16 test\n",
    "df_clef16_test = pd.read_csv(csv_clef16_test, header=None, sep=\" \")\n",
    "df_clef16_test.columns = ['img', 'modality']\n",
    "df_clef16_test.loc[:,'img'] = df_clef16_test.apply(lambda x: f\"{x['img']}.jpg\", axis=1)\n",
    "df_clef16_test.loc[:, 'set'] = 'TEST'\n",
    "df_clef16_test.loc[:, 'source'] = 'clef16'\n",
    "df_clef16_test.loc[:, 'img_path'] = df_clef16_test.apply(lambda x: \"2016/test/{0}\".format(x.img), axis=1)\n",
    "\n",
    "# load clef13 train\n",
    "df_clef13_train = create_clef13_df(clef13_img_dir)\n",
    "\n",
    "mark_removed_imgs(df_clef13_train, discard_train_clef13)\n",
    "mark_removed_imgs(df_clef16_train, discard_train_clef16)\n",
    "update_moved_imgs(df_clef16_train, move_train_clef16)\n",
    "\n",
    "# create join dataframe\n",
    "df = pd.concat([df_clef16_train, df_clef16_test, df_clef13_train]).reset_index(drop=True)\n",
    "# solve path issues\n",
    "df.loc[:, 'img_path'] = df.apply(lambda x: rename_2_match_storage(x, 'img_path'), axis=1)\n",
    "df.loc[:, 'img'] = df.apply(lambda x: rename_2_match_storage(x, 'img'), axis=1)\n",
    "# map labels to higher modality\n",
    "df.loc[:, 'higher_modality'] = df.apply(lambda x: map_modality2higher(x.modality), axis=1)\n",
    "# clean missing images\n",
    "df.loc[:, 'modality'] = df.apply(lambda x: get_check_location(x, 'modality', base_url), axis=1)\n",
    "df.loc[:, 'higher_modality'] = df.apply(lambda x: get_check_location(x, 'higher_modality', base_url), axis=1)\n",
    "\n",
    "df.higher_modality.hist(bins=7)\n",
    "plt.xticks(rotation='vertical');"
   ]
  },
  {
   "cell_type": "code",
   "execution_count": 5,
   "metadata": {},
   "outputs": [
    {
     "data": {
      "text/plain": [
       "(12286, 6)"
      ]
     },
     "execution_count": 5,
     "metadata": {},
     "output_type": "execute_result"
    }
   ],
   "source": [
    "df = df[df['higher_modality'] != 'REMOVE']\n",
    "df.shape"
   ]
  },
  {
   "cell_type": "code",
   "execution_count": 6,
   "metadata": {},
   "outputs": [],
   "source": [
    "def get_compound_root(img_id):\n",
    "    # Obtain the part of the image name without subfigure labeling\n",
    "    p = re.compile('([-|_]|[.])[0-9]*.(jpg)$')\n",
    "    match = p.search(img_id)\n",
    "    m_start, m_end = match.span()\n",
    "    return img_id[:m_start]\n",
    "\n",
    "def create_captions_dict(csv_file):\n",
    "    # create a captions dictionary for a convenient matching\n",
    "    # works for the FIGURE DETECTION file but this files is incomplete\n",
    "    captions_dict = {}\n",
    "    with open(csv_file, encoding='ISO-8859-1') as csvfile:\n",
    "        reader = csv.reader(csvfile, delimiter='\\t')\n",
    "        for row in reader:\n",
    "            captions_dict[row[0]] = row[1]\n",
    "    return captions_dict\n",
    "\n",
    "def create_caption_dictionary(csv_file):\n",
    "    # works with the COMPOUND FIGURE DETECTION file\n",
    "    captions = {}\n",
    "    with open(csv_file, encoding='ISO-8859-1') as csvfile:\n",
    "        reader = csv.reader(csvfile, delimiter='\\t')\n",
    "        for row in reader:\n",
    "            # the original file has some empty lines\n",
    "            if len(row) != 0:\n",
    "                # lines using tab separators\n",
    "                if len(row) == 1:\n",
    "                    sp = row[0].split('\\t')\n",
    "                    if len(sp) == 2:\n",
    "                        # remove the ,,,,,,,, sequences\n",
    "                        captions[sp[0]] = sp[1].replace(',,', '').replace(\"\\xa0\", \"\")\n",
    "                    else:\n",
    "                        # there is at least one case there the id is not present\n",
    "                        # so the line has only one value\n",
    "                        captions[sp[0]] = ''\n",
    "                elif len(row) == 2:\n",
    "                    captions[row[0]] = row[1]\n",
    "    return captions"
   ]
  },
  {
   "cell_type": "code",
   "execution_count": 7,
   "metadata": {},
   "outputs": [],
   "source": [
    "import csv\n",
    "from pathlib import Path\n",
    "\n",
    "BASE_PATH = Path('/workspace/data')\n",
    "CAPTIONS16_TRAIN = BASE_PATH / 'compound-figure-detection' / '2016' / 'captions-train.csv' #CompoundFigureDetectionTraining2016-Captions.csv \n",
    "# CAPTIONS16_TEST  = BASE_PATH / 'figure-separation' / '2016' / 'captions-test.csv'\n",
    "CAPTIONS16_TEST  = BASE_PATH / 'compound-figure-detection' / '2016' / 'captions-test.csv'\n",
    "\n",
    "captions16_train = create_caption_dictionary(CAPTIONS16_TRAIN)\n",
    "captions16_test  = create_caption_dictionary(CAPTIONS16_TEST)"
   ]
  },
  {
   "cell_type": "code",
   "execution_count": 8,
   "metadata": {},
   "outputs": [],
   "source": [
    "import re\n",
    "\n",
    "def get_caption(x):\n",
    "    img_id = x.img[:-4] if x.source == 'clef13' else get_compound_root(x.img)\n",
    "    captions_d = captions16_train if x.set == 'TRAIN' else captions16_test\n",
    "    try:\n",
    "        return captions_d[img_id]\n",
    "    except KeyError:\n",
    "        return \"None\"\n",
    "        print(f\"{x.img}, {img_id}, {x.source}, {x.set}\")"
   ]
  },
  {
   "cell_type": "code",
   "execution_count": 9,
   "metadata": {},
   "outputs": [],
   "source": [
    "df.loc[:, 'img'] = df.apply(lambda x: rename_2_match_captions(x), axis=1)"
   ]
  },
  {
   "cell_type": "code",
   "execution_count": 10,
   "metadata": {},
   "outputs": [],
   "source": [
    "df.loc[:, 'caption'] = df.apply(lambda x: get_caption(x), axis=1)"
   ]
  },
  {
   "cell_type": "code",
   "execution_count": null,
   "metadata": {},
   "outputs": [],
   "source": []
  },
  {
   "cell_type": "code",
   "execution_count": 12,
   "metadata": {},
   "outputs": [],
   "source": [
    "output_path = '/workspace/data/higher_modality.csv'\n",
    "df.to_csv(output_path, sep='\\t', header=None)"
   ]
  },
  {
   "cell_type": "code",
   "execution_count": 11,
   "metadata": {},
   "outputs": [
    {
     "data": {
      "text/html": [
       "<div>\n",
       "<style scoped>\n",
       "    .dataframe tbody tr th:only-of-type {\n",
       "        vertical-align: middle;\n",
       "    }\n",
       "\n",
       "    .dataframe tbody tr th {\n",
       "        vertical-align: top;\n",
       "    }\n",
       "\n",
       "    .dataframe thead th {\n",
       "        text-align: right;\n",
       "    }\n",
       "</style>\n",
       "<table border=\"1\" class=\"dataframe\">\n",
       "  <thead>\n",
       "    <tr style=\"text-align: right;\">\n",
       "      <th></th>\n",
       "      <th>img</th>\n",
       "      <th>modality</th>\n",
       "      <th>set</th>\n",
       "      <th>source</th>\n",
       "      <th>img_path</th>\n",
       "      <th>higher_modality</th>\n",
       "      <th>caption</th>\n",
       "    </tr>\n",
       "  </thead>\n",
       "  <tbody>\n",
       "    <tr>\n",
       "      <th>11575</th>\n",
       "      <td>1471-2474-3-5-2.jpg</td>\n",
       "      <td>DRXR</td>\n",
       "      <td>TRAIN</td>\n",
       "      <td>clef13</td>\n",
       "      <td>2013/train/DRXR/1471-2474-3-5-2.jpg</td>\n",
       "      <td>ORGANISMS</td>\n",
       "      <td>None</td>\n",
       "    </tr>\n",
       "    <tr>\n",
       "      <th>11576</th>\n",
       "      <td>1471-2474-3-5-5.jpg</td>\n",
       "      <td>DRXR</td>\n",
       "      <td>TRAIN</td>\n",
       "      <td>clef13</td>\n",
       "      <td>2013/train/DRXR/1471-2474-3-5-5.jpg</td>\n",
       "      <td>ORGANISMS</td>\n",
       "      <td>None</td>\n",
       "    </tr>\n",
       "    <tr>\n",
       "      <th>12716</th>\n",
       "      <td>cc8332-1.jpg</td>\n",
       "      <td>GTAB</td>\n",
       "      <td>TRAIN</td>\n",
       "      <td>clef13</td>\n",
       "      <td>2013/train/GTAB/cc8332-1.jpg</td>\n",
       "      <td>OTHER</td>\n",
       "      <td>None</td>\n",
       "    </tr>\n",
       "  </tbody>\n",
       "</table>\n",
       "</div>"
      ],
      "text/plain": [
       "                       img modality    set  source  \\\n",
       "11575  1471-2474-3-5-2.jpg     DRXR  TRAIN  clef13   \n",
       "11576  1471-2474-3-5-5.jpg     DRXR  TRAIN  clef13   \n",
       "12716         cc8332-1.jpg     GTAB  TRAIN  clef13   \n",
       "\n",
       "                                  img_path higher_modality caption  \n",
       "11575  2013/train/DRXR/1471-2474-3-5-2.jpg       ORGANISMS    None  \n",
       "11576  2013/train/DRXR/1471-2474-3-5-5.jpg       ORGANISMS    None  \n",
       "12716         2013/train/GTAB/cc8332-1.jpg           OTHER    None  "
      ]
     },
     "execution_count": 11,
     "metadata": {},
     "output_type": "execute_result"
    }
   ],
   "source": [
    "df[df.caption =='None']"
   ]
  },
  {
   "cell_type": "code",
   "execution_count": 74,
   "metadata": {},
   "outputs": [],
   "source": [
    "from sklearn.model_selection import train_test_split\n",
    "df_train = df[df.set == 'TRAIN']\n",
    "X = df_train.img.values\n",
    "#X = np.random.randn(y.shape[0], 2)"
   ]
  },
  {
   "cell_type": "code",
   "execution_count": 75,
   "metadata": {},
   "outputs": [],
   "source": [
    "from sklearn.preprocessing import LabelEncoder\n",
    "\n",
    "random_state = 443\n",
    "\n",
    "y = df_train.higher_modality.values\n",
    "le = LabelEncoder()\n",
    "le.fit(y)\n",
    "y_ = le.transform(y)\n",
    "\n",
    "X_train, X_test, y_train, y_test = train_test_split(X, y_, test_size=0.2, random_state=random_state, stratify=y_)"
   ]
  },
  {
   "cell_type": "code",
   "execution_count": 76,
   "metadata": {},
   "outputs": [
    {
     "data": {
      "text/plain": [
       "array(['1471-2164-11-S1-S6-4-2.jpg', '1755-8794-2-47-4-9.jpg',\n",
       "       '1471-2202-6-36-5-3.jpg', ..., '1746-6148-7-42-1-6.jpg',\n",
       "       '1472-6882-10-78-1-3.jpg', '1477-7819-6-130-3-2.jpg'], dtype=object)"
      ]
     },
     "execution_count": 76,
     "metadata": {},
     "output_type": "execute_result"
    }
   ],
   "source": [
    "X_train"
   ]
  },
  {
   "cell_type": "code",
   "execution_count": 79,
   "metadata": {},
   "outputs": [],
   "source": [
    "def get_split_set(x, set_name):\n",
    "    if set_name == 'TEST': return 'TEST'\n",
    "    if x in X_train:\n",
    "        return 'TRAIN'\n",
    "    else: return 'VAL'\n",
    "    \n",
    "df.loc[:, 'split_set'] = df.apply(lambda x: get_split_set(x.img, x.set), axis=1)"
   ]
  },
  {
   "cell_type": "code",
   "execution_count": 81,
   "metadata": {},
   "outputs": [
    {
     "data": {
      "text/html": [
       "<div>\n",
       "<style scoped>\n",
       "    .dataframe tbody tr th:only-of-type {\n",
       "        vertical-align: middle;\n",
       "    }\n",
       "\n",
       "    .dataframe tbody tr th {\n",
       "        vertical-align: top;\n",
       "    }\n",
       "\n",
       "    .dataframe thead th {\n",
       "        text-align: right;\n",
       "    }\n",
       "</style>\n",
       "<table border=\"1\" class=\"dataframe\">\n",
       "  <thead>\n",
       "    <tr style=\"text-align: right;\">\n",
       "      <th></th>\n",
       "      <th>img</th>\n",
       "      <th>modality</th>\n",
       "      <th>set</th>\n",
       "      <th>source</th>\n",
       "      <th>img_path</th>\n",
       "      <th>higher_modality</th>\n",
       "      <th>caption</th>\n",
       "    </tr>\n",
       "    <tr>\n",
       "      <th>split_set</th>\n",
       "      <th></th>\n",
       "      <th></th>\n",
       "      <th></th>\n",
       "      <th></th>\n",
       "      <th></th>\n",
       "      <th></th>\n",
       "      <th></th>\n",
       "    </tr>\n",
       "  </thead>\n",
       "  <tbody>\n",
       "    <tr>\n",
       "      <th>TEST</th>\n",
       "      <td>4097</td>\n",
       "      <td>4097</td>\n",
       "      <td>4097</td>\n",
       "      <td>4097</td>\n",
       "      <td>4097</td>\n",
       "      <td>4097</td>\n",
       "      <td>4097</td>\n",
       "    </tr>\n",
       "    <tr>\n",
       "      <th>TRAIN</th>\n",
       "      <td>6551</td>\n",
       "      <td>6551</td>\n",
       "      <td>6551</td>\n",
       "      <td>6551</td>\n",
       "      <td>6551</td>\n",
       "      <td>6551</td>\n",
       "      <td>6551</td>\n",
       "    </tr>\n",
       "    <tr>\n",
       "      <th>VAL</th>\n",
       "      <td>1638</td>\n",
       "      <td>1638</td>\n",
       "      <td>1638</td>\n",
       "      <td>1638</td>\n",
       "      <td>1638</td>\n",
       "      <td>1638</td>\n",
       "      <td>1638</td>\n",
       "    </tr>\n",
       "  </tbody>\n",
       "</table>\n",
       "</div>"
      ],
      "text/plain": [
       "            img  modality   set  source  img_path  higher_modality  caption\n",
       "split_set                                                                  \n",
       "TEST       4097      4097  4097    4097      4097             4097     4097\n",
       "TRAIN      6551      6551  6551    6551      6551             6551     6551\n",
       "VAL        1638      1638  1638    1638      1638             1638     1638"
      ]
     },
     "execution_count": 81,
     "metadata": {},
     "output_type": "execute_result"
    }
   ],
   "source": [
    "df.groupby('split_set').count()"
   ]
  },
  {
   "cell_type": "code",
   "execution_count": 82,
   "metadata": {},
   "outputs": [
    {
     "data": {
      "text/plain": [
       "((6551,), (1638,))"
      ]
     },
     "execution_count": 82,
     "metadata": {},
     "output_type": "execute_result"
    }
   ],
   "source": [
    "X_train.shape, X_test.shape"
   ]
  },
  {
   "cell_type": "code",
   "execution_count": 84,
   "metadata": {},
   "outputs": [],
   "source": [
    "output_path = '/workspace/data/higher_modality.csv'\n",
    "df.to_csv(output_path, sep='\\t', index=False)"
   ]
  },
  {
   "cell_type": "code",
   "execution_count": null,
   "metadata": {},
   "outputs": [],
   "source": []
  }
 ],
 "metadata": {
  "kernelspec": {
   "display_name": "Python 3",
   "language": "python",
   "name": "python3"
  },
  "language_info": {
   "codemirror_mode": {
    "name": "ipython",
    "version": 3
   },
   "file_extension": ".py",
   "mimetype": "text/x-python",
   "name": "python",
   "nbconvert_exporter": "python",
   "pygments_lexer": "ipython3",
   "version": "3.6.9"
  }
 },
 "nbformat": 4,
 "nbformat_minor": 4
}
