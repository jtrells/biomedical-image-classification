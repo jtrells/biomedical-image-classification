{
 "cells": [
  {
   "cell_type": "code",
   "execution_count": 1,
   "metadata": {},
   "outputs": [],
   "source": [
    "import os\n",
    "import sys\n",
    "module_path = \"../src\"\n",
    "#os.environ[\"WANDB_SILENT\"] = \"true\" # Environment Variable to make wandb silent\n",
    "if module_path not in sys.path:\n",
    "    sys.path.append(module_path)\n",
    "# 1. General Libraries\n",
    "import pandas as pd\n",
    "import numpy as np\n",
    "from pathlib import Path\n",
    "import yaml\n",
    "import seaborn as sns\n",
    "import matplotlib.pyplot as plt\n",
    "plt.style.use('ggplot')\n",
    "# 2. DataModule & Class Libraries\n",
    "from utils.label_encoder import label_encoder_target\n",
    "from utils.calc_stat import calc_dataset_mean_std\n",
    "from utils.FeatureExtractor import get_vector_representation,prepare_projection\n",
    "from dataset.ImageDataModule import ImageDataModule\n",
    "from dataset.ImageDataset import ImageDataset\n",
    "from models.EfficientNetClass import EfficientNetClass\n",
    "from models.ResNetClass import ResNetClass\n",
    "# 3. Pytorch & Pytorch Lightning Libraries\n",
    "from pytorch_lightning import Trainer,seed_everything\n",
    "from pytorch_lightning.callbacks import LearningRateMonitor\n",
    "from pytorch_lightning.callbacks.early_stopping import EarlyStopping\n",
    "from pytorch_lightning.loggers import WandbLogger\n",
    "import torch\n",
    "# 4. Wandb Tracker Experiements\n",
    "import wandb"
   ]
  },
  {
   "cell_type": "code",
   "execution_count": 2,
   "metadata": {},
   "outputs": [],
   "source": [
    "DATA_PATH = '../data/molecular_dataset.csv'\n",
    "BASE_PATH = Path('/mnt')\n",
    "BASE_IMG_DIR = BASE_PATH\n",
    "SEED = 42\n",
    "model_path = '/mnt/artifacts/models/Molecular/molecular_v1.pt'"
   ]
  },
  {
   "cell_type": "code",
   "execution_count": 3,
   "metadata": {},
   "outputs": [
    {
     "data": {
      "text/html": [
       "<div>\n",
       "<style scoped>\n",
       "    .dataframe tbody tr th:only-of-type {\n",
       "        vertical-align: middle;\n",
       "    }\n",
       "\n",
       "    .dataframe tbody tr th {\n",
       "        vertical-align: top;\n",
       "    }\n",
       "\n",
       "    .dataframe thead th {\n",
       "        text-align: right;\n",
       "    }\n",
       "</style>\n",
       "<table border=\"1\" class=\"dataframe\">\n",
       "  <thead>\n",
       "    <tr style=\"text-align: right;\">\n",
       "      <th></th>\n",
       "      <th>img</th>\n",
       "      <th>modality</th>\n",
       "      <th>set</th>\n",
       "      <th>source</th>\n",
       "      <th>img_path</th>\n",
       "      <th>higher_modality</th>\n",
       "      <th>caption</th>\n",
       "      <th>split_set</th>\n",
       "      <th>target</th>\n",
       "    </tr>\n",
       "  </thead>\n",
       "  <tbody>\n",
       "    <tr>\n",
       "      <th>0</th>\n",
       "      <td>1423-0127-16-109-3-1.jpg</td>\n",
       "      <td>D3DR</td>\n",
       "      <td>TRAIN</td>\n",
       "      <td>clef16</td>\n",
       "      <td>subfigure-classification/2016/train/D3DR/1423-...</td>\n",
       "      <td>MOLECULAR</td>\n",
       "      <td>A. Three dimensional model of class C protein ...</td>\n",
       "      <td>VAL</td>\n",
       "      <td>D3DR</td>\n",
       "    </tr>\n",
       "    <tr>\n",
       "      <th>1</th>\n",
       "      <td>1423-0127-16-109-3-2.jpg</td>\n",
       "      <td>D3DR</td>\n",
       "      <td>TRAIN</td>\n",
       "      <td>clef16</td>\n",
       "      <td>subfigure-classification/2016/train/D3DR/1423-...</td>\n",
       "      <td>MOLECULAR</td>\n",
       "      <td>A. Three dimensional model of class C protein ...</td>\n",
       "      <td>TRAIN</td>\n",
       "      <td>D3DR</td>\n",
       "    </tr>\n",
       "    <tr>\n",
       "      <th>2</th>\n",
       "      <td>1423-0127-17-34-3-1.jpg</td>\n",
       "      <td>D3DR</td>\n",
       "      <td>TRAIN</td>\n",
       "      <td>clef16</td>\n",
       "      <td>subfigure-classification/2016/train/D3DR/1423-...</td>\n",
       "      <td>MOLECULAR</td>\n",
       "      <td>Three domains of AAG A (or C)-chain: (a) domai...</td>\n",
       "      <td>TRAIN</td>\n",
       "      <td>D3DR</td>\n",
       "    </tr>\n",
       "    <tr>\n",
       "      <th>3</th>\n",
       "      <td>1423-0127-17-34-3-2.jpg</td>\n",
       "      <td>D3DR</td>\n",
       "      <td>TRAIN</td>\n",
       "      <td>clef16</td>\n",
       "      <td>subfigure-classification/2016/train/D3DR/1423-...</td>\n",
       "      <td>MOLECULAR</td>\n",
       "      <td>Three domains of AAG A (or C)-chain: (a) domai...</td>\n",
       "      <td>VAL</td>\n",
       "      <td>D3DR</td>\n",
       "    </tr>\n",
       "    <tr>\n",
       "      <th>4</th>\n",
       "      <td>1423-0127-17-34-3-3.jpg</td>\n",
       "      <td>D3DR</td>\n",
       "      <td>TRAIN</td>\n",
       "      <td>clef16</td>\n",
       "      <td>subfigure-classification/2016/train/D3DR/1423-...</td>\n",
       "      <td>MOLECULAR</td>\n",
       "      <td>Three domains of AAG A (or C)-chain: (a) domai...</td>\n",
       "      <td>TRAIN</td>\n",
       "      <td>D3DR</td>\n",
       "    </tr>\n",
       "  </tbody>\n",
       "</table>\n",
       "</div>"
      ],
      "text/plain": [
       "                        img modality    set  source  \\\n",
       "0  1423-0127-16-109-3-1.jpg     D3DR  TRAIN  clef16   \n",
       "1  1423-0127-16-109-3-2.jpg     D3DR  TRAIN  clef16   \n",
       "2   1423-0127-17-34-3-1.jpg     D3DR  TRAIN  clef16   \n",
       "3   1423-0127-17-34-3-2.jpg     D3DR  TRAIN  clef16   \n",
       "4   1423-0127-17-34-3-3.jpg     D3DR  TRAIN  clef16   \n",
       "\n",
       "                                            img_path higher_modality  \\\n",
       "0  subfigure-classification/2016/train/D3DR/1423-...       MOLECULAR   \n",
       "1  subfigure-classification/2016/train/D3DR/1423-...       MOLECULAR   \n",
       "2  subfigure-classification/2016/train/D3DR/1423-...       MOLECULAR   \n",
       "3  subfigure-classification/2016/train/D3DR/1423-...       MOLECULAR   \n",
       "4  subfigure-classification/2016/train/D3DR/1423-...       MOLECULAR   \n",
       "\n",
       "                                             caption split_set target  \n",
       "0  A. Three dimensional model of class C protein ...       VAL   D3DR  \n",
       "1  A. Three dimensional model of class C protein ...     TRAIN   D3DR  \n",
       "2  Three domains of AAG A (or C)-chain: (a) domai...     TRAIN   D3DR  \n",
       "3  Three domains of AAG A (or C)-chain: (a) domai...       VAL   D3DR  \n",
       "4  Three domains of AAG A (or C)-chain: (a) domai...     TRAIN   D3DR  "
      ]
     },
     "execution_count": 3,
     "metadata": {},
     "output_type": "execute_result"
    }
   ],
   "source": [
    "df = pd.read_csv(DATA_PATH, sep='\\t')\n",
    "le_encoder,dict_label = label_encoder_target(df,target_col='higher_modality')\n",
    "df.head()"
   ]
  },
  {
   "cell_type": "code",
   "execution_count": 4,
   "metadata": {},
   "outputs": [
    {
     "name": "stdout",
     "output_type": "stream",
     "text": [
      "*****  Resnet Model Parameters  *****\n",
      "\"class_weights\":   [0.98866213 1.5970696  0.73400673]\n",
      "\"fine_tuned_from\": whole\n",
      "\"lr\":              1e-05\n",
      "\"mean_dataset\":    [0.851899  0.8511532 0.8413842]\n",
      "\"metric_monitor\":  val_avg_loss\n",
      "\"mode_scheduler\":  min\n",
      "\"name\":            resnet101\n",
      "\"num_classes\":     3\n",
      "\"pretrained\":      True\n",
      "\"std_dataset\":     [0.2773475  0.27720553 0.28995028]\n",
      "*****  Resnet Model Children  *****\n",
      "Children Counter:  0  Layer Name:  model\n"
     ]
    }
   ],
   "source": [
    "# 3.1 Load the Resnet Model\n",
    "model = ResNetClass.load_from_checkpoint(model_path)\n",
    "print('*'*5,' Resnet Model Parameters ','*'*5)\n",
    "print(model.hparams)\n",
    "print('*'*5,' Resnet Model Children ','*'*5)\n",
    "children_counter = 0\n",
    "for n,c in model.named_children():\n",
    "    print(\"Children Counter: \",children_counter,\" Layer Name: \",n,)\n",
    "    children_counter+=1"
   ]
  },
  {
   "cell_type": "code",
   "execution_count": 5,
   "metadata": {},
   "outputs": [
    {
     "name": "stdout",
     "output_type": "stream",
     "text": [
      "Feature Vector for training: \n"
     ]
    },
    {
     "data": {
      "application/vnd.jupyter.widget-view+json": {
       "model_id": "",
       "version_major": 2,
       "version_minor": 0
      },
      "text/plain": [
       "HBox(children=(FloatProgress(value=0.0, max=14.0), HTML(value='')))"
      ]
     },
     "metadata": {},
     "output_type": "display_data"
    },
    {
     "name": "stdout",
     "output_type": "stream",
     "text": [
      "\n",
      "Feature Vector for Validation: \n"
     ]
    },
    {
     "data": {
      "application/vnd.jupyter.widget-view+json": {
       "model_id": "",
       "version_major": 2,
       "version_minor": 0
      },
      "text/plain": [
       "HBox(children=(FloatProgress(value=0.0, max=4.0), HTML(value='')))"
      ]
     },
     "metadata": {},
     "output_type": "display_data"
    },
    {
     "name": "stdout",
     "output_type": "stream",
     "text": [
      "\n",
      "Feature Vector for Test: \n"
     ]
    },
    {
     "data": {
      "application/vnd.jupyter.widget-view+json": {
       "model_id": "",
       "version_major": 2,
       "version_minor": 0
      },
      "text/plain": [
       "HBox(children=(FloatProgress(value=0.0, max=9.0), HTML(value='')))"
      ]
     },
     "metadata": {},
     "output_type": "display_data"
    },
    {
     "name": "stdout",
     "output_type": "stream",
     "text": [
      "\n",
      "***** PCA *****\n",
      "***** UMAP *****\n"
     ]
    }
   ],
   "source": [
    "prepare_projection(model ,le_encoder,DATA_PATH,BASE_IMG_DIR,SEED,CLASSF ='molecular' ,VERSION = 1)"
   ]
  },
  {
   "cell_type": "code",
   "execution_count": 17,
   "metadata": {},
   "outputs": [
    {
     "data": {
      "text/html": [
       "<div>\n",
       "<style scoped>\n",
       "    .dataframe tbody tr th:only-of-type {\n",
       "        vertical-align: middle;\n",
       "    }\n",
       "\n",
       "    .dataframe tbody tr th {\n",
       "        vertical-align: top;\n",
       "    }\n",
       "\n",
       "    .dataframe thead th {\n",
       "        text-align: right;\n",
       "    }\n",
       "</style>\n",
       "<table border=\"1\" class=\"dataframe\">\n",
       "  <thead>\n",
       "    <tr style=\"text-align: right;\">\n",
       "      <th></th>\n",
       "      <th>img</th>\n",
       "      <th>modality</th>\n",
       "      <th>set</th>\n",
       "      <th>source</th>\n",
       "      <th>img_path</th>\n",
       "      <th>higher_modality</th>\n",
       "      <th>caption</th>\n",
       "      <th>split_set</th>\n",
       "      <th>target</th>\n",
       "      <th>feature_vector</th>\n",
       "      <th>pca_x</th>\n",
       "      <th>pca_y</th>\n",
       "      <th>pca_hits</th>\n",
       "      <th>umap_x</th>\n",
       "      <th>umap_y</th>\n",
       "      <th>umap_hits</th>\n",
       "    </tr>\n",
       "  </thead>\n",
       "  <tbody>\n",
       "    <tr>\n",
       "      <th>0</th>\n",
       "      <td>1423-0127-16-109-3-2.jpg</td>\n",
       "      <td>D3DR</td>\n",
       "      <td>TRAIN</td>\n",
       "      <td>clef16</td>\n",
       "      <td>subfigure-classification/2016/train/D3DR/1423-...</td>\n",
       "      <td>MOLECULAR</td>\n",
       "      <td>A. Three dimensional model of class C protein ...</td>\n",
       "      <td>TRAIN</td>\n",
       "      <td>D3DR</td>\n",
       "      <td>[0.8944467, 0.0506167, 0.43819162, 1.297669, 0...</td>\n",
       "      <td>19.787468</td>\n",
       "      <td>-4.190973</td>\n",
       "      <td>1.0</td>\n",
       "      <td>-0.338122</td>\n",
       "      <td>5.834057</td>\n",
       "      <td>1.0</td>\n",
       "    </tr>\n",
       "    <tr>\n",
       "      <th>1</th>\n",
       "      <td>1423-0127-17-34-3-1.jpg</td>\n",
       "      <td>D3DR</td>\n",
       "      <td>TRAIN</td>\n",
       "      <td>clef16</td>\n",
       "      <td>subfigure-classification/2016/train/D3DR/1423-...</td>\n",
       "      <td>MOLECULAR</td>\n",
       "      <td>Three domains of AAG A (or C)-chain: (a) domai...</td>\n",
       "      <td>TRAIN</td>\n",
       "      <td>D3DR</td>\n",
       "      <td>[0.49555984, 0.31890774, 0.6259105, 0.3529846,...</td>\n",
       "      <td>16.923067</td>\n",
       "      <td>-2.768597</td>\n",
       "      <td>1.0</td>\n",
       "      <td>-0.060504</td>\n",
       "      <td>5.340167</td>\n",
       "      <td>1.0</td>\n",
       "    </tr>\n",
       "    <tr>\n",
       "      <th>2</th>\n",
       "      <td>1423-0127-17-34-3-3.jpg</td>\n",
       "      <td>D3DR</td>\n",
       "      <td>TRAIN</td>\n",
       "      <td>clef16</td>\n",
       "      <td>subfigure-classification/2016/train/D3DR/1423-...</td>\n",
       "      <td>MOLECULAR</td>\n",
       "      <td>Three domains of AAG A (or C)-chain: (a) domai...</td>\n",
       "      <td>TRAIN</td>\n",
       "      <td>D3DR</td>\n",
       "      <td>[1.4514995, 0.5873217, 0.48946068, 0.31073916,...</td>\n",
       "      <td>14.863858</td>\n",
       "      <td>-2.796963</td>\n",
       "      <td>1.0</td>\n",
       "      <td>-0.081096</td>\n",
       "      <td>5.753325</td>\n",
       "      <td>1.0</td>\n",
       "    </tr>\n",
       "    <tr>\n",
       "      <th>3</th>\n",
       "      <td>1423-0127-17-34-5-1.jpg</td>\n",
       "      <td>D3DR</td>\n",
       "      <td>TRAIN</td>\n",
       "      <td>clef16</td>\n",
       "      <td>subfigure-classification/2016/train/D3DR/1423-...</td>\n",
       "      <td>MOLECULAR</td>\n",
       "      <td>Two domains of AAG B (or D)-chain: (a) domain ...</td>\n",
       "      <td>TRAIN</td>\n",
       "      <td>D3DR</td>\n",
       "      <td>[0.5142725, 0.32647976, 0.38910422, 0.57919765...</td>\n",
       "      <td>20.236599</td>\n",
       "      <td>-2.673384</td>\n",
       "      <td>1.0</td>\n",
       "      <td>0.457518</td>\n",
       "      <td>5.051065</td>\n",
       "      <td>1.0</td>\n",
       "    </tr>\n",
       "    <tr>\n",
       "      <th>4</th>\n",
       "      <td>1465-9921-12-61-7-4.jpg</td>\n",
       "      <td>GGEN</td>\n",
       "      <td>TRAIN</td>\n",
       "      <td>clef16</td>\n",
       "      <td>subfigure-classification/2016/train/GGEN/1465-...</td>\n",
       "      <td>MOLECULAR</td>\n",
       "      <td>Examples for variations of expression levels i...</td>\n",
       "      <td>TRAIN</td>\n",
       "      <td>GGEN</td>\n",
       "      <td>[0.079927854, 0.7534603, 3.518612, 0.014287380...</td>\n",
       "      <td>-11.200251</td>\n",
       "      <td>-8.153898</td>\n",
       "      <td>1.0</td>\n",
       "      <td>7.080653</td>\n",
       "      <td>-8.956665</td>\n",
       "      <td>1.0</td>\n",
       "    </tr>\n",
       "  </tbody>\n",
       "</table>\n",
       "</div>"
      ],
      "text/plain": [
       "                        img modality    set  source  \\\n",
       "0  1423-0127-16-109-3-2.jpg     D3DR  TRAIN  clef16   \n",
       "1   1423-0127-17-34-3-1.jpg     D3DR  TRAIN  clef16   \n",
       "2   1423-0127-17-34-3-3.jpg     D3DR  TRAIN  clef16   \n",
       "3   1423-0127-17-34-5-1.jpg     D3DR  TRAIN  clef16   \n",
       "4   1465-9921-12-61-7-4.jpg     GGEN  TRAIN  clef16   \n",
       "\n",
       "                                            img_path higher_modality  \\\n",
       "0  subfigure-classification/2016/train/D3DR/1423-...       MOLECULAR   \n",
       "1  subfigure-classification/2016/train/D3DR/1423-...       MOLECULAR   \n",
       "2  subfigure-classification/2016/train/D3DR/1423-...       MOLECULAR   \n",
       "3  subfigure-classification/2016/train/D3DR/1423-...       MOLECULAR   \n",
       "4  subfigure-classification/2016/train/GGEN/1465-...       MOLECULAR   \n",
       "\n",
       "                                             caption split_set target  \\\n",
       "0  A. Three dimensional model of class C protein ...     TRAIN   D3DR   \n",
       "1  Three domains of AAG A (or C)-chain: (a) domai...     TRAIN   D3DR   \n",
       "2  Three domains of AAG A (or C)-chain: (a) domai...     TRAIN   D3DR   \n",
       "3  Two domains of AAG B (or D)-chain: (a) domain ...     TRAIN   D3DR   \n",
       "4  Examples for variations of expression levels i...     TRAIN   GGEN   \n",
       "\n",
       "                                      feature_vector      pca_x     pca_y  \\\n",
       "0  [0.8944467, 0.0506167, 0.43819162, 1.297669, 0...  19.787468 -4.190973   \n",
       "1  [0.49555984, 0.31890774, 0.6259105, 0.3529846,...  16.923067 -2.768597   \n",
       "2  [1.4514995, 0.5873217, 0.48946068, 0.31073916,...  14.863858 -2.796963   \n",
       "3  [0.5142725, 0.32647976, 0.38910422, 0.57919765...  20.236599 -2.673384   \n",
       "4  [0.079927854, 0.7534603, 3.518612, 0.014287380... -11.200251 -8.153898   \n",
       "\n",
       "   pca_hits    umap_x    umap_y  umap_hits  \n",
       "0       1.0 -0.338122  5.834057        1.0  \n",
       "1       1.0 -0.060504  5.340167        1.0  \n",
       "2       1.0 -0.081096  5.753325        1.0  \n",
       "3       1.0  0.457518  5.051065        1.0  \n",
       "4       1.0  7.080653 -8.956665        1.0  "
      ]
     },
     "execution_count": 17,
     "metadata": {},
     "output_type": "execute_result"
    }
   ],
   "source": [
    "df = pd.read_parquet('/mnt/artifacts/projections/molecular_v1.parquet')\n",
    "df.head()"
   ]
  }
 ],
 "metadata": {
  "kernelspec": {
   "display_name": "Python 3",
   "language": "python",
   "name": "python3"
  },
  "language_info": {
   "codemirror_mode": {
    "name": "ipython",
    "version": 3
   },
   "file_extension": ".py",
   "mimetype": "text/x-python",
   "name": "python",
   "nbconvert_exporter": "python",
   "pygments_lexer": "ipython3",
   "version": "3.6.9"
  }
 },
 "nbformat": 4,
 "nbformat_minor": 4
}
