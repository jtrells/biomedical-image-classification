{
 "cells": [
  {
   "cell_type": "markdown",
   "metadata": {},
   "source": [
    "# How to train the Captions model?\n",
    "\n",
    "Where we describe how we are training a caption model. The related `train.py` file should have the same steps but we are being a bit more descriptive here."
   ]
  },
  {
   "cell_type": "code",
   "execution_count": 1,
   "metadata": {},
   "outputs": [],
   "source": [
    "# common recipe to get access to the source inside src\n",
    "import os\n",
    "import sys\n",
    "module_path = os.path.abspath(os.path.join('../src'))\n",
    "if module_path not in sys.path:\n",
    "    sys.path.append(module_path)\n",
    "##########################################################\n",
    "\n",
    "import numpy as np\n",
    "from pathlib import Path\n",
    "\n",
    "from models.CaptionModalityClassifier import CaptionModalityClassifier # caption modality classifier\n",
    "from dataset.MultimodalityDataModule import MultimodalityDataModule    # pytorch lightning data module for captions and images\n",
    "from utils.caption_utils import load_glove_matrix                      # utils for embeddings\n",
    "\n",
    "from pytorch_lightning import Trainer\n",
    "from pytorch_lightning.callbacks import EarlyStopping\n",
    "from pytorch_lightning.loggers import WandbLogger"
   ]
  },
  {
   "cell_type": "markdown",
   "metadata": {},
   "source": [
    "## Loading data and stuff\n",
    "\n",
    "Some hyperparameters are binded to the embedding dictionary to use. For instance, **Glove** has embeddings of 50, 100, ... 300 dimensions; we could experiment with them but cannot input a different value. Also, the vocabulary size will be somehow limited by the embedding dictionary and the training data. See that we specify a max vocab size of 20,000 words, but our caption data under Glove gives us around 7,500 words, so we are sticking to the number of words in the vocabulary after preprocessing the cpations. `This may be a good place to experiment with something different, it seems that many words are just dropped for not being in Glove`. Finally, the maximum number of words per sentence is another interesting value; our caption data has a (raw) mean around 700 with a long tail to the right (up to 3,000 characters)."
   ]
  },
  {
   "cell_type": "code",
   "execution_count": 2,
   "metadata": {},
   "outputs": [],
   "source": [
    "MAX_NUMBER_WORDS = 20000       # number of words to consider from embeddings vocabulary\n",
    "MAX_WORDS_PER_SENTENCE = 300   # sentence maximum length\n",
    "WORD_DIMENSION = 300           # number of features per embedding\n",
    "NUM_CLASSES = 4                # 4 microscopy classes\n",
    "NUM_FILTERS = 100              # number of filters use in the ConvText module\n",
    "\n",
    "BASE_PATH = Path('/workspace/data')\n",
    "DATA_PATH = BASE_PATH / 'multimodality_classification.csv'\n",
    "EMBEDDINGS = BASE_PATH / 'embeddings'\n",
    "OUTPUT_DIR = Path('./outputs')\n",
    "BASE_IMG_DIR = BASE_PATH       # the image path in the CSV file are relative to this directory\n",
    "BATCH_SIZE = 32\n",
    "LR = 1e-4\n",
    "PROJECT = 'biomedical-multimodal'\n",
    "\n",
    "NUM_WORKERS = 72               # workers on the cluster, normally... 4?"
   ]
  },
  {
   "cell_type": "markdown",
   "metadata": {},
   "source": [
    "The data module takes care of the preprocessing and creation of the dataloaders. We can now access the dataloaders using `train|val|test_dataloader()`, though this is handled internally by the trainer."
   ]
  },
  {
   "cell_type": "code",
   "execution_count": 3,
   "metadata": {},
   "outputs": [
    {
     "name": "stdout",
     "output_type": "stream",
     "text": [
      "Current vocabulary size: 7221\n",
      "Classes: ['DMEL' 'DMFL' 'DMLI' 'DMTR']\n"
     ]
    }
   ],
   "source": [
    "dm = MultimodalityDataModule(BATCH_SIZE,\n",
    "                             str(DATA_PATH),\n",
    "                             MAX_NUMBER_WORDS,\n",
    "                             MAX_WORDS_PER_SENTENCE,\n",
    "                             str(BASE_IMG_DIR),\n",
    "                             num_workers=NUM_WORKERS)\n",
    "dm.prepare_data()\n",
    "dm.setup()\n",
    "\n",
    "print(\"Current vocabulary size: {0}\".format(dm.vocab_size))\n",
    "train_dataloader = dm.train_dataloader()\n",
    "train_dataset    = train_dataloader.dataset\n",
    "target_classes   = train_dataset.le.classes_\n",
    "print(\"Classes: {0}\".format(target_classes))"
   ]
  },
  {
   "cell_type": "markdown",
   "metadata": {},
   "source": [
    "Then, we need to handle the embeddings matrix."
   ]
  },
  {
   "cell_type": "code",
   "execution_count": 4,
   "metadata": {},
   "outputs": [
    {
     "name": "stdout",
     "output_type": "stream",
     "text": [
      "Dimension: 300; found 400000 word vectors.\n",
      "Embedding matrix shape: (7221, 300), with 2000 not present\n"
     ]
    }
   ],
   "source": [
    "if dm.vocab_size < MAX_NUMBER_WORDS:\n",
    "    MAX_NUMBER_WORDS = dm.vocab_size\n",
    "\n",
    "embeddings_matrix = load_glove_matrix(EMBEDDINGS, WORD_DIMENSION, MAX_NUMBER_WORDS, dm.word_index)"
   ]
  },
  {
   "cell_type": "code",
   "execution_count": 10,
   "metadata": {},
   "outputs": [
    {
     "data": {
      "text/plain": [
       "{'the': 1,\n",
       " 'of': 2,\n",
       " 'and': 3,\n",
       " 'in': 4,\n",
       " '.': 5,\n",
       " 'a': 6,\n",
       " 'with': 7,\n",
       " 'cells': 8,\n",
       " 'c': 9,\n",
       " 'b': 10,\n",
       " 'd': 11,\n",
       " 'to': 12,\n",
       " 'were': 13,\n",
       " 'for': 14,\n",
       " 'is': 15,\n",
       " 'e': 16,\n",
       " 'f': 17,\n",
       " 'î¼': 18,\n",
       " 'by': 19,\n",
       " 'are': 20,\n",
       " '2': 21,\n",
       " 'from': 22,\n",
       " 'at': 23,\n",
       " 'h': 24,\n",
       " 'cell': 25,\n",
       " 'was': 26,\n",
       " 'expression': 27,\n",
       " 'g': 28,\n",
       " '1': 29,\n",
       " 'm': 30,\n",
       " 'staining': 31,\n",
       " 'red': 32,\n",
       " 'or': 33,\n",
       " 'green': 34,\n",
       " 'as': 35,\n",
       " 'images': 36,\n",
       " 'stained': 37,\n",
       " 'scale': 38,\n",
       " 'm.': 39,\n",
       " 'anti': 40,\n",
       " 'positive': 41,\n",
       " '3': 42,\n",
       " 'arrows': 43,\n",
       " 'bar': 44,\n",
       " 'arrow': 45,\n",
       " 'control': 46,\n",
       " '10': 47,\n",
       " 'on': 48,\n",
       " 'after': 49,\n",
       " 'shown': 50,\n",
       " 'i': 51,\n",
       " 'magnification': 52,\n",
       " 'that': 53,\n",
       " 'an': 54,\n",
       " 'sections': 55,\n",
       " '4': 56,\n",
       " 'image': 57,\n",
       " 'î±': 58,\n",
       " 'p': 59,\n",
       " 'nuclei': 60,\n",
       " 'panel': 61,\n",
       " 'not': 62,\n",
       " 'î²': 63,\n",
       " 'arrowheads': 64,\n",
       " 'labeled': 65,\n",
       " 'show': 66,\n",
       " '100': 67,\n",
       " 'treated': 68,\n",
       " 'showing': 69,\n",
       " 'gfp': 70,\n",
       " 'panels': 71,\n",
       " 'blue': 72,\n",
       " 'bars': 73,\n",
       " 'mice': 74,\n",
       " 'normal': 75,\n",
       " '20': 76,\n",
       " 'electron': 77,\n",
       " 'ï¿½ï¿½': 78,\n",
       " 'antibody': 79,\n",
       " 'days': 80,\n",
       " 'type': 81,\n",
       " 'n': 82,\n",
       " 'shows': 83,\n",
       " 'no': 84,\n",
       " 'representative': 85,\n",
       " 'ventral': 86,\n",
       " 'observed': 87,\n",
       " 'co': 88,\n",
       " 'fluorescence': 89,\n",
       " 'white': 90,\n",
       " 'expressed': 91,\n",
       " 'mouse': 92,\n",
       " 'rat': 93,\n",
       " 'using': 94,\n",
       " 'microscopy': 95,\n",
       " 'merged': 96,\n",
       " 'tissue': 97,\n",
       " '6': 98,\n",
       " 'all': 99,\n",
       " 'region': 100,\n",
       " 'but': 101,\n",
       " 'note': 102,\n",
       " 'wild': 103,\n",
       " 'dapi': 104,\n",
       " 'stage': 105,\n",
       " 'detected': 106,\n",
       " 'day': 107,\n",
       " 'indicated': 108,\n",
       " '200': 109,\n",
       " 'both': 110,\n",
       " 'localization': 111,\n",
       " '5': 112,\n",
       " 'left': 113,\n",
       " 'view': 114,\n",
       " 'layer': 115,\n",
       " 'cells.': 116,\n",
       " 'infected': 117,\n",
       " 'nuclear': 118,\n",
       " 'section': 119,\n",
       " 'tmem10': 120,\n",
       " 'confocal': 121,\n",
       " 'anterior': 122,\n",
       " 'within': 123,\n",
       " 'expressing': 124,\n",
       " 'dorsal': 125,\n",
       " 'l': 126,\n",
       " 'seen': 127,\n",
       " 'two': 128,\n",
       " 'compared': 129,\n",
       " 'also': 130,\n",
       " 'adult': 131,\n",
       " 'analysis': 132,\n",
       " 'post': 133,\n",
       " '50': 134,\n",
       " 'syntaxin': 135,\n",
       " 'this': 136,\n",
       " '9': 137,\n",
       " 'nucleus': 138,\n",
       " 'lung': 139,\n",
       " 'alexa': 140,\n",
       " 'which': 141,\n",
       " 'surface': 142,\n",
       " 'inner': 143,\n",
       " 'large': 144,\n",
       " 'c.': 145,\n",
       " 'between': 146,\n",
       " 'ml': 147,\n",
       " 'area': 148,\n",
       " 's': 149,\n",
       " 'neurons': 150,\n",
       " 'labeling': 151,\n",
       " 'be': 152,\n",
       " 'membrane': 153,\n",
       " '30': 154,\n",
       " 'transfected': 155,\n",
       " 'same': 156,\n",
       " 'immunoreactivity': 157,\n",
       " 'tumor': 158,\n",
       " 'number': 159,\n",
       " 'blood': 160,\n",
       " 'negative': 161,\n",
       " 'figure': 162,\n",
       " 'conjugated': 163,\n",
       " 'distribution': 164,\n",
       " 'basal': 165,\n",
       " 'three': 166,\n",
       " '12': 167,\n",
       " 'lateral': 168,\n",
       " 'mutant': 169,\n",
       " 'j': 170,\n",
       " 'has': 171,\n",
       " '24': 172,\n",
       " 'epithelium': 173,\n",
       " 'indicate': 174,\n",
       " '400': 175,\n",
       " 'immunofluorescence': 176,\n",
       " 'posterior': 177,\n",
       " 'contrast': 178,\n",
       " 'mir': 179,\n",
       " 'non': 180,\n",
       " 'some': 181,\n",
       " 'indicates': 182,\n",
       " 'arrowhead': 183,\n",
       " 'each': 184,\n",
       " 'strong': 185,\n",
       " 'muscle': 186,\n",
       " 'staining.': 187,\n",
       " '7': 188,\n",
       " 'high': 189,\n",
       " 'k': 190,\n",
       " 'side': 191,\n",
       " 'cytoplasm': 192,\n",
       " 'tissues': 193,\n",
       " 'only': 194,\n",
       " 'ply': 195,\n",
       " 'fixed': 196,\n",
       " 'specific': 197,\n",
       " 'protein': 198,\n",
       " 'phase': 199,\n",
       " 'rabbit': 200,\n",
       " 'into': 201,\n",
       " 'nerve': 202,\n",
       " 'secondary': 203,\n",
       " 'micrograph': 204,\n",
       " 'double': 205,\n",
       " 'situ': 206,\n",
       " '13': 207,\n",
       " 'cortex': 208,\n",
       " 'gfap': 209,\n",
       " 'embryos': 210,\n",
       " 'right': 211,\n",
       " 'showed': 212,\n",
       " 'ganglion': 213,\n",
       " 'signal': 214,\n",
       " 'immunohistochemistry': 215,\n",
       " 'small': 216,\n",
       " 'black': 217,\n",
       " 'either': 218,\n",
       " 'up': 219,\n",
       " 'present': 220,\n",
       " '488': 221,\n",
       " 'there': 222,\n",
       " 'sem': 223,\n",
       " 'areas': 224,\n",
       " '40': 225,\n",
       " 'higher': 226,\n",
       " 'mice.': 227,\n",
       " 'a.': 228,\n",
       " 'samples': 229,\n",
       " 'morphology': 230,\n",
       " 'â±': 231,\n",
       " 'well': 232,\n",
       " 'these': 233,\n",
       " 'actin': 234,\n",
       " 'scanning': 235,\n",
       " 'line': 236,\n",
       " 'f.': 237,\n",
       " 'can': 238,\n",
       " 'wt': 239,\n",
       " 'retina': 240,\n",
       " 'induced': 241,\n",
       " 'primary': 242,\n",
       " 'breast': 243,\n",
       " 'while': 244,\n",
       " 'dna': 245,\n",
       " 'weeks': 246,\n",
       " 'represents': 247,\n",
       " 'fibers': 248,\n",
       " 'goat': 249,\n",
       " 'microscope': 250,\n",
       " 'early': 251,\n",
       " 'respectively.': 252,\n",
       " 'structures': 253,\n",
       " 'epithelial': 254,\n",
       " 'taste': 255,\n",
       " 'incubated': 256,\n",
       " 'original': 257,\n",
       " 'probe': 258,\n",
       " 'significant': 259,\n",
       " 'stain': 260,\n",
       " 'followed': 261,\n",
       " 'hours': 262,\n",
       " 'nm': 263,\n",
       " 'revealed': 264,\n",
       " 'localized': 265,\n",
       " 'transmission': 266,\n",
       " 'presence': 267,\n",
       " 'mrna': 268,\n",
       " 'tgf': 269,\n",
       " 'neural': 270,\n",
       " 'mab': 271,\n",
       " 'claudin': 272,\n",
       " 'antibodies': 273,\n",
       " 'min': 274,\n",
       " 'micrographs': 275,\n",
       " 'views': 276,\n",
       " 'wall': 277,\n",
       " 'vessels': 278,\n",
       " 'v': 279,\n",
       " 'hpf': 280,\n",
       " 'cord': 281,\n",
       " 'p.': 282,\n",
       " 'outer': 283,\n",
       " 'cross': 284,\n",
       " 'transverse': 285,\n",
       " 'binding': 286,\n",
       " 'have': 287,\n",
       " 'along': 288,\n",
       " 'visualized': 289,\n",
       " 'antibody.': 290,\n",
       " 'necl': 291,\n",
       " 'represent': 292,\n",
       " 'fluor': 293,\n",
       " 'express': 294,\n",
       " 'during': 295,\n",
       " 'found': 296,\n",
       " 'brain': 297,\n",
       " 'determined': 298,\n",
       " 'immunohistochemical': 299,\n",
       " 'human': 300,\n",
       " 'b.': 301,\n",
       " 'associated': 302,\n",
       " 'processes': 303,\n",
       " 'caspase': 304,\n",
       " 'il': 305,\n",
       " 'different': 306,\n",
       " 'body': 307,\n",
       " 'bladder': 308,\n",
       " 'comparison': 309,\n",
       " 'yb': 310,\n",
       " 'where': 311,\n",
       " 'like': 312,\n",
       " 'treatment': 313,\n",
       " '0.05': 314,\n",
       " 'more': 315,\n",
       " 'exposed': 316,\n",
       " 'vm': 317,\n",
       " 'tnf': 318,\n",
       " 'figures': 319,\n",
       " '8': 320,\n",
       " 'described': 321,\n",
       " 'amnos': 322,\n",
       " 'cytoplasmic': 323,\n",
       " 'fitc': 324,\n",
       " 'liver': 325,\n",
       " 'total': 326,\n",
       " 'animals': 327,\n",
       " 'projection': 328,\n",
       " 'eosin': 329,\n",
       " 'optical': 330,\n",
       " '15': 331,\n",
       " 'regions': 332,\n",
       " 'tunel': 333,\n",
       " 'old': 334,\n",
       " 'levels': 335,\n",
       " 'inl': 336,\n",
       " 'level': 337,\n",
       " 'results': 338,\n",
       " 'fluorescent': 339,\n",
       " 'single': 340,\n",
       " 'culture': 341,\n",
       " 'thin': 342,\n",
       " 'through': 343,\n",
       " 'near': 344,\n",
       " 'groups': 345,\n",
       " 'alk': 346,\n",
       " 'adjacent': 347,\n",
       " 'apoptosis': 348,\n",
       " 't': 349,\n",
       " 'spinal': 350,\n",
       " 'group': 351,\n",
       " 'injected': 352,\n",
       " 'skin': 353,\n",
       " '25': 354,\n",
       " 'rdna': 355,\n",
       " 'plc': 356,\n",
       " 'histological': 357,\n",
       " 'one': 358,\n",
       " 'used': 359,\n",
       " 'than': 360,\n",
       " 'whereas': 361,\n",
       " 'it': 362,\n",
       " 'diffuse': 363,\n",
       " 'spindle': 364,\n",
       " 'straw': 365,\n",
       " 'head': 366,\n",
       " 'mixed': 367,\n",
       " 'o': 368,\n",
       " 'p4': 369,\n",
       " 'obtained': 370,\n",
       " 'around': 371,\n",
       " 'patient': 372,\n",
       " 'siglec': 373,\n",
       " 'asterisk': 374,\n",
       " 'infection': 375,\n",
       " 'abnormal': 376,\n",
       " 'grown': 377,\n",
       " 'lesion': 378,\n",
       " '500': 379,\n",
       " 'oocyte': 380,\n",
       " 'corresponding': 381,\n",
       " 'unc': 382,\n",
       " 'd.': 383,\n",
       " 'h.': 384,\n",
       " 'longitudinal': 385,\n",
       " 'hematoxylin': 386,\n",
       " 'v5': 387,\n",
       " 'field': 388,\n",
       " 'patients': 389,\n",
       " 'increased': 390,\n",
       " 'other': 391,\n",
       " '14': 392,\n",
       " 'transgenic': 393,\n",
       " 'point': 394,\n",
       " 'see': 395,\n",
       " 'squamous': 396,\n",
       " 'aeruginosa': 397,\n",
       " 'signals': 398,\n",
       " 'form': 399,\n",
       " 'gal': 400,\n",
       " 'rod': 401,\n",
       " 'low': 402,\n",
       " '48': 403,\n",
       " 'rat.': 404,\n",
       " 'without': 405,\n",
       " 'rna': 406,\n",
       " 'oligodendrocytes': 407,\n",
       " 'formation': 408,\n",
       " 'tube': 409,\n",
       " 'x': 410,\n",
       " 'difference': 411,\n",
       " 'vessel': 412,\n",
       " 'somite': 413,\n",
       " 'fig': 414,\n",
       " 'gcl': 415,\n",
       " 'cd8': 416,\n",
       " 'sa': 417,\n",
       " 'mammary': 418,\n",
       " 'similar': 419,\n",
       " 'z': 420,\n",
       " 'mitotic': 421,\n",
       " 'whole': 422,\n",
       " 'patterns': 423,\n",
       " 'microglia': 424,\n",
       " 'significantly': 425,\n",
       " 'hybridization': 426,\n",
       " 'values': 427,\n",
       " 'immunoreactive': 428,\n",
       " 'most': 429,\n",
       " 'photomicrographs': 430,\n",
       " 'tem': 431,\n",
       " 'colocalization': 432,\n",
       " 'appears': 433,\n",
       " 'lower': 434,\n",
       " 'testis': 435,\n",
       " 'located': 436,\n",
       " 'nurse': 437,\n",
       " 'colon': 438,\n",
       " 'deficient': 439,\n",
       " 'cultured': 440,\n",
       " 'surrounding': 441,\n",
       " 'iii': 442,\n",
       " 'apical': 443,\n",
       " 'vascular': 444,\n",
       " 'then': 445,\n",
       " 'bodies': 446,\n",
       " 'under': 447,\n",
       " 'containing': 448,\n",
       " 'hela': 449,\n",
       " 'i.': 450,\n",
       " 'bcg': 451,\n",
       " 'formed': 452,\n",
       " 'absence': 453,\n",
       " 'carcinoma': 454,\n",
       " 'did': 455,\n",
       " 'intestine': 456,\n",
       " 'data': 457,\n",
       " 'minutes': 458,\n",
       " 'rats': 459,\n",
       " 'when': 460,\n",
       " 'buds': 461,\n",
       " 'marker': 462,\n",
       " 'pre': 463,\n",
       " 'smi': 464,\n",
       " 'macrophages': 465,\n",
       " 'taken': 466,\n",
       " 'tubulin': 467,\n",
       " 'brdu': 468,\n",
       " 'bipolar': 469,\n",
       " 'microglial': 470,\n",
       " '0': 471,\n",
       " 'immunostained': 472,\n",
       " '0.001': 473,\n",
       " 'neuronal': 474,\n",
       " 'focal': 475,\n",
       " 'ce': 476,\n",
       " 'independent': 477,\n",
       " 'four': 478,\n",
       " 'intensity': 479,\n",
       " 'endothelial': 480,\n",
       " 'domain': 481,\n",
       " 'embryo': 482,\n",
       " 'terminals': 483,\n",
       " 'lir': 484,\n",
       " 'gland': 485,\n",
       " 'vehicle': 486,\n",
       " 'against': 487,\n",
       " 'top': 488,\n",
       " 'exposure': 489,\n",
       " 'close': 490,\n",
       " 'dense': 491,\n",
       " 'tumour': 492,\n",
       " 'ar': 493,\n",
       " 'hnopp140': 494,\n",
       " 'pro': 495,\n",
       " 'sm': 496,\n",
       " 'scrib': 497,\n",
       " 'placenta': 498,\n",
       " 'igg': 499,\n",
       " 'rsc': 500,\n",
       " 'experiments': 501,\n",
       " 'their': 502,\n",
       " 'structure': 503,\n",
       " 'colony': 504,\n",
       " 'layer.': 505,\n",
       " 'trkb': 506,\n",
       " 'labelled': 507,\n",
       " 'time': 508,\n",
       " 'mer': 509,\n",
       " 'smooth': 510,\n",
       " 'cultures': 511,\n",
       " 'marked': 512,\n",
       " 'does': 513,\n",
       " 'microscopic': 514,\n",
       " 'neurospheres': 515,\n",
       " 'ir': 516,\n",
       " 'color': 517,\n",
       " 'î³': 518,\n",
       " 'alveolar': 519,\n",
       " 'view.': 520,\n",
       " 'glass': 521,\n",
       " 'methods': 522,\n",
       " 'muscles': 523,\n",
       " 'bmp': 524,\n",
       " 'yellow': 525,\n",
       " 'differentiation': 526,\n",
       " 'r': 527,\n",
       " 'numerous': 528,\n",
       " 'weak': 529,\n",
       " 'growth': 530,\n",
       " 'glume': 531,\n",
       " 'ii': 532,\n",
       " 'medial': 533,\n",
       " 'multiple': 534,\n",
       " 'dsx': 535,\n",
       " 'respectively': 536,\n",
       " 'active': 537,\n",
       " 'ta': 538,\n",
       " 'hiv': 539,\n",
       " 'ng': 540,\n",
       " 'sites': 541,\n",
       " 'cyst': 542,\n",
       " 'shaped': 543,\n",
       " 'b3': 544,\n",
       " '16': 545,\n",
       " 'guinea': 546,\n",
       " 'puncta': 547,\n",
       " 'experiments.': 548,\n",
       " 'visible': 549,\n",
       " 'material': 550,\n",
       " 'few': 551,\n",
       " 'motor': 552,\n",
       " 'upper': 553,\n",
       " 'reduced': 554,\n",
       " 'antibodies.': 555,\n",
       " 'performed': 556,\n",
       " 'hindbrain': 557,\n",
       " 'nuclei.': 558,\n",
       " 'due': 559,\n",
       " 'mutants': 560,\n",
       " 'collagen': 561,\n",
       " 'neuron': 562,\n",
       " 'fish': 563,\n",
       " 'layers': 564,\n",
       " 'following': 565,\n",
       " 'kg': 566,\n",
       " 'gonad': 567,\n",
       " 'ssea': 568,\n",
       " 'laser': 569,\n",
       " 'fibroblasts': 570,\n",
       " 'proteins': 571,\n",
       " 'throughout': 572,\n",
       " 'san': 573,\n",
       " 'phenotypes': 574,\n",
       " 'weakly': 575,\n",
       " 'brown': 576,\n",
       " 'neuropil': 577,\n",
       " 'disp1': 578,\n",
       " 's1p1': 579,\n",
       " 'part': 580,\n",
       " 'magnifications': 581,\n",
       " 'appear': 582,\n",
       " 'cancer': 583,\n",
       " 'ok1580': 584,\n",
       " 'rnai': 585,\n",
       " 'injury': 586,\n",
       " 'specifically': 587,\n",
       " 'antigen': 588,\n",
       " 'e.': 589,\n",
       " 'thickness': 590,\n",
       " 'portion': 591,\n",
       " 'dextran': 592,\n",
       " 'cy5.5': 593,\n",
       " 'lymphatic': 594,\n",
       " 'dev': 595,\n",
       " 'duodenum': 596,\n",
       " 'column': 597,\n",
       " 'hybridisation': 598,\n",
       " 'filamentous': 599,\n",
       " 'central': 600,\n",
       " 'new': 601,\n",
       " '1.': 602,\n",
       " 'analyzed': 603,\n",
       " 'a2b5': 604,\n",
       " 'goblet': 605,\n",
       " 'displaying': 606,\n",
       " 'pbs': 607,\n",
       " 'h3': 608,\n",
       " 'cd68': 609,\n",
       " 'late': 610,\n",
       " 'clear': 611,\n",
       " 'out': 612,\n",
       " 'picture': 613,\n",
       " 'sperm': 614,\n",
       " 'appeared': 615,\n",
       " 'cellular': 616,\n",
       " 'captured': 617,\n",
       " 'vesicles': 618,\n",
       " 'transplanted': 619,\n",
       " 'injection': 620,\n",
       " 'ht': 621,\n",
       " 'pictures': 622,\n",
       " 'mean': 623,\n",
       " 'b1': 624,\n",
       " 'cerebellum': 625,\n",
       " 'factor': 626,\n",
       " 'dashed': 627,\n",
       " 'counterstained': 628,\n",
       " 'dlg': 629,\n",
       " '31': 630,\n",
       " 'nbl': 631,\n",
       " 'p24': 632,\n",
       " 'towards': 633,\n",
       " '72': 634,\n",
       " 'purkinje': 635,\n",
       " 'plaques': 636,\n",
       " 'microtubules': 637,\n",
       " 'before': 638,\n",
       " 'shown.': 639,\n",
       " 'over': 640,\n",
       " 'receptor': 641,\n",
       " 'egg': 642,\n",
       " 'segments': 643,\n",
       " 'astrocytes': 644,\n",
       " 'punctate': 645,\n",
       " 'l1': 646,\n",
       " 'proliferation': 647,\n",
       " 'viewed': 648,\n",
       " 'biopsy': 649,\n",
       " 'lesions': 650,\n",
       " 'kidney': 651,\n",
       " 'dark': 652,\n",
       " 'dots': 653,\n",
       " 'zebrafish': 654,\n",
       " 'pg': 655,\n",
       " '0.01': 656,\n",
       " '90': 657,\n",
       " 'cell.': 658,\n",
       " 'chromosomes': 659,\n",
       " 'mg': 660,\n",
       " 'length': 661,\n",
       " 'immunostaining': 662,\n",
       " 'restricted': 663,\n",
       " 'coverslips': 664,\n",
       " 'stomach': 665,\n",
       " 'glands': 666,\n",
       " 'sfrp2': 667,\n",
       " '120': 668,\n",
       " 'microscopy.': 669,\n",
       " 'size': 670,\n",
       " 'its': 671,\n",
       " 'ish': 672,\n",
       " 'cuticle': 673,\n",
       " 'pol': 674,\n",
       " 'gene': 675,\n",
       " 'however': 676,\n",
       " 'example': 677,\n",
       " 'pavp22': 678,\n",
       " 'd1': 679,\n",
       " 'histone': 680,\n",
       " 'marginal': 681,\n",
       " 'gag': 682,\n",
       " 'cm9': 683,\n",
       " 'intestinal': 684,\n",
       " 's.': 685,\n",
       " 'edge': 686,\n",
       " 'been': 687,\n",
       " '60': 688,\n",
       " 'phalloidin': 689,\n",
       " 'medium': 690,\n",
       " 'circles': 691,\n",
       " 'less': 692,\n",
       " 'boundary': 693,\n",
       " 'further': 694,\n",
       " 'demonstrating': 695,\n",
       " 'flag': 696,\n",
       " 'fold': 697,\n",
       " 'aggregates': 698,\n",
       " 'myc': 699,\n",
       " 'row': 700,\n",
       " 'dic': 701,\n",
       " 'mm': 702,\n",
       " 'filament': 703,\n",
       " 'lamina': 704,\n",
       " 'immunofluorescent': 705,\n",
       " 'rhodamine': 706,\n",
       " 'receptors': 707,\n",
       " 'nt': 708,\n",
       " 'zone': 709,\n",
       " 'pattern': 710,\n",
       " 'ductal': 711,\n",
       " 'relative': 712,\n",
       " 'enlarged': 713,\n",
       " 'biofilm': 714,\n",
       " 'fields': 715,\n",
       " 'clone': 716,\n",
       " 'medulla': 717,\n",
       " 'absent': 718,\n",
       " 'vha': 719,\n",
       " 'dotted': 720,\n",
       " 'conventional': 721,\n",
       " 'pancreas': 722,\n",
       " 'cart': 723,\n",
       " 'lymph': 724,\n",
       " 'week': 725,\n",
       " 'noggin': 726,\n",
       " 'mrfp': 727,\n",
       " 'vector': 728,\n",
       " 'light': 729,\n",
       " 'grey': 730,\n",
       " 'surrounded': 731,\n",
       " 'cords': 732,\n",
       " 'species': 733,\n",
       " 'nucleus.': 734,\n",
       " 'monoclonal': 735,\n",
       " 'group.': 736,\n",
       " 'root': 737,\n",
       " 'psrpk': 738,\n",
       " 'crb2a': 739,\n",
       " 'rods.': 740,\n",
       " 'specimen': 741,\n",
       " 'terminals.': 742,\n",
       " 'avp': 743,\n",
       " 'cervical': 744,\n",
       " 'assay.': 745,\n",
       " 'main': 746,\n",
       " 'first': 747,\n",
       " 'typical': 748,\n",
       " 'derived': 749,\n",
       " 'â°': 750,\n",
       " 'subsequently': 751,\n",
       " 'midbrain': 752,\n",
       " 'fibres': 753,\n",
       " 'case': 754,\n",
       " 'ihc': 755,\n",
       " 'd2': 756,\n",
       " 'apoptotic': 757,\n",
       " 'subjected': 758,\n",
       " 'identified': 759,\n",
       " 'lacking': 760,\n",
       " 'numbers': 761,\n",
       " 'differences': 762,\n",
       " 'somatic': 763,\n",
       " 'biotin': 764,\n",
       " 'processed': 765,\n",
       " 'stratum': 766,\n",
       " 'accessory': 767,\n",
       " 'score': 768,\n",
       " 'amyloid': 769,\n",
       " 'pneumoniae': 770,\n",
       " 'nam': 771,\n",
       " 'empty': 772,\n",
       " 'made': 773,\n",
       " 'percentage': 774,\n",
       " 'abbreviations': 775,\n",
       " 'means': 776,\n",
       " 'specimens': 777,\n",
       " 'intracellular': 778,\n",
       " 'do': 779,\n",
       " 'salivary': 780,\n",
       " 'axolotl': 781,\n",
       " 'dig': 782,\n",
       " 'endodermal': 783,\n",
       " 'method': 784,\n",
       " 'presented': 785,\n",
       " 'enriched': 786,\n",
       " 'collected': 787,\n",
       " 'meiotic': 788,\n",
       " 'test': 789,\n",
       " '3.5': 790,\n",
       " 'b2': 791,\n",
       " 'papaya': 792,\n",
       " 'plasma': 793,\n",
       " 'labels': 794,\n",
       " 'trochophore': 795,\n",
       " 'ventricular': 796,\n",
       " 'colocalize': 797,\n",
       " 'plexiform': 798,\n",
       " 'micdys': 799,\n",
       " 'porcine': 800,\n",
       " 'shp2': 801,\n",
       " 'slc26a4': 802,\n",
       " 'sirna': 803,\n",
       " 'dentate': 804,\n",
       " 'population': 805,\n",
       " 'position': 806,\n",
       " 'embedded': 807,\n",
       " 'con': 808,\n",
       " 'annexin': 809,\n",
       " 'lens': 810,\n",
       " 'digital': 811,\n",
       " 'examination': 812,\n",
       " 'vasculature': 813,\n",
       " '52': 814,\n",
       " 'paired': 815,\n",
       " 'highlight': 816,\n",
       " 'pamicdys': 817,\n",
       " 'lobe': 818,\n",
       " '124': 819,\n",
       " '125b': 820,\n",
       " '34a': 821,\n",
       " '128': 822,\n",
       " 'sham': 823,\n",
       " 'given': 824,\n",
       " 'together': 825,\n",
       " 'second': 826,\n",
       " 'location': 827,\n",
       " 'space': 828,\n",
       " 'left.': 829,\n",
       " 'vnc': 830,\n",
       " 'matter': 831,\n",
       " 'indicated.': 832,\n",
       " 'appearance': 833,\n",
       " 'indicating': 834,\n",
       " 'condensation': 835,\n",
       " 'heads': 836,\n",
       " 'malignant': 837,\n",
       " 'antisense': 838,\n",
       " '21': 839,\n",
       " 'moderate': 840,\n",
       " 'localization.': 841,\n",
       " 'latex': 842,\n",
       " 'tagged': 843,\n",
       " 'onl': 844,\n",
       " 'mantle': 845,\n",
       " 'distinct': 846,\n",
       " 'changes': 847,\n",
       " 'middle': 848,\n",
       " 'next': 849,\n",
       " 'neurosphere': 850,\n",
       " 'sense': 851,\n",
       " 'renal': 852,\n",
       " 'gold': 853,\n",
       " 'examined': 854,\n",
       " 'increase': 855,\n",
       " '2.': 856,\n",
       " 'lack': 857,\n",
       " 'subunit': 858,\n",
       " 'if': 859,\n",
       " 'photoreceptor': 860,\n",
       " 'presynaptic': 861,\n",
       " 'pass': 862,\n",
       " 'maa': 863,\n",
       " 'sna': 864,\n",
       " '17': 865,\n",
       " 'gland.': 866,\n",
       " 'incubation': 867,\n",
       " 'had': 868,\n",
       " 'spermatid': 869,\n",
       " 'points': 870,\n",
       " 'bacteria': 871,\n",
       " 'microscope.': 872,\n",
       " 'germ': 873,\n",
       " 'quantitative': 874,\n",
       " 'dual': 875,\n",
       " 'attached': 876,\n",
       " 'caudal': 877,\n",
       " 'rachis': 878,\n",
       " 'rudimentary': 879,\n",
       " 'smaller': 880,\n",
       " 'controls': 881,\n",
       " 'hybridized': 882,\n",
       " 'cerebral': 883,\n",
       " 'partially': 884,\n",
       " 'gda': 885,\n",
       " 'detection': 886,\n",
       " 'plane': 887,\n",
       " 'transferrin': 888,\n",
       " 'striola': 889,\n",
       " 'vrp1': 890,\n",
       " 'vrp': 891,\n",
       " 'vasa.': 892,\n",
       " 'sox100b': 893,\n",
       " 'axons': 894,\n",
       " 'clusters': 895,\n",
       " 'round': 896,\n",
       " 'occludin': 897,\n",
       " 'cd45': 898,\n",
       " '5s': 899,\n",
       " 'cin': 900,\n",
       " 'cd133': 901,\n",
       " 'neuroectodermal': 902,\n",
       " 'ldlr': 903,\n",
       " 'dm': 904,\n",
       " 'nm.': 905,\n",
       " 'mass': 906,\n",
       " 'magnification.': 907,\n",
       " 'cd34': 908,\n",
       " 'air': 909,\n",
       " 'adhesion': 910,\n",
       " 'inset': 911,\n",
       " 'fusion': 912,\n",
       " 'migrate': 913,\n",
       " 'th': 914,\n",
       " 'epidermis': 915,\n",
       " 'egf': 916,\n",
       " 'cartilage': 917,\n",
       " 'cases': 918,\n",
       " 'male': 919,\n",
       " 'pha': 920,\n",
       " 'about': 921,\n",
       " 'follicular': 922,\n",
       " 'present.': 923,\n",
       " 'f98': 924,\n",
       " 'dio': 925,\n",
       " 'amacrine': 926,\n",
       " 'gustducin': 927,\n",
       " 'microdystrophin': 928,\n",
       " 'strongly': 929,\n",
       " 'infection.': 930,\n",
       " 'selected': 931,\n",
       " 'strongest': 932,\n",
       " 'cox': 933,\n",
       " 'stroma': 934,\n",
       " 'emergence': 935,\n",
       " 'site': 936,\n",
       " 'way': 937,\n",
       " 'although': 938,\n",
       " 'lumen': 939,\n",
       " 'region.': 940,\n",
       " 'border': 941,\n",
       " 'heligmosomoides': 942,\n",
       " 'bakeri': 943,\n",
       " 'saline': 944,\n",
       " 'density': 945,\n",
       " 'ha': 946,\n",
       " '600': 947,\n",
       " 'software': 948,\n",
       " 'dii': 949,\n",
       " 'olfactory': 950,\n",
       " 'administration': 951,\n",
       " 'texas': 952,\n",
       " 'acid': 953,\n",
       " 'histology': 954,\n",
       " 'vitro': 955,\n",
       " 'serial': 956,\n",
       " 'pharyngeal': 957,\n",
       " 'g.': 958,\n",
       " 'nestin': 959,\n",
       " 'fetal': 960,\n",
       " 'cs': 961,\n",
       " 'phenotype': 962,\n",
       " 'aberrant': 963,\n",
       " 'accumulation': 964,\n",
       " 'sensory': 965,\n",
       " 'outlined': 966,\n",
       " 'sh': 967,\n",
       " 'clones': 968,\n",
       " 'still': 969,\n",
       " 'asterisks': 970,\n",
       " 'glioma': 971,\n",
       " 'decreased': 972,\n",
       " 'barrier': 973,\n",
       " 'especially': 974,\n",
       " 'ms': 975,\n",
       " 'indirect': 976,\n",
       " 'digoxigenin': 977,\n",
       " 'stages': 978,\n",
       " 'podoplanin': 979,\n",
       " 'ultrastructural': 980,\n",
       " 'filled': 981,\n",
       " 'display': 982,\n",
       " 'pig': 983,\n",
       " 'oocytes': 984,\n",
       " 'details': 985,\n",
       " 'twisted': 986,\n",
       " 'irregular': 987,\n",
       " 'reveals': 988,\n",
       " 'damage': 989,\n",
       " 'particles': 990,\n",
       " 'end': 991,\n",
       " 'overexpression': 992,\n",
       " 'stretched': 993,\n",
       " 'branchial': 994,\n",
       " 'collar': 995,\n",
       " 'prototroch': 996,\n",
       " 'label': 997,\n",
       " 'mdx': 998,\n",
       " 'mrp2': 999,\n",
       " 'mdck': 1000,\n",
       " ...}"
      ]
     },
     "execution_count": 10,
     "metadata": {},
     "output_type": "execute_result"
    }
   ],
   "source": [
    "dm.word_index"
   ]
  },
  {
   "cell_type": "code",
   "execution_count": 5,
   "metadata": {},
   "outputs": [
    {
     "data": {
      "text/plain": [
       "7221"
      ]
     },
     "execution_count": 5,
     "metadata": {},
     "output_type": "execute_result"
    }
   ],
   "source": [
    "MAX_NUMBER_WORDS"
   ]
  },
  {
   "cell_type": "markdown",
   "metadata": {},
   "source": [
    "## Learning rate finder\n",
    "\n",
    "As we want the model to log the confusion matrix to the cloud, its handy to pass the `target_classes` as a parameter. There may be a way to access the module from the callbacks in Pytorch Lightning but I haven't find it yet."
   ]
  },
  {
   "cell_type": "code",
   "execution_count": 12,
   "metadata": {},
   "outputs": [],
   "source": [
    "model = CaptionModalityClassifier(\n",
    "                 max_input_length=MAX_WORDS_PER_SENTENCE,\n",
    "                 vocab_size=MAX_NUMBER_WORDS,\n",
    "                 embedding_dim=WORD_DIMENSION,\n",
    "                 filters=NUM_FILTERS,\n",
    "                 embeddings=embeddings_matrix,\n",
    "                 num_classes=NUM_CLASSES,\n",
    "                 target_classes=target_classes,\n",
    "                 train_embeddings=True,\n",
    "                 lr=1e-4)"
   ]
  },
  {
   "cell_type": "markdown",
   "metadata": {},
   "source": [
    "`pl` implements the one-cycle learning approach to find an initial learning rate. Now, I'm not sure how I feel about the different range of values that I have gotten by rerunning this function. However, using `1-e4` has produced a smooth curve..."
   ]
  },
  {
   "cell_type": "code",
   "execution_count": 13,
   "metadata": {
    "scrolled": true
   },
   "outputs": [
    {
     "name": "stderr",
     "output_type": "stream",
     "text": [
      "GPU available: True, used: True\n",
      "TPU available: False, using: 0 TPU cores\n",
      "CUDA_VISIBLE_DEVICES: [0]\n",
      "\n",
      "  | Name    | Type            | Params\n",
      "--------------------------------------------\n",
      "0 | CNNText | CNNTextBackbone | 2 M   \n",
      "1 | fc      | Linear          | 1 K   \n"
     ]
    },
    {
     "data": {
      "application/vnd.jupyter.widget-view+json": {
       "model_id": "ab73ab5ec6bb4540b17cde5531a4e9ab",
       "version_major": 2,
       "version_minor": 0
      },
      "text/plain": [
       "HBox(children=(FloatProgress(value=0.0, description='Finding best initial lr', style=ProgressStyle(description…"
      ]
     },
     "metadata": {},
     "output_type": "display_data"
    },
    {
     "name": "stdout",
     "output_type": "stream",
     "text": [
      "\n"
     ]
    },
    {
     "name": "stderr",
     "output_type": "stream",
     "text": [
      "Saving latest checkpoint..\n",
      "LR finder stopped early due to diverging loss.\n"
     ]
    }
   ],
   "source": [
    "# https://pytorch-lightning.readthedocs.io/en/latest/lr_finder.html\n",
    "trainer = Trainer(gpus=1)\n",
    "lr_finder = trainer.lr_find(model, dm)"
   ]
  },
  {
   "cell_type": "code",
   "execution_count": 14,
   "metadata": {},
   "outputs": [
    {
     "name": "stdout",
     "output_type": "stream",
     "text": [
      "0.008317637711026709\n"
     ]
    },
    {
     "data": {
      "image/png": "[encoded data removed]",
      "text/plain": [
       "<Figure size 432x288 with 1 Axes>"
      ]
     },
     "metadata": {
      "needs_background": "light"
     },
     "output_type": "display_data"
    }
   ],
   "source": [
    "fig = lr_finder.plot(); fig.show()\n",
    "suggested_lr = lr_finder.suggestion()\n",
    "print(suggested_lr)"
   ]
  },
  {
   "cell_type": "markdown",
   "metadata": {},
   "source": [
    "## Train the model"
   ]
  },
  {
   "cell_type": "code",
   "execution_count": 6,
   "metadata": {},
   "outputs": [
    {
     "data": {
      "text/html": [
       "\n",
       "                Logging results to <a href=\"https://wandb.com\" target=\"_blank\">Weights & Biases</a> <a href=\"https://docs.wandb.com/integrations/jupyter.html\" target=\"_blank\">(Documentation)</a>.<br/>\n",
       "                Project page: <a href=\"https://app.wandb.ai/jtrells/biomedical-multimodal\" target=\"_blank\">https://app.wandb.ai/jtrells/biomedical-multimodal</a><br/>\n",
       "                Run page: <a href=\"https://app.wandb.ai/jtrells/biomedical-multimodal/runs/1otq4kae\" target=\"_blank\">https://app.wandb.ai/jtrells/biomedical-multimodal/runs/1otq4kae</a><br/>\n",
       "            "
      ],
      "text/plain": [
       "<IPython.core.display.HTML object>"
      ]
     },
     "metadata": {},
     "output_type": "display_data"
    },
    {
     "name": "stderr",
     "output_type": "stream",
     "text": [
      "Failed to query for notebook name, you can set it manually with the WANDB_NOTEBOOK_NAME environment variable\n",
      "\u001b[34m\u001b[1mwandb\u001b[0m: Wandb version 0.10.1 is available!  To upgrade, please run:\n",
      "\u001b[34m\u001b[1mwandb\u001b[0m:  $ pip install wandb --upgrade\n",
      "GPU available: True, used: True\n",
      "TPU available: False, using: 0 TPU cores\n",
      "CUDA_VISIBLE_DEVICES: [0]\n"
     ]
    },
    {
     "name": "stdout",
     "output_type": "stream",
     "text": [
      "snowy-jazz-8\n"
     ]
    },
    {
     "name": "stderr",
     "output_type": "stream",
     "text": [
      "\n",
      "  | Name    | Type            | Params\n",
      "--------------------------------------------\n",
      "0 | CNNText | CNNTextBackbone | 2 M   \n",
      "1 | fc      | Linear          | 1 K   \n"
     ]
    },
    {
     "data": {
      "application/vnd.jupyter.widget-view+json": {
       "model_id": "",
       "version_major": 2,
       "version_minor": 0
      },
      "text/plain": [
       "HBox(children=(FloatProgress(value=1.0, bar_style='info', description='Validation sanity check', layout=Layout…"
      ]
     },
     "metadata": {},
     "output_type": "display_data"
    },
    {
     "data": {
      "application/vnd.jupyter.widget-view+json": {
       "model_id": "d179dc01189f438c9ef008e1605ab4e0",
       "version_major": 2,
       "version_minor": 0
      },
      "text/plain": [
       "HBox(children=(FloatProgress(value=1.0, bar_style='info', description='Training', layout=Layout(flex='2'), max…"
      ]
     },
     "metadata": {},
     "output_type": "display_data"
    },
    {
     "data": {
      "application/vnd.jupyter.widget-view+json": {
       "model_id": "",
       "version_major": 2,
       "version_minor": 0
      },
      "text/plain": [
       "HBox(children=(FloatProgress(value=1.0, bar_style='info', description='Validating', layout=Layout(flex='2'), m…"
      ]
     },
     "metadata": {},
     "output_type": "display_data"
    },
    {
     "data": {
      "application/vnd.jupyter.widget-view+json": {
       "model_id": "",
       "version_major": 2,
       "version_minor": 0
      },
      "text/plain": [
       "HBox(children=(FloatProgress(value=1.0, bar_style='info', description='Validating', layout=Layout(flex='2'), m…"
      ]
     },
     "metadata": {},
     "output_type": "display_data"
    },
    {
     "data": {
      "application/vnd.jupyter.widget-view+json": {
       "model_id": "",
       "version_major": 2,
       "version_minor": 0
      },
      "text/plain": [
       "HBox(children=(FloatProgress(value=1.0, bar_style='info', description='Validating', layout=Layout(flex='2'), m…"
      ]
     },
     "metadata": {},
     "output_type": "display_data"
    },
    {
     "data": {
      "application/vnd.jupyter.widget-view+json": {
       "model_id": "",
       "version_major": 2,
       "version_minor": 0
      },
      "text/plain": [
       "HBox(children=(FloatProgress(value=1.0, bar_style='info', description='Validating', layout=Layout(flex='2'), m…"
      ]
     },
     "metadata": {},
     "output_type": "display_data"
    },
    {
     "data": {
      "application/vnd.jupyter.widget-view+json": {
       "model_id": "",
       "version_major": 2,
       "version_minor": 0
      },
      "text/plain": [
       "HBox(children=(FloatProgress(value=1.0, bar_style='info', description='Validating', layout=Layout(flex='2'), m…"
      ]
     },
     "metadata": {},
     "output_type": "display_data"
    },
    {
     "data": {
      "application/vnd.jupyter.widget-view+json": {
       "model_id": "",
       "version_major": 2,
       "version_minor": 0
      },
      "text/plain": [
       "HBox(children=(FloatProgress(value=1.0, bar_style='info', description='Validating', layout=Layout(flex='2'), m…"
      ]
     },
     "metadata": {},
     "output_type": "display_data"
    },
    {
     "data": {
      "application/vnd.jupyter.widget-view+json": {
       "model_id": "",
       "version_major": 2,
       "version_minor": 0
      },
      "text/plain": [
       "HBox(children=(FloatProgress(value=1.0, bar_style='info', description='Validating', layout=Layout(flex='2'), m…"
      ]
     },
     "metadata": {},
     "output_type": "display_data"
    },
    {
     "data": {
      "application/vnd.jupyter.widget-view+json": {
       "model_id": "",
       "version_major": 2,
       "version_minor": 0
      },
      "text/plain": [
       "HBox(children=(FloatProgress(value=1.0, bar_style='info', description='Validating', layout=Layout(flex='2'), m…"
      ]
     },
     "metadata": {},
     "output_type": "display_data"
    },
    {
     "data": {
      "application/vnd.jupyter.widget-view+json": {
       "model_id": "",
       "version_major": 2,
       "version_minor": 0
      },
      "text/plain": [
       "HBox(children=(FloatProgress(value=1.0, bar_style='info', description='Validating', layout=Layout(flex='2'), m…"
      ]
     },
     "metadata": {},
     "output_type": "display_data"
    },
    {
     "data": {
      "application/vnd.jupyter.widget-view+json": {
       "model_id": "",
       "version_major": 2,
       "version_minor": 0
      },
      "text/plain": [
       "HBox(children=(FloatProgress(value=1.0, bar_style='info', description='Validating', layout=Layout(flex='2'), m…"
      ]
     },
     "metadata": {},
     "output_type": "display_data"
    },
    {
     "data": {
      "application/vnd.jupyter.widget-view+json": {
       "model_id": "",
       "version_major": 2,
       "version_minor": 0
      },
      "text/plain": [
       "HBox(children=(FloatProgress(value=1.0, bar_style='info', description='Validating', layout=Layout(flex='2'), m…"
      ]
     },
     "metadata": {},
     "output_type": "display_data"
    },
    {
     "data": {
      "application/vnd.jupyter.widget-view+json": {
       "model_id": "",
       "version_major": 2,
       "version_minor": 0
      },
      "text/plain": [
       "HBox(children=(FloatProgress(value=1.0, bar_style='info', description='Validating', layout=Layout(flex='2'), m…"
      ]
     },
     "metadata": {},
     "output_type": "display_data"
    },
    {
     "data": {
      "application/vnd.jupyter.widget-view+json": {
       "model_id": "",
       "version_major": 2,
       "version_minor": 0
      },
      "text/plain": [
       "HBox(children=(FloatProgress(value=1.0, bar_style='info', description='Validating', layout=Layout(flex='2'), m…"
      ]
     },
     "metadata": {},
     "output_type": "display_data"
    },
    {
     "data": {
      "application/vnd.jupyter.widget-view+json": {
       "model_id": "",
       "version_major": 2,
       "version_minor": 0
      },
      "text/plain": [
       "HBox(children=(FloatProgress(value=1.0, bar_style='info', description='Validating', layout=Layout(flex='2'), m…"
      ]
     },
     "metadata": {},
     "output_type": "display_data"
    },
    {
     "data": {
      "application/vnd.jupyter.widget-view+json": {
       "model_id": "",
       "version_major": 2,
       "version_minor": 0
      },
      "text/plain": [
       "HBox(children=(FloatProgress(value=1.0, bar_style='info', description='Validating', layout=Layout(flex='2'), m…"
      ]
     },
     "metadata": {},
     "output_type": "display_data"
    },
    {
     "data": {
      "application/vnd.jupyter.widget-view+json": {
       "model_id": "",
       "version_major": 2,
       "version_minor": 0
      },
      "text/plain": [
       "HBox(children=(FloatProgress(value=1.0, bar_style='info', description='Validating', layout=Layout(flex='2'), m…"
      ]
     },
     "metadata": {},
     "output_type": "display_data"
    },
    {
     "data": {
      "application/vnd.jupyter.widget-view+json": {
       "model_id": "",
       "version_major": 2,
       "version_minor": 0
      },
      "text/plain": [
       "HBox(children=(FloatProgress(value=1.0, bar_style='info', description='Validating', layout=Layout(flex='2'), m…"
      ]
     },
     "metadata": {},
     "output_type": "display_data"
    },
    {
     "data": {
      "application/vnd.jupyter.widget-view+json": {
       "model_id": "",
       "version_major": 2,
       "version_minor": 0
      },
      "text/plain": [
       "HBox(children=(FloatProgress(value=1.0, bar_style='info', description='Validating', layout=Layout(flex='2'), m…"
      ]
     },
     "metadata": {},
     "output_type": "display_data"
    },
    {
     "data": {
      "application/vnd.jupyter.widget-view+json": {
       "model_id": "",
       "version_major": 2,
       "version_minor": 0
      },
      "text/plain": [
       "HBox(children=(FloatProgress(value=1.0, bar_style='info', description='Validating', layout=Layout(flex='2'), m…"
      ]
     },
     "metadata": {},
     "output_type": "display_data"
    },
    {
     "data": {
      "application/vnd.jupyter.widget-view+json": {
       "model_id": "",
       "version_major": 2,
       "version_minor": 0
      },
      "text/plain": [
       "HBox(children=(FloatProgress(value=1.0, bar_style='info', description='Validating', layout=Layout(flex='2'), m…"
      ]
     },
     "metadata": {},
     "output_type": "display_data"
    },
    {
     "data": {
      "application/vnd.jupyter.widget-view+json": {
       "model_id": "",
       "version_major": 2,
       "version_minor": 0
      },
      "text/plain": [
       "HBox(children=(FloatProgress(value=1.0, bar_style='info', description='Validating', layout=Layout(flex='2'), m…"
      ]
     },
     "metadata": {},
     "output_type": "display_data"
    },
    {
     "data": {
      "application/vnd.jupyter.widget-view+json": {
       "model_id": "",
       "version_major": 2,
       "version_minor": 0
      },
      "text/plain": [
       "HBox(children=(FloatProgress(value=1.0, bar_style='info', description='Validating', layout=Layout(flex='2'), m…"
      ]
     },
     "metadata": {},
     "output_type": "display_data"
    },
    {
     "data": {
      "application/vnd.jupyter.widget-view+json": {
       "model_id": "",
       "version_major": 2,
       "version_minor": 0
      },
      "text/plain": [
       "HBox(children=(FloatProgress(value=1.0, bar_style='info', description='Validating', layout=Layout(flex='2'), m…"
      ]
     },
     "metadata": {},
     "output_type": "display_data"
    },
    {
     "data": {
      "application/vnd.jupyter.widget-view+json": {
       "model_id": "",
       "version_major": 2,
       "version_minor": 0
      },
      "text/plain": [
       "HBox(children=(FloatProgress(value=1.0, bar_style='info', description='Validating', layout=Layout(flex='2'), m…"
      ]
     },
     "metadata": {},
     "output_type": "display_data"
    },
    {
     "data": {
      "application/vnd.jupyter.widget-view+json": {
       "model_id": "",
       "version_major": 2,
       "version_minor": 0
      },
      "text/plain": [
       "HBox(children=(FloatProgress(value=1.0, bar_style='info', description='Validating', layout=Layout(flex='2'), m…"
      ]
     },
     "metadata": {},
     "output_type": "display_data"
    },
    {
     "data": {
      "application/vnd.jupyter.widget-view+json": {
       "model_id": "",
       "version_major": 2,
       "version_minor": 0
      },
      "text/plain": [
       "HBox(children=(FloatProgress(value=1.0, bar_style='info', description='Validating', layout=Layout(flex='2'), m…"
      ]
     },
     "metadata": {},
     "output_type": "display_data"
    },
    {
     "data": {
      "application/vnd.jupyter.widget-view+json": {
       "model_id": "",
       "version_major": 2,
       "version_minor": 0
      },
      "text/plain": [
       "HBox(children=(FloatProgress(value=1.0, bar_style='info', description='Validating', layout=Layout(flex='2'), m…"
      ]
     },
     "metadata": {},
     "output_type": "display_data"
    },
    {
     "data": {
      "application/vnd.jupyter.widget-view+json": {
       "model_id": "",
       "version_major": 2,
       "version_minor": 0
      },
      "text/plain": [
       "HBox(children=(FloatProgress(value=1.0, bar_style='info', description='Validating', layout=Layout(flex='2'), m…"
      ]
     },
     "metadata": {},
     "output_type": "display_data"
    },
    {
     "data": {
      "application/vnd.jupyter.widget-view+json": {
       "model_id": "",
       "version_major": 2,
       "version_minor": 0
      },
      "text/plain": [
       "HBox(children=(FloatProgress(value=1.0, bar_style='info', description='Validating', layout=Layout(flex='2'), m…"
      ]
     },
     "metadata": {},
     "output_type": "display_data"
    },
    {
     "data": {
      "application/vnd.jupyter.widget-view+json": {
       "model_id": "",
       "version_major": 2,
       "version_minor": 0
      },
      "text/plain": [
       "HBox(children=(FloatProgress(value=1.0, bar_style='info', description='Validating', layout=Layout(flex='2'), m…"
      ]
     },
     "metadata": {},
     "output_type": "display_data"
    },
    {
     "data": {
      "application/vnd.jupyter.widget-view+json": {
       "model_id": "",
       "version_major": 2,
       "version_minor": 0
      },
      "text/plain": [
       "HBox(children=(FloatProgress(value=1.0, bar_style='info', description='Validating', layout=Layout(flex='2'), m…"
      ]
     },
     "metadata": {},
     "output_type": "display_data"
    },
    {
     "data": {
      "application/vnd.jupyter.widget-view+json": {
       "model_id": "",
       "version_major": 2,
       "version_minor": 0
      },
      "text/plain": [
       "HBox(children=(FloatProgress(value=1.0, bar_style='info', description='Validating', layout=Layout(flex='2'), m…"
      ]
     },
     "metadata": {},
     "output_type": "display_data"
    },
    {
     "name": "stderr",
     "output_type": "stream",
     "text": [
      "Saving latest checkpoint..\n",
      "Epoch 00032: early stopping triggered.\n"
     ]
    },
    {
     "name": "stdout",
     "output_type": "stream",
     "text": [
      "\n"
     ]
    }
   ],
   "source": [
    "model = CaptionModalityClassifier(\n",
    "                 max_input_length=MAX_WORDS_PER_SENTENCE,\n",
    "                 vocab_size=MAX_NUMBER_WORDS,\n",
    "                 embedding_dim=WORD_DIMENSION,\n",
    "                 filters=NUM_FILTERS,\n",
    "                 embeddings=embeddings_matrix,\n",
    "                 num_classes=NUM_CLASSES,\n",
    "                 target_classes=target_classes,\n",
    "                 train_embeddings=True,\n",
    "                 lr=LR)\n",
    "\n",
    "# Creating the context for the weight and biases logger\n",
    "wandb_logger = WandbLogger(project=PROJECT, tags=['nb', 'captions-only'])\n",
    "wandb_logger.experiment.save()\n",
    "print(wandb_logger.experiment.name)\n",
    "\n",
    "output_run_path = OUTPUT_DIR / wandb_logger.experiment.name \n",
    "os.makedirs(output_run_path, exist_ok=False)\n",
    "\n",
    "early_stop_callback = EarlyStopping(\n",
    "    monitor=\"val_loss\",\n",
    "    min_delta=0.0,\n",
    "    patience=5,\n",
    "    verbose=True,\n",
    "    mode='min'\n",
    ")\n",
    "\n",
    "trainer = Trainer(gpus=1,\n",
    "                  max_epochs=50,\n",
    "                  default_root_dir=str(output_run_path),\n",
    "                  early_stop_callback=early_stop_callback,\n",
    "                  logger=wandb_logger)\n",
    "trainer.fit(model, dm)\n",
    "trainer.save_checkpoint(str(output_run_path / 'final.pt'))"
   ]
  },
  {
   "cell_type": "markdown",
   "metadata": {},
   "source": [
    "## Test the model\n",
    "\n",
    "Test uses the test_step and test_epoch_end functions on the model, and obtain the dataset from the test dataloader. Certainly, we can modify the dataloader to use the validation settings for test while experimenting."
   ]
  },
  {
   "cell_type": "code",
   "execution_count": 7,
   "metadata": {
    "scrolled": false
   },
   "outputs": [
    {
     "name": "stderr",
     "output_type": "stream",
     "text": [
      "Failed to query for notebook name, you can set it manually with the WANDB_NOTEBOOK_NAME environment variable\n",
      "\u001b[34m\u001b[1mwandb\u001b[0m: Wandb version 0.10.1 is available!  To upgrade, please run:\n",
      "\u001b[34m\u001b[1mwandb\u001b[0m:  $ pip install wandb --upgrade\n"
     ]
    },
    {
     "data": {
      "application/vnd.jupyter.widget-view+json": {
       "model_id": "6cec3f1c14bd4e4784e4398a32f167ae",
       "version_major": 2,
       "version_minor": 0
      },
      "text/plain": [
       "HBox(children=(FloatProgress(value=1.0, bar_style='info', description='Testing', layout=Layout(flex='2'), max=…"
      ]
     },
     "metadata": {},
     "output_type": "display_data"
    },
    {
     "name": "stdout",
     "output_type": "stream",
     "text": [
      "Accuracy: 62.19931411743164\n",
      "--------------------------------------------------------------------------------\n",
      "DATALOADER:0 TEST RESULTS\n",
      "{'test_acc': tensor(62.1993, device='cuda:0')}\n",
      "--------------------------------------------------------------------------------\n",
      "\n"
     ]
    },
    {
     "data": {
      "text/plain": [
       "[{'test_acc': 62.19931411743164}]"
      ]
     },
     "execution_count": 7,
     "metadata": {},
     "output_type": "execute_result"
    },
    {
     "data": {
      "image/png": "[encoded data removed]",
      "text/plain": [
       "<Figure size 288x288 with 2 Axes>"
      ]
     },
     "metadata": {
      "needs_background": "light"
     },
     "output_type": "display_data"
    }
   ],
   "source": [
    "trainer.test(model)"
   ]
  }
 ],
 "metadata": {
  "kernelspec": {
   "display_name": "Python 3",
   "language": "python",
   "name": "python3"
  },
  "language_info": {
   "codemirror_mode": {
    "name": "ipython",
    "version": 3
   },
   "file_extension": ".py",
   "mimetype": "text/x-python",
   "name": "python",
   "nbconvert_exporter": "python",
   "pygments_lexer": "ipython3",
   "version": "3.6.9"
  }
 },
 "nbformat": 4,
 "nbformat_minor": 4
}
