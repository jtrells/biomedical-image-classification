{
 "cells": [
  {
   "cell_type": "markdown",
   "metadata": {},
   "source": [
    "# Graphics Classifier\n",
    "\n",
    "Source:\n",
    "+ Chart_Synthetic : Synthetic dataset of graphic images\n",
    "+ Chart2020       : Dataset for infographics 2020\n",
    "+ clef16          : Clef challenge 2016\n",
    "+ clef13          : Clef challenge 2013\n"
   ]
  },
  {
   "cell_type": "markdown",
   "metadata": {},
   "source": [
    "### 1. Importing Libraries"
   ]
  },
  {
   "cell_type": "code",
   "execution_count": 3,
   "metadata": {},
   "outputs": [],
   "source": [
    "import os\n",
    "import sys\n",
    "module_path = \"../src\"\n",
    "#os.environ[\"WANDB_SILENT\"] = \"true\" # Environment Variable to make wandb silent\n",
    "if module_path not in sys.path:\n",
    "    sys.path.append(module_path)"
   ]
  },
  {
   "cell_type": "code",
   "execution_count": 20,
   "metadata": {},
   "outputs": [],
   "source": [
    "# 1. General Libraries\n",
    "import pandas as pd\n",
    "import numpy as np\n",
    "from pathlib import Path\n",
    "import yaml\n",
    "import seaborn as sns\n",
    "import matplotlib.pyplot as plt\n",
    "# 2. DataModule & Class Libraries\n",
    "from utils.label_encoder import label_encoder_target\n",
    "from utils.calc_stat import calc_dataset_mean_std\n",
    "from dataset.ImageDataModule import ImageDataModule\n",
    "from dataset.ImageDataset import ImageDataset\n",
    "from models.EfficientNetClass import EfficientNetClass\n",
    "from models.ResNetClass import ResNetClass\n",
    "\n",
    "# 3. Pytorch & Pytorch Lightning Libraries\n",
    "from pytorch_lightning import Trainer,seed_everything\n",
    "from torchvision import transforms\n",
    "from pytorch_lightning.callbacks import LearningRateMonitor,ModelCheckpoint\n",
    "from pytorch_lightning.callbacks.early_stopping import EarlyStopping\n",
    "from pytorch_lightning.loggers import WandbLogger\n",
    "import torch\n",
    "# 4. Wandb Tracker Experiements\n",
    "import wandb"
   ]
  },
  {
   "cell_type": "code",
   "execution_count": 21,
   "metadata": {},
   "outputs": [
    {
     "name": "stdout",
     "output_type": "stream",
     "text": [
      "My base path is /mnt\n",
      "The given dataset is located here: ../data/graphics_dataset_final_v2.csv\n",
      "Let's use this folder: /mnt/artifacts/experiments to save our artifacts.\n"
     ]
    }
   ],
   "source": [
    "BASE_PATH = Path('/mnt')\n",
    "print(f\"My base path is {BASE_PATH}\")\n",
    "DATA_PATH = '../data/graphics_dataset_final_v2.csv'\n",
    "print(f\"The given dataset is located here: {DATA_PATH}\")\n",
    "OUTPUT_DIR = Path('/mnt/artifacts/experiments/')\n",
    "print(f\"Let's use this folder: {OUTPUT_DIR} to save our artifacts.\")\n",
    "BASE_IMG_DIR = BASE_PATH \n",
    "NAME_OUTPUT  = 'graphics_classifier_v1'"
   ]
  },
  {
   "cell_type": "code",
   "execution_count": 22,
   "metadata": {},
   "outputs": [
    {
     "name": "stdout",
     "output_type": "stream",
     "text": [
      "Let's use this folder /mnt/artifacts/experiments/Biomedical-Image-Classification-Graphics to save our sweep iterations\n"
     ]
    }
   ],
   "source": [
    "SEED = 42 \n",
    "seed_everything(42)\n",
    "PROJECT = 'Biomedical-Image-Classification-Graphics'\n",
    "NUM_WORKERS = 72 # workers on the cluster, normally 2 or 4 on a laptop\n",
    "METRIC_MONITOR = \"val_avg_loss\"\n",
    "OUTPUT_PROJECT = OUTPUT_DIR/PROJECT\n",
    "MODE           = 'min'\n",
    "EXTENSION      = '.pt'\n",
    "print(f\"Let's use this folder {OUTPUT_PROJECT} to save our sweep iterations\")\n",
    "os.makedirs(OUTPUT_PROJECT, exist_ok=True) # Check if it is false"
   ]
  },
  {
   "cell_type": "code",
   "execution_count": 7,
   "metadata": {},
   "outputs": [],
   "source": [
    "os.makedirs(OUTPUT_PROJECT, exist_ok=True) # Check if it is false"
   ]
  },
  {
   "cell_type": "markdown",
   "metadata": {},
   "source": [
    "### 3. Reading the Data & Label Encoding Classes\n",
    "In this step, we read the csv file and apply a label encoder to the classes in order to run the classifier only with the class \"GRAPHICS\""
   ]
  },
  {
   "cell_type": "code",
   "execution_count": 8,
   "metadata": {},
   "outputs": [
    {
     "data": {
      "text/html": [
       "<div>\n",
       "<style scoped>\n",
       "    .dataframe tbody tr th:only-of-type {\n",
       "        vertical-align: middle;\n",
       "    }\n",
       "\n",
       "    .dataframe tbody tr th {\n",
       "        vertical-align: top;\n",
       "    }\n",
       "\n",
       "    .dataframe thead th {\n",
       "        text-align: right;\n",
       "    }\n",
       "</style>\n",
       "<table border=\"1\" class=\"dataframe\">\n",
       "  <thead>\n",
       "    <tr style=\"text-align: right;\">\n",
       "      <th></th>\n",
       "      <th>img</th>\n",
       "      <th>original</th>\n",
       "      <th>modality</th>\n",
       "      <th>source</th>\n",
       "      <th>img_path</th>\n",
       "      <th>higher_modality</th>\n",
       "      <th>split_set</th>\n",
       "    </tr>\n",
       "  </thead>\n",
       "  <tbody>\n",
       "    <tr>\n",
       "      <th>0</th>\n",
       "      <td>0.png</td>\n",
       "      <td>Grouped horizontal bar</td>\n",
       "      <td>histogram</td>\n",
       "      <td>Chart_Synthetic</td>\n",
       "      <td>chart_synthetic_1/train/0.png</td>\n",
       "      <td>GRAPHICS</td>\n",
       "      <td>TRAIN</td>\n",
       "    </tr>\n",
       "    <tr>\n",
       "      <th>1</th>\n",
       "      <td>100051.png</td>\n",
       "      <td>Scatter</td>\n",
       "      <td>scatterplot</td>\n",
       "      <td>Chart_Synthetic</td>\n",
       "      <td>chart_synthetic_1/train/100051.png</td>\n",
       "      <td>GRAPHICS</td>\n",
       "      <td>TRAIN</td>\n",
       "    </tr>\n",
       "    <tr>\n",
       "      <th>2</th>\n",
       "      <td>1.png</td>\n",
       "      <td>Grouped horizontal bar</td>\n",
       "      <td>histogram</td>\n",
       "      <td>Chart_Synthetic</td>\n",
       "      <td>chart_synthetic_1/train/1.png</td>\n",
       "      <td>GRAPHICS</td>\n",
       "      <td>TRAIN</td>\n",
       "    </tr>\n",
       "    <tr>\n",
       "      <th>3</th>\n",
       "      <td>100052.png</td>\n",
       "      <td>Scatter</td>\n",
       "      <td>scatterplot</td>\n",
       "      <td>Chart_Synthetic</td>\n",
       "      <td>chart_synthetic_1/train/100052.png</td>\n",
       "      <td>GRAPHICS</td>\n",
       "      <td>TRAIN</td>\n",
       "    </tr>\n",
       "    <tr>\n",
       "      <th>4</th>\n",
       "      <td>10.png</td>\n",
       "      <td>Grouped vertical bar</td>\n",
       "      <td>histogram</td>\n",
       "      <td>Chart_Synthetic</td>\n",
       "      <td>chart_synthetic_1/train/10.png</td>\n",
       "      <td>GRAPHICS</td>\n",
       "      <td>VAL</td>\n",
       "    </tr>\n",
       "  </tbody>\n",
       "</table>\n",
       "</div>"
      ],
      "text/plain": [
       "          img                original     modality           source  \\\n",
       "0       0.png  Grouped horizontal bar    histogram  Chart_Synthetic   \n",
       "1  100051.png                 Scatter  scatterplot  Chart_Synthetic   \n",
       "2       1.png  Grouped horizontal bar    histogram  Chart_Synthetic   \n",
       "3  100052.png                 Scatter  scatterplot  Chart_Synthetic   \n",
       "4      10.png    Grouped vertical bar    histogram  Chart_Synthetic   \n",
       "\n",
       "                             img_path higher_modality split_set  \n",
       "0       chart_synthetic_1/train/0.png        GRAPHICS     TRAIN  \n",
       "1  chart_synthetic_1/train/100051.png        GRAPHICS     TRAIN  \n",
       "2       chart_synthetic_1/train/1.png        GRAPHICS     TRAIN  \n",
       "3  chart_synthetic_1/train/100052.png        GRAPHICS     TRAIN  \n",
       "4      chart_synthetic_1/train/10.png        GRAPHICS       VAL  "
      ]
     },
     "execution_count": 8,
     "metadata": {},
     "output_type": "execute_result"
    }
   ],
   "source": [
    "df = pd.read_csv(DATA_PATH, sep='\\t')\n",
    "le_encoder_graphics,dict_label = label_encoder_target(df,target_col='modality')\n",
    "df.head()"
   ]
  },
  {
   "cell_type": "code",
   "execution_count": 9,
   "metadata": {},
   "outputs": [
    {
     "data": {
      "text/plain": [
       "TRAIN    136825\n",
       "TEST      42758\n",
       "VAL       34207\n",
       "Name: split_set, dtype: int64"
      ]
     },
     "execution_count": 9,
     "metadata": {},
     "output_type": "execute_result"
    }
   ],
   "source": [
    "df.split_set.value_counts()"
   ]
  },
  {
   "cell_type": "code",
   "execution_count": 10,
   "metadata": {},
   "outputs": [
    {
     "name": "stderr",
     "output_type": "stream",
     "text": [
      "/usr/local/lib/python3.6/dist-packages/seaborn/_decorators.py:43: FutureWarning: Pass the following variable as a keyword arg: x. From version 0.12, the only valid positional argument will be `data`, and passing other arguments without an explicit keyword will result in an error or misinterpretation.\n",
      "  FutureWarning\n"
     ]
    },
    {
     "data": {
      "image/png": "[encoded data removed]",
      "text/plain": [
       "<Figure size 432x288 with 1 Axes>"
      ]
     },
     "metadata": {
      "needs_background": "light"
     },
     "output_type": "display_data"
    }
   ],
   "source": [
    "sns.countplot(df['modality'])\n",
    "plt.show()"
   ]
  },
  {
   "cell_type": "code",
   "execution_count": 11,
   "metadata": {},
   "outputs": [
    {
     "data": {
      "text/plain": [
       "{'Lineplots': 0,\n",
       " 'graph': 1,\n",
       " 'heatmap': 2,\n",
       " 'histogram': 3,\n",
       " 'other': 4,\n",
       " 'scatterplot': 5}"
      ]
     },
     "execution_count": 11,
     "metadata": {},
     "output_type": "execute_result"
    }
   ],
   "source": [
    "dict_label"
   ]
  },
  {
   "cell_type": "code",
   "execution_count": 12,
   "metadata": {},
   "outputs": [
    {
     "data": {
      "application/vnd.jupyter.widget-view+json": {
       "model_id": "f42a9e8c793f42b0a13379957311b88b",
       "version_major": 2,
       "version_minor": 0
      },
      "text/plain": [
       "HBox(children=(FloatProgress(value=0.0, max=4276.0), HTML(value='')))"
      ]
     },
     "metadata": {},
     "output_type": "display_data"
    },
    {
     "name": "stdout",
     "output_type": "stream",
     "text": [
      "\n"
     ]
    },
    {
     "data": {
      "application/vnd.jupyter.widget-view+json": {
       "model_id": "9acbe0d0ccaf4c399ec8e151bdd54ebb",
       "version_major": 2,
       "version_minor": 0
      },
      "text/plain": [
       "HBox(children=(FloatProgress(value=0.0, max=4276.0), HTML(value='')))"
      ]
     },
     "metadata": {},
     "output_type": "display_data"
    },
    {
     "name": "stdout",
     "output_type": "stream",
     "text": [
      "\n",
      "Mean:  tensor([0.9258, 0.9210, 0.9221])\n",
      "Std :  tensor([0.2064, 0.1993, 0.2114])\n"
     ]
    }
   ],
   "source": [
    "transform_list = [\n",
    "            transforms.ToPILImage(),\n",
    "            transforms.Resize((224, 224)),\n",
    "            transforms.ToTensor(),\n",
    "]\n",
    "transform  = transforms.Compose(transform_list)\n",
    "train_dataset   = ImageDataset   (DATA_PATH,\n",
    "                                  le_encoder_graphics,\n",
    "                                  str(BASE_IMG_DIR),\n",
    "                                  'TRAIN',\n",
    "                                  image_transform=transform,\n",
    "                                  label_name='modality',\n",
    "                                  target_class_col='split_set',\n",
    "                                  path_col='img_path')\n",
    "\n",
    "mean, std =calc_dataset_mean_std(train_dataset, batch_size=32, num_workers=NUM_WORKERS)\n",
    "print(f\"Mean:  {mean}\")\n",
    "print(f\"Std :  {std}\")"
   ]
  },
  {
   "cell_type": "markdown",
   "metadata": {},
   "source": [
    "### 4. Sweep Running\n",
    "+ First We will define the image transformations that we are goint to use for the training , evaluation and test"
   ]
  },
  {
   "cell_type": "code",
   "execution_count": 23,
   "metadata": {},
   "outputs": [],
   "source": [
    "# Image Transformations\n",
    "# 1.1 Train Transformations\n",
    "train_transform = [\n",
    "                    transforms.ToPILImage(),\n",
    "                    transforms.Resize((256, 256)),\n",
    "                    transforms.RandomHorizontalFlip(p=0.5),\n",
    "                    transforms.RandomRotation(15),\n",
    "                    transforms.CenterCrop((224,224)),\n",
    "                    transforms.ToTensor(),\n",
    "                    transforms.Normalize(mean.numpy(), std.numpy())\n",
    "                ]\n",
    "train_transform  = transforms.Compose(train_transform )\n",
    "\n",
    "# 1.2 Valid Transformations\n",
    "val_transform = [\n",
    "                transforms.ToPILImage(),\n",
    "                transforms.Resize((224, 224)),\n",
    "                transforms.ToTensor(),\n",
    "                transforms.Normalize(mean,std)\n",
    "                ]\n",
    "val_transform = transforms.Compose(val_transform)\n",
    "\n",
    "# 1.3 Test Transformations\n",
    "test_transform = [\n",
    "                  transforms.ToPILImage(),\n",
    "                  transforms.Resize((224, 224)),\n",
    "                  transforms.ToTensor(),\n",
    "                  transforms.Normalize(mean.numpy(),std.numpy())\n",
    "                  ]\n",
    "test_transform = transforms.Compose(test_transform)"
   ]
  },
  {
   "cell_type": "code",
   "execution_count": 24,
   "metadata": {},
   "outputs": [
    {
     "name": "stdout",
     "output_type": "stream",
     "text": [
      "PROJECT NAME: Biomedical-Image-Classification-Graphics\n",
      "Metric Monitor: val_avg_loss\n"
     ]
    }
   ],
   "source": [
    "print(f\"PROJECT NAME: {PROJECT}\")\n",
    "print(f\"Metric Monitor: {METRIC_MONITOR}\")"
   ]
  },
  {
   "cell_type": "markdown",
   "metadata": {},
   "source": [
    "### 4.1 ResnetClassifier\n"
   ]
  },
  {
   "cell_type": "code",
   "execution_count": 25,
   "metadata": {},
   "outputs": [],
   "source": [
    "sweep_config = {\n",
    "  \"method\": \"grid\",   # Random search\n",
    "  \"metric\": {           # We want to maximize val_acc\n",
    "      \"name\": METRIC_MONITOR, # Used accuracy\n",
    "      \"goal\": \"minimize\"\n",
    "  },\n",
    "  \"parameters\": {\n",
    "        \"lr\": {\n",
    "            # log uniform distribution between exp(min) and exp(max)\n",
    "            \"distribution\": \"categorical\",\n",
    "            \"values\" : [0.00001]\n",
    "        },\n",
    "        \"fine_tuned_from\":{\n",
    "            \"distribution\": \"categorical\",\n",
    "            \"values\" : [\"whole\"]\n",
    "        },\n",
    "        \"name\":{\n",
    "            \"distribution\": \"categorical\",\n",
    "            \"values\" : [\"resnet18\"]\n",
    "        },\n",
    "        \"batch_size\":{\n",
    "            \"distribution\": \"categorical\",\n",
    "            \"values\" : [32]\n",
    "            \n",
    "        }\n",
    "      \n",
    "    }\n",
    "}"
   ]
  },
  {
   "cell_type": "code",
   "execution_count": 26,
   "metadata": {},
   "outputs": [
    {
     "name": "stdout",
     "output_type": "stream",
     "text": [
      "Create sweep with ID: cakbnb6s\n",
      "Sweep URL: https://wandb.ai/williamberrios/Biomedical-Image-Classification-Graphics/sweeps/cakbnb6s\n"
     ]
    }
   ],
   "source": [
    "sweep_id = wandb.sweep(sweep_config, project=PROJECT)"
   ]
  },
  {
   "cell_type": "code",
   "execution_count": 27,
   "metadata": {},
   "outputs": [],
   "source": [
    "OUTPUT_SWEEP = OUTPUT_PROJECT / sweep_id\n",
    "os.makedirs(OUTPUT_SWEEP, exist_ok=False) # Check if it is false\n",
    "with open(OUTPUT_SWEEP / 'sweep_config.yml', 'w') as outfile:\n",
    "    yaml.dump(sweep_config, outfile, default_flow_style=False)"
   ]
  },
  {
   "cell_type": "code",
   "execution_count": 30,
   "metadata": {},
   "outputs": [
    {
     "name": "stdout",
     "output_type": "stream",
     "text": [
      "/mnt/artifacts/experiments/Biomedical-Image-Classification-Graphics/cakbnb6s\n"
     ]
    }
   ],
   "source": [
    "print(OUTPUT_SWEEP)"
   ]
  },
  {
   "cell_type": "code",
   "execution_count": 28,
   "metadata": {},
   "outputs": [],
   "source": [
    "def sweep_iteration():\n",
    "    # set up W&B logger\n",
    "    wandb.init()    # required to have access to `wandb.config`\n",
    "    wandb_logger =  WandbLogger(project=PROJECT, tags=['nb', 'higher-modality'],reinit = True)\n",
    "    wandb_logger.experiment.save()\n",
    "    print(f\"Name of the Experiment: {wandb_logger.experiment.name}\")\n",
    "    output_run_path = OUTPUT_SWEEP / wandb_logger.experiment.name \n",
    "    os.makedirs(output_run_path, exist_ok=False) # Check if it is false\n",
    "\n",
    "    # setup data\n",
    "    dm = ImageDataModule( batch_size       = wandb.config.batch_size,\n",
    "                          label_encoder    = le_encoder_graphics,\n",
    "                          data_path        = str(DATA_PATH), \n",
    "                          base_img_dir     = str(BASE_IMG_DIR),\n",
    "                          seed             = SEED,   \n",
    "                          image_transforms = [train_transform,val_transform,test_transform],\n",
    "                          num_workers      = NUM_WORKERS,\n",
    "                          target_class_col ='split_set',\n",
    "                          modality_col     ='modality',\n",
    "                          path_col         ='img_path')\n",
    "    dm.prepare_data()\n",
    "    dm.setup()\n",
    "    dm.set_seed()\n",
    "    # Callbacks\n",
    "    lr_monitor = LearningRateMonitor(logging_interval='epoch')\n",
    "\n",
    "    early_stop_callback = EarlyStopping(\n",
    "        monitor=METRIC_MONITOR,\n",
    "        min_delta=0.0,\n",
    "        patience=5,\n",
    "        verbose=True,\n",
    "        mode=MODE\n",
    "    )\n",
    "    \n",
    "    checkpoint_callback = ModelCheckpoint(dirpath    = output_run_path,\n",
    "                                          filename   = NAME_OUTPUT,\n",
    "                                          monitor    = METRIC_MONITOR,\n",
    "                                          mode       = MODE,\n",
    "                                          save_top_k = 1)\n",
    "\n",
    "    checkpoint_callback.FILE_EXTENSION = EXTENSION\n",
    "    \n",
    "    # setup model - note how we refer to sweep parameters with wandb.config\n",
    "    num_classes = len(df.modality.unique())\n",
    "    print(f\"Num_Classes {num_classes}\")\n",
    "    model = ResNetClass(      name            = wandb.config.name,\n",
    "                              num_classes     = num_classes,\n",
    "                              pretrained      = True,\n",
    "                              fine_tuned_from = wandb.config.fine_tuned_from,\n",
    "                              lr              = wandb.config.lr,\n",
    "                              metric_monitor  = METRIC_MONITOR,\n",
    "                              mode_scheduler  = MODE,\n",
    "                              class_weights   = dm.class_weights,\n",
    "                              mean_dataset    = mean.numpy(),\n",
    "                              std_dataset     = std.numpy())\n",
    "    \n",
    "    # setup Trainer\n",
    "    trainer = Trainer(gpus=1,\n",
    "                  max_epochs=100,                  \n",
    "                  callbacks=[early_stop_callback,lr_monitor,checkpoint_callback],\n",
    "                  deterministic= True,\n",
    "                  logger=wandb_logger,\n",
    "                  num_sanity_val_steps=0)\n",
    "\n",
    "    # train\n",
    "    trainer.fit(model, dm)\n",
    "    # Get testS metric\n",
    "    del model\n",
    "    model = ResNetClass.load_from_checkpoint(output_run_path/(NAME_OUTPUT + EXTENSION))\n",
    "    trainer.test(model, test_dataloaders=dm.val_dataloader())\n",
    "    del model,trainer\n",
    "    torch.cuda.empty_cache() \n",
    "    wandb.finish()"
   ]
  },
  {
   "cell_type": "code",
   "execution_count": 29,
   "metadata": {},
   "outputs": [
    {
     "name": "stderr",
     "output_type": "stream",
     "text": [
      "\u001b[34m\u001b[1mwandb\u001b[0m: Agent Starting Run: 05yrd6xp with config:\n",
      "\u001b[34m\u001b[1mwandb\u001b[0m: \tbatch_size: 32\n",
      "\u001b[34m\u001b[1mwandb\u001b[0m: \tfine_tuned_from: whole\n",
      "\u001b[34m\u001b[1mwandb\u001b[0m: \tlr: 1e-05\n",
      "\u001b[34m\u001b[1mwandb\u001b[0m: \tname: resnet18\n",
      "\u001b[34m\u001b[1mwandb\u001b[0m: wandb version 0.10.22 is available!  To upgrade, please run:\n",
      "\u001b[34m\u001b[1mwandb\u001b[0m:  $ pip install wandb --upgrade\n"
     ]
    },
    {
     "data": {
      "text/html": [
       "\n",
       "                Tracking run with wandb version 0.10.13<br/>\n",
       "                Syncing run <strong style=\"color:#cdcd00\">celestial-sweep-1</strong> to <a href=\"https://wandb.ai\" target=\"_blank\">Weights & Biases</a> <a href=\"https://docs.wandb.com/integrations/jupyter.html\" target=\"_blank\">(Documentation)</a>.<br/>\n",
       "                Project page: <a href=\"https://wandb.ai/williamberrios/Biomedical-Image-Classification-Graphics\" target=\"_blank\">https://wandb.ai/williamberrios/Biomedical-Image-Classification-Graphics</a><br/>\n",
       "                Sweep page: <a href=\"https://wandb.ai/williamberrios/Biomedical-Image-Classification-Graphics/sweeps/cakbnb6s\" target=\"_blank\">https://wandb.ai/williamberrios/Biomedical-Image-Classification-Graphics/sweeps/cakbnb6s</a><br/>\n",
       "Run page: <a href=\"https://wandb.ai/williamberrios/Biomedical-Image-Classification-Graphics/runs/05yrd6xp\" target=\"_blank\">https://wandb.ai/williamberrios/Biomedical-Image-Classification-Graphics/runs/05yrd6xp</a><br/>\n",
       "                Run data is saved locally in <code>/workspace/biomedical-image-classification/nb/wandb/run-20210316_004219-05yrd6xp</code><br/><br/>\n",
       "            "
      ],
      "text/plain": [
       "<IPython.core.display.HTML object>"
      ]
     },
     "metadata": {},
     "output_type": "display_data"
    },
    {
     "name": "stderr",
     "output_type": "stream",
     "text": [
      "\u001b[34m\u001b[1mwandb\u001b[0m: \u001b[33mWARNING\u001b[0m Calling run.save without any arguments is deprecated.Changes to attributes are automatically persisted.\n"
     ]
    },
    {
     "name": "stdout",
     "output_type": "stream",
     "text": [
      "Name of the Experiment: celestial-sweep-1\n",
      "Num_Classes 6\n"
     ]
    },
    {
     "name": "stderr",
     "output_type": "stream",
     "text": [
      "GPU available: True, used: True\n",
      "TPU available: None, using: 0 TPU cores\n",
      "LOCAL_RANK: 0 - CUDA_VISIBLE_DEVICES: [0]\n",
      "\u001b[34m\u001b[1mwandb\u001b[0m: \u001b[33mWARNING\u001b[0m Config item 'name' was locked by 'sweep' (ignored update).\n",
      "\u001b[34m\u001b[1mwandb\u001b[0m: \u001b[33mWARNING\u001b[0m Config item 'fine_tuned_from' was locked by 'sweep' (ignored update).\n",
      "\u001b[34m\u001b[1mwandb\u001b[0m: \u001b[33mWARNING\u001b[0m Config item 'lr' was locked by 'sweep' (ignored update).\n",
      "\n",
      "  | Name  | Type   | Params\n",
      "---------------------------------\n",
      "0 | model | ResNet | 11.2 M\n",
      "---------------------------------\n",
      "11.2 M    Trainable params\n",
      "0         Non-trainable params\n",
      "11.2 M    Total params\n"
     ]
    },
    {
     "data": {
      "application/vnd.jupyter.widget-view+json": {
       "model_id": "3359412793c64190b7042c864d859812",
       "version_major": 2,
       "version_minor": 0
      },
      "text/plain": [
       "HBox(children=(FloatProgress(value=1.0, bar_style='info', description='Training', layout=Layout(flex='2'), max…"
      ]
     },
     "metadata": {},
     "output_type": "display_data"
    },
    {
     "data": {
      "application/vnd.jupyter.widget-view+json": {
       "model_id": "",
       "version_major": 2,
       "version_minor": 0
      },
      "text/plain": [
       "HBox(children=(FloatProgress(value=1.0, bar_style='info', description='Validating', layout=Layout(flex='2'), m…"
      ]
     },
     "metadata": {},
     "output_type": "display_data"
    },
    {
     "data": {
      "application/vnd.jupyter.widget-view+json": {
       "model_id": "",
       "version_major": 2,
       "version_minor": 0
      },
      "text/plain": [
       "HBox(children=(FloatProgress(value=1.0, bar_style='info', description='Validating', layout=Layout(flex='2'), m…"
      ]
     },
     "metadata": {},
     "output_type": "display_data"
    },
    {
     "data": {
      "application/vnd.jupyter.widget-view+json": {
       "model_id": "",
       "version_major": 2,
       "version_minor": 0
      },
      "text/plain": [
       "HBox(children=(FloatProgress(value=1.0, bar_style='info', description='Validating', layout=Layout(flex='2'), m…"
      ]
     },
     "metadata": {},
     "output_type": "display_data"
    },
    {
     "data": {
      "application/vnd.jupyter.widget-view+json": {
       "model_id": "",
       "version_major": 2,
       "version_minor": 0
      },
      "text/plain": [
       "HBox(children=(FloatProgress(value=1.0, bar_style='info', description='Validating', layout=Layout(flex='2'), m…"
      ]
     },
     "metadata": {},
     "output_type": "display_data"
    },
    {
     "data": {
      "application/vnd.jupyter.widget-view+json": {
       "model_id": "",
       "version_major": 2,
       "version_minor": 0
      },
      "text/plain": [
       "HBox(children=(FloatProgress(value=1.0, bar_style='info', description='Validating', layout=Layout(flex='2'), m…"
      ]
     },
     "metadata": {},
     "output_type": "display_data"
    },
    {
     "data": {
      "application/vnd.jupyter.widget-view+json": {
       "model_id": "",
       "version_major": 2,
       "version_minor": 0
      },
      "text/plain": [
       "HBox(children=(FloatProgress(value=1.0, bar_style='info', description='Validating', layout=Layout(flex='2'), m…"
      ]
     },
     "metadata": {},
     "output_type": "display_data"
    },
    {
     "data": {
      "application/vnd.jupyter.widget-view+json": {
       "model_id": "",
       "version_major": 2,
       "version_minor": 0
      },
      "text/plain": [
       "HBox(children=(FloatProgress(value=1.0, bar_style='info', description='Validating', layout=Layout(flex='2'), m…"
      ]
     },
     "metadata": {},
     "output_type": "display_data"
    },
    {
     "data": {
      "application/vnd.jupyter.widget-view+json": {
       "model_id": "",
       "version_major": 2,
       "version_minor": 0
      },
      "text/plain": [
       "HBox(children=(FloatProgress(value=1.0, bar_style='info', description='Validating', layout=Layout(flex='2'), m…"
      ]
     },
     "metadata": {},
     "output_type": "display_data"
    },
    {
     "data": {
      "application/vnd.jupyter.widget-view+json": {
       "model_id": "",
       "version_major": 2,
       "version_minor": 0
      },
      "text/plain": [
       "HBox(children=(FloatProgress(value=1.0, bar_style='info', description='Validating', layout=Layout(flex='2'), m…"
      ]
     },
     "metadata": {},
     "output_type": "display_data"
    },
    {
     "data": {
      "application/vnd.jupyter.widget-view+json": {
       "model_id": "",
       "version_major": 2,
       "version_minor": 0
      },
      "text/plain": [
       "HBox(children=(FloatProgress(value=1.0, bar_style='info', description='Validating', layout=Layout(flex='2'), m…"
      ]
     },
     "metadata": {},
     "output_type": "display_data"
    },
    {
     "data": {
      "application/vnd.jupyter.widget-view+json": {
       "model_id": "",
       "version_major": 2,
       "version_minor": 0
      },
      "text/plain": [
       "HBox(children=(FloatProgress(value=1.0, bar_style='info', description='Validating', layout=Layout(flex='2'), m…"
      ]
     },
     "metadata": {},
     "output_type": "display_data"
    },
    {
     "name": "stdout",
     "output_type": "stream",
     "text": [
      "Epoch    11: reducing learning rate of group 0 to 1.0000e-06.\n"
     ]
    },
    {
     "data": {
      "application/vnd.jupyter.widget-view+json": {
       "model_id": "",
       "version_major": 2,
       "version_minor": 0
      },
      "text/plain": [
       "HBox(children=(FloatProgress(value=1.0, bar_style='info', description='Validating', layout=Layout(flex='2'), m…"
      ]
     },
     "metadata": {},
     "output_type": "display_data"
    },
    {
     "data": {
      "application/vnd.jupyter.widget-view+json": {
       "model_id": "",
       "version_major": 2,
       "version_minor": 0
      },
      "text/plain": [
       "HBox(children=(FloatProgress(value=1.0, bar_style='info', description='Validating', layout=Layout(flex='2'), m…"
      ]
     },
     "metadata": {},
     "output_type": "display_data"
    },
    {
     "data": {
      "application/vnd.jupyter.widget-view+json": {
       "model_id": "",
       "version_major": 2,
       "version_minor": 0
      },
      "text/plain": [
       "HBox(children=(FloatProgress(value=1.0, bar_style='info', description='Validating', layout=Layout(flex='2'), m…"
      ]
     },
     "metadata": {},
     "output_type": "display_data"
    },
    {
     "data": {
      "application/vnd.jupyter.widget-view+json": {
       "model_id": "",
       "version_major": 2,
       "version_minor": 0
      },
      "text/plain": [
       "HBox(children=(FloatProgress(value=1.0, bar_style='info', description='Validating', layout=Layout(flex='2'), m…"
      ]
     },
     "metadata": {},
     "output_type": "display_data"
    },
    {
     "data": {
      "application/vnd.jupyter.widget-view+json": {
       "model_id": "",
       "version_major": 2,
       "version_minor": 0
      },
      "text/plain": [
       "HBox(children=(FloatProgress(value=1.0, bar_style='info', description='Validating', layout=Layout(flex='2'), m…"
      ]
     },
     "metadata": {},
     "output_type": "display_data"
    },
    {
     "name": "stdout",
     "output_type": "stream",
     "text": [
      "Epoch    16: reducing learning rate of group 0 to 1.0000e-07.\n"
     ]
    },
    {
     "data": {
      "application/vnd.jupyter.widget-view+json": {
       "model_id": "",
       "version_major": 2,
       "version_minor": 0
      },
      "text/plain": [
       "HBox(children=(FloatProgress(value=1.0, bar_style='info', description='Validating', layout=Layout(flex='2'), m…"
      ]
     },
     "metadata": {},
     "output_type": "display_data"
    },
    {
     "name": "stdout",
     "output_type": "stream",
     "text": [
      "\n"
     ]
    },
    {
     "name": "stderr",
     "output_type": "stream",
     "text": [
      "\u001b[34m\u001b[1mwandb\u001b[0m: \u001b[33mWARNING\u001b[0m Config item 'name' was locked by 'sweep' (ignored update).\n",
      "\u001b[34m\u001b[1mwandb\u001b[0m: \u001b[33mWARNING\u001b[0m Config item 'fine_tuned_from' was locked by 'sweep' (ignored update).\n",
      "\u001b[34m\u001b[1mwandb\u001b[0m: \u001b[33mWARNING\u001b[0m Config item 'lr' was locked by 'sweep' (ignored update).\n"
     ]
    },
    {
     "data": {
      "application/vnd.jupyter.widget-view+json": {
       "model_id": "782de2a3d0804f4aa6e07320e1330406",
       "version_major": 2,
       "version_minor": 0
      },
      "text/plain": [
       "HBox(children=(FloatProgress(value=1.0, bar_style='info', description='Testing', layout=Layout(flex='2'), max=…"
      ]
     },
     "metadata": {},
     "output_type": "display_data"
    },
    {
     "name": "stdout",
     "output_type": "stream",
     "text": [
      "Accuracy: 99.47379302978516\n",
      "              precision    recall  f1-score   support\n",
      "\n",
      "         0.0       0.99      0.99      0.99      7864\n",
      "         1.0       0.84      0.91      0.87        23\n",
      "         2.0       0.88      0.95      0.91        22\n",
      "         3.0       1.00      1.00      1.00      7804\n",
      "         4.0       1.00      1.00      1.00     11490\n",
      "         5.0       0.99      0.99      0.99      7004\n",
      "\n",
      "    accuracy                           0.99     34207\n",
      "   macro avg       0.95      0.97      0.96     34207\n",
      "weighted avg       0.99      0.99      0.99     34207\n",
      "\n",
      "\n",
      "--------------------------------------------------------------------------------\n",
      "DATALOADER:0 TEST RESULTS\n",
      "{'Balanced Accuracy': 0.9743852621999496,\n",
      " 'Macro F1-Score': 0.961056272807089,\n",
      " 'Macro Precision': 0.9488133428319934,\n",
      " 'Macro Recall': 0.9743852621999496,\n",
      " 'test_acc': tensor(99.4738, device='cuda:0'),\n",
      " 'test_loss': tensor(0.0169, device='cuda:0')}\n",
      "--------------------------------------------------------------------------------\n"
     ]
    },
    {
     "data": {
      "text/html": [
       "<br/>Waiting for W&B process to finish, PID 1876<br/>Program ended successfully."
      ],
      "text/plain": [
       "<IPython.core.display.HTML object>"
      ]
     },
     "metadata": {},
     "output_type": "display_data"
    },
    {
     "data": {
      "application/vnd.jupyter.widget-view+json": {
       "model_id": "",
       "version_major": 2,
       "version_minor": 0
      },
      "text/plain": [
       "VBox(children=(Label(value=' 0.01MB of 0.01MB uploaded (0.00MB deduped)\\r'), FloatProgress(value=1.0, max=1.0)…"
      ]
     },
     "metadata": {},
     "output_type": "display_data"
    },
    {
     "data": {
      "text/html": [
       "Find user logs for this run at: <code>/workspace/biomedical-image-classification/nb/wandb/run-20210316_004219-05yrd6xp/logs/debug.log</code>"
      ],
      "text/plain": [
       "<IPython.core.display.HTML object>"
      ]
     },
     "metadata": {},
     "output_type": "display_data"
    },
    {
     "data": {
      "text/html": [
       "Find internal logs for this run at: <code>/workspace/biomedical-image-classification/nb/wandb/run-20210316_004219-05yrd6xp/logs/debug-internal.log</code>"
      ],
      "text/plain": [
       "<IPython.core.display.HTML object>"
      ]
     },
     "metadata": {},
     "output_type": "display_data"
    },
    {
     "data": {
      "text/html": [
       "<h3>Run summary:</h3><br/><style>\n",
       "    table.wandb td:nth-child(1) { padding: 0 10px; text-align: right }\n",
       "    </style><table class=\"wandb\">\n",
       "<tr><td>lr-Adam</td><td>0.0</td></tr><tr><td>_step</td><td>145383</td></tr><tr><td>_runtime</td><td>6175</td></tr><tr><td>_timestamp</td><td>1615861514</td></tr><tr><td>val_acc</td><td>99.50887</td></tr><tr><td>val_avg_loss</td><td>0.01776</td></tr><tr><td>epoch</td><td>16</td></tr><tr><td>train_acc</td><td>99.95834</td></tr><tr><td>train_avg_loss</td><td>0.00158</td></tr><tr><td>test_acc</td><td>99.47379</td></tr><tr><td>test_loss</td><td>0.01689</td></tr><tr><td>Macro F1-Score</td><td>0.96106</td></tr><tr><td>Balanced Accuracy</td><td>0.97439</td></tr><tr><td>Macro Recall</td><td>0.97439</td></tr><tr><td>Macro Precision</td><td>0.94881</td></tr></table>"
      ],
      "text/plain": [
       "<IPython.core.display.HTML object>"
      ]
     },
     "metadata": {},
     "output_type": "display_data"
    },
    {
     "data": {
      "text/html": [
       "<h3>Run history:</h3><br/><style>\n",
       "    table.wandb td:nth-child(1) { padding: 0 10px; text-align: right }\n",
       "    </style><table class=\"wandb\">\n",
       "<tr><td>lr-Adam</td><td>███████████▂▂▂▂▂▁</td></tr><tr><td>_step</td><td>▁▁▁▁▁▂▂▂▂▂▂▂▂▂▂▃▃▃▃▃▃▃▃▃▃▄▄▄▄▄▄▄▄▄█</td></tr><tr><td>_runtime</td><td>▁▁▁▁▂▂▂▂▃▃▃▃▄▄▄▄▄▄▅▅▅▅▆▆▆▆▇▇▇▇▇▇███</td></tr><tr><td>_timestamp</td><td>▁▁▁▁▂▂▂▂▃▃▃▃▄▄▄▄▄▄▅▅▅▅▆▆▆▆▇▇▇▇▇▇███</td></tr><tr><td>val_acc</td><td>▁▃▆▆▆▅▇▇▇▇▇██████</td></tr><tr><td>val_avg_loss</td><td>█▅▂▃▂▃▂▂▂▃▂▁▁▁▂▁▁</td></tr><tr><td>epoch</td><td>▁▁▂▂▃▃▄▄▅▅▅▆▆▇▇███</td></tr><tr><td>train_acc</td><td>▁▅▆▆▇▇▇▇▇████████</td></tr><tr><td>train_avg_loss</td><td>█▃▂▂▂▂▁▁▁▁▁▁▁▁▁▁▁</td></tr><tr><td>test_acc</td><td>▁</td></tr><tr><td>test_loss</td><td>▁</td></tr><tr><td>Macro F1-Score</td><td>▁</td></tr><tr><td>Balanced Accuracy</td><td>▁</td></tr><tr><td>Macro Recall</td><td>▁</td></tr><tr><td>Macro Precision</td><td>▁</td></tr></table><br/>"
      ],
      "text/plain": [
       "<IPython.core.display.HTML object>"
      ]
     },
     "metadata": {},
     "output_type": "display_data"
    },
    {
     "data": {
      "text/html": [
       "Synced 5 W&B file(s), 1 media file(s), 0 artifact file(s) and 0 other file(s)"
      ],
      "text/plain": [
       "<IPython.core.display.HTML object>"
      ]
     },
     "metadata": {},
     "output_type": "display_data"
    },
    {
     "data": {
      "text/html": [
       "\n",
       "                    <br/>Synced <strong style=\"color:#cdcd00\">celestial-sweep-1</strong>: <a href=\"https://wandb.ai/williamberrios/Biomedical-Image-Classification-Graphics/runs/05yrd6xp\" target=\"_blank\">https://wandb.ai/williamberrios/Biomedical-Image-Classification-Graphics/runs/05yrd6xp</a><br/>\n",
       "                "
      ],
      "text/plain": [
       "<IPython.core.display.HTML object>"
      ]
     },
     "metadata": {},
     "output_type": "display_data"
    },
    {
     "name": "stderr",
     "output_type": "stream",
     "text": [
      "\u001b[34m\u001b[1mwandb\u001b[0m: Sweep Agent: Waiting for job.\n",
      "\u001b[34m\u001b[1mwandb\u001b[0m: Sweep Agent: Exiting.\n"
     ]
    },
    {
     "data": {
      "image/png": "[encoded data removed]",
      "text/plain": [
       "<Figure size 288x288 with 2 Axes>"
      ]
     },
     "metadata": {
      "needs_background": "light"
     },
     "output_type": "display_data"
    }
   ],
   "source": [
    "wandb.agent(sweep_id, function=sweep_iteration);"
   ]
  },
  {
   "cell_type": "markdown",
   "metadata": {},
   "source": [
    "## 5.Testing"
   ]
  },
  {
   "cell_type": "code",
   "execution_count": 33,
   "metadata": {},
   "outputs": [],
   "source": [
    "cp /mnt/artifacts/experiments/Biomedical-Image-Classification-Graphics/cakbnb6s/celestial-sweep-1/graphics_classifier_v1.pt /mnt/artifacts/models/Graphics/"
   ]
  },
  {
   "cell_type": "code",
   "execution_count": 34,
   "metadata": {},
   "outputs": [],
   "source": [
    "model_path = '/mnt/artifacts/models/Graphics/graphics_classifier_v1.pt'\n",
    "dm = ImageDataModule( batch_size       = 32,\n",
    "                      label_encoder    = le_encoder_graphics,\n",
    "                      data_path        = str(DATA_PATH), \n",
    "                      base_img_dir     = str(BASE_IMG_DIR),\n",
    "                      seed             = SEED,   \n",
    "                      image_transforms = [train_transform,val_transform,test_transform],\n",
    "                      num_workers      = NUM_WORKERS,\n",
    "                      target_class_col ='split_set',\n",
    "                      modality_col     ='modality',\n",
    "                      path_col         ='img_path')\n",
    "dm.prepare_data()\n",
    "dm.setup()\n",
    "dm.set_seed()"
   ]
  },
  {
   "cell_type": "code",
   "execution_count": 35,
   "metadata": {},
   "outputs": [
    {
     "name": "stderr",
     "output_type": "stream",
     "text": [
      "GPU available: True, used: True\n",
      "TPU available: None, using: 0 TPU cores\n",
      "LOCAL_RANK: 0 - CUDA_VISIBLE_DEVICES: [0]\n"
     ]
    },
    {
     "data": {
      "application/vnd.jupyter.widget-view+json": {
       "model_id": "b1bd7b15478541bdaca2daad5aa4695f",
       "version_major": 2,
       "version_minor": 0
      },
      "text/plain": [
       "HBox(children=(FloatProgress(value=1.0, bar_style='info', description='Testing', layout=Layout(flex='2'), max=…"
      ]
     },
     "metadata": {},
     "output_type": "display_data"
    },
    {
     "name": "stdout",
     "output_type": "stream",
     "text": [
      "Accuracy: 99.51821899414062\n",
      "              precision    recall  f1-score   support\n",
      "\n",
      "         0.0       0.99      0.99      0.99      9888\n",
      "         1.0       0.78      1.00      0.88        29\n",
      "         2.0       0.85      0.81      0.83        27\n",
      "         3.0       1.00      1.00      1.00      9639\n",
      "         4.0       1.00      1.00      1.00     14346\n",
      "         5.0       0.99      0.99      0.99      8829\n",
      "\n",
      "    accuracy                           1.00     42758\n",
      "   macro avg       0.93      0.97      0.95     42758\n",
      "weighted avg       1.00      1.00      1.00     42758\n",
      "\n",
      "\n",
      "--------------------------------------------------------------------------------\n",
      "DATALOADER:0 TEST RESULTS\n",
      "{'Balanced Accuracy': 0.9658823226897525,\n",
      " 'Macro F1-Score': 0.9482060378544471,\n",
      " 'Macro Precision': 0.9349972267521345,\n",
      " 'Macro Recall': 0.9658823226897525,\n",
      " 'test_acc': tensor(99.5182, device='cuda:0'),\n",
      " 'test_loss': tensor(0.0169, device='cuda:0')}\n",
      "--------------------------------------------------------------------------------\n"
     ]
    },
    {
     "data": {
      "text/plain": [
       "[{'test_acc': 99.51821899414062,\n",
       "  'test_loss': 0.016898736357688904,\n",
       "  'Macro F1-Score': 0.9482060378544471,\n",
       "  'Balanced Accuracy': 0.9658823226897525,\n",
       "  'Macro Recall': 0.9658823226897525,\n",
       "  'Macro Precision': 0.9349972267521345}]"
      ]
     },
     "execution_count": 35,
     "metadata": {},
     "output_type": "execute_result"
    },
    {
     "data": {
      "image/png": "[encoded data removed]",
      "text/plain": [
       "<Figure size 288x288 with 2 Axes>"
      ]
     },
     "metadata": {
      "needs_background": "light"
     },
     "output_type": "display_data"
    }
   ],
   "source": [
    "model = ResNetClass.load_from_checkpoint(model_path)\n",
    "trainer = Trainer(gpus=1, logger=None)\n",
    "trainer.test(model, test_dataloaders=dm.test_dataloader())"
   ]
  }
 ],
 "metadata": {
  "kernelspec": {
   "display_name": "Python 3",
   "language": "python",
   "name": "python3"
  },
  "language_info": {
   "codemirror_mode": {
    "name": "ipython",
    "version": 3
   },
   "file_extension": ".py",
   "mimetype": "text/x-python",
   "name": "python",
   "nbconvert_exporter": "python",
   "pygments_lexer": "ipython3",
   "version": "3.6.9"
  }
 },
 "nbformat": 4,
 "nbformat_minor": 4
}
