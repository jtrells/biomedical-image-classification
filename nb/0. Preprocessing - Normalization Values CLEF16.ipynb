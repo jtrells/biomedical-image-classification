{
 "cells": [
  {
   "cell_type": "markdown",
   "metadata": {},
   "source": [
    "# Data Preprocessing - Normalization Values CLEF16\n",
    "\n",
    "Obtain the normalization values to use during the data transformation steps before training the image classifier."
   ]
  },
  {
   "cell_type": "code",
   "execution_count": 1,
   "metadata": {},
   "outputs": [],
   "source": [
    "# Reference to ../src\n",
    "import os\n",
    "import sys\n",
    "module_path = os.path.abspath(os.path.join('../src'))\n",
    "if module_path not in sys.path:\n",
    "    sys.path.append(module_path)\n",
    "\n",
    "import pandas as pd    \n",
    "from utils.calc_mean import calc_dataset_mean_std\n",
    "from dataset.TrainDataLoader import TrainDataLoader"
   ]
  },
  {
   "cell_type": "markdown",
   "metadata": {},
   "source": [
    "We can map the original train folder structure to the new classes structure (e.g. high modality) using a reference to the original folder, and a CSV file with the image mapping. The base directory provides access to the image in the custom Dataset class."
   ]
  },
  {
   "cell_type": "code",
   "execution_count": 2,
   "metadata": {},
   "outputs": [
    {
     "name": "stdout",
     "output_type": "stream",
     "text": [
      "Original classes from the CLEF16 dataset\n",
      "['D3DR', 'DMEL', 'DMFL', 'DMLI', 'DMTR', 'DRAN', 'DRCO', 'DRCT', 'DRMR', 'DRPE', 'DRUS', 'DRXR', 'DSEC', 'DSEE', 'DSEM', 'DVDM', 'DVEN', 'DVOR', 'GCHE', 'GFIG', 'GFLO', 'GGEL', 'GGEN', 'GHDR', 'GMAT', 'GNCP', 'GPLI', 'GSCR', 'GSYS', 'GTAB']\n"
     ]
    }
   ],
   "source": [
    "base_dir = '/mnt/clef/imageclef_2016/train'\n",
    "print(\"Original classes from the CLEF16 dataset\")\n",
    "print(os.listdir(base_dir))"
   ]
  },
  {
   "cell_type": "code",
   "execution_count": 3,
   "metadata": {},
   "outputs": [
    {
     "data": {
      "text/html": [
       "<div>\n",
       "<style scoped>\n",
       "    .dataframe tbody tr th:only-of-type {\n",
       "        vertical-align: middle;\n",
       "    }\n",
       "\n",
       "    .dataframe tbody tr th {\n",
       "        vertical-align: top;\n",
       "    }\n",
       "\n",
       "    .dataframe thead th {\n",
       "        text-align: right;\n",
       "    }\n",
       "</style>\n",
       "<table border=\"1\" class=\"dataframe\">\n",
       "  <thead>\n",
       "    <tr style=\"text-align: right;\">\n",
       "      <th></th>\n",
       "      <th>ID</th>\n",
       "      <th>FIG_NAME</th>\n",
       "      <th>MODALITY</th>\n",
       "      <th>HIGH_MODALITY</th>\n",
       "    </tr>\n",
       "  </thead>\n",
       "  <tbody>\n",
       "    <tr>\n",
       "      <th>0</th>\n",
       "      <td>0</td>\n",
       "      <td>11373_2007_9226_Fig1_HTML-10</td>\n",
       "      <td>DMFL</td>\n",
       "      <td>MICROSCOPY</td>\n",
       "    </tr>\n",
       "    <tr>\n",
       "      <th>1</th>\n",
       "      <td>1</td>\n",
       "      <td>11373_2007_9226_Fig1_HTML-11</td>\n",
       "      <td>DMFL</td>\n",
       "      <td>MICROSCOPY</td>\n",
       "    </tr>\n",
       "    <tr>\n",
       "      <th>2</th>\n",
       "      <td>2</td>\n",
       "      <td>11373_2007_9226_Fig1_HTML-12</td>\n",
       "      <td>DMFL</td>\n",
       "      <td>MICROSCOPY</td>\n",
       "    </tr>\n",
       "    <tr>\n",
       "      <th>3</th>\n",
       "      <td>3</td>\n",
       "      <td>11373_2007_9226_Fig1_HTML-13</td>\n",
       "      <td>DMFL</td>\n",
       "      <td>MICROSCOPY</td>\n",
       "    </tr>\n",
       "    <tr>\n",
       "      <th>4</th>\n",
       "      <td>4</td>\n",
       "      <td>11373_2007_9226_Fig1_HTML-14</td>\n",
       "      <td>DMFL</td>\n",
       "      <td>MICROSCOPY</td>\n",
       "    </tr>\n",
       "  </tbody>\n",
       "</table>\n",
       "</div>"
      ],
      "text/plain": [
       "   ID                      FIG_NAME MODALITY HIGH_MODALITY\n",
       "0   0  11373_2007_9226_Fig1_HTML-10     DMFL    MICROSCOPY\n",
       "1   1  11373_2007_9226_Fig1_HTML-11     DMFL    MICROSCOPY\n",
       "2   2  11373_2007_9226_Fig1_HTML-12     DMFL    MICROSCOPY\n",
       "3   3  11373_2007_9226_Fig1_HTML-13     DMFL    MICROSCOPY\n",
       "4   4  11373_2007_9226_Fig1_HTML-14     DMFL    MICROSCOPY"
      ]
     },
     "execution_count": 3,
     "metadata": {},
     "output_type": "execute_result"
    }
   ],
   "source": [
    "csv_path = '../labels/clef16_train.csv'\n",
    "df = pd.read_csv(csv_path)\n",
    "df.head()"
   ]
  },
  {
   "cell_type": "code",
   "execution_count": 4,
   "metadata": {},
   "outputs": [
    {
     "name": "stdout",
     "output_type": "stream",
     "text": [
      "New classes:\n",
      "['MICROSCOPY', 'GRAPHICS', 'ORGANISMS', 'MOLECULAR', 'EXPERIMENTAL', 'OTHER']\n"
     ]
    }
   ],
   "source": [
    "classes = df['HIGH_MODALITY'].unique().tolist()\n",
    "print(\"New classes:\")\n",
    "print(classes)\n",
    "\n",
    "train_data_loader = TrainDataLoader(base_dir, csv_path, classes)\n",
    "# `normalized=True` normalizes the data with an already calculated mean and std values. In this case, we assume\n",
    "# we don't have those values and get the raw values\n",
    "train_dataset = train_data_loader.get_train_dataset(normalized=False)\n",
    "validation_dataset = train_data_loader.get_val_dataset(normalized=False)"
   ]
  },
  {
   "cell_type": "code",
   "execution_count": 5,
   "metadata": {},
   "outputs": [
    {
     "data": {
      "text/plain": [
       "(5389, 1348)"
      ]
     },
     "execution_count": 5,
     "metadata": {},
     "output_type": "execute_result"
    }
   ],
   "source": [
    "len(train_dataset), len(validation_dataset)"
   ]
  },
  {
   "cell_type": "code",
   "execution_count": 6,
   "metadata": {},
   "outputs": [],
   "source": [
    "mean, std = calc_dataset_mean_std(train_dataset, batch_size=1024, num_workers=16)"
   ]
  },
  {
   "cell_type": "code",
   "execution_count": 7,
   "metadata": {},
   "outputs": [
    {
     "data": {
      "text/plain": [
       "tensor([0.7364, 0.7319, 0.7295])"
      ]
     },
     "execution_count": 7,
     "metadata": {},
     "output_type": "execute_result"
    }
   ],
   "source": [
    "mean"
   ]
  },
  {
   "cell_type": "code",
   "execution_count": 8,
   "metadata": {},
   "outputs": [
    {
     "data": {
      "text/plain": [
       "tensor([0.3538, 0.3543, 0.3593])"
      ]
     },
     "execution_count": 8,
     "metadata": {},
     "output_type": "execute_result"
    }
   ],
   "source": [
    "std"
   ]
  }
 ],
 "metadata": {
  "kernelspec": {
   "display_name": "Python 3",
   "language": "python",
   "name": "python3"
  },
  "language_info": {
   "codemirror_mode": {
    "name": "ipython",
    "version": 3
   },
   "file_extension": ".py",
   "mimetype": "text/x-python",
   "name": "python",
   "nbconvert_exporter": "python",
   "pygments_lexer": "ipython3",
   "version": "3.6.9"
  }
 },
 "nbformat": 4,
 "nbformat_minor": 4
}
