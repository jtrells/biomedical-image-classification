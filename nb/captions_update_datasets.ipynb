{
 "cells": [
  {
   "cell_type": "code",
   "execution_count": 2,
   "metadata": {},
   "outputs": [],
   "source": [
    "import os\n",
    "from pathlib import Path\n",
    "\n",
    "BASE_PATH = Path('/workspace/data')\n",
    "IMAGES16_TRAIN = BASE_PATH / 'subfigure-classification' / '2016' / 'train'\n",
    "IMAGES16_TEST  = BASE_PATH / 'subfigure-classification' / '2016' / 'test'"
   ]
  },
  {
   "cell_type": "code",
   "execution_count": null,
   "metadata": {},
   "outputs": [],
   "source": [
    "# os.rename(IMAGES16_TEST / \"1471-2105-6-S2-S11-7_1.jpg\", IMAGES16_TEST / \"IJBI2010-308627.003-1.jpg\")\n",
    "# os.rename(IMAGES16_TEST / \"1471-2105-6-S2-S11-7_2.jpg\", IMAGES16_TEST / \"IJBI2010-308627.003-2.jpg\")\n",
    "# os.rename(IMAGES16_TEST / \"1471-2105-6-S2-S11-7_3.jpg\", IMAGES16_TEST / \"IJBI2010-308627.003-3.jpg\")\n",
    "# os.rename(IMAGES16_TEST / \"1471-2105-6-S2-S11-7_4.jpg\", IMAGES16_TEST / \"IJBI2010-308627.003-4.jpg\")\n",
    "# os.rename(IMAGES16_TEST / \"1471-2105-6-S2-S11-7_5.jpg\", IMAGES16_TEST / \"IJBI2010-308627.003-5.jpg\")\n",
    "# os.rename(IMAGES16_TEST / \"1471-2105-6-S2-S11-7_6.jpg\", IMAGES16_TEST / \"IJBI2010-308627.003-6.jpg\")\n",
    "# os.rename(IMAGES16_TEST / \"1471-2105-6-S2-S11-7_7.jpg\", IMAGES16_TEST / \"IJBI2010-308627.003-7.jpg\")\n",
    "# os.rename(IMAGES16_TEST / \"1471-2105-6-S2-S11-7_8.jpg\", IMAGES16_TEST / \"IJBI2010-308627.003-8.jpg\")\n",
    "# os.rename(IMAGES16_TEST / \"1471-2105-6-S2-S11-7_9.jpg\", IMAGES16_TEST / \"IJBI2010-308627.003-9.jpg\")\n",
    "# os.rename(IMAGES16_TEST / \"1471-2105-6-S2-S11-7_10.jpg\", IMAGES16_TEST / \"IJBI2010-308627.003-10.jpg\")\n",
    "\n",
    "# os.rename(IMAGES16_TEST / \"IJBI2010-308627-003-8.jpg\", IMAGES16_TEST / \"IJBI2010-308627.003-8.jpg\")\n",
    "# os.rename(IMAGES16_TEST / \"IJBI2010-535329-1.015.jpg\", IMAGES16_TEST / \"IJBI2010-535329.015-1.jpg\")\n",
    "# os.rename(IMAGES16_TEST / \"IJBI2010-535329-2.015.jpg\", IMAGES16_TEST / \"IJBI2010-535329.015-2.jpg\")\n",
    "# os.rename(IMAGES16_TEST / \"IJBI2010-535329-3.015.jpg\", IMAGES16_TEST / \"IJBI2010-535329.015-3.jpg\")\n",
    "# os.rename(IMAGES16_TEST / \"IJBI2010-535329-4.015.jpg\", IMAGES16_TEST / \"IJBI2010-535329.015-4.jpg\")\n",
    "# os.rename(IMAGES16_TEST / \"IJBI2010-535329-5.015.jpg\", IMAGES16_TEST / \"IJBI2010-535329.015-5.jpg\")"
   ]
  },
  {
   "cell_type": "code",
   "execution_count": 4,
   "metadata": {},
   "outputs": [
    {
     "ename": "FileNotFoundError",
     "evalue": "[Errno 2] No such file or directory: '/workspace/data/subfigure-classification/2016/test/IJBI2010-308627.003-1.jpg' -> '/workspace/data/subfigure-classification/2016/test/1471-2105-6-S2-S11-7_1.jpg'",
     "output_type": "error",
     "traceback": [
      "\u001b[0;31m---------------------------------------------------------------------------\u001b[0m",
      "\u001b[0;31mFileNotFoundError\u001b[0m                         Traceback (most recent call last)",
      "\u001b[0;32m<ipython-input-4-56f56f4829a7>\u001b[0m in \u001b[0;36m<module>\u001b[0;34m\u001b[0m\n\u001b[0;32m----> 1\u001b[0;31m \u001b[0mos\u001b[0m\u001b[0;34m.\u001b[0m\u001b[0mrename\u001b[0m\u001b[0;34m(\u001b[0m\u001b[0mIMAGES16_TEST\u001b[0m \u001b[0;34m/\u001b[0m \u001b[0;34m\"IJBI2010-308627.003-1.jpg\"\u001b[0m\u001b[0;34m,\u001b[0m \u001b[0mIMAGES16_TEST\u001b[0m \u001b[0;34m/\u001b[0m \u001b[0;34m\"1471-2105-6-S2-S11-7_1.jpg\"\u001b[0m\u001b[0;34m)\u001b[0m\u001b[0;34m\u001b[0m\u001b[0;34m\u001b[0m\u001b[0m\n\u001b[0m\u001b[1;32m      2\u001b[0m \u001b[0mos\u001b[0m\u001b[0;34m.\u001b[0m\u001b[0mrename\u001b[0m\u001b[0;34m(\u001b[0m\u001b[0mIMAGES16_TEST\u001b[0m \u001b[0;34m/\u001b[0m \u001b[0;34m\"IJBI2010-308627.003-2.jpg\"\u001b[0m\u001b[0;34m,\u001b[0m \u001b[0mIMAGES16_TEST\u001b[0m \u001b[0;34m/\u001b[0m \u001b[0;34m\"1471-2105-6-S2-S11-7_2.jpg\"\u001b[0m\u001b[0;34m)\u001b[0m\u001b[0;34m\u001b[0m\u001b[0;34m\u001b[0m\u001b[0m\n\u001b[1;32m      3\u001b[0m \u001b[0mos\u001b[0m\u001b[0;34m.\u001b[0m\u001b[0mrename\u001b[0m\u001b[0;34m(\u001b[0m\u001b[0mIMAGES16_TEST\u001b[0m \u001b[0;34m/\u001b[0m \u001b[0;34m\"IJBI2010-308627.003-3.jpg\"\u001b[0m\u001b[0;34m,\u001b[0m \u001b[0mIMAGES16_TEST\u001b[0m \u001b[0;34m/\u001b[0m \u001b[0;34m\"1471-2105-6-S2-S11-7_3.jpg\"\u001b[0m\u001b[0;34m)\u001b[0m\u001b[0;34m\u001b[0m\u001b[0;34m\u001b[0m\u001b[0m\n\u001b[1;32m      4\u001b[0m \u001b[0mos\u001b[0m\u001b[0;34m.\u001b[0m\u001b[0mrename\u001b[0m\u001b[0;34m(\u001b[0m\u001b[0mIMAGES16_TEST\u001b[0m \u001b[0;34m/\u001b[0m \u001b[0;34m\"IJBI2010-308627.003-4.jpg\"\u001b[0m\u001b[0;34m,\u001b[0m \u001b[0mIMAGES16_TEST\u001b[0m \u001b[0;34m/\u001b[0m \u001b[0;34m\"1471-2105-6-S2-S11-7_4.jpg\"\u001b[0m\u001b[0;34m)\u001b[0m\u001b[0;34m\u001b[0m\u001b[0;34m\u001b[0m\u001b[0m\n\u001b[1;32m      5\u001b[0m \u001b[0mos\u001b[0m\u001b[0;34m.\u001b[0m\u001b[0mrename\u001b[0m\u001b[0;34m(\u001b[0m\u001b[0mIMAGES16_TEST\u001b[0m \u001b[0;34m/\u001b[0m \u001b[0;34m\"IJBI2010-308627.003-5.jpg\"\u001b[0m\u001b[0;34m,\u001b[0m \u001b[0mIMAGES16_TEST\u001b[0m \u001b[0;34m/\u001b[0m \u001b[0;34m\"1471-2105-6-S2-S11-7_5.jpg\"\u001b[0m\u001b[0;34m)\u001b[0m\u001b[0;34m\u001b[0m\u001b[0;34m\u001b[0m\u001b[0m\n",
      "\u001b[0;31mFileNotFoundError\u001b[0m: [Errno 2] No such file or directory: '/workspace/data/subfigure-classification/2016/test/IJBI2010-308627.003-1.jpg' -> '/workspace/data/subfigure-classification/2016/test/1471-2105-6-S2-S11-7_1.jpg'"
     ]
    }
   ],
   "source": [
    "os.rename(IMAGES16_TEST / \"IJBI2010-308627.003-1.jpg\", IMAGES16_TEST / \"1471-2105-6-S2-S11-7_1.jpg\")\n",
    "os.rename(IMAGES16_TEST / \"IJBI2010-308627.003-2.jpg\", IMAGES16_TEST / \"1471-2105-6-S2-S11-7_2.jpg\")\n",
    "os.rename(IMAGES16_TEST / \"IJBI2010-308627.003-3.jpg\", IMAGES16_TEST / \"1471-2105-6-S2-S11-7_3.jpg\")\n",
    "os.rename(IMAGES16_TEST / \"IJBI2010-308627.003-4.jpg\", IMAGES16_TEST / \"1471-2105-6-S2-S11-7_4.jpg\")\n",
    "os.rename(IMAGES16_TEST / \"IJBI2010-308627.003-5.jpg\", IMAGES16_TEST / \"1471-2105-6-S2-S11-7_5.jpg\")\n",
    "os.rename(IMAGES16_TEST / \"IJBI2010-308627.003-6.jpg\", IMAGES16_TEST / \"1471-2105-6-S2-S11-7_6.jpg\")\n",
    "os.rename(IMAGES16_TEST / \"IJBI2010-308627.003-7.jpg\", IMAGES16_TEST / \"1471-2105-6-S2-S11-7_7.jpg\")\n",
    "os.rename(IMAGES16_TEST / \"IJBI2010-308627.003-8.jpg\", IMAGES16_TEST / \"1471-2105-6-S2-S11-7_8.jpg\")\n",
    "os.rename(IMAGES16_TEST / \"IJBI2010-308627.003-9.jpg\", IMAGES16_TEST / \"1471-2105-6-S2-S11-7_9.jpg\")\n",
    "os.rename(IMAGES16_TEST / \"IJBI2010-308627.003-10.jpg\", IMAGES16_TEST / \"1471-2105-6-S2-S11-7_10.jpg\")\n",
    "\n",
    "# \n"
   ]
  },
  {
   "cell_type": "code",
   "execution_count": 5,
   "metadata": {},
   "outputs": [],
   "source": [
    "# os.rename(IMAGES16_TEST / \"IJBI2010-535329.015-1.jpg\", IMAGES16_TEST / \"IJBI2010-535329-1.015.jpg\")\n",
    "# os.rename(IMAGES16_TEST / \"IJBI2010-535329.015-2.jpg\", IMAGES16_TEST / \"IJBI2010-535329-2.015.jpg\")\n",
    "# os.rename(IMAGES16_TEST / \"IJBI2010-535329.015-3.jpg\", IMAGES16_TEST / \"IJBI2010-535329-3.015.jpg\")\n",
    "# os.rename(IMAGES16_TEST / \"IJBI2010-535329.015-4.jpg\", IMAGES16_TEST / \"IJBI2010-535329-4.015.jpg\")\n",
    "# os.rename(IMAGES16_TEST / \"IJBI2010-535329.015-5.jpg\", IMAGES16_TEST / \"IJBI2010-535329-5.015.jpg\")"
   ]
  },
  {
   "cell_type": "code",
   "execution_count": 6,
   "metadata": {},
   "outputs": [
    {
     "ename": "FileNotFoundError",
     "evalue": "[Errno 2] No such file or directory: '/workspace/data/subfigure-classification/2016/test/IJBI2010-308627.003-8.jpg' -> '/workspace/data/subfigure-classification/2016/test/IJBI2010-308627-003-8.jpg'",
     "output_type": "error",
     "traceback": [
      "\u001b[0;31m---------------------------------------------------------------------------\u001b[0m",
      "\u001b[0;31mFileNotFoundError\u001b[0m                         Traceback (most recent call last)",
      "\u001b[0;32m<ipython-input-6-45bcc71b7bdf>\u001b[0m in \u001b[0;36m<module>\u001b[0;34m\u001b[0m\n\u001b[0;32m----> 1\u001b[0;31m \u001b[0mos\u001b[0m\u001b[0;34m.\u001b[0m\u001b[0mrename\u001b[0m\u001b[0;34m(\u001b[0m\u001b[0mIMAGES16_TEST\u001b[0m \u001b[0;34m/\u001b[0m \u001b[0;34m\"IJBI2010-308627.003-8.jpg\"\u001b[0m\u001b[0;34m,\u001b[0m \u001b[0mIMAGES16_TEST\u001b[0m \u001b[0;34m/\u001b[0m \u001b[0;34m\"IJBI2010-308627-003-8.jpg\"\u001b[0m\u001b[0;34m)\u001b[0m\u001b[0;34m\u001b[0m\u001b[0;34m\u001b[0m\u001b[0m\n\u001b[0m",
      "\u001b[0;31mFileNotFoundError\u001b[0m: [Errno 2] No such file or directory: '/workspace/data/subfigure-classification/2016/test/IJBI2010-308627.003-8.jpg' -> '/workspace/data/subfigure-classification/2016/test/IJBI2010-308627-003-8.jpg'"
     ]
    }
   ],
   "source": [
    "os.rename(IMAGES16_TEST / \"IJBI2010-308627.003-8.jpg\", IMAGES16_TEST / \"IJBI2010-308627-003-8.jpg\")"
   ]
  },
  {
   "cell_type": "code",
   "execution_count": null,
   "metadata": {},
   "outputs": [],
   "source": []
  }
 ],
 "metadata": {
  "kernelspec": {
   "display_name": "Python 3",
   "language": "python",
   "name": "python3"
  },
  "language_info": {
   "codemirror_mode": {
    "name": "ipython",
    "version": 3
   },
   "file_extension": ".py",
   "mimetype": "text/x-python",
   "name": "python",
   "nbconvert_exporter": "python",
   "pygments_lexer": "ipython3",
   "version": "3.6.9"
  }
 },
 "nbformat": 4,
 "nbformat_minor": 4
}
