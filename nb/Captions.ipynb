{
 "cells": [
  {
   "cell_type": "markdown",
   "metadata": {},
   "source": [
    "# Caption for CLEF16 Data"
   ]
  },
  {
   "cell_type": "markdown",
   "metadata": {},
   "source": [
    "## 1. Data Validation"
   ]
  },
  {
   "cell_type": "markdown",
   "metadata": {},
   "source": [
    "Verify that each image on the CLEF16 training dataset has a corresponding caption."
   ]
  },
  {
   "cell_type": "code",
   "execution_count": 246,
   "metadata": {},
   "outputs": [],
   "source": [
    "import pandas as pd\n",
    "import json\n",
    "import os\n",
    "import re\n",
    "import csv\n",
    "\n",
    "IMAGES_CLEF_16_TRAINING = './ImageCLEF/SubfigureClassificationTraining2016'\n",
    "CAPTIONS_CLEF_16_TRAINING = 'CompoundFigureDetectionTraining2016-Captions.csv'\n",
    "CAPTIONS_CLEF_16_TEST = 'CompoundFigureDetectionTest2016-Captions.csv'"
   ]
  },
  {
   "cell_type": "markdown",
   "metadata": {},
   "source": [
    "Obtain the list of image names (**training_ids**) from the CLEF16 image folder"
   ]
  },
  {
   "cell_type": "code",
   "execution_count": 243,
   "metadata": {},
   "outputs": [],
   "source": [
    "classes = os.listdir(IMAGES_CLEF_16_TRAINING)\n",
    "training_ids_16 = [imgid for folder in classes for imgid in os.listdir(os.path.join(IMAGES_CLEF_16_TRAINING, folder))]"
   ]
  },
  {
   "cell_type": "code",
   "execution_count": 290,
   "metadata": {},
   "outputs": [
    {
     "name": "stdout",
     "output_type": "stream",
     "text": [
      "True\n",
      "True\n",
      "False\n"
     ]
    }
   ],
   "source": [
    "def match_compound(img_id):\n",
    "    p = re.compile('(-|[.])[0-9]*-[0-9]*.(jpg)$')\n",
    "    match = p.search(img_id)\n",
    "    return True if match != None else False\n",
    "\n",
    "def get_compound_root(img_id):\n",
    "    # Obtain the part of the image name without subfigure labeling\n",
    "    p = re.compile('(-|[.])[0-9]*.(jpg)$')\n",
    "    match = p.search(img_id)\n",
    "    m_start, m_end = match.span()\n",
    "    return img_id[:m_start]\n",
    "\n",
    "def create_caption_dictionary(csv_file):\n",
    "    captions = {}\n",
    "    with open(CAPTIONS_CLEF_16_TRAINING, encoding='ISO-8859-1') as csvfile:\n",
    "        reader = csv.reader(csvfile, delimiter='\\t')\n",
    "        for row in reader:\n",
    "            # the original file has some empty lines\n",
    "            if len(row) != 0:\n",
    "                # lines using tab separators\n",
    "                if len(row) == 1:\n",
    "                    sp = row[0].split('\\t')\n",
    "                    if len(sp) == 2:\n",
    "                        # remove the ,,,,,,,, sequences\n",
    "                        captions[sp[0]] = sp[1].replace(',,', '').replace(\"\\xa0\", \"\")\n",
    "                    else:\n",
    "                        # there is at least one case there the id is not present\n",
    "                        # so the line has only one value\n",
    "                        captions[sp[0]] = ''\n",
    "                elif len(row) == 2:\n",
    "                    captions[row[0]] = row[1]\n",
    "    return captions\n",
    "\n",
    "# Tests match_compound\n",
    "test = '1471-2202-9-58-19-6.jpg'\n",
    "test2= 'IJBI2010-105610.007-1.jpg'\n",
    "test3= '11373_2007_9226_Fig1_HTML-16.jpg'\n",
    "print(match_compound(test))\n",
    "print(match_compound(test2))\n",
    "print(match_compound(test3))"
   ]
  },
  {
   "cell_type": "code",
   "execution_count": 291,
   "metadata": {},
   "outputs": [
    {
     "name": "stdout",
     "output_type": "stream",
     "text": [
      "There are 6776 training subfigures.\n",
      "The captions dictionary has 20987 captions\n"
     ]
    }
   ],
   "source": [
    "captions_training = create_caption_dictionary(CAPTIONS_CLEF_16_TRAINING)\n",
    "captions_test = create_caption_dictionary(CAPTIONS_CLEF_16_TEST)\n",
    "\n",
    "print(\"There are {num} training subfigures.\".format(num=len(training_ids_16)))\n",
    "print(\"The captions dictionary has {num} captions\".format(num=len(captions_training.keys())))"
   ]
  },
  {
   "cell_type": "code",
   "execution_count": 292,
   "metadata": {},
   "outputs": [
    {
     "name": "stdout",
     "output_type": "stream",
     "text": [
      "6775 subfigures have a corresponding caption\n",
      "Only DRP2011-927852-001-2.jpg has no captions\n"
     ]
    }
   ],
   "source": [
    "num_has_caption = 0\n",
    "imgs_no_caption = []\n",
    "\n",
    "for img_id in training_ids_16:    \n",
    "    try:\n",
    "        caption = captions_training[get_compound_root(img_id)]\n",
    "        num_has_caption += 1\n",
    "    except KeyError:\n",
    "        imgs_no_caption.append(img_id)\n",
    "        \n",
    "print(\"{num} subfigures have a corresponding caption\".format(num=num_has_caption))\n",
    "print(\"Only {images} has no captions\".format(images=('').join(imgs_no_caption)))"
   ]
  },
  {
   "cell_type": "markdown",
   "metadata": {},
   "source": [
    "After searching for the key in the dictionary, we can see that the problem is the use of **.001** instead of **-001**. We proceed to create a corresponding key."
   ]
  },
  {
   "cell_type": "code",
   "execution_count": 293,
   "metadata": {},
   "outputs": [
    {
     "name": "stdout",
     "output_type": "stream",
     "text": [
      "['DRP2011-927852.001']\n"
     ]
    }
   ],
   "source": [
    "found = []\n",
    "for k in captions_training.keys():\n",
    "    if 'DRP2011-927852' in k:\n",
    "        found.append(k)\n",
    "print(found)\n",
    "\n",
    "captions_training['DRP2011-927852-001'] = captions_training['DRP2011-927852.001']"
   ]
  },
  {
   "cell_type": "code",
   "execution_count": 294,
   "metadata": {},
   "outputs": [
    {
     "name": "stdout",
     "output_type": "stream",
     "text": [
      "6776 subfigures have a corresponding caption\n"
     ]
    }
   ],
   "source": [
    "num_has_caption = 0\n",
    "imgs_no_caption = []\n",
    "\n",
    "for img_id in training_ids_16:    \n",
    "    try:\n",
    "        caption = captions_training[get_compound_root(img_id)]\n",
    "        num_has_caption += 1\n",
    "    except KeyError:\n",
    "        imgs_no_caption.append(img_id)\n",
    "        \n",
    "print(\"{num} subfigures have a corresponding caption\".format(num=num_has_caption))"
   ]
  },
  {
   "cell_type": "markdown",
   "metadata": {},
   "source": [
    "Checking if any subfigure has an empty caption."
   ]
  },
  {
   "cell_type": "code",
   "execution_count": 297,
   "metadata": {},
   "outputs": [
    {
     "name": "stdout",
     "output_type": "stream",
     "text": [
      "There are no subfigure with empty labels\n"
     ]
    }
   ],
   "source": [
    "count_empty = 0\n",
    "for img_id in training_ids_16:\n",
    "    if captions_training[get_compound_root(img_id)] == '':\n",
    "        count_empty += 1\n",
    "        print(img_id)\n",
    "\n",
    "if count_empty == 0:\n",
    "    print(\"There are no subfigure with empty labels\")\n",
    "else:\n",
    "    print(\"There are {num} subfigures with empty labels\".format(num=count_empty))"
   ]
  },
  {
   "cell_type": "markdown",
   "metadata": {},
   "source": [
    "## Captions with spatial indicators"
   ]
  },
  {
   "cell_type": "markdown",
   "metadata": {},
   "source": [
    "Captions in compound figures can use the spatial position of the pane as a reference for the related text in the caption. In the example below (left), the top left image is referenced with the text **(A, top left)** but the image itself does not have an **A** label. As the given subfigure (image below, right) does not have any reference to the **A** label and we cannot guess the position in the original compound image, there is no way to relate just a part of the caption to it.\n",
    "\n",
    "It's worth noticing that for this particular image, the whole caption may indeed be relevant for any pane just because this is an homogeneous case. For instance, **3-D** is mentioned before any specific pane caption and within pane captions. \n",
    "\n",
    "*Image on the left taken from https://www.ncbi.nlm.nih.gov/pmc/articles/PMC1508147/*"
   ]
  },
  {
   "cell_type": "markdown",
   "metadata": {},
   "source": [
    "![10.1186/1472-6807-6-9 Figure 6](./samples/PMC1508147.png)"
   ]
  }
 ],
 "metadata": {
  "kernelspec": {
   "display_name": "Python 3",
   "language": "python",
   "name": "python3"
  },
  "language_info": {
   "codemirror_mode": {
    "name": "ipython",
    "version": 3
   },
   "file_extension": ".py",
   "mimetype": "text/x-python",
   "name": "python",
   "nbconvert_exporter": "python",
   "pygments_lexer": "ipython3",
   "version": "3.6.9"
  }
 },
 "nbformat": 4,
 "nbformat_minor": 2
}
