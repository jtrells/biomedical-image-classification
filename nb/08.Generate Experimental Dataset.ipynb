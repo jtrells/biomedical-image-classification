{
 "cells": [
  {
   "cell_type": "code",
   "execution_count": 14,
   "metadata": {},
   "outputs": [],
   "source": [
    "import pandas as pd\n",
    "import seaborn as sns\n",
    "import matplotlib.pyplot as plt\n",
    "from sklearn.model_selection import train_test_split\n",
    "plt.style.use('ggplot')"
   ]
  },
  {
   "cell_type": "code",
   "execution_count": 15,
   "metadata": {},
   "outputs": [],
   "source": [
    "def generate_split_sets(df,target_col = 'higher_modality',test_size = 0.12, val_size = 0.2,seed = 42):\n",
    "    df_tr, df_test, _,_ = train_test_split(df.copy(),df.copy()[target_col],test_size = test_size,random_state = seed)\n",
    "    df_train, df_val, _,_ = train_test_split(df_tr.copy(),df_tr.copy()[target_col],test_size = val_size,random_state = seed)\n",
    "    df_train.reset_index(drop = True,inplace = True),df_val.reset_index(drop = True,inplace = True),df_test.reset_index(drop = True,inplace = True)\n",
    "    df_train.loc[:,'split_set'] = 'TRAIN'\n",
    "    df_val.loc[:,'split_set'] = 'VAL'\n",
    "    df_test.loc[:,'split_set'] = 'TEST'\n",
    "    del df_tr\n",
    "    return df_train,df_val,df_test"
   ]
  },
  {
   "cell_type": "code",
   "execution_count": 16,
   "metadata": {},
   "outputs": [],
   "source": [
    "# Clef Image Dataset\n",
    "columns = ['img','modality','source','img_path','higher_modality','split_set']\n",
    "\n",
    "df_clef_GCEL = pd.read_csv('../data/higher_modality_vol1.csv', sep='\\t')\n",
    "df_clef_GCEL = df_clef_GCEL[df_clef_GCEL['higher_modality']=='EXPERIMENTAL'].reset_index(drop = True)\n",
    "df_clef_GCEL['modality'] = df_clef_GCEL['modality'].replace({'GGEL':'GEL'})\n",
    "df_clef_GCEL['img_path'] = df_clef_GCEL['img_path']\n",
    "\n",
    "# GCEL Images\n",
    "df_gel = pd.read_csv('/mnt/gels/udel_gel_batch_1/list.csv')\n",
    "df_gel['img'] = df_gel[\"filepath\"].str.split(\"/\",expand = True)[2] \n",
    "df_gel['img_path'] = 'gels/udel_gel_batch_1' + df_gel['filepath']\n",
    "df_gel['higher_modality']  = 'EXPERIMENTAL'\n",
    "df_gel['modality']         = 'GEL'\n",
    "df_gel['source']           = 'PUBMED'\n",
    "df_gel_train,df_gel_val,df_gel_test = generate_split_sets(df_gel,target_col = 'higher_modality')\n",
    "df_gel = pd.concat([df_gel_train,df_gel_val,df_gel_test],axis = 0).reset_index(drop = True)\n",
    "del df_gel_train,df_gel_val,df_gel_test\n",
    "# GCEL Images\n",
    "df_plates = pd.read_csv('/mnt/plates/udel_plates_batch_1/list.csv')\n",
    "df_plates['img'] = df_plates[\"filepath\"].str.split(\"/\",expand = True)[2] \n",
    "df_plates['img_path'] = 'plates/udel_plates_batch_1' + df_plates['filepath']\n",
    "df_plates['higher_modality']  = 'EXPERIMENTAL'\n",
    "df_plates['modality']         = 'PLATES'\n",
    "df_plates['source']           = 'PUBMED'\n",
    "df_plates_train,df_plates_val,df_plates_test = generate_split_sets(df_plates,target_col = 'higher_modality')\n",
    "df_plates = pd.concat([df_plates_train,df_plates_val,df_plates_test],axis = 0).reset_index(drop = True)\n",
    "del df_plates_train,df_plates_val,df_plates_test\n",
    "\n",
    "# Get final dataset\n",
    "df = pd.concat([df_clef_GCEL[columns],df_gel[columns],df_plates[columns]],axis = 0).reset_index(drop = True)\n",
    "del df_clef_GCEL,df_gel,df_plates\n",
    "df.to_csv('../data/experimental_dataset.csv',sep = '\\t',index = False)"
   ]
  },
  {
   "cell_type": "code",
   "execution_count": 17,
   "metadata": {},
   "outputs": [
    {
     "data": {
      "text/plain": [
       "TRAIN    0.696508\n",
       "VAL      0.174127\n",
       "TEST     0.129366\n",
       "Name: split_set, dtype: float64"
      ]
     },
     "execution_count": 17,
     "metadata": {},
     "output_type": "execute_result"
    }
   ],
   "source": [
    "df['split_set'].value_counts(normalize = True)"
   ]
  },
  {
   "cell_type": "code",
   "execution_count": 18,
   "metadata": {},
   "outputs": [
    {
     "data": {
      "text/plain": [
       "TRAIN    0.8\n",
       "VAL      0.2\n",
       "Name: split_set, dtype: float64"
      ]
     },
     "execution_count": 18,
     "metadata": {},
     "output_type": "execute_result"
    }
   ],
   "source": [
    "df[df.isin(['TRAIN','VAL'])]['split_set'].value_counts(normalize =True)"
   ]
  },
  {
   "cell_type": "code",
   "execution_count": 19,
   "metadata": {},
   "outputs": [
    {
     "data": {
      "text/plain": [
       "PUBMED    0.961776\n",
       "clef16    0.035361\n",
       "clef13    0.002864\n",
       "Name: source, dtype: float64"
      ]
     },
     "execution_count": 19,
     "metadata": {},
     "output_type": "execute_result"
    }
   ],
   "source": [
    "df['source'].value_counts(normalize =True)"
   ]
  },
  {
   "cell_type": "code",
   "execution_count": 20,
   "metadata": {},
   "outputs": [],
   "source": [
    "df = pd.read_csv('../data/experimental_dataset.csv',sep = '\\t')\n",
    "df['target'] = df['modality'].copy()\n",
    "df.to_csv('../data/experimental_dataset.csv',sep = '\\t',index = False)"
   ]
  }
 ],
 "metadata": {
  "kernelspec": {
   "display_name": "Python 3",
   "language": "python",
   "name": "python3"
  },
  "language_info": {
   "codemirror_mode": {
    "name": "ipython",
    "version": 3
   },
   "file_extension": ".py",
   "mimetype": "text/x-python",
   "name": "python",
   "nbconvert_exporter": "python",
   "pygments_lexer": "ipython3",
   "version": "3.6.9"
  }
 },
 "nbformat": 4,
 "nbformat_minor": 4
}
